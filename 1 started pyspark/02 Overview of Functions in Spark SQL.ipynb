{
 "cells": [
  {
   "cell_type": "markdown",
   "metadata": {
    "application/vnd.databricks.v1+cell": {
     "cellMetadata": {},
     "inputWidgets": {},
     "nuid": "55558155-9285-42b9-8b87-67a2ed885a0b",
     "showTitle": false,
     "title": ""
    }
   },
   "source": [
    "# Overview of Functions in Spark SQL\n",
    "let us get overview of pre-defined fuctions in Spark SQL."
   ]
  },
  {
   "cell_type": "code",
   "execution_count": 0,
   "metadata": {
    "application/vnd.databricks.v1+cell": {
     "cellMetadata": {
      "byteLimit": 2048000,
      "implicitDf": true,
      "rowLimit": 10000
     },
     "inputWidgets": {},
     "nuid": "4e24a69f-0a2b-4c2c-9c5f-b19c42f7ab2b",
     "showTitle": false,
     "title": ""
    }
   },
   "outputs": [
    {
     "output_type": "display_data",
     "data": {
      "text/html": [
       "<style scoped>\n",
       "  .table-result-container {\n",
       "    max-height: 300px;\n",
       "    overflow: auto;\n",
       "  }\n",
       "  table, th, td {\n",
       "    border: 1px solid black;\n",
       "    border-collapse: collapse;\n",
       "  }\n",
       "  th, td {\n",
       "    padding: 5px;\n",
       "  }\n",
       "  th {\n",
       "    text-align: left;\n",
       "  }\n",
       "</style><div class='table-result-container'><table class='table-result'><thead style='background-color: white'><tr><th>function</th></tr></thead><tbody><tr><td>!</td></tr><tr><td>!=</td></tr><tr><td>%</td></tr><tr><td>&</td></tr><tr><td>*</td></tr><tr><td>+</td></tr><tr><td>-</td></tr><tr><td>/</td></tr><tr><td><</td></tr><tr><td><=</td></tr><tr><td><=></td></tr><tr><td><></td></tr><tr><td>=</td></tr><tr><td>==</td></tr><tr><td>></td></tr><tr><td>>=</td></tr><tr><td>^</td></tr><tr><td>abs</td></tr><tr><td>acos</td></tr><tr><td>acosh</td></tr><tr><td>add_months</td></tr><tr><td>aes_decrypt</td></tr><tr><td>aes_encrypt</td></tr><tr><td>aggregate</td></tr><tr><td>and</td></tr><tr><td>any</td></tr><tr><td>any_value</td></tr><tr><td>approx_count_distinct</td></tr><tr><td>approx_percentile</td></tr><tr><td>approx_top_k</td></tr><tr><td>array</td></tr><tr><td>array_agg</td></tr><tr><td>array_append</td></tr><tr><td>array_compact</td></tr><tr><td>array_contains</td></tr><tr><td>array_distinct</td></tr><tr><td>array_except</td></tr><tr><td>array_intersect</td></tr><tr><td>array_join</td></tr><tr><td>array_max</td></tr><tr><td>array_min</td></tr><tr><td>array_position</td></tr><tr><td>array_remove</td></tr><tr><td>array_repeat</td></tr><tr><td>array_size</td></tr><tr><td>array_sort</td></tr><tr><td>array_union</td></tr><tr><td>arrays_overlap</td></tr><tr><td>arrays_zip</td></tr><tr><td>ascii</td></tr><tr><td>asin</td></tr><tr><td>asinh</td></tr><tr><td>assert_true</td></tr><tr><td>atan</td></tr><tr><td>atan2</td></tr><tr><td>atanh</td></tr><tr><td>avg</td></tr><tr><td>base64</td></tr><tr><td>between</td></tr><tr><td>bigint</td></tr><tr><td>bin</td></tr><tr><td>binary</td></tr><tr><td>bit_and</td></tr><tr><td>bit_count</td></tr><tr><td>bit_get</td></tr><tr><td>bit_length</td></tr><tr><td>bit_or</td></tr><tr><td>bit_reverse</td></tr><tr><td>bit_xor</td></tr><tr><td>bool_and</td></tr><tr><td>bool_or</td></tr><tr><td>boolean</td></tr><tr><td>bround</td></tr><tr><td>btrim</td></tr><tr><td>cardinality</td></tr><tr><td>case</td></tr><tr><td>cast</td></tr><tr><td>cbrt</td></tr><tr><td>ceil</td></tr><tr><td>ceiling</td></tr><tr><td>char</td></tr><tr><td>char_length</td></tr><tr><td>character_length</td></tr><tr><td>charindex</td></tr><tr><td>chr</td></tr><tr><td>coalesce</td></tr><tr><td>collect_list</td></tr><tr><td>collect_set</td></tr><tr><td>concat</td></tr><tr><td>concat_ws</td></tr><tr><td>contains</td></tr><tr><td>conv</td></tr><tr><td>corr</td></tr><tr><td>cos</td></tr><tr><td>cosh</td></tr><tr><td>cot</td></tr><tr><td>count</td></tr><tr><td>count_if</td></tr><tr><td>count_min_sketch</td></tr><tr><td>covar_pop</td></tr><tr><td>covar_samp</td></tr><tr><td>crc32</td></tr><tr><td>csc</td></tr><tr><td>cume_dist</td></tr><tr><td>curdate</td></tr><tr><td>current_catalog</td></tr><tr><td>current_database</td></tr><tr><td>current_date</td></tr><tr><td>current_metastore</td></tr><tr><td>current_oauth_custom_identity_claim</td></tr><tr><td>current_schema</td></tr><tr><td>current_timestamp</td></tr><tr><td>current_timezone</td></tr><tr><td>current_user</td></tr><tr><td>current_version</td></tr><tr><td>date</td></tr><tr><td>date_add</td></tr><tr><td>date_diff</td></tr><tr><td>date_format</td></tr><tr><td>date_from_unix_date</td></tr><tr><td>date_part</td></tr><tr><td>date_sub</td></tr><tr><td>date_trunc</td></tr><tr><td>dateadd</td></tr><tr><td>datediff</td></tr><tr><td>datepart</td></tr><tr><td>day</td></tr><tr><td>dayofmonth</td></tr><tr><td>dayofweek</td></tr><tr><td>dayofyear</td></tr><tr><td>decimal</td></tr><tr><td>decode</td></tr><tr><td>degrees</td></tr><tr><td>dense_rank</td></tr><tr><td>div</td></tr><tr><td>double</td></tr><tr><td>e</td></tr><tr><td>element_at</td></tr><tr><td>elt</td></tr><tr><td>encode</td></tr><tr><td>endswith</td></tr><tr><td>equal_null</td></tr><tr><td>event_log</td></tr><tr><td>every</td></tr><tr><td>exists</td></tr><tr><td>exp</td></tr><tr><td>explode</td></tr><tr><td>explode_outer</td></tr><tr><td>expm1</td></tr><tr><td>extract</td></tr><tr><td>factorial</td></tr><tr><td>filter</td></tr><tr><td>find_in_set</td></tr><tr><td>first</td></tr><tr><td>first_value</td></tr><tr><td>flatten</td></tr><tr><td>float</td></tr><tr><td>floor</td></tr><tr><td>forall</td></tr><tr><td>format_number</td></tr><tr><td>format_string</td></tr><tr><td>from_csv</td></tr><tr><td>from_json</td></tr><tr><td>from_unixtime</td></tr><tr><td>from_utc_timestamp</td></tr><tr><td>get</td></tr><tr><td>get_json_object</td></tr><tr><td>getbit</td></tr><tr><td>getdate</td></tr><tr><td>greatest</td></tr><tr><td>grouping</td></tr><tr><td>grouping_id</td></tr><tr><td>h3_boundaryasgeojson</td></tr><tr><td>h3_boundaryaswkb</td></tr><tr><td>h3_boundaryaswkt</td></tr><tr><td>h3_centerasgeojson</td></tr><tr><td>h3_centeraswkb</td></tr><tr><td>h3_centeraswkt</td></tr><tr><td>h3_compact</td></tr><tr><td>h3_distance</td></tr><tr><td>h3_getpentagoncellids</td></tr><tr><td>h3_h3tostring</td></tr><tr><td>h3_hexring</td></tr><tr><td>h3_ischildof</td></tr><tr><td>h3_ispentagon</td></tr><tr><td>h3_isvalid</td></tr><tr><td>h3_kring</td></tr><tr><td>h3_kringdistances</td></tr><tr><td>h3_longlatash3</td></tr><tr><td>h3_longlatash3string</td></tr><tr><td>h3_maxchild</td></tr><tr><td>h3_minchild</td></tr><tr><td>h3_pointash3</td></tr><tr><td>h3_pointash3string</td></tr><tr><td>h3_polyfillash3</td></tr><tr><td>h3_polyfillash3string</td></tr><tr><td>h3_resolution</td></tr><tr><td>h3_stringtoh3</td></tr><tr><td>h3_tochildren</td></tr><tr><td>h3_toparent</td></tr><tr><td>h3_try_polyfillash3</td></tr><tr><td>h3_try_polyfillash3string</td></tr><tr><td>h3_try_validate</td></tr><tr><td>h3_uncompact</td></tr><tr><td>h3_validate</td></tr><tr><td>hash</td></tr><tr><td>hex</td></tr><tr><td>histogram_numeric</td></tr><tr><td>hour</td></tr><tr><td>hypot</td></tr><tr><td>if</td></tr><tr><td>iff</td></tr><tr><td>ifnull</td></tr><tr><td>ilike</td></tr><tr><td>in</td></tr><tr><td>initcap</td></tr><tr><td>inline</td></tr><tr><td>inline_outer</td></tr><tr><td>input_file_block_length</td></tr><tr><td>input_file_block_start</td></tr><tr><td>input_file_name</td></tr><tr><td>instr</td></tr><tr><td>int</td></tr><tr><td>is_account_group_member</td></tr><tr><td>is_member</td></tr><tr><td>isnan</td></tr><tr><td>isnotnull</td></tr><tr><td>isnull</td></tr><tr><td>java_method</td></tr><tr><td>json_array_length</td></tr><tr><td>json_object_keys</td></tr><tr><td>json_tuple</td></tr><tr><td>kurtosis</td></tr><tr><td>lag</td></tr><tr><td>last</td></tr><tr><td>last_day</td></tr><tr><td>last_value</td></tr><tr><td>lcase</td></tr><tr><td>lead</td></tr><tr><td>least</td></tr><tr><td>left</td></tr><tr><td>len</td></tr><tr><td>length</td></tr><tr><td>levenshtein</td></tr><tr><td>like</td></tr><tr><td>list_secrets</td></tr><tr><td>ln</td></tr><tr><td>locate</td></tr><tr><td>log</td></tr><tr><td>log10</td></tr><tr><td>log1p</td></tr><tr><td>log2</td></tr><tr><td>lower</td></tr><tr><td>lpad</td></tr><tr><td>ltrim</td></tr><tr><td>luhn_check</td></tr><tr><td>make_date</td></tr><tr><td>make_dt_interval</td></tr><tr><td>make_interval</td></tr><tr><td>make_timestamp</td></tr><tr><td>make_ym_interval</td></tr><tr><td>map</td></tr><tr><td>map_concat</td></tr><tr><td>map_contains_key</td></tr><tr><td>map_entries</td></tr><tr><td>map_filter</td></tr><tr><td>map_from_arrays</td></tr><tr><td>map_from_entries</td></tr><tr><td>map_keys</td></tr><tr><td>map_values</td></tr><tr><td>map_zip_with</td></tr><tr><td>mask</td></tr><tr><td>max</td></tr><tr><td>max_by</td></tr><tr><td>md5</td></tr><tr><td>mean</td></tr><tr><td>median</td></tr><tr><td>min</td></tr><tr><td>min_by</td></tr><tr><td>minute</td></tr><tr><td>mod</td></tr><tr><td>mode</td></tr><tr><td>monotonically_increasing_id</td></tr><tr><td>month</td></tr><tr><td>months_between</td></tr><tr><td>named_struct</td></tr><tr><td>nanvl</td></tr><tr><td>negative</td></tr><tr><td>next_day</td></tr><tr><td>not</td></tr><tr><td>now</td></tr><tr><td>nth_value</td></tr><tr><td>ntile</td></tr><tr><td>nullif</td></tr><tr><td>nvl</td></tr><tr><td>nvl2</td></tr><tr><td>octet_length</td></tr><tr><td>or</td></tr><tr><td>overlay</td></tr><tr><td>parse_url</td></tr><tr><td>percent_rank</td></tr><tr><td>percentile</td></tr><tr><td>percentile_approx</td></tr><tr><td>pi</td></tr><tr><td>pmod</td></tr><tr><td>posexplode</td></tr><tr><td>posexplode_outer</td></tr><tr><td>position</td></tr><tr><td>positive</td></tr><tr><td>pow</td></tr><tr><td>power</td></tr><tr><td>printf</td></tr><tr><td>quarter</td></tr><tr><td>radians</td></tr><tr><td>raise_error</td></tr><tr><td>rand</td></tr><tr><td>randn</td></tr><tr><td>random</td></tr><tr><td>range</td></tr><tr><td>rank</td></tr><tr><td>read_files</td></tr><tr><td>reduce</td></tr><tr><td>reflect</td></tr><tr><td>regexp</td></tr><tr><td>regexp_count</td></tr><tr><td>regexp_extract</td></tr><tr><td>regexp_extract_all</td></tr><tr><td>regexp_instr</td></tr><tr><td>regexp_like</td></tr><tr><td>regexp_replace</td></tr><tr><td>regexp_substr</td></tr><tr><td>regr_avgx</td></tr><tr><td>regr_avgy</td></tr><tr><td>regr_count</td></tr><tr><td>regr_intercept</td></tr><tr><td>regr_r2</td></tr><tr><td>regr_slope</td></tr><tr><td>regr_sxx</td></tr><tr><td>regr_sxy</td></tr><tr><td>regr_syy</td></tr><tr><td>repeat</td></tr><tr><td>replace</td></tr><tr><td>reverse</td></tr><tr><td>right</td></tr><tr><td>rint</td></tr><tr><td>rlike</td></tr><tr><td>round</td></tr><tr><td>row_number</td></tr><tr><td>rpad</td></tr><tr><td>rtrim</td></tr><tr><td>schema_of_csv</td></tr><tr><td>schema_of_json</td></tr><tr><td>sec</td></tr><tr><td>second</td></tr><tr><td>secret</td></tr><tr><td>sentences</td></tr><tr><td>sequence</td></tr><tr><td>session_window</td></tr><tr><td>sha</td></tr><tr><td>sha1</td></tr><tr><td>sha2</td></tr><tr><td>shiftleft</td></tr><tr><td>shiftright</td></tr><tr><td>shiftrightunsigned</td></tr><tr><td>shuffle</td></tr><tr><td>sign</td></tr><tr><td>signum</td></tr><tr><td>sin</td></tr><tr><td>sinh</td></tr><tr><td>size</td></tr><tr><td>skewness</td></tr><tr><td>slice</td></tr><tr><td>smallint</td></tr><tr><td>some</td></tr><tr><td>sort_array</td></tr><tr><td>soundex</td></tr><tr><td>space</td></tr><tr><td>spark_partition_id</td></tr><tr><td>split</td></tr><tr><td>split_part</td></tr><tr><td>sqrt</td></tr><tr><td>st_area</td></tr><tr><td>st_astext</td></tr><tr><td>st_geogfromtext</td></tr><tr><td>st_geogfromwkt</td></tr><tr><td>st_geometrytype</td></tr><tr><td>st_geomfromtext</td></tr><tr><td>st_geomfromwkt</td></tr><tr><td>st_isempty</td></tr><tr><td>st_length</td></tr><tr><td>st_ndims</td></tr><tr><td>st_npoints</td></tr><tr><td>st_point</td></tr><tr><td>st_setsrid</td></tr><tr><td>st_srid</td></tr><tr><td>st_xmax</td></tr><tr><td>st_xmin</td></tr><tr><td>st_ymax</td></tr><tr><td>st_ymin</td></tr><tr><td>stack</td></tr><tr><td>startswith</td></tr><tr><td>std</td></tr><tr><td>stddev</td></tr><tr><td>stddev_pop</td></tr><tr><td>stddev_samp</td></tr><tr><td>str_to_map</td></tr><tr><td>string</td></tr><tr><td>stringdecode</td></tr><tr><td>struct</td></tr><tr><td>substr</td></tr><tr><td>substring</td></tr><tr><td>substring_index</td></tr><tr><td>sum</td></tr><tr><td>tan</td></tr><tr><td>tanh</td></tr><tr><td>timestamp</td></tr><tr><td>timestamp_micros</td></tr><tr><td>timestamp_millis</td></tr><tr><td>timestamp_seconds</td></tr><tr><td>tinyint</td></tr><tr><td>to_binary</td></tr><tr><td>to_char</td></tr><tr><td>to_csv</td></tr><tr><td>to_date</td></tr><tr><td>to_json</td></tr><tr><td>to_number</td></tr><tr><td>to_timestamp</td></tr><tr><td>to_unix_timestamp</td></tr><tr><td>to_utc_timestamp</td></tr><tr><td>transform</td></tr><tr><td>transform_keys</td></tr><tr><td>transform_values</td></tr><tr><td>translate</td></tr><tr><td>trim</td></tr><tr><td>trunc</td></tr><tr><td>try_add</td></tr><tr><td>try_avg</td></tr><tr><td>try_divide</td></tr><tr><td>try_element_at</td></tr><tr><td>try_multiply</td></tr><tr><td>try_subtract</td></tr><tr><td>try_sum</td></tr><tr><td>try_to_binary</td></tr><tr><td>try_to_number</td></tr><tr><td>try_to_timestamp</td></tr><tr><td>typeof</td></tr><tr><td>ucase</td></tr><tr><td>unbase64</td></tr><tr><td>unhex</td></tr><tr><td>unix_date</td></tr><tr><td>unix_micros</td></tr><tr><td>unix_millis</td></tr><tr><td>unix_seconds</td></tr><tr><td>unix_timestamp</td></tr><tr><td>upper</td></tr><tr><td>url_decode</td></tr><tr><td>url_encode</td></tr><tr><td>uuid</td></tr><tr><td>var_pop</td></tr><tr><td>var_samp</td></tr><tr><td>variance</td></tr><tr><td>version</td></tr><tr><td>weekday</td></tr><tr><td>weekofyear</td></tr><tr><td>when</td></tr><tr><td>width_bucket</td></tr><tr><td>window</td></tr><tr><td>window_time</td></tr><tr><td>xpath</td></tr><tr><td>xpath_boolean</td></tr><tr><td>xpath_double</td></tr><tr><td>xpath_float</td></tr><tr><td>xpath_int</td></tr><tr><td>xpath_long</td></tr><tr><td>xpath_number</td></tr><tr><td>xpath_short</td></tr><tr><td>xpath_string</td></tr><tr><td>xxhash64</td></tr><tr><td>year</td></tr><tr><td>zip_with</td></tr><tr><td>|</td></tr><tr><td>||</td></tr><tr><td>~</td></tr></tbody></table></div>"
      ]
     },
     "metadata": {
      "application/vnd.databricks.v1+output": {
       "addedWidgets": {},
       "aggData": [],
       "aggError": "",
       "aggOverflow": false,
       "aggSchema": [],
       "aggSeriesLimitReached": false,
       "aggType": "",
       "arguments": {},
       "columnCustomDisplayInfos": {},
       "data": [
        [
         "!"
        ],
        [
         "!="
        ],
        [
         "%"
        ],
        [
         "&"
        ],
        [
         "*"
        ],
        [
         "+"
        ],
        [
         "-"
        ],
        [
         "/"
        ],
        [
         "<"
        ],
        [
         "<="
        ],
        [
         "<=>"
        ],
        [
         "<>"
        ],
        [
         "="
        ],
        [
         "=="
        ],
        [
         ">"
        ],
        [
         ">="
        ],
        [
         "^"
        ],
        [
         "abs"
        ],
        [
         "acos"
        ],
        [
         "acosh"
        ],
        [
         "add_months"
        ],
        [
         "aes_decrypt"
        ],
        [
         "aes_encrypt"
        ],
        [
         "aggregate"
        ],
        [
         "and"
        ],
        [
         "any"
        ],
        [
         "any_value"
        ],
        [
         "approx_count_distinct"
        ],
        [
         "approx_percentile"
        ],
        [
         "approx_top_k"
        ],
        [
         "array"
        ],
        [
         "array_agg"
        ],
        [
         "array_append"
        ],
        [
         "array_compact"
        ],
        [
         "array_contains"
        ],
        [
         "array_distinct"
        ],
        [
         "array_except"
        ],
        [
         "array_intersect"
        ],
        [
         "array_join"
        ],
        [
         "array_max"
        ],
        [
         "array_min"
        ],
        [
         "array_position"
        ],
        [
         "array_remove"
        ],
        [
         "array_repeat"
        ],
        [
         "array_size"
        ],
        [
         "array_sort"
        ],
        [
         "array_union"
        ],
        [
         "arrays_overlap"
        ],
        [
         "arrays_zip"
        ],
        [
         "ascii"
        ],
        [
         "asin"
        ],
        [
         "asinh"
        ],
        [
         "assert_true"
        ],
        [
         "atan"
        ],
        [
         "atan2"
        ],
        [
         "atanh"
        ],
        [
         "avg"
        ],
        [
         "base64"
        ],
        [
         "between"
        ],
        [
         "bigint"
        ],
        [
         "bin"
        ],
        [
         "binary"
        ],
        [
         "bit_and"
        ],
        [
         "bit_count"
        ],
        [
         "bit_get"
        ],
        [
         "bit_length"
        ],
        [
         "bit_or"
        ],
        [
         "bit_reverse"
        ],
        [
         "bit_xor"
        ],
        [
         "bool_and"
        ],
        [
         "bool_or"
        ],
        [
         "boolean"
        ],
        [
         "bround"
        ],
        [
         "btrim"
        ],
        [
         "cardinality"
        ],
        [
         "case"
        ],
        [
         "cast"
        ],
        [
         "cbrt"
        ],
        [
         "ceil"
        ],
        [
         "ceiling"
        ],
        [
         "char"
        ],
        [
         "char_length"
        ],
        [
         "character_length"
        ],
        [
         "charindex"
        ],
        [
         "chr"
        ],
        [
         "coalesce"
        ],
        [
         "collect_list"
        ],
        [
         "collect_set"
        ],
        [
         "concat"
        ],
        [
         "concat_ws"
        ],
        [
         "contains"
        ],
        [
         "conv"
        ],
        [
         "corr"
        ],
        [
         "cos"
        ],
        [
         "cosh"
        ],
        [
         "cot"
        ],
        [
         "count"
        ],
        [
         "count_if"
        ],
        [
         "count_min_sketch"
        ],
        [
         "covar_pop"
        ],
        [
         "covar_samp"
        ],
        [
         "crc32"
        ],
        [
         "csc"
        ],
        [
         "cume_dist"
        ],
        [
         "curdate"
        ],
        [
         "current_catalog"
        ],
        [
         "current_database"
        ],
        [
         "current_date"
        ],
        [
         "current_metastore"
        ],
        [
         "current_oauth_custom_identity_claim"
        ],
        [
         "current_schema"
        ],
        [
         "current_timestamp"
        ],
        [
         "current_timezone"
        ],
        [
         "current_user"
        ],
        [
         "current_version"
        ],
        [
         "date"
        ],
        [
         "date_add"
        ],
        [
         "date_diff"
        ],
        [
         "date_format"
        ],
        [
         "date_from_unix_date"
        ],
        [
         "date_part"
        ],
        [
         "date_sub"
        ],
        [
         "date_trunc"
        ],
        [
         "dateadd"
        ],
        [
         "datediff"
        ],
        [
         "datepart"
        ],
        [
         "day"
        ],
        [
         "dayofmonth"
        ],
        [
         "dayofweek"
        ],
        [
         "dayofyear"
        ],
        [
         "decimal"
        ],
        [
         "decode"
        ],
        [
         "degrees"
        ],
        [
         "dense_rank"
        ],
        [
         "div"
        ],
        [
         "double"
        ],
        [
         "e"
        ],
        [
         "element_at"
        ],
        [
         "elt"
        ],
        [
         "encode"
        ],
        [
         "endswith"
        ],
        [
         "equal_null"
        ],
        [
         "event_log"
        ],
        [
         "every"
        ],
        [
         "exists"
        ],
        [
         "exp"
        ],
        [
         "explode"
        ],
        [
         "explode_outer"
        ],
        [
         "expm1"
        ],
        [
         "extract"
        ],
        [
         "factorial"
        ],
        [
         "filter"
        ],
        [
         "find_in_set"
        ],
        [
         "first"
        ],
        [
         "first_value"
        ],
        [
         "flatten"
        ],
        [
         "float"
        ],
        [
         "floor"
        ],
        [
         "forall"
        ],
        [
         "format_number"
        ],
        [
         "format_string"
        ],
        [
         "from_csv"
        ],
        [
         "from_json"
        ],
        [
         "from_unixtime"
        ],
        [
         "from_utc_timestamp"
        ],
        [
         "get"
        ],
        [
         "get_json_object"
        ],
        [
         "getbit"
        ],
        [
         "getdate"
        ],
        [
         "greatest"
        ],
        [
         "grouping"
        ],
        [
         "grouping_id"
        ],
        [
         "h3_boundaryasgeojson"
        ],
        [
         "h3_boundaryaswkb"
        ],
        [
         "h3_boundaryaswkt"
        ],
        [
         "h3_centerasgeojson"
        ],
        [
         "h3_centeraswkb"
        ],
        [
         "h3_centeraswkt"
        ],
        [
         "h3_compact"
        ],
        [
         "h3_distance"
        ],
        [
         "h3_getpentagoncellids"
        ],
        [
         "h3_h3tostring"
        ],
        [
         "h3_hexring"
        ],
        [
         "h3_ischildof"
        ],
        [
         "h3_ispentagon"
        ],
        [
         "h3_isvalid"
        ],
        [
         "h3_kring"
        ],
        [
         "h3_kringdistances"
        ],
        [
         "h3_longlatash3"
        ],
        [
         "h3_longlatash3string"
        ],
        [
         "h3_maxchild"
        ],
        [
         "h3_minchild"
        ],
        [
         "h3_pointash3"
        ],
        [
         "h3_pointash3string"
        ],
        [
         "h3_polyfillash3"
        ],
        [
         "h3_polyfillash3string"
        ],
        [
         "h3_resolution"
        ],
        [
         "h3_stringtoh3"
        ],
        [
         "h3_tochildren"
        ],
        [
         "h3_toparent"
        ],
        [
         "h3_try_polyfillash3"
        ],
        [
         "h3_try_polyfillash3string"
        ],
        [
         "h3_try_validate"
        ],
        [
         "h3_uncompact"
        ],
        [
         "h3_validate"
        ],
        [
         "hash"
        ],
        [
         "hex"
        ],
        [
         "histogram_numeric"
        ],
        [
         "hour"
        ],
        [
         "hypot"
        ],
        [
         "if"
        ],
        [
         "iff"
        ],
        [
         "ifnull"
        ],
        [
         "ilike"
        ],
        [
         "in"
        ],
        [
         "initcap"
        ],
        [
         "inline"
        ],
        [
         "inline_outer"
        ],
        [
         "input_file_block_length"
        ],
        [
         "input_file_block_start"
        ],
        [
         "input_file_name"
        ],
        [
         "instr"
        ],
        [
         "int"
        ],
        [
         "is_account_group_member"
        ],
        [
         "is_member"
        ],
        [
         "isnan"
        ],
        [
         "isnotnull"
        ],
        [
         "isnull"
        ],
        [
         "java_method"
        ],
        [
         "json_array_length"
        ],
        [
         "json_object_keys"
        ],
        [
         "json_tuple"
        ],
        [
         "kurtosis"
        ],
        [
         "lag"
        ],
        [
         "last"
        ],
        [
         "last_day"
        ],
        [
         "last_value"
        ],
        [
         "lcase"
        ],
        [
         "lead"
        ],
        [
         "least"
        ],
        [
         "left"
        ],
        [
         "len"
        ],
        [
         "length"
        ],
        [
         "levenshtein"
        ],
        [
         "like"
        ],
        [
         "list_secrets"
        ],
        [
         "ln"
        ],
        [
         "locate"
        ],
        [
         "log"
        ],
        [
         "log10"
        ],
        [
         "log1p"
        ],
        [
         "log2"
        ],
        [
         "lower"
        ],
        [
         "lpad"
        ],
        [
         "ltrim"
        ],
        [
         "luhn_check"
        ],
        [
         "make_date"
        ],
        [
         "make_dt_interval"
        ],
        [
         "make_interval"
        ],
        [
         "make_timestamp"
        ],
        [
         "make_ym_interval"
        ],
        [
         "map"
        ],
        [
         "map_concat"
        ],
        [
         "map_contains_key"
        ],
        [
         "map_entries"
        ],
        [
         "map_filter"
        ],
        [
         "map_from_arrays"
        ],
        [
         "map_from_entries"
        ],
        [
         "map_keys"
        ],
        [
         "map_values"
        ],
        [
         "map_zip_with"
        ],
        [
         "mask"
        ],
        [
         "max"
        ],
        [
         "max_by"
        ],
        [
         "md5"
        ],
        [
         "mean"
        ],
        [
         "median"
        ],
        [
         "min"
        ],
        [
         "min_by"
        ],
        [
         "minute"
        ],
        [
         "mod"
        ],
        [
         "mode"
        ],
        [
         "monotonically_increasing_id"
        ],
        [
         "month"
        ],
        [
         "months_between"
        ],
        [
         "named_struct"
        ],
        [
         "nanvl"
        ],
        [
         "negative"
        ],
        [
         "next_day"
        ],
        [
         "not"
        ],
        [
         "now"
        ],
        [
         "nth_value"
        ],
        [
         "ntile"
        ],
        [
         "nullif"
        ],
        [
         "nvl"
        ],
        [
         "nvl2"
        ],
        [
         "octet_length"
        ],
        [
         "or"
        ],
        [
         "overlay"
        ],
        [
         "parse_url"
        ],
        [
         "percent_rank"
        ],
        [
         "percentile"
        ],
        [
         "percentile_approx"
        ],
        [
         "pi"
        ],
        [
         "pmod"
        ],
        [
         "posexplode"
        ],
        [
         "posexplode_outer"
        ],
        [
         "position"
        ],
        [
         "positive"
        ],
        [
         "pow"
        ],
        [
         "power"
        ],
        [
         "printf"
        ],
        [
         "quarter"
        ],
        [
         "radians"
        ],
        [
         "raise_error"
        ],
        [
         "rand"
        ],
        [
         "randn"
        ],
        [
         "random"
        ],
        [
         "range"
        ],
        [
         "rank"
        ],
        [
         "read_files"
        ],
        [
         "reduce"
        ],
        [
         "reflect"
        ],
        [
         "regexp"
        ],
        [
         "regexp_count"
        ],
        [
         "regexp_extract"
        ],
        [
         "regexp_extract_all"
        ],
        [
         "regexp_instr"
        ],
        [
         "regexp_like"
        ],
        [
         "regexp_replace"
        ],
        [
         "regexp_substr"
        ],
        [
         "regr_avgx"
        ],
        [
         "regr_avgy"
        ],
        [
         "regr_count"
        ],
        [
         "regr_intercept"
        ],
        [
         "regr_r2"
        ],
        [
         "regr_slope"
        ],
        [
         "regr_sxx"
        ],
        [
         "regr_sxy"
        ],
        [
         "regr_syy"
        ],
        [
         "repeat"
        ],
        [
         "replace"
        ],
        [
         "reverse"
        ],
        [
         "right"
        ],
        [
         "rint"
        ],
        [
         "rlike"
        ],
        [
         "round"
        ],
        [
         "row_number"
        ],
        [
         "rpad"
        ],
        [
         "rtrim"
        ],
        [
         "schema_of_csv"
        ],
        [
         "schema_of_json"
        ],
        [
         "sec"
        ],
        [
         "second"
        ],
        [
         "secret"
        ],
        [
         "sentences"
        ],
        [
         "sequence"
        ],
        [
         "session_window"
        ],
        [
         "sha"
        ],
        [
         "sha1"
        ],
        [
         "sha2"
        ],
        [
         "shiftleft"
        ],
        [
         "shiftright"
        ],
        [
         "shiftrightunsigned"
        ],
        [
         "shuffle"
        ],
        [
         "sign"
        ],
        [
         "signum"
        ],
        [
         "sin"
        ],
        [
         "sinh"
        ],
        [
         "size"
        ],
        [
         "skewness"
        ],
        [
         "slice"
        ],
        [
         "smallint"
        ],
        [
         "some"
        ],
        [
         "sort_array"
        ],
        [
         "soundex"
        ],
        [
         "space"
        ],
        [
         "spark_partition_id"
        ],
        [
         "split"
        ],
        [
         "split_part"
        ],
        [
         "sqrt"
        ],
        [
         "st_area"
        ],
        [
         "st_astext"
        ],
        [
         "st_geogfromtext"
        ],
        [
         "st_geogfromwkt"
        ],
        [
         "st_geometrytype"
        ],
        [
         "st_geomfromtext"
        ],
        [
         "st_geomfromwkt"
        ],
        [
         "st_isempty"
        ],
        [
         "st_length"
        ],
        [
         "st_ndims"
        ],
        [
         "st_npoints"
        ],
        [
         "st_point"
        ],
        [
         "st_setsrid"
        ],
        [
         "st_srid"
        ],
        [
         "st_xmax"
        ],
        [
         "st_xmin"
        ],
        [
         "st_ymax"
        ],
        [
         "st_ymin"
        ],
        [
         "stack"
        ],
        [
         "startswith"
        ],
        [
         "std"
        ],
        [
         "stddev"
        ],
        [
         "stddev_pop"
        ],
        [
         "stddev_samp"
        ],
        [
         "str_to_map"
        ],
        [
         "string"
        ],
        [
         "stringdecode"
        ],
        [
         "struct"
        ],
        [
         "substr"
        ],
        [
         "substring"
        ],
        [
         "substring_index"
        ],
        [
         "sum"
        ],
        [
         "tan"
        ],
        [
         "tanh"
        ],
        [
         "timestamp"
        ],
        [
         "timestamp_micros"
        ],
        [
         "timestamp_millis"
        ],
        [
         "timestamp_seconds"
        ],
        [
         "tinyint"
        ],
        [
         "to_binary"
        ],
        [
         "to_char"
        ],
        [
         "to_csv"
        ],
        [
         "to_date"
        ],
        [
         "to_json"
        ],
        [
         "to_number"
        ],
        [
         "to_timestamp"
        ],
        [
         "to_unix_timestamp"
        ],
        [
         "to_utc_timestamp"
        ],
        [
         "transform"
        ],
        [
         "transform_keys"
        ],
        [
         "transform_values"
        ],
        [
         "translate"
        ],
        [
         "trim"
        ],
        [
         "trunc"
        ],
        [
         "try_add"
        ],
        [
         "try_avg"
        ],
        [
         "try_divide"
        ],
        [
         "try_element_at"
        ],
        [
         "try_multiply"
        ],
        [
         "try_subtract"
        ],
        [
         "try_sum"
        ],
        [
         "try_to_binary"
        ],
        [
         "try_to_number"
        ],
        [
         "try_to_timestamp"
        ],
        [
         "typeof"
        ],
        [
         "ucase"
        ],
        [
         "unbase64"
        ],
        [
         "unhex"
        ],
        [
         "unix_date"
        ],
        [
         "unix_micros"
        ],
        [
         "unix_millis"
        ],
        [
         "unix_seconds"
        ],
        [
         "unix_timestamp"
        ],
        [
         "upper"
        ],
        [
         "url_decode"
        ],
        [
         "url_encode"
        ],
        [
         "uuid"
        ],
        [
         "var_pop"
        ],
        [
         "var_samp"
        ],
        [
         "variance"
        ],
        [
         "version"
        ],
        [
         "weekday"
        ],
        [
         "weekofyear"
        ],
        [
         "when"
        ],
        [
         "width_bucket"
        ],
        [
         "window"
        ],
        [
         "window_time"
        ],
        [
         "xpath"
        ],
        [
         "xpath_boolean"
        ],
        [
         "xpath_double"
        ],
        [
         "xpath_float"
        ],
        [
         "xpath_int"
        ],
        [
         "xpath_long"
        ],
        [
         "xpath_number"
        ],
        [
         "xpath_short"
        ],
        [
         "xpath_string"
        ],
        [
         "xxhash64"
        ],
        [
         "year"
        ],
        [
         "zip_with"
        ],
        [
         "|"
        ],
        [
         "||"
        ],
        [
         "~"
        ]
       ],
       "datasetInfos": [],
       "dbfsResultPath": null,
       "isJsonSchema": true,
       "metadata": {},
       "overflow": false,
       "plotOptions": {
        "customPlotOptions": {},
        "displayType": "table",
        "pivotAggregation": null,
        "pivotColumns": null,
        "xColumns": null,
        "yColumns": null
       },
       "removedWidgets": [],
       "schema": [
        {
         "metadata": "{}",
         "name": "function",
         "type": "\"string\""
        }
       ],
       "type": "table"
      }
     },
     "output_type": "display_data"
    }
   ],
   "source": [
    "%sql\n",
    "SHOW FUNCTIONS"
   ]
  },
  {
   "cell_type": "code",
   "execution_count": 0,
   "metadata": {
    "application/vnd.databricks.v1+cell": {
     "cellMetadata": {
      "byteLimit": 2048000,
      "implicitDf": true,
      "rowLimit": 10000
     },
     "inputWidgets": {},
     "nuid": "48bf3732-8066-4d77-b2ea-e621a29c8842",
     "showTitle": false,
     "title": ""
    }
   },
   "outputs": [
    {
     "output_type": "display_data",
     "data": {
      "text/html": [
       "<style scoped>\n",
       "  .table-result-container {\n",
       "    max-height: 300px;\n",
       "    overflow: auto;\n",
       "  }\n",
       "  table, th, td {\n",
       "    border: 1px solid black;\n",
       "    border-collapse: collapse;\n",
       "  }\n",
       "  th, td {\n",
       "    padding: 5px;\n",
       "  }\n",
       "  th {\n",
       "    text-align: left;\n",
       "  }\n",
       "</style><div class='table-result-container'><table class='table-result'><thead style='background-color: white'><tr><th>function_desc</th></tr></thead><tbody><tr><td>Function: substr</td></tr><tr><td>Class: org.apache.spark.sql.catalyst.expressions.Substring</td></tr><tr><td>Usage: \n",
       "    substr(str, pos[, len]) - Returns the substring of `str` that starts at `pos` and is of length `len`, or the slice of byte array that starts at `pos` and is of length `len`.\n",
       "\n",
       "    substr(str FROM pos[ FOR len]]) - Returns the substring of `str` that starts at `pos` and is of length `len`, or the slice of byte array that starts at `pos` and is of length `len`.\n",
       "  </td></tr></tbody></table></div>"
      ]
     },
     "metadata": {
      "application/vnd.databricks.v1+output": {
       "addedWidgets": {},
       "aggData": [],
       "aggError": "",
       "aggOverflow": false,
       "aggSchema": [],
       "aggSeriesLimitReached": false,
       "aggType": "",
       "arguments": {},
       "columnCustomDisplayInfos": {},
       "data": [
        [
         "Function: substr"
        ],
        [
         "Class: org.apache.spark.sql.catalyst.expressions.Substring"
        ],
        [
         "Usage: \n    substr(str, pos[, len]) - Returns the substring of `str` that starts at `pos` and is of length `len`, or the slice of byte array that starts at `pos` and is of length `len`.\n\n    substr(str FROM pos[ FOR len]]) - Returns the substring of `str` that starts at `pos` and is of length `len`, or the slice of byte array that starts at `pos` and is of length `len`.\n  "
        ]
       ],
       "datasetInfos": [],
       "dbfsResultPath": null,
       "isJsonSchema": true,
       "metadata": {},
       "overflow": false,
       "plotOptions": {
        "customPlotOptions": {},
        "displayType": "table",
        "pivotAggregation": null,
        "pivotColumns": null,
        "xColumns": null,
        "yColumns": null
       },
       "removedWidgets": [],
       "schema": [
        {
         "metadata": "{}",
         "name": "function_desc",
         "type": "\"string\""
        }
       ],
       "type": "table"
      }
     },
     "output_type": "display_data"
    }
   ],
   "source": [
    "%sql\n",
    "\n",
    "DESCRIBE FUNCTION substr"
   ]
  },
  {
   "cell_type": "code",
   "execution_count": 0,
   "metadata": {
    "application/vnd.databricks.v1+cell": {
     "cellMetadata": {},
     "inputWidgets": {},
     "nuid": "716702a9-bb14-42b9-96c1-cfdeba8d2a08",
     "showTitle": false,
     "title": ""
    }
   },
   "outputs": [],
   "source": []
  }
 ],
 "metadata": {
  "application/vnd.databricks.v1+notebook": {
   "dashboards": [],
   "language": "python",
   "notebookMetadata": {
    "mostRecentlyExecutedCommandWithImplicitDF": {
     "commandId": 3475517708922606,
     "dataframes": [
      "_sqldf"
     ]
    },
    "pythonIndentUnit": 4
   },
   "notebookName": "02 Overview of Functions in Spark SQL",
   "widgets": {}
  }
 },
 "nbformat": 4,
 "nbformat_minor": 0
}
