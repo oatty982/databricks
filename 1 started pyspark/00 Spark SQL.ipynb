{
 "cells": [
  {
   "cell_type": "code",
   "execution_count": 0,
   "metadata": {
    "application/vnd.databricks.v1+cell": {
     "cellMetadata": {
      "byteLimit": 2048000,
      "implicitDf": true,
      "rowLimit": 10000
     },
     "inputWidgets": {},
     "nuid": "9d93fd1b-8f69-4330-a6ef-930a9a7bd8d2",
     "showTitle": false,
     "title": ""
    }
   },
   "outputs": [
    {
     "output_type": "display_data",
     "data": {
      "text/html": [
       "<style scoped>\n",
       "  .table-result-container {\n",
       "    max-height: 300px;\n",
       "    overflow: auto;\n",
       "  }\n",
       "  table, th, td {\n",
       "    border: 1px solid black;\n",
       "    border-collapse: collapse;\n",
       "  }\n",
       "  th, td {\n",
       "    padding: 5px;\n",
       "  }\n",
       "  th {\n",
       "    text-align: left;\n",
       "  }\n",
       "</style><div class='table-result-container'><table class='table-result'><thead style='background-color: white'><tr></tr></thead><tbody></tbody></table></div>"
      ]
     },
     "metadata": {
      "application/vnd.databricks.v1+output": {
       "addedWidgets": {},
       "aggData": [],
       "aggError": "",
       "aggOverflow": false,
       "aggSchema": [],
       "aggSeriesLimitReached": false,
       "aggType": "",
       "arguments": {},
       "columnCustomDisplayInfos": {},
       "data": [],
       "datasetInfos": [],
       "dbfsResultPath": null,
       "isJsonSchema": true,
       "metadata": {},
       "overflow": false,
       "plotOptions": {
        "customPlotOptions": {},
        "displayType": "table",
        "pivotAggregation": null,
        "pivotColumns": null,
        "xColumns": null,
        "yColumns": null
       },
       "removedWidgets": [],
       "schema": [],
       "type": "table"
      }
     },
     "output_type": "display_data"
    }
   ],
   "source": [
    "%sql \n",
    "\n",
    "DROP DATABASE IF EXISTS itversity_retail CASCADE"
   ]
  },
  {
   "cell_type": "code",
   "execution_count": 0,
   "metadata": {
    "application/vnd.databricks.v1+cell": {
     "cellMetadata": {
      "byteLimit": 2048000,
      "implicitDf": true,
      "rowLimit": 10000
     },
     "inputWidgets": {},
     "nuid": "798532f1-35ae-4834-92b2-bc5f31119655",
     "showTitle": false,
     "title": ""
    }
   },
   "outputs": [
    {
     "output_type": "display_data",
     "data": {
      "text/html": [
       "<style scoped>\n",
       "  .table-result-container {\n",
       "    max-height: 300px;\n",
       "    overflow: auto;\n",
       "  }\n",
       "  table, th, td {\n",
       "    border: 1px solid black;\n",
       "    border-collapse: collapse;\n",
       "  }\n",
       "  th, td {\n",
       "    padding: 5px;\n",
       "  }\n",
       "  th {\n",
       "    text-align: left;\n",
       "  }\n",
       "</style><div class='table-result-container'><table class='table-result'><thead style='background-color: white'><tr></tr></thead><tbody></tbody></table></div>"
      ]
     },
     "metadata": {
      "application/vnd.databricks.v1+output": {
       "addedWidgets": {},
       "aggData": [],
       "aggError": "",
       "aggOverflow": false,
       "aggSchema": [],
       "aggSeriesLimitReached": false,
       "aggType": "",
       "arguments": {},
       "columnCustomDisplayInfos": {},
       "data": [],
       "datasetInfos": [],
       "dbfsResultPath": null,
       "isJsonSchema": true,
       "metadata": {},
       "overflow": false,
       "plotOptions": {
        "customPlotOptions": {},
        "displayType": "table",
        "pivotAggregation": null,
        "pivotColumns": null,
        "xColumns": null,
        "yColumns": null
       },
       "removedWidgets": [],
       "schema": [],
       "type": "table"
      }
     },
     "output_type": "display_data"
    }
   ],
   "source": [
    "%sql\n",
    "\n",
    "create database itversity_retail"
   ]
  },
  {
   "cell_type": "code",
   "execution_count": 0,
   "metadata": {
    "application/vnd.databricks.v1+cell": {
     "cellMetadata": {
      "byteLimit": 2048000,
      "implicitDf": true,
      "rowLimit": 10000
     },
     "inputWidgets": {},
     "nuid": "b730d1cb-ddf7-449c-af18-1fbebe237acb",
     "showTitle": false,
     "title": ""
    }
   },
   "outputs": [
    {
     "output_type": "display_data",
     "data": {
      "text/html": [
       "<style scoped>\n",
       "  .table-result-container {\n",
       "    max-height: 300px;\n",
       "    overflow: auto;\n",
       "  }\n",
       "  table, th, td {\n",
       "    border: 1px solid black;\n",
       "    border-collapse: collapse;\n",
       "  }\n",
       "  th, td {\n",
       "    padding: 5px;\n",
       "  }\n",
       "  th {\n",
       "    text-align: left;\n",
       "  }\n",
       "</style><div class='table-result-container'><table class='table-result'><thead style='background-color: white'><tr></tr></thead><tbody></tbody></table></div>"
      ]
     },
     "metadata": {
      "application/vnd.databricks.v1+output": {
       "addedWidgets": {},
       "aggData": [],
       "aggError": "",
       "aggOverflow": false,
       "aggSchema": [],
       "aggSeriesLimitReached": false,
       "aggType": "",
       "arguments": {},
       "columnCustomDisplayInfos": {},
       "data": [],
       "datasetInfos": [],
       "dbfsResultPath": null,
       "isJsonSchema": true,
       "metadata": {},
       "overflow": false,
       "plotOptions": {
        "customPlotOptions": {},
        "displayType": "table",
        "pivotAggregation": null,
        "pivotColumns": null,
        "xColumns": null,
        "yColumns": null
       },
       "removedWidgets": [],
       "schema": [],
       "type": "table"
      }
     },
     "output_type": "display_data"
    }
   ],
   "source": [
    "%sql\n",
    "\n",
    "use itversity_retail"
   ]
  },
  {
   "cell_type": "code",
   "execution_count": 0,
   "metadata": {
    "application/vnd.databricks.v1+cell": {
     "cellMetadata": {
      "byteLimit": 2048000,
      "implicitDf": true,
      "rowLimit": 10000
     },
     "inputWidgets": {},
     "nuid": "1c1657b8-0527-4749-ac05-32e33a34aa51",
     "showTitle": false,
     "title": ""
    }
   },
   "outputs": [
    {
     "output_type": "display_data",
     "data": {
      "text/html": [
       "<style scoped>\n",
       "  .table-result-container {\n",
       "    max-height: 300px;\n",
       "    overflow: auto;\n",
       "  }\n",
       "  table, th, td {\n",
       "    border: 1px solid black;\n",
       "    border-collapse: collapse;\n",
       "  }\n",
       "  th, td {\n",
       "    padding: 5px;\n",
       "  }\n",
       "  th {\n",
       "    text-align: left;\n",
       "  }\n",
       "</style><div class='table-result-container'><table class='table-result'><thead style='background-color: white'><tr><th>current_database()</th></tr></thead><tbody><tr><td>itversity_retail</td></tr></tbody></table></div>"
      ]
     },
     "metadata": {
      "application/vnd.databricks.v1+output": {
       "addedWidgets": {},
       "aggData": [],
       "aggError": "",
       "aggOverflow": false,
       "aggSchema": [],
       "aggSeriesLimitReached": false,
       "aggType": "",
       "arguments": {},
       "columnCustomDisplayInfos": {},
       "data": [
        [
         "itversity_retail"
        ]
       ],
       "datasetInfos": [],
       "dbfsResultPath": null,
       "isJsonSchema": true,
       "metadata": {},
       "overflow": false,
       "plotOptions": {
        "customPlotOptions": {},
        "displayType": "table",
        "pivotAggregation": null,
        "pivotColumns": null,
        "xColumns": null,
        "yColumns": null
       },
       "removedWidgets": [],
       "schema": [
        {
         "metadata": "{\"__autoGeneratedAlias\":\"true\"}",
         "name": "current_database()",
         "type": "\"string\""
        }
       ],
       "type": "table"
      }
     },
     "output_type": "display_data"
    }
   ],
   "source": [
    "%sql\n",
    "\n",
    "SELECT current_database()"
   ]
  },
  {
   "cell_type": "code",
   "execution_count": 0,
   "metadata": {
    "application/vnd.databricks.v1+cell": {
     "cellMetadata": {
      "byteLimit": 2048000,
      "implicitDf": true,
      "rowLimit": 10000
     },
     "inputWidgets": {},
     "nuid": "347d7618-a9cd-4bc6-a668-534613da881f",
     "showTitle": false,
     "title": ""
    }
   },
   "outputs": [
    {
     "output_type": "display_data",
     "data": {
      "text/html": [
       "<style scoped>\n",
       "  .table-result-container {\n",
       "    max-height: 300px;\n",
       "    overflow: auto;\n",
       "  }\n",
       "  table, th, td {\n",
       "    border: 1px solid black;\n",
       "    border-collapse: collapse;\n",
       "  }\n",
       "  th, td {\n",
       "    padding: 5px;\n",
       "  }\n",
       "  th {\n",
       "    text-align: left;\n",
       "  }\n",
       "</style><div class='table-result-container'><table class='table-result'><thead style='background-color: white'><tr></tr></thead><tbody></tbody></table></div>"
      ]
     },
     "metadata": {
      "application/vnd.databricks.v1+output": {
       "addedWidgets": {},
       "aggData": [],
       "aggError": "",
       "aggOverflow": false,
       "aggSchema": [],
       "aggSeriesLimitReached": false,
       "aggType": "",
       "arguments": {},
       "columnCustomDisplayInfos": {},
       "data": [],
       "datasetInfos": [],
       "dbfsResultPath": null,
       "isJsonSchema": true,
       "metadata": {},
       "overflow": false,
       "plotOptions": {
        "customPlotOptions": {},
        "displayType": "table",
        "pivotAggregation": null,
        "pivotColumns": null,
        "xColumns": null,
        "yColumns": null
       },
       "removedWidgets": [],
       "schema": [],
       "type": "table"
      }
     },
     "output_type": "display_data"
    }
   ],
   "source": [
    "%sql\n",
    "CREATE TABLE itversity_retail.orders (\n",
    "  order_id BIGINT,\n",
    "  order_date STRING,\n",
    "  order_customer_id BIGINT,\n",
    "  order_status STRING\n",
    ") USING DELTA"
   ]
  },
  {
   "cell_type": "code",
   "execution_count": 0,
   "metadata": {
    "application/vnd.databricks.v1+cell": {
     "cellMetadata": {
      "byteLimit": 2048000,
      "rowLimit": 10000
     },
     "inputWidgets": {},
     "nuid": "6351205a-6d39-4ae8-953f-ab0f79d7a9ef",
     "showTitle": false,
     "title": ""
    }
   },
   "outputs": [
    {
     "output_type": "display_data",
     "data": {
      "text/html": [
       "<style scoped>\n",
       "  .table-result-container {\n",
       "    max-height: 300px;\n",
       "    overflow: auto;\n",
       "  }\n",
       "  table, th, td {\n",
       "    border: 1px solid black;\n",
       "    border-collapse: collapse;\n",
       "  }\n",
       "  th, td {\n",
       "    padding: 5px;\n",
       "  }\n",
       "  th {\n",
       "    text-align: left;\n",
       "  }\n",
       "</style><div class='table-result-container'><table class='table-result'><thead style='background-color: white'><tr><th>path</th><th>name</th><th>size</th><th>modificationTime</th></tr></thead><tbody><tr><td>dbfs:/user/hive/warehouse/itversity_retail.db/orders/_delta_log/</td><td>_delta_log/</td><td>0</td><td>1688728810140</td></tr></tbody></table></div>"
      ]
     },
     "metadata": {
      "application/vnd.databricks.v1+output": {
       "addedWidgets": {},
       "aggData": [],
       "aggError": "",
       "aggOverflow": false,
       "aggSchema": [],
       "aggSeriesLimitReached": false,
       "aggType": "",
       "arguments": {},
       "columnCustomDisplayInfos": {},
       "data": [
        [
         "dbfs:/user/hive/warehouse/itversity_retail.db/orders/_delta_log/",
         "_delta_log/",
         0,
         1688728810140
        ]
       ],
       "datasetInfos": [],
       "dbfsResultPath": null,
       "isJsonSchema": true,
       "metadata": {
        "isDbfsCommandResult": false
       },
       "overflow": false,
       "plotOptions": {
        "customPlotOptions": {},
        "displayType": "table",
        "pivotAggregation": null,
        "pivotColumns": null,
        "xColumns": null,
        "yColumns": null
       },
       "removedWidgets": [],
       "schema": [
        {
         "metadata": "{}",
         "name": "path",
         "type": "\"string\""
        },
        {
         "metadata": "{}",
         "name": "name",
         "type": "\"string\""
        },
        {
         "metadata": "{}",
         "name": "size",
         "type": "\"long\""
        },
        {
         "metadata": "{}",
         "name": "modificationTime",
         "type": "\"long\""
        }
       ],
       "type": "table"
      }
     },
     "output_type": "display_data"
    }
   ],
   "source": [
    "%fs ls dbfs:/user/hive/warehouse/itversity_retail.db/orders"
   ]
  },
  {
   "cell_type": "code",
   "execution_count": 0,
   "metadata": {
    "application/vnd.databricks.v1+cell": {
     "cellMetadata": {
      "byteLimit": 2048000,
      "implicitDf": true,
      "rowLimit": 10000
     },
     "inputWidgets": {},
     "nuid": "637f330e-5bce-4ec6-8034-203f2c9f1e88",
     "showTitle": false,
     "title": ""
    }
   },
   "outputs": [
    {
     "output_type": "display_data",
     "data": {
      "text/html": [
       "<style scoped>\n",
       "  .table-result-container {\n",
       "    max-height: 300px;\n",
       "    overflow: auto;\n",
       "  }\n",
       "  table, th, td {\n",
       "    border: 1px solid black;\n",
       "    border-collapse: collapse;\n",
       "  }\n",
       "  th, td {\n",
       "    padding: 5px;\n",
       "  }\n",
       "  th {\n",
       "    text-align: left;\n",
       "  }\n",
       "</style><div class='table-result-container'><table class='table-result'><thead style='background-color: white'><tr><th>col_name</th><th>data_type</th><th>comment</th></tr></thead><tbody><tr><td>order_id</td><td>bigint</td><td>null</td></tr><tr><td>order_date</td><td>string</td><td>null</td></tr><tr><td>order_customer_id</td><td>bigint</td><td>null</td></tr><tr><td>order_status</td><td>string</td><td>null</td></tr></tbody></table></div>"
      ]
     },
     "metadata": {
      "application/vnd.databricks.v1+output": {
       "addedWidgets": {},
       "aggData": [],
       "aggError": "",
       "aggOverflow": false,
       "aggSchema": [],
       "aggSeriesLimitReached": false,
       "aggType": "",
       "arguments": {},
       "columnCustomDisplayInfos": {},
       "data": [
        [
         "order_id",
         "bigint",
         null
        ],
        [
         "order_date",
         "string",
         null
        ],
        [
         "order_customer_id",
         "bigint",
         null
        ],
        [
         "order_status",
         "string",
         null
        ]
       ],
       "datasetInfos": [],
       "dbfsResultPath": null,
       "isJsonSchema": true,
       "metadata": {},
       "overflow": false,
       "plotOptions": {
        "customPlotOptions": {},
        "displayType": "table",
        "pivotAggregation": null,
        "pivotColumns": null,
        "xColumns": null,
        "yColumns": null
       },
       "removedWidgets": [],
       "schema": [
        {
         "metadata": "{\"comment\":\"name of the column\"}",
         "name": "col_name",
         "type": "\"string\""
        },
        {
         "metadata": "{\"comment\":\"data type of the column\"}",
         "name": "data_type",
         "type": "\"string\""
        },
        {
         "metadata": "{\"comment\":\"comment of the column\"}",
         "name": "comment",
         "type": "\"string\""
        }
       ],
       "type": "table"
      }
     },
     "output_type": "display_data"
    }
   ],
   "source": [
    "%sql\n",
    "DESCRIBE ORDERS"
   ]
  },
  {
   "cell_type": "code",
   "execution_count": 0,
   "metadata": {
    "application/vnd.databricks.v1+cell": {
     "cellMetadata": {
      "byteLimit": 2048000,
      "implicitDf": true,
      "rowLimit": 10000
     },
     "inputWidgets": {},
     "nuid": "74f16dd9-7ef7-405f-9797-4bbafbb0cfe9",
     "showTitle": false,
     "title": ""
    }
   },
   "outputs": [
    {
     "output_type": "display_data",
     "data": {
      "text/html": [
       "<style scoped>\n",
       "  .table-result-container {\n",
       "    max-height: 300px;\n",
       "    overflow: auto;\n",
       "  }\n",
       "  table, th, td {\n",
       "    border: 1px solid black;\n",
       "    border-collapse: collapse;\n",
       "  }\n",
       "  th, td {\n",
       "    padding: 5px;\n",
       "  }\n",
       "  th {\n",
       "    text-align: left;\n",
       "  }\n",
       "</style><div class='table-result-container'><table class='table-result'><thead style='background-color: white'><tr><th>col_name</th><th>data_type</th><th>comment</th></tr></thead><tbody><tr><td>order_id</td><td>bigint</td><td>null</td></tr><tr><td>order_date</td><td>string</td><td>null</td></tr><tr><td>order_customer_id</td><td>bigint</td><td>null</td></tr><tr><td>order_status</td><td>string</td><td>null</td></tr><tr><td></td><td></td><td></td></tr><tr><td># Detailed Table Information</td><td></td><td></td></tr><tr><td>Catalog</td><td>spark_catalog</td><td></td></tr><tr><td>Database</td><td>itversity_retail</td><td></td></tr><tr><td>Table</td><td>ORDERS</td><td></td></tr><tr><td>Type</td><td>MANAGED</td><td></td></tr><tr><td>Location</td><td>dbfs:/user/hive/warehouse/itversity_retail.db/orders</td><td></td></tr><tr><td>Provider</td><td>delta</td><td></td></tr><tr><td>Owner</td><td>root</td><td></td></tr><tr><td>Is_managed_location</td><td>true</td><td></td></tr><tr><td>Table Properties</td><td>[delta.minReaderVersion=1,delta.minWriterVersion=2]</td><td></td></tr></tbody></table></div>"
      ]
     },
     "metadata": {
      "application/vnd.databricks.v1+output": {
       "addedWidgets": {},
       "aggData": [],
       "aggError": "",
       "aggOverflow": false,
       "aggSchema": [],
       "aggSeriesLimitReached": false,
       "aggType": "",
       "arguments": {},
       "columnCustomDisplayInfos": {},
       "data": [
        [
         "order_id",
         "bigint",
         null
        ],
        [
         "order_date",
         "string",
         null
        ],
        [
         "order_customer_id",
         "bigint",
         null
        ],
        [
         "order_status",
         "string",
         null
        ],
        [
         "",
         "",
         ""
        ],
        [
         "# Detailed Table Information",
         "",
         ""
        ],
        [
         "Catalog",
         "spark_catalog",
         ""
        ],
        [
         "Database",
         "itversity_retail",
         ""
        ],
        [
         "Table",
         "ORDERS",
         ""
        ],
        [
         "Type",
         "MANAGED",
         ""
        ],
        [
         "Location",
         "dbfs:/user/hive/warehouse/itversity_retail.db/orders",
         ""
        ],
        [
         "Provider",
         "delta",
         ""
        ],
        [
         "Owner",
         "root",
         ""
        ],
        [
         "Is_managed_location",
         "true",
         ""
        ],
        [
         "Table Properties",
         "[delta.minReaderVersion=1,delta.minWriterVersion=2]",
         ""
        ]
       ],
       "datasetInfos": [],
       "dbfsResultPath": null,
       "isJsonSchema": true,
       "metadata": {},
       "overflow": false,
       "plotOptions": {
        "customPlotOptions": {},
        "displayType": "table",
        "pivotAggregation": null,
        "pivotColumns": null,
        "xColumns": null,
        "yColumns": null
       },
       "removedWidgets": [],
       "schema": [
        {
         "metadata": "{\"comment\":\"name of the column\"}",
         "name": "col_name",
         "type": "\"string\""
        },
        {
         "metadata": "{\"comment\":\"data type of the column\"}",
         "name": "data_type",
         "type": "\"string\""
        },
        {
         "metadata": "{\"comment\":\"comment of the column\"}",
         "name": "comment",
         "type": "\"string\""
        }
       ],
       "type": "table"
      }
     },
     "output_type": "display_data"
    }
   ],
   "source": [
    "%sql\n",
    "DESCRIBE FORMATTED ORDERS"
   ]
  },
  {
   "cell_type": "code",
   "execution_count": 0,
   "metadata": {
    "application/vnd.databricks.v1+cell": {
     "cellMetadata": {
      "byteLimit": 2048000,
      "implicitDf": true,
      "rowLimit": 10000
     },
     "inputWidgets": {},
     "nuid": "2e767a38-b9ee-424f-b69d-a4a13018306f",
     "showTitle": false,
     "title": ""
    }
   },
   "outputs": [
    {
     "output_type": "display_data",
     "data": {
      "text/html": [
       "<style scoped>\n",
       "  .table-result-container {\n",
       "    max-height: 300px;\n",
       "    overflow: auto;\n",
       "  }\n",
       "  table, th, td {\n",
       "    border: 1px solid black;\n",
       "    border-collapse: collapse;\n",
       "  }\n",
       "  th, td {\n",
       "    padding: 5px;\n",
       "  }\n",
       "  th {\n",
       "    text-align: left;\n",
       "  }\n",
       "</style><div class='table-result-container'><table class='table-result'><thead style='background-color: white'><tr><th>createtab_stmt</th></tr></thead><tbody><tr><td>CREATE TABLE spark_catalog.itversity_retail.orders (\n",
       "  order_id BIGINT,\n",
       "  order_date STRING,\n",
       "  order_customer_id BIGINT,\n",
       "  order_status STRING)\n",
       "USING delta\n",
       "TBLPROPERTIES (\n",
       "  'delta.minReaderVersion' = '1',\n",
       "  'delta.minWriterVersion' = '2')\n",
       "</td></tr></tbody></table></div>"
      ]
     },
     "metadata": {
      "application/vnd.databricks.v1+output": {
       "addedWidgets": {},
       "aggData": [],
       "aggError": "",
       "aggOverflow": false,
       "aggSchema": [],
       "aggSeriesLimitReached": false,
       "aggType": "",
       "arguments": {},
       "columnCustomDisplayInfos": {},
       "data": [
        [
         "CREATE TABLE spark_catalog.itversity_retail.orders (\n  order_id BIGINT,\n  order_date STRING,\n  order_customer_id BIGINT,\n  order_status STRING)\nUSING delta\nTBLPROPERTIES (\n  'delta.minReaderVersion' = '1',\n  'delta.minWriterVersion' = '2')\n"
        ]
       ],
       "datasetInfos": [],
       "dbfsResultPath": null,
       "isJsonSchema": true,
       "metadata": {},
       "overflow": false,
       "plotOptions": {
        "customPlotOptions": {},
        "displayType": "table",
        "pivotAggregation": null,
        "pivotColumns": null,
        "xColumns": null,
        "yColumns": null
       },
       "removedWidgets": [],
       "schema": [
        {
         "metadata": "{}",
         "name": "createtab_stmt",
         "type": "\"string\""
        }
       ],
       "type": "table"
      }
     },
     "output_type": "display_data"
    }
   ],
   "source": [
    "%sql\n",
    "SHOW CREATE TABLE orders"
   ]
  },
  {
   "cell_type": "code",
   "execution_count": 0,
   "metadata": {
    "application/vnd.databricks.v1+cell": {
     "cellMetadata": {
      "byteLimit": 2048000,
      "rowLimit": 10000
     },
     "inputWidgets": {},
     "nuid": "c5eb921d-c1b1-4211-897c-2e00c24c7741",
     "showTitle": false,
     "title": ""
    }
   },
   "outputs": [
    {
     "output_type": "display_data",
     "data": {
      "text/html": [
       "<style scoped>\n",
       "  .table-result-container {\n",
       "    max-height: 300px;\n",
       "    overflow: auto;\n",
       "  }\n",
       "  table, th, td {\n",
       "    border: 1px solid black;\n",
       "    border-collapse: collapse;\n",
       "  }\n",
       "  th, td {\n",
       "    padding: 5px;\n",
       "  }\n",
       "  th {\n",
       "    text-align: left;\n",
       "  }\n",
       "</style><div class='table-result-container'><table class='table-result'><thead style='background-color: white'><tr><th>path</th><th>name</th><th>size</th><th>modificationTime</th></tr></thead><tbody><tr><td>dbfs:/public/retail_db_json/orders/part-r-00000-990f5773-9005-49ba-b670-631286032674</td><td>part-r-00000-990f5773-9005-49ba-b670-631286032674</td><td>7477339</td><td>1688569093468</td></tr></tbody></table></div>"
      ]
     },
     "metadata": {
      "application/vnd.databricks.v1+output": {
       "addedWidgets": {},
       "aggData": [],
       "aggError": "",
       "aggOverflow": false,
       "aggSchema": [],
       "aggSeriesLimitReached": false,
       "aggType": "",
       "arguments": {},
       "columnCustomDisplayInfos": {},
       "data": [
        [
         "dbfs:/public/retail_db_json/orders/part-r-00000-990f5773-9005-49ba-b670-631286032674",
         "part-r-00000-990f5773-9005-49ba-b670-631286032674",
         7477339,
         1688569093468
        ]
       ],
       "datasetInfos": [],
       "dbfsResultPath": null,
       "isJsonSchema": true,
       "metadata": {
        "isDbfsCommandResult": false
       },
       "overflow": false,
       "plotOptions": {
        "customPlotOptions": {},
        "displayType": "table",
        "pivotAggregation": null,
        "pivotColumns": null,
        "xColumns": null,
        "yColumns": null
       },
       "removedWidgets": [],
       "schema": [
        {
         "metadata": "{}",
         "name": "path",
         "type": "\"string\""
        },
        {
         "metadata": "{}",
         "name": "name",
         "type": "\"string\""
        },
        {
         "metadata": "{}",
         "name": "size",
         "type": "\"long\""
        },
        {
         "metadata": "{}",
         "name": "modificationTime",
         "type": "\"long\""
        }
       ],
       "type": "table"
      }
     },
     "output_type": "display_data"
    }
   ],
   "source": [
    "%fs ls dbfs:/public/retail_db_json/orders/"
   ]
  },
  {
   "cell_type": "code",
   "execution_count": 0,
   "metadata": {
    "application/vnd.databricks.v1+cell": {
     "cellMetadata": {
      "byteLimit": 2048000,
      "rowLimit": 10000
     },
     "inputWidgets": {},
     "nuid": "31628e2b-d449-4434-b2ff-a25e3f18630b",
     "showTitle": false,
     "title": ""
    }
   },
   "outputs": [
    {
     "output_type": "display_data",
     "data": {
      "text/html": [
       "<style scoped>\n",
       "  .ansiout {\n",
       "    display: block;\n",
       "    unicode-bidi: embed;\n",
       "    white-space: pre-wrap;\n",
       "    word-wrap: break-word;\n",
       "    word-break: break-all;\n",
       "    font-family: \"Source Code Pro\", \"Menlo\", monospace;;\n",
       "    font-size: 13px;\n",
       "    color: #555;\n",
       "    margin-left: 4px;\n",
       "    line-height: 19px;\n",
       "  }\n",
       "</style>\n",
       "<div class=\"ansiout\">[Truncated to first 65536 bytes]\n",
       "{&quot;order_id&quot;:1,&quot;order_date&quot;:&quot;2013-07-25 00:00:00.0&quot;,&quot;order_customer_id&quot;:11599,&quot;order_status&quot;:&quot;CLOSED&quot;}\n",
       "{&quot;order_id&quot;:2,&quot;order_date&quot;:&quot;2013-07-25 00:00:00.0&quot;,&quot;order_customer_id&quot;:256,&quot;order_status&quot;:&quot;PENDING_PAYMENT&quot;}\n",
       "{&quot;order_id&quot;:3,&quot;order_date&quot;:&quot;2013-07-25 00:00:00.0&quot;,&quot;order_customer_id&quot;:12111,&quot;order_status&quot;:&quot;COMPLETE&quot;}\n",
       "{&quot;order_id&quot;:4,&quot;order_date&quot;:&quot;2013-07-25 00:00:00.0&quot;,&quot;order_customer_id&quot;:8827,&quot;order_status&quot;:&quot;CLOSED&quot;}\n",
       "{&quot;order_id&quot;:5,&quot;order_date&quot;:&quot;2013-07-25 00:00:00.0&quot;,&quot;order_customer_id&quot;:11318,&quot;order_status&quot;:&quot;COMPLETE&quot;}\n",
       "{&quot;order_id&quot;:6,&quot;order_date&quot;:&quot;2013-07-25 00:00:00.0&quot;,&quot;order_customer_id&quot;:7130,&quot;order_status&quot;:&quot;COMPLETE&quot;}\n",
       "{&quot;order_id&quot;:7,&quot;order_date&quot;:&quot;2013-07-25 00:00:00.0&quot;,&quot;order_customer_id&quot;:4530,&quot;order_status&quot;:&quot;COMPLETE&quot;}\n",
       "{&quot;order_id&quot;:8,&quot;order_date&quot;:&quot;2013-07-25 00:00:00.0&quot;,&quot;order_customer_id&quot;:2911,&quot;order_status&quot;:&quot;PROCESSING&quot;}\n",
       "{&quot;order_id&quot;:9,&quot;order_date&quot;:&quot;2013-07-25 00:00:00.0&quot;,&quot;order_customer_id&quot;:5657,&quot;order_status&quot;:&quot;PENDING_PAYMENT&quot;}\n",
       "{&quot;order_id&quot;:10,&quot;order_date&quot;:&quot;2013-07-25 00:00:00.0&quot;,&quot;order_customer_id&quot;:5648,&quot;order_status&quot;:&quot;PENDING_PAYMENT&quot;}\n",
       "{&quot;order_id&quot;:11,&quot;order_date&quot;:&quot;2013-07-25 00:00:00.0&quot;,&quot;order_customer_id&quot;:918,&quot;order_status&quot;:&quot;PAYMENT_REVIEW&quot;}\n",
       "{&quot;order_id&quot;:12,&quot;order_date&quot;:&quot;2013-07-25 00:00:00.0&quot;,&quot;order_customer_id&quot;:1837,&quot;order_status&quot;:&quot;CLOSED&quot;}\n",
       "{&quot;order_id&quot;:13,&quot;order_date&quot;:&quot;2013-07-25 00:00:00.0&quot;,&quot;order_customer_id&quot;:9149,&quot;order_status&quot;:&quot;PENDING_PAYMENT&quot;}\n",
       "{&quot;order_id&quot;:14,&quot;order_date&quot;:&quot;2013-07-25 00:00:00.0&quot;,&quot;order_customer_id&quot;:9842,&quot;order_status&quot;:&quot;PROCESSING&quot;}\n",
       "{&quot;order_id&quot;:15,&quot;order_date&quot;:&quot;2013-07-25 00:00:00.0&quot;,&quot;order_customer_id&quot;:2568,&quot;order_status&quot;:&quot;COMPLETE&quot;}\n",
       "{&quot;order_id&quot;:16,&quot;order_date&quot;:&quot;2013-07-25 00:00:00.0&quot;,&quot;order_customer_id&quot;:7276,&quot;order_status&quot;:&quot;PENDING_PAYMENT&quot;}\n",
       "{&quot;order_id&quot;:17,&quot;order_date&quot;:&quot;2013-07-25 00:00:00.0&quot;,&quot;order_customer_id&quot;:2667,&quot;order_status&quot;:&quot;COMPLETE&quot;}\n",
       "{&quot;order_id&quot;:18,&quot;order_date&quot;:&quot;2013-07-25 00:00:00.0&quot;,&quot;order_customer_id&quot;:1205,&quot;order_status&quot;:&quot;CLOSED&quot;}\n",
       "{&quot;order_id&quot;:19,&quot;order_date&quot;:&quot;2013-07-25 00:00:00.0&quot;,&quot;order_customer_id&quot;:9488,&quot;order_status&quot;:&quot;PENDING_PAYMENT&quot;}\n",
       "{&quot;order_id&quot;:20,&quot;order_date&quot;:&quot;2013-07-25 00:00:00.0&quot;,&quot;order_customer_id&quot;:9198,&quot;order_status&quot;:&quot;PROCESSING&quot;}\n",
       "{&quot;order_id&quot;:21,&quot;order_date&quot;:&quot;2013-07-25 00:00:00.0&quot;,&quot;order_customer_id&quot;:2711,&quot;order_status&quot;:&quot;PENDING&quot;}\n",
       "{&quot;order_id&quot;:22,&quot;order_date&quot;:&quot;2013-07-25 00:00:00.0&quot;,&quot;order_customer_id&quot;:333,&quot;order_status&quot;:&quot;COMPLETE&quot;}\n",
       "{&quot;order_id&quot;:23,&quot;order_date&quot;:&quot;2013-07-25 00:00:00.0&quot;,&quot;order_customer_id&quot;:4367,&quot;order_status&quot;:&quot;PENDING_PAYMENT&quot;}\n",
       "{&quot;order_id&quot;:24,&quot;order_date&quot;:&quot;2013-07-25 00:00:00.0&quot;,&quot;order_customer_id&quot;:11441,&quot;order_status&quot;:&quot;CLOSED&quot;}\n",
       "{&quot;order_id&quot;:25,&quot;order_date&quot;:&quot;2013-07-25 00:00:00.0&quot;,&quot;order_customer_id&quot;:9503,&quot;order_status&quot;:&quot;CLOSED&quot;}\n",
       "{&quot;order_id&quot;:26,&quot;order_date&quot;:&quot;2013-07-25 00:00:00.0&quot;,&quot;order_customer_id&quot;:7562,&quot;order_status&quot;:&quot;COMPLETE&quot;}\n",
       "{&quot;order_id&quot;:27,&quot;order_date&quot;:&quot;2013-07-25 00:00:00.0&quot;,&quot;order_customer_id&quot;:3241,&quot;order_status&quot;:&quot;PENDING_PAYMENT&quot;}\n",
       "{&quot;order_id&quot;:28,&quot;order_date&quot;:&quot;2013-07-25 00:00:00.0&quot;,&quot;order_customer_id&quot;:656,&quot;order_status&quot;:&quot;COMPLETE&quot;}\n",
       "{&quot;order_id&quot;:29,&quot;order_date&quot;:&quot;2013-07-25 00:00:00.0&quot;,&quot;order_customer_id&quot;:196,&quot;order_status&quot;:&quot;PROCESSING&quot;}\n",
       "{&quot;order_id&quot;:30,&quot;order_date&quot;:&quot;2013-07-25 00:00:00.0&quot;,&quot;order_customer_id&quot;:10039,&quot;order_status&quot;:&quot;PENDING_PAYMENT&quot;}\n",
       "{&quot;order_id&quot;:31,&quot;order_date&quot;:&quot;2013-07-25 00:00:00.0&quot;,&quot;order_customer_id&quot;:6983,&quot;order_status&quot;:&quot;PAYMENT_REVIEW&quot;}\n",
       "{&quot;order_id&quot;:32,&quot;order_date&quot;:&quot;2013-07-25 00:00:00.0&quot;,&quot;order_customer_id&quot;:3960,&quot;order_status&quot;:&quot;COMPLETE&quot;}\n",
       "{&quot;order_id&quot;:33,&quot;order_date&quot;:&quot;2013-07-25 00:00:00.0&quot;,&quot;order_customer_id&quot;:5793,&quot;order_status&quot;:&quot;PENDING_PAYMENT&quot;}\n",
       "{&quot;order_id&quot;:34,&quot;order_date&quot;:&quot;2013-07-25 00:00:00.0&quot;,&quot;order_customer_id&quot;:4189,&quot;order_status&quot;:&quot;PROCESSING&quot;}\n",
       "{&quot;order_id&quot;:35,&quot;order_date&quot;:&quot;2013-07-25 00:00:00.0&quot;,&quot;order_customer_id&quot;:4840,&quot;order_status&quot;:&quot;COMPLETE&quot;}\n",
       "{&quot;order_id&quot;:36,&quot;order_date&quot;:&quot;2013-07-25 00:00:00.0&quot;,&quot;order_customer_id&quot;:5649,&quot;order_status&quot;:&quot;PENDING&quot;}\n",
       "{&quot;order_id&quot;:37,&quot;order_date&quot;:&quot;2013-07-25 00:00:00.0&quot;,&quot;order_customer_id&quot;:5863,&quot;order_status&quot;:&quot;CLOSED&quot;}\n",
       "{&quot;order_id&quot;:38,&quot;order_date&quot;:&quot;2013-07-25 00:00:00.0&quot;,&quot;order_customer_id&quot;:11586,&quot;order_status&quot;:&quot;PROCESSING&quot;}\n",
       "{&quot;order_id&quot;:39,&quot;order_date&quot;:&quot;2013-07-25 00:00:00.0&quot;,&quot;order_customer_id&quot;:8214,&quot;order_status&quot;:&quot;PENDING&quot;}\n",
       "{&quot;order_id&quot;:40,&quot;order_date&quot;:&quot;2013-07-25 00:00:00.0&quot;,&quot;order_customer_id&quot;:12092,&quot;order_status&quot;:&quot;PENDING_PAYMENT&quot;}\n",
       "{&quot;order_id&quot;:41,&quot;order_date&quot;:&quot;2013-07-25 00:00:00.0&quot;,&quot;order_customer_id&quot;:8136,&quot;order_status&quot;:&quot;PENDING_PAYMENT&quot;}\n",
       "{&quot;order_id&quot;:42,&quot;order_date&quot;:&quot;2013-07-25 00:00:00.0&quot;,&quot;order_customer_id&quot;:9776,&quot;order_status&quot;:&quot;PENDING&quot;}\n",
       "{&quot;order_id&quot;:43,&quot;order_date&quot;:&quot;2013-07-25 00:00:00.0&quot;,&quot;order_customer_id&quot;:7776,&quot;order_status&quot;:&quot;PENDING_PAYMENT&quot;}\n",
       "{&quot;order_id&quot;:44,&quot;order_date&quot;:&quot;2013-07-25 00:00:00.0&quot;,&quot;order_customer_id&quot;:10500,&quot;order_status&quot;:&quot;PENDING&quot;}\n",
       "{&quot;order_id&quot;:45,&quot;order_date&quot;:&quot;2013-07-25 00:00:00.0&quot;,&quot;order_customer_id&quot;:2636,&quot;order_status&quot;:&quot;COMPLETE&quot;}\n",
       "{&quot;order_id&quot;:46,&quot;order_date&quot;:&quot;2013-07-25 00:00:00.0&quot;,&quot;order_customer_id&quot;:1549,&quot;order_status&quot;:&quot;ON_HOLD&quot;}\n",
       "{&quot;order_id&quot;:47,&quot;order_date&quot;:&quot;2013-07-25 00:00:00.0&quot;,&quot;order_customer_id&quot;:8487,&quot;order_status&quot;:&quot;PENDING_PAYMENT&quot;}\n",
       "{&quot;order_id&quot;:48,&quot;order_date&quot;:&quot;2013-07-25 00:00:00.0&quot;,&quot;order_customer_id&quot;:12186,&quot;order_status&quot;:&quot;PROCESSING&quot;}\n",
       "{&quot;order_id&quot;:49,&quot;order_date&quot;:&quot;2013-07-25 00:00:00.0&quot;,&quot;order_customer_id&quot;:1871,&quot;order_status&quot;:&quot;PENDING&quot;}\n",
       "{&quot;order_id&quot;:50,&quot;order_date&quot;:&quot;2013-07-25 00:00:00.0&quot;,&quot;order_customer_id&quot;:5225,&quot;order_status&quot;:&quot;CANCELED&quot;}\n",
       "{&quot;order_id&quot;:51,&quot;order_date&quot;:&quot;2013-07-25 00:00:00.0&quot;,&quot;order_customer_id&quot;:12271,&quot;order_status&quot;:&quot;CLOSED&quot;}\n",
       "{&quot;order_id&quot;:52,&quot;order_date&quot;:&quot;2013-07-25 00:00:00.0&quot;,&quot;order_customer_id&quot;:5126,&quot;order_status&quot;:&quot;PENDING_PAYMENT&quot;}\n",
       "{&quot;order_id&quot;:53,&quot;order_date&quot;:&quot;2013-07-25 00:00:00.0&quot;,&quot;order_customer_id&quot;:4701,&quot;order_status&quot;:&quot;PROCESSING&quot;}\n",
       "{&quot;order_id&quot;:54,&quot;order_date&quot;:&quot;2013-07-25 00:00:00.0&quot;,&quot;order_customer_id&quot;:10628,&quot;order_status&quot;:&quot;PENDING_PAYMENT&quot;}\n",
       "{&quot;order_id&quot;:55,&quot;order_date&quot;:&quot;2013-07-25 00:00:00.0&quot;,&quot;order_customer_id&quot;:2052,&quot;order_status&quot;:&quot;PENDING&quot;}\n",
       "{&quot;order_id&quot;:56,&quot;order_date&quot;:&quot;2013-07-25 00:00:00.0&quot;,&quot;order_customer_id&quot;:10519,&quot;order_status&quot;:&quot;COMPLETE&quot;}\n",
       "{&quot;order_id&quot;:57,&quot;order_date&quot;:&quot;2013-07-25 00:00:00.0&quot;,&quot;order_customer_id&quot;:7073,&quot;order_status&quot;:&quot;CLOSED&quot;}\n",
       "{&quot;order_id&quot;:58,&quot;order_date&quot;:&quot;2013-07-25 00:00:00.0&quot;,&quot;order_customer_id&quot;:9213,&quot;order_status&quot;:&quot;PENDING_PAYMENT&quot;}\n",
       "{&quot;order_id&quot;:59,&quot;order_date&quot;:&quot;2013-07-25 00:00:00.0&quot;,&quot;order_customer_id&quot;:11644,&quot;order_status&quot;:&quot;PENDING_PAYMENT&quot;}\n",
       "{&quot;order_id&quot;:60,&quot;order_date&quot;:&quot;2013-07-25 00:00:00.0&quot;,&quot;order_customer_id&quot;:8365,&quot;order_status&quot;:&quot;PENDING_PAYMENT&quot;}\n",
       "{&quot;order_id&quot;:61,&quot;order_date&quot;:&quot;2013-07-25 00:00:00.0&quot;,&quot;order_customer_id&quot;:4791,&quot;order_status&quot;:&quot;CLOSED&quot;}\n",
       "{&quot;order_id&quot;:62,&quot;order_date&quot;:&quot;2013-07-25 00:00:00.0&quot;,&quot;order_customer_id&quot;:9111,&quot;order_status&quot;:&quot;CLOSED&quot;}\n",
       "{&quot;order_id&quot;:63,&quot;order_date&quot;:&quot;2013-07-25 00:00:00.0&quot;,&quot;order_customer_id&quot;:1148,&quot;order_status&quot;:&quot;COMPLETE&quot;}\n",
       "{&quot;order_id&quot;:64,&quot;order_date&quot;:&quot;2013-07-25 00:00:00.0&quot;,&quot;order_customer_id&quot;:5579,&quot;order_status&quot;:&quot;PENDING_PAYMENT&quot;}\n",
       "{&quot;order_id&quot;:65,&quot;order_date&quot;:&quot;2013-07-25 00:00:00.0&quot;,&quot;order_customer_id&quot;:5903,&quot;order_status&quot;:&quot;COMPLETE&quot;}\n",
       "{&quot;order_id&quot;:66,&quot;order_date&quot;:&quot;2013-07-25 00:00:00.0&quot;,&quot;order_customer_id&quot;:1792,&quot;order_status&quot;:&quot;ON_HOLD&quot;}\n",
       "{&quot;order_id&quot;:67,&quot;order_date&quot;:&quot;2013-07-25 00:00:00.0&quot;,&quot;order_customer_id&quot;:1406,&quot;order_status&quot;:&quot;COMPLETE&quot;}\n",
       "{&quot;order_id&quot;:68,&quot;order_date&quot;:&quot;2013-07-25 00:00:00.0&quot;,&quot;order_customer_id&quot;:4320,&quot;order_status&quot;:&quot;PENDING&quot;}\n",
       "{&quot;order_id&quot;:69,&quot;order_date&quot;:&quot;2013-07-25 00:00:00.0&quot;,&quot;order_customer_id&quot;:2821,&quot;order_status&quot;:&quot;SUSPECTED_FRAUD&quot;}\n",
       "{&quot;order_id&quot;:70,&quot;order_date&quot;:&quot;2013-07-25 00:00:00.0&quot;,&quot;order_customer_id&quot;:11809,&quot;order_status&quot;:&quot;PENDING_PAYMENT&quot;}\n",
       "{&quot;order_id&quot;:71,&quot;order_date&quot;:&quot;2013-07-25 00:00:00.0&quot;,&quot;order_customer_id&quot;:8646,&quot;order_status&quot;:&quot;COMPLETE&quot;}\n",
       "{&quot;order_id&quot;:72,&quot;order_date&quot;:&quot;2013-07-25 00:00:00.0&quot;,&quot;order_customer_id&quot;:4349,&quot;order_status&quot;:&quot;COMPLETE&quot;}\n",
       "{&quot;order_id&quot;:73,&quot;order_date&quot;:&quot;2013-07-25 00:00:00.0&quot;,&quot;order_customer_id&quot;:8504,&quot;order_status&quot;:&quot;PENDING_PAYMENT&quot;}\n",
       "{&quot;order_id&quot;:74,&quot;order_date&quot;:&quot;2013-07-25 00:00:00.0&quot;,&quot;order_customer_id&quot;:662,&quot;order_status&quot;:&quot;PENDING_PAYMENT&quot;}\n",
       "{&quot;order_id&quot;:75,&quot;order_date&quot;:&quot;2013-07-25 00:00:00.0&quot;,&quot;order_customer_id&quot;:2505,&quot;order_status&quot;:&quot;PENDING_PAYMENT&quot;}\n",
       "{&quot;order_id&quot;:76,&quot;order_date&quot;:&quot;2013-07-25 00:00:00.0&quot;,&quot;order_customer_id&quot;:6898,&quot;order_status&quot;:&quot;COMPLETE&quot;}\n",
       "{&quot;order_id&quot;:77,&quot;order_date&quot;:&quot;2013-07-25 00:00:00.0&quot;,&quot;order_customer_id&quot;:7915,&quot;order_status&quot;:&quot;PENDING_PAYMENT&quot;}\n",
       "{&quot;order_id&quot;:78,&quot;order_date&quot;:&quot;2013-07-25 00:00:00.0&quot;,&quot;order_customer_id&quot;:8619,&quot;order_status&quot;:&quot;PAYMENT_REVIEW&quot;}\n",
       "{&quot;order_id&quot;:79,&quot;order_date&quot;:&quot;2013-07-25 00:00:00.0&quot;,&quot;order_customer_id&quot;:7327,&quot;order_status&quot;:&quot;PENDING_PAYMENT&quot;}\n",
       "{&quot;order_id&quot;:80,&quot;order_date&quot;:&quot;2013-07-25 00:00:00.0&quot;,&quot;order_customer_id&quot;:3007,&quot;order_status&quot;:&quot;COMPLETE&quot;}\n",
       "{&quot;order_id&quot;:81,&quot;order_date&quot;:&quot;2013-07-25 00:00:00.0&quot;,&quot;order_customer_id&quot;:674,&quot;order_status&quot;:&quot;PROCESSING&quot;}\n",
       "{&quot;order_id&quot;:82,&quot;order_date&quot;:&quot;2013-07-25 00:00:00.0&quot;,&quot;order_customer_id&quot;:3566,&quot;order_status&quot;:&quot;PENDING_PAYMENT&quot;}\n",
       "{&quot;order_id&quot;:83,&quot;order_date&quot;:&quot;2013-07-25 00:00:00.0&quot;,&quot;order_customer_id&quot;:1265,&quot;order_status&quot;:&quot;COMPLETE&quot;}\n",
       "{&quot;order_id&quot;:84,&quot;order_date&quot;:&quot;2013-07-25 00:00:00.0&quot;,&quot;order_customer_id&quot;:6789,&quot;order_status&quot;:&quot;PROCESSING&quot;}\n",
       "{&quot;order_id&quot;:85,&quot;order_date&quot;:&quot;2013-07-25 00:00:00.0&quot;,&quot;order_customer_id&quot;:1485,&quot;order_status&quot;:&quot;PENDING&quot;}\n",
       "{&quot;order_id&quot;:86,&quot;order_date&quot;:&quot;2013-07-25 00:00:00.0&quot;,&quot;order_customer_id&quot;:6680,&quot;order_status&quot;:&quot;PENDING_PAYMENT&quot;}\n",
       "{&quot;order_id&quot;:87,&quot;order_date&quot;:&quot;2013-07-25 00:00:00.0&quot;,&quot;order_customer_id&quot;:3065,&quot;order_status&quot;:&quot;CLOSED&quot;}\n",
       "{&quot;order_id&quot;:88,&quot;order_date&quot;:&quot;2013-07-25 00:00:00.0&quot;,&quot;order_customer_id&quot;:3809,&quot;order_status&quot;:&quot;COMPLETE&quot;}\n",
       "{&quot;order_id&quot;:89,&quot;order_date&quot;:&quot;2013-07-25 00:00:00.0&quot;,&quot;order_customer_id&quot;:824,&quot;order_status&quot;:&quot;ON_HOLD&quot;}\n",
       "{&quot;order_id&quot;:90,&quot;order_date&quot;:&quot;2013-07-25 00:00:00.0&quot;,&quot;order_customer_id&quot;:9131,&quot;order_status&quot;:&quot;CLOSED&quot;}\n",
       "{&quot;order_id&quot;:91,&quot;order_date&quot;:&quot;2013-07-25 00:00:00.0&quot;,&quot;order_customer_id&quot;:8912,&quot;order_status&quot;:&quot;COMPLETE&quot;}\n",
       "{&quot;order_id&quot;:92,&quot;order_date&quot;:&quot;2013-07-25 00:00:00.0&quot;,&quot;order_customer_id&quot;:6932,&quot;order_status&quot;:&quot;COMPLETE&quot;}\n",
       "{&quot;order_id&quot;:93,&quot;order_date&quot;:&quot;2013-07-25 00:00:00.0&quot;,&quot;order_customer_id&quot;:2256,&quot;order_status&quot;:&quot;PENDING_PAYMENT&quot;}\n",
       "{&quot;order_id&quot;:94,&quot;order_date&quot;:&quot;2013-07-25 00:00:00.0&quot;,&quot;order_customer_id&quot;:11589,&quot;order_status&quot;:&quot;PROCESSING&quot;}\n",
       "{&quot;order_id&quot;:95,&quot;order_date&quot;:&quot;2013-07-25 00:00:00.0&quot;,&quot;order_customer_id&quot;:9032,&quot;order_status&quot;:&quot;COMPLETE&quot;}\n",
       "{&quot;order_id&quot;:96,&quot;order_date&quot;:&quot;2013-07-25 00:00:00.0&quot;,&quot;order_customer_id&quot;:8683,&quot;order_status&quot;:&quot;PENDING&quot;}\n",
       "{&quot;order_id&quot;:97,&quot;order_date&quot;:&quot;2013-07-25 00:00:00.0&quot;,&quot;order_customer_id&quot;:10784,&quot;order_status&quot;:&quot;PENDING&quot;}\n",
       "{&quot;order_id&quot;:98,&quot;order_date&quot;:&quot;2013-07-25 00:00:00.0&quot;,&quot;order_customer_id&quot;:5243,&quot;order_status&quot;:&quot;COMPLETE&quot;}\n",
       "{&quot;order_id&quot;:99,&quot;order_date&quot;:&quot;2013-07-25 00:00:00.0&quot;,&quot;order_customer_id&quot;:11542,&quot;order_status&quot;:&quot;PENDING_PAYMENT&quot;}\n",
       "{&quot;order_id&quot;:100,&quot;order_date&quot;:&quot;2013-07-25 00:00:00.0&quot;,&quot;order_customer_id&quot;:12131,&quot;order_status&quot;:&quot;PROCESSING&quot;}\n",
       "{&quot;order_id&quot;:101,&quot;order_date&quot;:&quot;2013-07-25 00:00:00.0&quot;,&quot;order_customer_id&quot;:5116,&quot;order_status&quot;:&quot;CLOSED&quot;}\n",
       "{&quot;order_id&quot;:102,&quot;order_date&quot;:&quot;2013-07-25 00:00:00.0&quot;,&quot;order_customer_id&quot;:8027,&quot;order_status&quot;:&quot;COMPLETE&quot;}\n",
       "{&quot;order_id&quot;:103,&quot;order_date&quot;:&quot;2013-07-25 00:00:00.0&quot;,&quot;order_customer_id&quot;:12256,&quot;order_status&quot;:&quot;PROCESSING&quot;}\n",
       "{&quot;order_id&quot;:104,&quot;order_date&quot;:&quot;2013-07-25 00:00:00.0&quot;,&quot;order_customer_id&quot;:7790,&quot;order_status&quot;:&quot;PENDING_PAYMENT&quot;}\n",
       "{&quot;order_id&quot;:105,&quot;order_date&quot;:&quot;2013-07-26 00:00:00.0&quot;,&quot;order_customer_id&quot;:8220,&quot;order_status&quot;:&quot;COMPLETE&quot;}\n",
       "{&quot;order_id&quot;:106,&quot;order_date&quot;:&quot;2013-07-26 00:00:00.0&quot;,&quot;order_customer_id&quot;:395,&quot;order_status&quot;:&quot;PROCESSING&quot;}\n",
       "{&quot;order_id&quot;:107,&quot;order_date&quot;:&quot;2013-07-26 00:00:00.0&quot;,&quot;order_customer_id&quot;:1845,&quot;order_status&quot;:&quot;COMPLETE&quot;}\n",
       "{&quot;order_id&quot;:108,&quot;order_date&quot;:&quot;2013-07-26 00:00:00.0&quot;,&quot;order_customer_id&quot;:12149,&quot;order_status&quot;:&quot;PROCESSING&quot;}\n",
       "{&quot;order_id&quot;:109,&quot;order_date&quot;:&quot;2013-07-26 00:00:00.0&quot;,&quot;order_customer_id&quot;:9345,&quot;order_status&quot;:&quot;PENDING_PAYMENT&quot;}\n",
       "{&quot;order_id&quot;:110,&quot;order_date&quot;:&quot;2013-07-26 00:00:00.0&quot;,&quot;order_customer_id&quot;:2746,&quot;order_status&quot;:&quot;COMPLETE&quot;}\n",
       "{&quot;order_id&quot;:111,&quot;order_date&quot;:&quot;2013-07-26 00:00:00.0&quot;,&quot;order_customer_id&quot;:4271,&quot;order_status&quot;:&quot;PROCESSING&quot;}\n",
       "{&quot;order_id&quot;:112,&quot;order_date&quot;:&quot;2013-07-26 00:00:00.0&quot;,&quot;order_customer_id&quot;:5375,&quot;order_status&quot;:&quot;CANCELED&quot;}\n",
       "{&quot;order_id&quot;:113,&quot;order_date&quot;:&quot;2013-07-26 00:00:00.0&quot;,&quot;order_customer_id&quot;:10216,&quot;order_status&quot;:&quot;PENDING_PAYMENT&quot;}\n",
       "{&quot;order_id&quot;:114,&quot;order_date&quot;:&quot;2013-07-26 00:00:00.0&quot;,&quot;order_customer_id&quot;:2091,&quot;order_status&quot;:&quot;COMPLETE&quot;}\n",
       "{&quot;order_id&quot;:115,&quot;order_date&quot;:&quot;2013-07-26 00:00:00.0&quot;,&quot;order_customer_id&quot;:104,&quot;order_status&quot;:&quot;PROCESSING&quot;}\n",
       "{&quot;order_id&quot;:116,&quot;order_date&quot;:&quot;2013-07-26 00:00:00.0&quot;,&quot;order_customer_id&quot;:8763,&quot;order_status&quot;:&quot;CLOSED&quot;}\n",
       "{&quot;order_id&quot;:117,&quot;order_date&quot;:&quot;2013-07-26 00:00:00.0&quot;,&quot;order_customer_id&quot;:58,&quot;order_status&quot;:&quot;SUSPECTED_FRAUD&quot;}\n",
       "{&quot;order_id&quot;:118,&quot;order_date&quot;:&quot;2013-07-26 00:00:00.0&quot;,&quot;order_customer_id&quot;:1737,&quot;order_status&quot;:&quot;COMPLETE&quot;}\n",
       "{&quot;order_id&quot;:119,&quot;order_date&quot;:&quot;2013-07-26 00:00:00.0&quot;,&quot;order_customer_id&quot;:8124,&quot;order_status&quot;:&quot;PENDING_PAYMENT&quot;}\n",
       "{&quot;order_id&quot;:120,&quot;order_date&quot;:&quot;2013-07-26 00:00:00.0&quot;,&quot;order_customer_id&quot;:356,&quot;order_status&quot;:&quot;PENDING_PAYMENT&quot;}\n",
       "{&quot;order_id&quot;:121,&quot;order_date&quot;:&quot;2013-07-26 00:00:00.0&quot;,&quot;order_customer_id&quot;:2074,&quot;order_status&quot;:&quot;PENDING&quot;}\n",
       "{&quot;order_id&quot;:122,&quot;order_date&quot;:&quot;2013-07-26 00:00:00.0&quot;,&quot;order_customer_id&quot;:2071,&quot;order_status&quot;:&quot;PROCESSING&quot;}\n",
       "{&quot;order_id&quot;:123,&quot;order_date&quot;:&quot;2013-07-26 00:00:00.0&quot;,&quot;order_customer_id&quot;:3695,&quot;order_status&quot;:&quot;PENDING_PAYMENT&quot;}\n",
       "{&quot;order_id&quot;:124,&quot;order_date&quot;:&quot;2013-07-26 00:00:00.0&quot;,&quot;order_customer_id&quot;:2374,&quot;order_status&quot;:&quot;COMPLETE&quot;}\n",
       "{&quot;order_id&quot;:125,&quot;order_date&quot;:&quot;2013-07-26 00:00:00.0&quot;,&quot;order_customer_id&quot;:4611,&quot;order_status&quot;:&quot;PENDING_PAYMENT&quot;}\n",
       "{&quot;order_id&quot;:126,&quot;order_date&quot;:&quot;2013-07-26 00:00:00.0&quot;,&quot;order_customer_id&quot;:610,&quot;order_status&quot;:&quot;COMPLETE&quot;}\n",
       "{&quot;order_id&quot;:127,&quot;order_date&quot;:&quot;2013-07-26 00:00:00.0&quot;,&quot;order_customer_id&quot;:5261,&quot;order_status&quot;:&quot;PENDING_PAYMENT&quot;}\n",
       "{&quot;order_id&quot;:128,&quot;order_date&quot;:&quot;2013-07-26 00:00:00.0&quot;,&quot;order_customer_id&quot;:2772,&quot;order_status&quot;:&quot;PENDING_PAYMENT&quot;}\n",
       "{&quot;order_id&quot;:129,&quot;order_date&quot;:&quot;2013-07-26 00:00:00.0&quot;,&quot;order_customer_id&quot;:9937,&quot;order_status&quot;:&quot;CLOSED&quot;}\n",
       "{&quot;order_id&quot;:130,&quot;order_date&quot;:&quot;2013-07-26 00:00:00.0&quot;,&quot;order_customer_id&quot;:7509,&quot;order_status&quot;:&quot;PENDING_PAYMENT&quot;}\n",
       "{&quot;order_id&quot;:131,&quot;order_date&quot;:&quot;2013-07-26 00:00:00.0&quot;,&quot;order_customer_id&quot;:10072,&quot;order_status&quot;:&quot;PROCESSING&quot;}\n",
       "{&quot;order_id&quot;:132,&quot;order_date&quot;:&quot;2013-07-26 00:00:00.0&quot;,&quot;order_customer_id&quot;:289,&quot;order_status&quot;:&quot;PENDING&quot;}\n",
       "{&quot;order_id&quot;:133,&quot;order_date&quot;:&quot;2013-07-26 00:00:00.0&quot;,&quot;order_customer_id&quot;:10604,&quot;order_status&quot;:&quot;CLOSED&quot;}\n",
       "{&quot;order_id&quot;:134,&quot;order_date&quot;:&quot;2013-07-26 00:00:00.0&quot;,&quot;order_customer_id&quot;:12081,&quot;order_status&quot;:&quot;PENDING_PAYMENT&quot;}\n",
       "{&quot;order_id&quot;:135,&quot;order_date&quot;:&quot;2013-07-26 00:00:00.0&quot;,&quot;order_customer_id&quot;:7738,&quot;order_status&quot;:&quot;COMPLETE&quot;}\n",
       "{&quot;order_id&quot;:136,&quot;order_date&quot;:&quot;2013-07-26 00:00:00.0&quot;,&quot;order_customer_id&quot;:9126,&quot;order_status&quot;:&quot;PENDING_PAYMENT&quot;}\n",
       "{&quot;order_id&quot;:137,&quot;order_date&quot;:&quot;2013-07-26 00:00:00.0&quot;,&quot;order_customer_id&quot;:4211,&quot;order_status&quot;:&quot;COMPLETE&quot;}\n",
       "{&quot;order_id&quot;:138,&quot;order_date&quot;:&quot;2013-07-26 00:00:00.0&quot;,&quot;order_customer_id&quot;:10904,&quot;order_status&quot;:&quot;PROCESSING&quot;}\n",
       "{&quot;order_id&quot;:139,&quot;order_date&quot;:&quot;2013-07-26 00:00:00.0&quot;,&quot;order_customer_id&quot;:7933,&quot;order_status&quot;:&quot;COMPLETE&quot;}\n",
       "{&quot;order_id&quot;:140,&quot;order_date&quot;:&quot;2013-07-26 00:00:00.0&quot;,&quot;order_customer_id&quot;:4257,&quot;order_status&quot;:&quot;PENDING_PAYMENT&quot;}\n",
       "{&quot;order_id&quot;:141,&quot;order_date&quot;:&quot;2013-07-26 00:00:00.0&quot;,&quot;order_customer_id&quot;:12128,&quot;order_status&quot;:&quot;COMPLETE&quot;}\n",
       "{&quot;order_id&quot;:142,&quot;order_date&quot;:&quot;2013-07-26 00:00:00.0&quot;,&quot;order_customer_id&quot;:5760,&quot;order_status&quot;:&quot;PENDING_PAYMENT&quot;}\n",
       "{&quot;order_id&quot;:143,&quot;order_date&quot;:&quot;2013-07-26 00:00:00.0&quot;,&quot;order_customer_id&quot;:10495,&quot;order_status&quot;:&quot;COMPLETE&quot;}\n",
       "{&quot;order_id&quot;:144,&quot;order_date&quot;:&quot;2013-07-26 00:00:00.0&quot;,&quot;order_customer_id&quot;:2158,&quot;order_status&quot;:&quot;PROCESSING&quot;}\n",
       "{&quot;order_id&quot;:145,&quot;order_date&quot;:&quot;2013-07-26 00:00:00.0&quot;,&quot;order_customer_id&quot;:494,&quot;order_status&quot;:&quot;ON_HOLD&quot;}\n",
       "{&quot;order_id&quot;:146,&quot;order_date&quot;:&quot;2013-07-26 00:00:00.0&quot;,&quot;order_customer_id&quot;:8177,&quot;order_status&quot;:&quot;COMPLETE&quot;}\n",
       "{&quot;order_id&quot;:147,&quot;order_date&quot;:&quot;2013-07-26 00:00:00.0&quot;,&quot;order_customer_id&quot;:275,&quot;order_status&quot;:&quot;PENDING_PAYMENT&quot;}\n",
       "{&quot;order_id&quot;:148,&quot;order_date&quot;:&quot;2013-07-26 00:00:00.0&quot;,&quot;order_customer_id&quot;:5383,&quot;order_status&quot;:&quot;PROCESSING&quot;}\n",
       "{&quot;order_id&quot;:149,&quot;order_date&quot;:&quot;2013-07-26 00:00:00.0&quot;,&quot;order_customer_id&quot;:11431,&quot;order_status&quot;:&quot;COMPLETE&quot;}\n",
       "{&quot;order_id&quot;:150,&quot;order_date&quot;:&quot;2013-07-26 00:00:00.0&quot;,&quot;order_customer_id&quot;:236,&quot;order_status&quot;:&quot;PROCESSING&quot;}\n",
       "{&quot;order_id&quot;:151,&quot;order_date&quot;:&quot;2013-07-26 00:00:00.0&quot;,&quot;order_customer_id&quot;:2493,&quot;order_status&quot;:&quot;ON_HOLD&quot;}\n",
       "{&quot;order_id&quot;:152,&quot;order_date&quot;:&quot;2013-07-26 00:00:00.0&quot;,&quot;order_customer_id&quot;:3611,&quot;order_status&quot;:&quot;COMPLETE&quot;}\n",
       "{&quot;order_id&quot;:153,&quot;order_date&quot;:&quot;2013-07-26 00:00:00.0&quot;,&quot;order_customer_id&quot;:8876,&quot;order_status&quot;:&quot;COMPLETE&quot;}\n",
       "{&quot;order_id&quot;:154,&quot;order_date&quot;:&quot;2013-07-26 00:00:00.0&quot;,&quot;order_customer_id&quot;:9993,&quot;order_status&quot;:&quot;ON_HOLD&quot;}\n",
       "{&quot;order_id&quot;:155,&quot;order_date&quot;:&quot;2013-07-26 00:00:00.0&quot;,&quot;order_customer_id&quot;:9044,&quot;order_status&quot;:&quot;PENDING_PAYMENT&quot;}\n",
       "{&quot;order_id&quot;:156,&quot;order_date&quot;:&quot;2013-07-26 00:00:00.0&quot;,&quot;order_customer_id&quot;:5200,&quot;order_status&quot;:&quot;ON_HOLD&quot;}\n",
       "{&quot;order_id&quot;:157,&quot;order_date&quot;:&quot;2013-07-26 00:00:00.0&quot;,&quot;order_customer_id&quot;:8986,&quot;order_status&quot;:&quot;ON_HOLD&quot;}\n",
       "{&quot;order_id&quot;:158,&quot;order_date&quot;:&quot;2013-07-26 00:00:00.0&quot;,&quot;order_customer_id&quot;:12345,&quot;order_status&quot;:&quot;PENDING&quot;}\n",
       "{&quot;order_id&quot;:159,&quot;order_date&quot;:&quot;2013-07-26 00:00:00.0&quot;,&quot;order_customer_id&quot;:10974,&quot;order_status&quot;:&quot;PENDING_PAYMENT&quot;}\n",
       "{&quot;order_id&quot;:160,&quot;order_date&quot;:&quot;2013-07-26 00:00:00.0&quot;,&quot;order_customer_id&quot;:6762,&quot;order_status&quot;:&quot;COMPLETE&quot;}\n",
       "{&quot;order_id&quot;:161,&quot;order_date&quot;:&quot;2013-07-26 00:00:00.0&quot;,&quot;order_customer_id&quot;:4513,&quot;order_status&quot;:&quot;PENDING_PAYMENT&quot;}\n",
       "{&quot;order_id&quot;:162,&quot;order_date&quot;:&quot;2013-07-26 00:00:00.0&quot;,&quot;order_customer_id&quot;:3304,&quot;order_status&quot;:&quot;PENDING_PAYMENT&quot;}\n",
       "{&quot;order_id&quot;:163,&quot;order_date&quot;:&quot;2013-07-26 00:00:00.0&quot;,&quot;order_customer_id&quot;:3348,&quot;order_status&quot;:&quot;COMPLETE&quot;}\n",
       "{&quot;order_id&quot;:164,&quot;order_date&quot;:&quot;2013-07-26 00:00:00.0&quot;,&quot;order_customer_id&quot;:2962,&quot;order_status&quot;:&quot;PROCESSING&quot;}\n",
       "{&quot;order_id&quot;:165,&quot;order_date&quot;:&quot;2013-07-26 00:00:00.0&quot;,&quot;order_customer_id&quot;:1222,&quot;order_status&quot;:&quot;PENDING_PAYMENT&quot;}\n",
       "{&quot;order_id&quot;:166,&quot;order_date&quot;:&quot;2013-07-26 00:00:00.0&quot;,&quot;order_customer_id&quot;:7834,&quot;order_status&quot;:&quot;PROCESSING&quot;}\n",
       "{&quot;order_id&quot;:167,&quot;order_date&quot;:&quot;2013-07-26 00:00:00.0&quot;,&quot;order_customer_id&quot;:1347,&quot;order_status&quot;:&quot;PENDING&quot;}\n",
       "{&quot;order_id&quot;:168,&quot;order_date&quot;:&quot;2013-07-26 00:00:00.0&quot;,&quot;order_customer_id&quot;:11794,&quot;order_status&quot;:&quot;PENDING_PAYMENT&quot;}\n",
       "{&quot;order_id&quot;:169,&quot;order_date&quot;:&quot;2013-07-26 00:00:00.0&quot;,&quot;order_customer_id&quot;:2611,&quot;order_status&quot;:&quot;ON_HOLD&quot;}\n",
       "{&quot;order_id&quot;:170,&quot;order_date&quot;:&quot;2013-07-26 00:00:00.0&quot;,&quot;order_customer_id&quot;:6295,&quot;order_status&quot;:&quot;PAYMENT_REVIEW&quot;}\n",
       "{&quot;order_id&quot;:171,&quot;order_date&quot;:&quot;2013-07-26 00:00:00.0&quot;,&quot;order_customer_id&quot;:1980,&quot;order_status&quot;:&quot;COMPLETE&quot;}\n",
       "{&quot;order_id&quot;:172,&quot;order_date&quot;:&quot;2013-07-26 00:00:00.0&quot;,&quot;order_customer_id&quot;:11382,&quot;order_status&quot;:&quot;COMPLETE&quot;}\n",
       "{&quot;order_id&quot;:173,&quot;order_date&quot;:&quot;2013-07-26 00:00:00.0&quot;,&quot;order_customer_id&quot;:9027,&quot;order_status&quot;:&quot;ON_HOLD&quot;}\n",
       "{&quot;order_id&quot;:174,&quot;order_date&quot;:&quot;2013-07-26 00:00:00.0&quot;,&quot;order_customer_id&quot;:3358,&quot;order_status&quot;:&quot;COMPLETE&quot;}\n",
       "{&quot;order_id&quot;:175,&quot;order_date&quot;:&quot;2013-07-26 00:00:00.0&quot;,&quot;order_customer_id&quot;:384,&quot;order_status&quot;:&quot;COMPLETE&quot;}\n",
       "{&quot;order_id&quot;:176,&quot;order_date&quot;:&quot;2013-07-26 00:00:00.0&quot;,&quot;order_customer_id&quot;:2897,&quot;order_status&quot;:&quot;PENDING_PAYMENT&quot;}\n",
       "{&quot;order_id&quot;:177,&quot;order_date&quot;:&quot;2013-07-26 00:00:00.0&quot;,&quot;order_customer_id&quot;:9151,&quot;order_status&quot;:&quot;PENDING_PAYMENT&quot;}\n",
       "{&quot;order_id&quot;:178,&quot;order_date&quot;:&quot;2013-07-26 00:00:00.0&quot;,&quot;order_customer_id&quot;:8503,&quot;order_status&quot;:&quot;COMPLETE&quot;}\n",
       "{&quot;order_id&quot;:179,&quot;order_date&quot;:&quot;2013-07-26 00:00:00.0&quot;,&quot;order_customer_id&quot;:6506,&quot;order_status&quot;:&quot;COMPLETE&quot;}\n",
       "{&quot;order_id&quot;:180,&quot;order_date&quot;:&quot;2013-07-26 00:00:00.0&quot;,&quot;order_customer_id&quot;:10215,&quot;order_status&quot;:&quot;ON_HOLD&quot;}\n",
       "{&quot;order_id&quot;:181,&quot;order_date&quot;:&quot;2013-07-26 00:00:00.0&quot;,&quot;order_customer_id&quot;:7473,&quot;order_status&quot;:&quot;PENDING&quot;}\n",
       "{&quot;order_id&quot;:182,&quot;order_date&quot;:&quot;2013-07-26 00:00:00.0&quot;,&quot;order_customer_id&quot;:10984,&quot;order_status&quot;:&quot;COMPLETE&quot;}\n",
       "{&quot;order_id&quot;:183,&quot;order_date&quot;:&quot;2013-07-26 00:00:00.0&quot;,&quot;order_customer_id&quot;:12105,&quot;order_status&quot;:&quot;COMPLETE&quot;}\n",
       "{&quot;order_id&quot;:184,&quot;order_date&quot;:&quot;2013-07-26 00:00:00.0&quot;,&quot;order_customer_id&quot;:210,&quot;order_status&quot;:&quot;COMPLETE&quot;}\n",
       "{&quot;order_id&quot;:185,&quot;order_date&quot;:&quot;2013-07-26 00:00:00.0&quot;,&quot;order_customer_id&quot;:10966,&quot;order_status&quot;:&quot;PENDING_PAYMENT&quot;}\n",
       "{&quot;order_id&quot;:186,&quot;order_date&quot;:&quot;2013-07-26 00:00:00.0&quot;,&quot;order_customer_id&quot;:1104,&quot;order_status&quot;:&quot;COMPLETE&quot;}\n",
       "{&quot;order_id&quot;:187,&quot;order_date&quot;:&quot;2013-07-26 00:00:00.0&quot;,&quot;order_customer_id&quot;:1378,&quot;order_status&quot;:&quot;PAYMENT_REVIEW&quot;}\n",
       "{&quot;order_id&quot;:188,&quot;order_date&quot;:&quot;2013-07-26 00:00:00.0&quot;,&quot;order_customer_id&quot;:2889,&quot;order_status&quot;:&quot;PENDING&quot;}\n",
       "{&quot;order_id&quot;:189,&quot;order_date&quot;:&quot;2013-07-26 00:00:00.0&quot;,&quot;order_customer_id&quot;:10177,&quot;order_status&quot;:&quot;PENDING&quot;}\n",
       "{&quot;order_id&quot;:190,&quot;order_date&quot;:&quot;2013-07-26 00:00:00.0&quot;,&quot;order_customer_id&quot;:11115,&quot;order_status&quot;:&quot;PENDING&quot;}\n",
       "{&quot;order_id&quot;:191,&quot;order_date&quot;:&quot;2013-07-26 00:00:00.0&quot;,&quot;order_customer_id&quot;:16,&quot;order_status&quot;:&quot;CLOSED&quot;}\n",
       "{&quot;order_id&quot;:192,&quot;order_date&quot;:&quot;2013-07-26 00:00:00.0&quot;,&quot;order_customer_id&quot;:5293,&quot;order_status&quot;:&quot;PROCESSING&quot;}\n",
       "{&quot;order_id&quot;:193,&quot;order_date&quot;:&quot;2013-07-26 00:00:00.0&quot;,&quot;order_customer_id&quot;:6174,&quot;order_status&quot;:&quot;PROCESSING&quot;}\n",
       "{&quot;order_id&quot;:194,&quot;order_date&quot;:&quot;2013-07-26 00:00:00.0&quot;,&quot;order_customer_id&quot;:2550,&quot;order_status&quot;:&quot;PENDING_PAYMENT&quot;}\n",
       "{&quot;order_id&quot;:195,&quot;order_date&quot;:&quot;2013-07-26 00:00:00.0&quot;,&quot;order_customer_id&quot;:12096,&quot;order_status&quot;:&quot;PROCESSING&quot;}\n",
       "{&quot;order_id&quot;:196,&quot;order_date&quot;:&quot;2013-07-26 00:00:00.0&quot;,&quot;order_customer_id&quot;:2765,&quot;order_status&quot;:&quot;PROCESSING&quot;}\n",
       "{&quot;order_id&quot;:197,&quot;order_date&quot;:&quot;2013-07-26 00:00:00.0&quot;,&quot;order_customer_id&quot;:6370,&quot;order_status&quot;:&quot;PROCESSING&quot;}\n",
       "{&quot;order_id&quot;:198,&quot;order_date&quot;:&quot;2013-07-26 00:00:00.0&quot;,&quot;order_customer_id&quot;:7436,&quot;order_status&quot;:&quot;PENDING_PAYMENT&quot;}\n",
       "{&quot;order_id&quot;:199,&quot;order_date&quot;:&quot;2013-07-26 00:00:00.0&quot;,&quot;order_customer_id&quot;:4608,&quot;order_status&quot;:&quot;ON_HOLD&quot;}\n",
       "{&quot;order_id&quot;:200,&quot;order_date&quot;:&quot;2013-07-26 00:00:00.0&quot;,&quot;order_customer_id&quot;:11116,&quot;order_status&quot;:&quot;PAYMENT_REVIEW&quot;}\n",
       "{&quot;order_id&quot;:201,&quot;order_date&quot;:&quot;2013-07-26 00:00:00.0&quot;,&quot;order_customer_id&quot;:9055,&quot;order_status&quot;:&quot;CLOSED&quot;}\n",
       "{&quot;order_id&quot;:202,&quot;order_date&quot;:&quot;2013-07-26 00:00:00.0&quot;,&quot;order_customer_id&quot;:8524,&quot;order_status&quot;:&quot;PENDING_PAYMENT&quot;}\n",
       "{&quot;order_id&quot;:203,&quot;order_date&quot;:&quot;2013-07-26 00:00:00.0&quot;,&quot;order_customer_id&quot;:11791,&quot;order_status&quot;:&quot;PENDING_PAYMENT&quot;}\n",
       "{&quot;order_id&quot;:204,&quot;order_date&quot;:&quot;2013-07-26 00:00:00.0&quot;,&quot;order_customer_id&quot;:7604,&quot;order_status&quot;:&quot;PENDING_PAYMENT&quot;}\n",
       "{&quot;order_id&quot;:205,&quot;order_date&quot;:&quot;2013-07-26 00:00:00.0&quot;,&quot;order_customer_id&quot;:3109,&quot;order_status&quot;:&quot;PROCESSING&quot;}\n",
       "{&quot;order_id&quot;:206,&quot;order_date&quot;:&quot;2013-07-26 00:00:00.0&quot;,&quot;order_customer_id&quot;:8994,&quot;order_status&quot;:&quot;PENDING&quot;}\n",
       "{&quot;order_id&quot;:207,&quot;order_date&quot;:&quot;2013-07-26 00:00:00.0&quot;,&quot;order_customer_id&quot;:11643,&quot;order_status&quot;:&quot;COMPLETE&quot;}\n",
       "{&quot;order_id&quot;:208,&quot;order_date&quot;:&quot;2013-07-26 00:00:00.0&quot;,&quot;order_customer_id&quot;:7923,&quot;order_status&quot;:&quot;PROCESSING&quot;}\n",
       "{&quot;order_id&quot;:209,&quot;order_date&quot;:&quot;2013-07-26 00:00:00.0&quot;,&quot;order_customer_id&quot;:3627,&quot;order_status&quot;:&quot;PENDING&quot;}\n",
       "{&quot;order_id&quot;:210,&quot;order_date&quot;:&quot;2013-07-26 00:00:00.0&quot;,&quot;order_customer_id&quot;:10102,&quot;order_status&quot;:&quot;COMPLETE&quot;}\n",
       "{&quot;order_id&quot;:211,&quot;order_date&quot;:&quot;2013-07-26 00:00:00.0&quot;,&quot;order_customer_id&quot;:10372,&quot;order_status&quot;:&quot;CLOSED&quot;}\n",
       "{&quot;order_id&quot;:212,&quot;order_date&quot;:&quot;2013-07-26 00:00:00.0&quot;,&quot;order_customer_id&quot;:3190,&quot;order_status&quot;:&quot;PENDING&quot;}\n",
       "{&quot;order_id&quot;:213,&quot;order_date&quot;:&quot;2013-07-26 00:00:00.0&quot;,&quot;order_customer_id&quot;:11715,&quot;order_status&quot;:&quot;CLOSED&quot;}\n",
       "{&quot;order_id&quot;:214,&quot;order_date&quot;:&quot;2013-07-26 00:00:00.0&quot;,&quot;order_customer_id&quot;:3925,&quot;order_status&quot;:&quot;COMPLETE&quot;}\n",
       "{&quot;order_id&quot;:215,&quot;order_date&quot;:&quot;2013-07-26 00:00:00.0&quot;,&quot;order_customer_id&quot;:5925,&quot;order_status&quot;:&quot;CLOSED&quot;}\n",
       "{&quot;order_id&quot;:216,&quot;order_date&quot;:&quot;2013-07-26 00:00:00.0&quot;,&quot;order_customer_id&quot;:7282,&quot;order_status&quot;:&quot;PENDING&quot;}\n",
       "{&quot;order_id&quot;:217,&quot;order_date&quot;:&quot;2013-07-26 00:00:00.0&quot;,&quot;order_customer_id&quot;:5420,&quot;order_status&quot;:&quot;PROCESSING&quot;}\n",
       "{&quot;order_id&quot;:218,&quot;order_date&quot;:&quot;2013-07-26 00:00:00.0&quot;,&quot;order_customer_id&quot;:3935,&quot;order_status&quot;:&quot;COMPLETE&quot;}\n",
       "{&quot;order_id&quot;:219,&quot;order_date&quot;:&quot;2013-07-26 00:00:00.0&quot;,&quot;order_customer_id&quot;:10655,&quot;order_status&quot;:&quot;PROCESSING&quot;}\n",
       "{&quot;order_id&quot;:220,&quot;order_date&quot;:&quot;2013-07-26 00:00:00.0&quot;,&quot;order_customer_id&quot;:1383,&quot;order_status&quot;:&quot;COMPLETE&quot;}\n",
       "{&quot;order_id&quot;:221,&quot;order_date&quot;:&quot;2013-07-26 00:00:00.0&quot;,&quot;order_customer_id&quot;:11871,&quot;order_status&quot;:&quot;CLOSED&quot;}\n",
       "{&quot;order_id&quot;:222,&quot;order_date&quot;:&quot;2013-07-26 00:00:00.0&quot;,&quot;order_customer_id&quot;:8309,&quot;order_status&quot;:&quot;CLOSED&quot;}\n",
       "{&quot;order_id&quot;:223,&quot;order_date&quot;:&quot;2013-07-26 00:00:00.0&quot;,&quot;order_customer_id&quot;:9068,&quot;order_status&quot;:&quot;PENDING&quot;}\n",
       "{&quot;order_id&quot;:224,&quot;order_date&quot;:&quot;2013-07-26 00:00:00.0&quot;,&quot;order_customer_id&quot;:11938,&quot;order_status&quot;:&quot;CLOSED&quot;}\n",
       "{&quot;order_id&quot;:225,&quot;order_date&quot;:&quot;2013-07-26 00:00:00.0&quot;,&quot;order_customer_id&quot;:11275,&quot;order_status&quot;:&quot;COMPLETE&quot;}\n",
       "{&quot;order_id&quot;:226,&quot;order_date&quot;:&quot;2013-07-26 00:00:00.0&quot;,&quot;order_customer_id&quot;:9356,&quot;order_status&quot;:&quot;PENDING_PAYMENT&quot;}\n",
       "{&quot;order_id&quot;:227,&quot;order_date&quot;:&quot;2013-07-26 00:00:00.0&quot;,&quot;order_customer_id&quot;:7410,&quot;order_status&quot;:&quot;CLOSED&quot;}\n",
       "{&quot;order_id&quot;:228,&quot;order_date&quot;:&quot;2013-07-26 00:00:00.0&quot;,&quot;order_customer_id&quot;:6070,&quot;order_status&quot;:&quot;ON_HOLD&quot;}\n",
       "{&quot;order_id&quot;:229,&quot;order_date&quot;:&quot;2013-07-26 00:00:00.0&quot;,&quot;order_customer_id&quot;:618,&quot;order_status&quot;:&quot;PENDING&quot;}\n",
       "{&quot;order_id&quot;:230,&quot;order_date&quot;:&quot;2013-07-26 00:00:00.0&quot;,&quot;order_customer_id&quot;:4921,&quot;order_status&quot;:&quot;PENDING_PAYMENT&quot;}\n",
       "{&quot;order_id&quot;:231,&quot;order_date&quot;:&quot;2013-07-26 00:00:00.0&quot;,&quot;order_customer_id&quot;:3960,&quot;order_status&quot;:&quot;COMPLETE&quot;}\n",
       "{&quot;order_id&quot;:232,&quot;order_date&quot;:&quot;2013-07-26 00:00:00.0&quot;,&quot;order_customer_id&quot;:1780,&quot;order_status&quot;:&quot;PENDING_PAYMENT&quot;}\n",
       "{&quot;order_id&quot;:233,&quot;order_date&quot;:&quot;2013-07-26 00:00:00.0&quot;,&quot;order_customer_id&quot;:12316,&quot;order_status&quot;:&quot;COMPLETE&quot;}\n",
       "{&quot;order_id&quot;:234,&quot;order_date&quot;:&quot;2013-07-26 00:00:00.0&quot;,&quot;order_customer_id&quot;:1010,&quot;order_status&quot;:&quot;ON_HOLD&quot;}\n",
       "\n",
       "*** WARNING: skipped 15687 bytes of output ***\n",
       "\n",
       "{&quot;order_id&quot;:382,&quot;order_date&quot;:&quot;2013-07-27 00:00:00.0&quot;,&quot;order_customer_id&quot;:8143,&quot;order_status&quot;:&quot;PROCESSING&quot;}\n",
       "{&quot;order_id&quot;:383,&quot;order_date&quot;:&quot;2013-07-27 00:00:00.0&quot;,&quot;order_customer_id&quot;:10509,&quot;order_status&quot;:&quot;PENDING_PAYMENT&quot;}\n",
       "{&quot;order_id&quot;:384,&quot;order_date&quot;:&quot;2013-07-27 00:00:00.0&quot;,&quot;order_customer_id&quot;:2610,&quot;order_status&quot;:&quot;CLOSED&quot;}\n",
       "{&quot;order_id&quot;:385,&quot;order_date&quot;:&quot;2013-07-27 00:00:00.0&quot;,&quot;order_customer_id&quot;:10667,&quot;order_status&quot;:&quot;COMPLETE&quot;}\n",
       "{&quot;order_id&quot;:386,&quot;order_date&quot;:&quot;2013-07-27 00:00:00.0&quot;,&quot;order_customer_id&quot;:3568,&quot;order_status&quot;:&quot;PENDING&quot;}\n",
       "{&quot;order_id&quot;:387,&quot;order_date&quot;:&quot;2013-07-27 00:00:00.0&quot;,&quot;order_customer_id&quot;:7193,&quot;order_status&quot;:&quot;CLOSED&quot;}\n",
       "{&quot;order_id&quot;:388,&quot;order_date&quot;:&quot;2013-07-27 00:00:00.0&quot;,&quot;order_customer_id&quot;:2790,&quot;order_status&quot;:&quot;COMPLETE&quot;}\n",
       "{&quot;order_id&quot;:389,&quot;order_date&quot;:&quot;2013-07-27 00:00:00.0&quot;,&quot;order_customer_id&quot;:4435,&quot;order_status&quot;:&quot;COMPLETE&quot;}\n",
       "{&quot;order_id&quot;:390,&quot;order_date&quot;:&quot;2013-07-27 00:00:00.0&quot;,&quot;order_customer_id&quot;:5590,&quot;order_status&quot;:&quot;PENDING&quot;}\n",
       "{&quot;order_id&quot;:391,&quot;order_date&quot;:&quot;2013-07-27 00:00:00.0&quot;,&quot;order_customer_id&quot;:5816,&quot;order_status&quot;:&quot;PENDING_PAYMENT&quot;}\n",
       "{&quot;order_id&quot;:392,&quot;order_date&quot;:&quot;2013-07-27 00:00:00.0&quot;,&quot;order_customer_id&quot;:3238,&quot;order_status&quot;:&quot;PENDING&quot;}\n",
       "{&quot;order_id&quot;:393,&quot;order_date&quot;:&quot;2013-07-27 00:00:00.0&quot;,&quot;order_customer_id&quot;:1047,&quot;order_status&quot;:&quot;CLOSED&quot;}\n",
       "{&quot;order_id&quot;:394,&quot;order_date&quot;:&quot;2013-07-27 00:00:00.0&quot;,&quot;order_customer_id&quot;:76,&quot;order_status&quot;:&quot;PENDING_PAYMENT&quot;}\n",
       "{&quot;order_id&quot;:395,&quot;order_date&quot;:&quot;2013-07-27 00:00:00.0&quot;,&quot;order_customer_id&quot;:3934,&quot;order_status&quot;:&quot;COMPLETE&quot;}\n",
       "{&quot;order_id&quot;:396,&quot;order_date&quot;:&quot;2013-07-27 00:00:00.0&quot;,&quot;order_customer_id&quot;:9078,&quot;order_status&quot;:&quot;PAYMENT_REVIEW&quot;}\n",
       "{&quot;order_id&quot;:397,&quot;order_date&quot;:&quot;2013-07-27 00:00:00.0&quot;,&quot;order_customer_id&quot;:4476,&quot;order_status&quot;:&quot;CLOSED&quot;}\n",
       "{&quot;order_id&quot;:398,&quot;order_date&quot;:&quot;2013-07-27 00:00:00.0&quot;,&quot;order_customer_id&quot;:1365,&quot;order_status&quot;:&quot;ON_HOLD&quot;}\n",
       "{&quot;order_id&quot;:399,&quot;order_date&quot;:&quot;2013-07-27 00:00:00.0&quot;,&quot;order_customer_id&quot;:1473,&quot;order_status&quot;:&quot;PROCESSING&quot;}\n",
       "{&quot;order_id&quot;:400,&quot;order_date&quot;:&quot;2013-07-27 00:00:00.0&quot;,&quot;order_customer_id&quot;:5626,&quot;order_status&quot;:&quot;PENDING&quot;}\n",
       "{&quot;order_id&quot;:401,&quot;order_date&quot;:&quot;2013-07-27 00:00:00.0&quot;,&quot;order_customer_id&quot;:9692,&quot;order_status&quot;:&quot;PROCESSING&quot;}\n",
       "{&quot;order_id&quot;:402,&quot;order_date&quot;:&quot;2013-07-27 00:00:00.0&quot;,&quot;order_customer_id&quot;:9547,&quot;order_status&quot;:&quot;PENDING_PAYMENT&quot;}\n",
       "{&quot;order_id&quot;:403,&quot;order_date&quot;:&quot;2013-07-27 00:00:00.0&quot;,&quot;order_customer_id&quot;:4178,&quot;order_status&quot;:&quot;COMPLETE&quot;}\n",
       "{&quot;order_id&quot;:404,&quot;order_date&quot;:&quot;2013-07-27 00:00:00.0&quot;,&quot;order_customer_id&quot;:1478,&quot;order_status&quot;:&quot;CLOSED&quot;}\n",
       "{&quot;order_id&quot;:405,&quot;order_date&quot;:&quot;2013-07-27 00:00:00.0&quot;,&quot;order_customer_id&quot;:9498,&quot;order_status&quot;:&quot;COMPLETE&quot;}\n",
       "{&quot;order_id&quot;:406,&quot;order_date&quot;:&quot;2013-07-27 00:00:00.0&quot;,&quot;order_customer_id&quot;:9023,&quot;order_status&quot;:&quot;COMPLETE&quot;}\n",
       "{&quot;order_id&quot;:407,&quot;order_date&quot;:&quot;2013-07-27 00:00:00.0&quot;,&quot;order_customer_id&quot;:3333,&quot;order_status&quot;:&quot;PROCESSING&quot;}\n",
       "{&quot;order_id&quot;:408,&quot;order_date&quot;:&quot;2013-07-27 00:00:00.0&quot;,&quot;order_customer_id&quot;:2252,&quot;order_status&quot;:&quot;PAYMENT_REVIEW&quot;}\n",
       "{&quot;order_id&quot;:409,&quot;order_date&quot;:&quot;2013-07-27 00:00:00.0&quot;,&quot;order_customer_id&quot;:11102,&quot;order_status&quot;:&quot;PROCESSING&quot;}\n",
       "{&quot;order_id&quot;:410,&quot;order_date&quot;:&quot;2013-07-27 00:00:00.0&quot;,&quot;order_customer_id&quot;:1288,&quot;order_status&quot;:&quot;PENDING&quot;}\n",
       "{&quot;order_id&quot;:411,&quot;order_date&quot;:&quot;2013-07-27 00:00:00.0&quot;,&quot;order_customer_id&quot;:11164,&quot;order_status&quot;:&quot;SUSPECTED_FRAUD&quot;}\n",
       "{&quot;order_id&quot;:412,&quot;order_date&quot;:&quot;2013-07-27 00:00:00.0&quot;,&quot;order_customer_id&quot;:9397,&quot;order_status&quot;:&quot;COMPLETE&quot;}\n",
       "{&quot;order_id&quot;:413,&quot;order_date&quot;:&quot;2013-07-27 00:00:00.0&quot;,&quot;order_customer_id&quot;:7278,&quot;order_status&quot;:&quot;CLOSED&quot;}\n",
       "{&quot;order_id&quot;:414,&quot;order_date&quot;:&quot;2013-07-27 00:00:00.0&quot;,&quot;order_customer_id&quot;:11776,&quot;order_status&quot;:&quot;PENDING&quot;}\n",
       "{&quot;order_id&quot;:415,&quot;order_date&quot;:&quot;2013-07-27 00:00:00.0&quot;,&quot;order_customer_id&quot;:6110,&quot;order_status&quot;:&quot;CLOSED&quot;}\n",
       "{&quot;order_id&quot;:416,&quot;order_date&quot;:&quot;2013-07-27 00:00:00.0&quot;,&quot;order_customer_id&quot;:1561,&quot;order_status&quot;:&quot;COMPLETE&quot;}\n",
       "{&quot;order_id&quot;:417,&quot;order_date&quot;:&quot;2013-07-27 00:00:00.0&quot;,&quot;order_customer_id&quot;:11491,&quot;order_status&quot;:&quot;PENDING_PAYMENT&quot;}\n",
       "{&quot;order_id&quot;:418,&quot;order_date&quot;:&quot;2013-07-27 00:00:00.0&quot;,&quot;order_customer_id&quot;:4269,&quot;order_status&quot;:&quot;COMPLETE&quot;}\n",
       "{&quot;order_id&quot;:419,&quot;order_date&quot;:&quot;2013-07-27 00:00:00.0&quot;,&quot;order_customer_id&quot;:8987,&quot;order_status&quot;:&quot;PENDING_PAYMENT&quot;}\n",
       "{&quot;order_id&quot;:420,&quot;order_date&quot;:&quot;2013-07-27 00:00:00.0&quot;,&quot;order_customer_id&quot;:4632,&quot;order_status&quot;:&quot;COMPLETE&quot;}\n",
       "{&quot;order_id&quot;:421,&quot;order_date&quot;:&quot;2013-07-27 00:00:00.0&quot;,&quot;order_customer_id&quot;:7839,&quot;order_status&quot;:&quot;PENDING&quot;}\n",
       "{&quot;order_id&quot;:422,&quot;order_date&quot;:&quot;2013-07-27 00:00:00.0&quot;,&quot;order_customer_id&quot;:9664,&quot;order_status&quot;:&quot;COMPLETE&quot;}\n",
       "{&quot;order_id&quot;:423,&quot;order_date&quot;:&quot;2013-07-27 00:00:00.0&quot;,&quot;order_customer_id&quot;:9632,&quot;order_status&quot;:&quot;SUSPECTED_FRAUD&quot;}\n",
       "{&quot;order_id&quot;:424,&quot;order_date&quot;:&quot;2013-07-27 00:00:00.0&quot;,&quot;order_customer_id&quot;:2457,&quot;order_status&quot;:&quot;PROCESSING&quot;}\n",
       "{&quot;order_id&quot;:425,&quot;order_date&quot;:&quot;2013-07-27 00:00:00.0&quot;,&quot;order_customer_id&quot;:10481,&quot;order_status&quot;:&quot;PENDING_PAYMENT&quot;}\n",
       "{&quot;order_id&quot;:426,&quot;order_date&quot;:&quot;2013-07-27 00:00:00.0&quot;,&quot;order_customer_id&quot;:10419,&quot;order_status&quot;:&quot;COMPLETE&quot;}\n",
       "{&quot;order_id&quot;:427,&quot;order_date&quot;:&quot;2013-07-27 00:00:00.0&quot;,&quot;order_customer_id&quot;:6681,&quot;order_status&quot;:&quot;COMPLETE&quot;}\n",
       "{&quot;order_id&quot;:428,&quot;order_date&quot;:&quot;2013-07-27 00:00:00.0&quot;,&quot;order_customer_id&quot;:3487,&quot;order_status&quot;:&quot;COMPLETE&quot;}\n",
       "{&quot;order_id&quot;:429,&quot;order_date&quot;:&quot;2013-07-27 00:00:00.0&quot;,&quot;order_customer_id&quot;:8466,&quot;order_status&quot;:&quot;CLOSED&quot;}\n",
       "{&quot;order_id&quot;:430,&quot;order_date&quot;:&quot;2013-07-27 00:00:00.0&quot;,&quot;order_customer_id&quot;:10779,&quot;order_status&quot;:&quot;PENDING_PAYMENT&quot;}\n",
       "{&quot;order_id&quot;:431,&quot;order_date&quot;:&quot;2013-07-27 00:00:00.0&quot;,&quot;order_customer_id&quot;:4676,&quot;order_status&quot;:&quot;CLOSED&quot;}\n",
       "{&quot;order_id&quot;:432,&quot;order_date&quot;:&quot;2013-07-27 00:00:00.0&quot;,&quot;order_customer_id&quot;:1197,&quot;order_status&quot;:&quot;COMPLETE&quot;}\n",
       "{&quot;order_id&quot;:433,&quot;order_date&quot;:&quot;2013-07-27 00:00:00.0&quot;,&quot;order_customer_id&quot;:792,&quot;order_status&quot;:&quot;PROCESSING&quot;}\n",
       "{&quot;order_id&quot;:434,&quot;order_date&quot;:&quot;2013-07-27 00:00:00.0&quot;,&quot;order_customer_id&quot;:11390,&quot;order_status&quot;:&quot;PENDING_PAYMENT&quot;}\n",
       "{&quot;order_id&quot;:435,&quot;order_date&quot;:&quot;2013-07-27 00:00:00.0&quot;,&quot;order_customer_id&quot;:5719,&quot;order_status&quot;:&quot;CLOSED&quot;}\n",
       "{&quot;order_id&quot;:436,&quot;order_date&quot;:&quot;2013-07-27 00:00:00.0&quot;,&quot;order_customer_id&quot;:7610,&quot;order_status&quot;:&quot;PROCESSING&quot;}\n",
       "{&quot;order_id&quot;:437,&quot;order_date&quot;:&quot;2013-07-27 00:00:00.0&quot;,&quot;order_customer_id&quot;:5351,&quot;order_status&quot;:&quot;COMPLETE&quot;}\n",
       "{&quot;order_id&quot;:438,&quot;order_date&quot;:&quot;2013-07-27 00:00:00.0&quot;,&quot;order_customer_id&quot;:8256,&quot;order_status&quot;:&quot;COMPLETE&quot;}\n",
       "{&quot;order_id&quot;:439,&quot;order_date&quot;:&quot;2013-07-27 00:00:00.0&quot;,&quot;order_customer_id&quot;:9353,&quot;order_status&quot;:&quot;COMPLETE&quot;}\n",
       "{&quot;order_id&quot;:440,&quot;order_date&quot;:&quot;2013-07-27 00:00:00.0&quot;,&quot;order_customer_id&quot;:7290,&quot;order_status&quot;:&quot;COMPLETE&quot;}\n",
       "{&quot;order_id&quot;:441,&quot;order_date&quot;:&quot;2013-07-27 00:00:00.0&quot;,&quot;order_customer_id&quot;:5239,&quot;order_status&quot;:&quot;PENDING_PAYMENT&quot;}\n",
       "{&quot;order_id&quot;:442,&quot;order_date&quot;:&quot;2013-07-27 00:00:00.0&quot;,&quot;order_customer_id&quot;:8098,&quot;order_status&quot;:&quot;COMPLETE&quot;}\n",
       "{&quot;order_id&quot;:443,&quot;order_date&quot;:&quot;2013-07-27 00:00:00.0&quot;,&quot;order_customer_id&quot;:8499,&quot;order_status&quot;:&quot;CLOSED&quot;}\n",
       "{&quot;order_id&quot;:444,&quot;order_date&quot;:&quot;2013-07-27 00:00:00.0&quot;,&quot;order_customer_id&quot;:10004,&quot;order_status&quot;:&quot;COMPLETE&quot;}\n",
       "{&quot;order_id&quot;:445,&quot;order_date&quot;:&quot;2013-07-27 00:00:00.0&quot;,&quot;order_customer_id&quot;:3859,&quot;order_status&quot;:&quot;PENDING&quot;}\n",
       "{&quot;order_id&quot;:446,&quot;order_date&quot;:&quot;2013-07-27 00:00:00.0&quot;,&quot;order_customer_id&quot;:7620,&quot;order_status&quot;:&quot;PENDING_PAYMENT&quot;}\n",
       "{&quot;order_id&quot;:447,&quot;order_date&quot;:&quot;2013-07-27 00:00:00.0&quot;,&quot;order_customer_id&quot;:8737,&quot;order_status&quot;:&quot;CLOSED&quot;}\n",
       "{&quot;order_id&quot;:448,&quot;order_date&quot;:&quot;2013-07-27 00:00:00.0&quot;,&quot;order_customer_id&quot;:7167,&quot;order_status&quot;:&quot;COMPLETE&quot;}\n",
       "{&quot;order_id&quot;:449,&quot;order_date&quot;:&quot;2013-07-27 00:00:00.0&quot;,&quot;order_customer_id&quot;:409,&quot;order_status&quot;:&quot;CLOSED&quot;}\n",
       "{&quot;order_id&quot;:450,&quot;order_date&quot;:&quot;2013-07-27 00:00:00.0&quot;,&quot;order_customer_id&quot;:5085,&quot;order_status&quot;:&quot;ON_HOLD&quot;}\n",
       "{&quot;order_id&quot;:451,&quot;order_date&quot;:&quot;2013-07-27 00:00:00.0&quot;,&quot;order_customer_id&quot;:10104,&quot;order_status&quot;:&quot;PENDING&quot;}\n",
       "{&quot;order_id&quot;:452,&quot;order_date&quot;:&quot;2013-07-27 00:00:00.0&quot;,&quot;order_customer_id&quot;:5128,&quot;order_status&quot;:&quot;COMPLETE&quot;}\n",
       "{&quot;order_id&quot;:453,&quot;order_date&quot;:&quot;2013-07-27 00:00:00.0&quot;,&quot;order_customer_id&quot;:381,&quot;order_status&quot;:&quot;SUSPECTED_FRAUD&quot;}\n",
       "{&quot;order_id&quot;:454,&quot;order_date&quot;:&quot;2013-07-27 00:00:00.0&quot;,&quot;order_customer_id&quot;:5933,&quot;order_status&quot;:&quot;PENDING_PAYMENT&quot;}\n",
       "{&quot;order_id&quot;:455,&quot;order_date&quot;:&quot;2013-07-27 00:00:00.0&quot;,&quot;order_customer_id&quot;:6575,&quot;order_status&quot;:&quot;PENDING&quot;}\n",
       "{&quot;order_id&quot;:456,&quot;order_date&quot;:&quot;2013-07-27 00:00:00.0&quot;,&quot;order_customer_id&quot;:11295,&quot;order_status&quot;:&quot;CLOSED&quot;}\n",
       "{&quot;order_id&quot;:457,&quot;order_date&quot;:&quot;2013-07-27 00:00:00.0&quot;,&quot;order_customer_id&quot;:4036,&quot;order_status&quot;:&quot;PENDING_PAYMENT&quot;}\n",
       "{&quot;order_id&quot;:458,&quot;order_date&quot;:&quot;2013-07-27 00:00:00.0&quot;,&quot;order_customer_id&quot;:5358,&quot;order_status&quot;:&quot;COMPLETE&quot;}\n",
       "{&quot;order_id&quot;:459,&quot;order_date&quot;:&quot;2013-07-27 00:00:00.0&quot;,&quot;order_customer_id&quot;:3687,&quot;order_status&quot;:&quot;COMPLETE&quot;}\n",
       "{&quot;order_id&quot;:460,&quot;order_date&quot;:&quot;2013-07-27 00:00:00.0&quot;,&quot;order_customer_id&quot;:2521,&quot;order_status&quot;:&quot;PENDING_PAYMENT&quot;}\n",
       "{&quot;order_id&quot;:461,&quot;order_date&quot;:&quot;2013-07-27 00:00:00.0&quot;,&quot;order_customer_id&quot;:8398,&quot;order_status&quot;:&quot;CLOSED&quot;}\n",
       "{&quot;order_id&quot;:462,&quot;order_date&quot;:&quot;2013-07-27 00:00:00.0&quot;,&quot;order_customer_id&quot;:5454,&quot;order_status&quot;:&quot;PROCESSING&quot;}\n",
       "{&quot;order_id&quot;:463,&quot;order_date&quot;:&quot;2013-07-27 00:00:00.0&quot;,&quot;order_customer_id&quot;:8709,&quot;order_status&quot;:&quot;COMPLETE&quot;}\n",
       "{&quot;order_id&quot;:464,&quot;order_date&quot;:&quot;2013-07-27 00:00:00.0&quot;,&quot;order_customer_id&quot;:7114,&quot;order_status&quot;:&quot;COMPLETE&quot;}\n",
       "{&quot;order_id&quot;:465,&quot;order_date&quot;:&quot;2013-07-27 00:00:00.0&quot;,&quot;order_customer_id&quot;:1255,&quot;order_status&quot;:&quot;PENDING_PAYMENT&quot;}\n",
       "{&quot;order_id&quot;:466,&quot;order_date&quot;:&quot;2013-07-27 00:00:00.0&quot;,&quot;order_customer_id&quot;:10943,&quot;order_status&quot;:&quot;CLOSED&quot;}\n",
       "{&quot;order_id&quot;:467,&quot;order_date&quot;:&quot;2013-07-27 00:00:00.0&quot;,&quot;order_customer_id&quot;:1719,&quot;order_status&quot;:&quot;PENDING_PAYMENT&quot;}\n",
       "{&quot;order_id&quot;:468,&quot;order_date&quot;:&quot;2013-07-27 00:00:00.0&quot;,&quot;order_customer_id&quot;:7305,&quot;order_status&quot;:&quot;COMPLETE&quot;}\n",
       "{&quot;order_id&quot;:469,&quot;order_date&quot;:&quot;2013-07-27 00:00:00.0&quot;,&quot;order_customer_id&quot;:1731,&quot;order_status&quot;:&quot;PENDING&quot;}\n",
       "{&quot;order_id&quot;:470,&quot;order_date&quot;:&quot;2013-07-27 00:00:00.0&quot;,&quot;order_customer_id&quot;:6410,&quot;order_status&quot;:&quot;PENDING_PAYMENT&quot;}\n",
       "{&quot;order_id&quot;:471,&quot;order_date&quot;:&quot;2013-07-27 00:00:00.0&quot;,&quot;order_customer_id&quot;:10861,&quot;order_status&quot;:&quot;PENDING&quot;}\n",
       "{&quot;order_id&quot;:472,&quot;order_date&quot;:&quot;2013-07-27 00:00:00.0&quot;,&quot;order_customer_id&quot;:8969,&quot;order_status&quot;:&quot;CLOSED&quot;}\n",
       "{&quot;order_id&quot;:473,&quot;order_date&quot;:&quot;2013-07-27 00:00:00.0&quot;,&quot;order_customer_id&quot;:5359,&quot;order_status&quot;:&quot;COMPLETE&quot;}\n",
       "{&quot;order_id&quot;:474,&quot;order_date&quot;:&quot;2013-07-27 00:00:00.0&quot;,&quot;order_customer_id&quot;:8349,&quot;order_status&quot;:&quot;PENDING_PAYMENT&quot;}\n",
       "{&quot;order_id&quot;:475,&quot;order_date&quot;:&quot;2013-07-27 00:00:00.0&quot;,&quot;order_customer_id&quot;:4567,&quot;order_status&quot;:&quot;CLOSED&quot;}\n",
       "{&quot;order_id&quot;:476,&quot;order_date&quot;:&quot;2013-07-27 00:00:00.0&quot;,&quot;order_customer_id&quot;:6020,&quot;order_status&quot;:&quot;PENDING_PAYMENT&quot;}\n",
       "{&quot;order_id&quot;:477,&quot;order_date&quot;:&quot;2013-07-27 00:00:00.0&quot;,&quot;order_customer_id&quot;:8511,&quot;order_status&quot;:&quot;ON_HOLD&quot;}\n",
       "{&quot;order_id&quot;:478,&quot;order_date&quot;:&quot;2013-07-27 00:00:00.0&quot;,&quot;order_customer_id&quot;:7657,&quot;order_status&quot;:&quot;COMPLETE&quot;}\n",
       "{&quot;order_id&quot;:479,&quot;order_date&quot;:&quot;2013-07-27 00:00:00.0&quot;,&quot;order_customer_id&quot;:11138,&quot;order_status&quot;:&quot;COMPLETE&quot;}\n",
       "{&quot;order_id&quot;:480,&quot;order_date&quot;:&quot;2013-07-27 00:00:00.0&quot;,&quot;order_customer_id&quot;:2902,&quot;order_status&quot;:&quot;PROCESSING&quot;}\n",
       "{&quot;order_id&quot;:481,&quot;order_date&quot;:&quot;2013-07-27 00:00:00.0&quot;,&quot;order_customer_id&quot;:10633,&quot;order_status&quot;:&quot;PROCESSING&quot;}\n",
       "{&quot;order_id&quot;:482,&quot;order_date&quot;:&quot;2013-07-27 00:00:00.0&quot;,&quot;order_customer_id&quot;:9156,&quot;order_status&quot;:&quot;ON_HOLD&quot;}\n",
       "{&quot;order_id&quot;:483,&quot;order_date&quot;:&quot;2013-07-27 00:00:00.0&quot;,&quot;order_customer_id&quot;:12341,&quot;order_status&quot;:&quot;PROCESSING&quot;}\n",
       "{&quot;order_id&quot;:484,&quot;order_date&quot;:&quot;2013-07-27 00:00:00.0&quot;,&quot;order_customer_id&quot;:2409,&quot;order_status&quot;:&quot;PENDING_PAYMENT&quot;}\n",
       "{&quot;order_id&quot;:485,&quot;order_date&quot;:&quot;2013-07-27 00:00:00.0&quot;,&quot;order_customer_id&quot;:3976,&quot;order_status&quot;:&quot;PENDING_PAYMENT&quot;}\n",
       "{&quot;order_id&quot;:486,&quot;order_date&quot;:&quot;2013-07-27 00:00:00.0&quot;,&quot;order_customer_id&quot;:1865,&quot;order_status&quot;:&quot;PROCESSING&quot;}\n",
       "{&quot;order_id&quot;:487,&quot;order_date&quot;:&quot;2013-07-27 00:00:00.0&quot;,&quot;order_customer_id&quot;:5698,&quot;order_status&quot;:&quot;PROCESSING&quot;}\n",
       "{&quot;order_id&quot;:488,&quot;order_date&quot;:&quot;2013-07-27 00:00:00.0&quot;,&quot;order_customer_id&quot;:10143,&quot;order_status&quot;:&quot;PENDING_PAYMENT&quot;}\n",
       "{&quot;order_id&quot;:489,&quot;order_date&quot;:&quot;2013-07-27 00:00:00.0&quot;,&quot;order_customer_id&quot;:2030,&quot;order_status&quot;:&quot;PENDING_PAYMENT&quot;}\n",
       "{&quot;order_id&quot;:490,&quot;order_date&quot;:&quot;2013-07-27 00:00:00.0&quot;,&quot;order_customer_id&quot;:9709,&quot;order_status&quot;:&quot;COMPLETE&quot;}\n",
       "{&quot;order_id&quot;:491,&quot;order_date&quot;:&quot;2013-07-27 00:00:00.0&quot;,&quot;order_customer_id&quot;:3945,&quot;order_status&quot;:&quot;ON_HOLD&quot;}\n",
       "{&quot;order_id&quot;:492,&quot;order_date&quot;:&quot;2013-07-27 00:00:00.0&quot;,&quot;order_customer_id&quot;:2499,&quot;order_status&quot;:&quot;PENDING_PAYMENT&quot;}\n",
       "{&quot;order_id&quot;:493,&quot;order_date&quot;:&quot;2013-07-27 00:00:00.0&quot;,&quot;order_customer_id&quot;:1180,&quot;order_status&quot;:&quot;COMPLETE&quot;}\n",
       "{&quot;order_id&quot;:494,&quot;order_date&quot;:&quot;2013-07-27 00:00:00.0&quot;,&quot;order_customer_id&quot;:8121,&quot;order_status&quot;:&quot;PENDING_PAYMENT&quot;}\n",
       "{&quot;order_id&quot;:495,&quot;order_date&quot;:&quot;2013-07-27 00:00:00.0&quot;,&quot;order_customer_id&quot;:7242,&quot;order_status&quot;:&quot;COMPLETE&quot;}\n",
       "{&quot;order_id&quot;:496,&quot;order_date&quot;:&quot;2013-07-27 00:00:00.0&quot;,&quot;order_customer_id&quot;:615,&quot;order_status&quot;:&quot;COMPLETE&quot;}\n",
       "{&quot;order_id&quot;:497,&quot;order_date&quot;:&quot;2013-07-27 00:00:00.0&quot;,&quot;order_customer_id&quot;:846,&quot;order_status&quot;:&quot;COMPLETE&quot;}\n",
       "{&quot;order_id&quot;:498,&quot;order_date&quot;:&quot;2013-07-27 00:00:00.0&quot;,&quot;order_customer_id&quot;:6828,&quot;order_status&quot;:&quot;PENDING_PAYMENT&quot;}\n",
       "{&quot;order_id&quot;:499,&quot;order_date&quot;:&quot;2013-07-27 00:00:00.0&quot;,&quot;order_customer_id&quot;:8920,&quot;order_status&quot;:&quot;COMPLETE&quot;}\n",
       "{&quot;order_id&quot;:500,&quot;order_date&quot;:&quot;2013-07-27 00:00:00.0&quot;,&quot;order_customer_id&quot;:2129,&quot;order_status&quot;:&quot;CLOSED&quot;}\n",
       "{&quot;order_id&quot;:501,&quot;order_date&quot;:&quot;2013-07-27 00:00:00.0&quot;,&quot;order_customer_id&quot;:1987,&quot;order_status&quot;:&quot;CLOSED&quot;}\n",
       "{&quot;order_id&quot;:502,&quot;order_date&quot;:&quot;2013-07-27 00:00:00.0&quot;,&quot;order_customer_id&quot;:7196,&quot;order_status&quot;:&quot;COMPLETE&quot;}\n",
       "{&quot;order_id&quot;:503,&quot;order_date&quot;:&quot;2013-07-27 00:00:00.0&quot;,&quot;order_customer_id&quot;:6377,&quot;order_status&quot;:&quot;PENDING_PAYMENT&quot;}\n",
       "{&quot;order_id&quot;:504,&quot;order_date&quot;:&quot;2013-07-27 00:00:00.0&quot;,&quot;order_customer_id&quot;:6288,&quot;order_status&quot;:&quot;COMPLETE&quot;}\n",
       "{&quot;order_id&quot;:505,&quot;order_date&quot;:&quot;2013-07-27 00:00:00.0&quot;,&quot;order_customer_id&quot;:11952,&quot;order_status&quot;:&quot;PROCESSING&quot;}\n",
       "{&quot;order_id&quot;:506,&quot;order_date&quot;:&quot;2013-07-27 00:00:00.0&quot;,&quot;order_customer_id&quot;:3509,&quot;order_status&quot;:&quot;PENDING&quot;}\n",
       "{&quot;order_id&quot;:507,&quot;order_date&quot;:&quot;2013-07-27 00:00:00.0&quot;,&quot;order_customer_id&quot;:4730,&quot;order_status&quot;:&quot;PENDING_PAYMENT&quot;}\n",
       "{&quot;order_id&quot;:508,&quot;order_date&quot;:&quot;2013-07-27 00:00:00.0&quot;,&quot;order_customer_id&quot;:6970,&quot;order_status&quot;:&quot;COMPLETE&quot;}\n",
       "{&quot;order_id&quot;:509,&quot;order_date&quot;:&quot;2013-07-27 00:00:00.0&quot;,&quot;order_customer_id&quot;:10739,&quot;order_status&quot;:&quot;COMPLETE&quot;}\n",
       "{&quot;order_id&quot;:510,&quot;order_date&quot;:&quot;2013-07-28 00:00:00.0&quot;,&quot;order_customer_id&quot;:7533,&quot;order_status&quot;:&quot;PENDING_PAYMENT&quot;}\n",
       "{&quot;order_id&quot;:511,&quot;order_date&quot;:&quot;2013-07-28 00:00:00.0&quot;,&quot;order_customer_id&quot;:486,&quot;order_status&quot;:&quot;PROCESSING&quot;}\n",
       "{&quot;order_id&quot;:512,&quot;order_date&quot;:&quot;2013-07-28 00:00:00.0&quot;,&quot;order_customer_id&quot;:12000,&quot;order_status&quot;:&quot;COMPLETE&quot;}\n",
       "{&quot;order_id&quot;:513,&quot;order_date&quot;:&quot;2013-07-28 00:00:00.0&quot;,&quot;order_customer_id&quot;:10479,&quot;order_status&quot;:&quot;COMPLETE&quot;}\n",
       "{&quot;order_id&quot;:514,&quot;order_date&quot;:&quot;2013-07-28 00:00:00.0&quot;,&quot;order_customer_id&quot;:10962,&quot;order_status&quot;:&quot;PENDING_PAYMENT&quot;}\n",
       "{&quot;order_id&quot;:515,&quot;order_date&quot;:&quot;2013-07-28 00:00:00.0&quot;,&quot;order_customer_id&quot;:5921,&quot;order_status&quot;:&quot;PENDING_PAYMENT&quot;}\n",
       "{&quot;order_id&quot;:516,&quot;order_date&quot;:&quot;2013-07-28 00:00:00.0&quot;,&quot;order_customer_id&quot;:9204,&quot;order_status&quot;:&quot;COMPLETE&quot;}\n",
       "{&quot;order_id&quot;:517,&quot;order_date&quot;:&quot;2013-07-28 00:00:00.0&quot;,&quot;order_customer_id&quot;:1578,&quot;order_status&quot;:&quot;PROCESSING&quot;}\n",
       "{&quot;order_id&quot;:518,&quot;order_date&quot;:&quot;2013-07-28 00:00:00.0&quot;,&quot;order_customer_id&quot;:5257,&quot;order_status&quot;:&quot;COMPLETE&quot;}\n",
       "{&quot;order_id&quot;:519,&quot;order_date&quot;:&quot;2013-07-28 00:00:00.0&quot;,&quot;order_customer_id&quot;:4780,&quot;order_status&quot;:&quot;COMPLETE&quot;}\n",
       "{&quot;order_id&quot;:520,&quot;order_date&quot;:&quot;2013-07-28 00:00:00.0&quot;,&quot;order_customer_id&quot;:8074,&quot;order_status&quot;:&quot;COMPLETE&quot;}\n",
       "{&quot;order_id&quot;:521,&quot;order_date&quot;:&quot;2013-07-28 00:00:00.0&quot;,&quot;order_customer_id&quot;:6497,&quot;order_status&quot;:&quot;COMPLETE&quot;}\n",
       "{&quot;order_id&quot;:522,&quot;order_date&quot;:&quot;2013-07-28 00:00:00.0&quot;,&quot;order_customer_id&quot;:12300,&quot;order_status&quot;:&quot;COMPLETE&quot;}\n",
       "{&quot;order_id&quot;:523,&quot;order_date&quot;:&quot;2013-07-28 00:00:00.0&quot;,&quot;order_customer_id&quot;:4477,&quot;order_status&quot;:&quot;COMPLETE&quot;}\n",
       "{&quot;order_id&quot;:524,&quot;order_date&quot;:&quot;2013-07-28 00:00:00.0&quot;,&quot;order_customer_id&quot;:7622,&quot;order_status&quot;:&quot;COMPLETE&quot;}\n",
       "{&quot;order_id&quot;:525,&quot;order_date&quot;:&quot;2013-07-28 00:00:00.0&quot;,&quot;order_customer_id&quot;:10830,&quot;order_status&quot;:&quot;PENDING&quot;}\n",
       "{&quot;order_id&quot;:526,&quot;order_date&quot;:&quot;2013-07-28 00:00:00.0&quot;,&quot;order_customer_id&quot;:7259,&quot;order_status&quot;:&quot;COMPLETE&quot;}\n",
       "{&quot;order_id&quot;:527,&quot;order_date&quot;:&quot;2013-07-28 00:00:00.0&quot;,&quot;order_customer_id&quot;:5426,&quot;order_status&quot;:&quot;CANCELED&quot;}\n",
       "{&quot;order_id&quot;:528,&quot;order_date&quot;:&quot;2013-07-28 00:00:00.0&quot;,&quot;order_customer_id&quot;:6147,&quot;order_status&quot;:&quot;PROCESSING&quot;}\n",
       "{&quot;order_id&quot;:529,&quot;order_date&quot;:&quot;2013-07-28 00:00:00.0&quot;,&quot;order_customer_id&quot;:844,&quot;order_status&quot;:&quot;ON_HOLD&quot;}\n",
       "{&quot;order_id&quot;:530,&quot;order_date&quot;:&quot;2013-07-28 00:00:00.0&quot;,&quot;order_customer_id&quot;:6224,&quot;order_status&quot;:&quot;PROCESSING&quot;}\n",
       "{&quot;order_id&quot;:531,&quot;order_date&quot;:&quot;2013-07-28 00:00:00.0&quot;,&quot;order_customer_id&quot;:1950,&quot;order_status&quot;:&quot;PENDING_PAYMENT&quot;}\n",
       "{&quot;order_id&quot;:532,&quot;order_date&quot;:&quot;2013-07-28 00:00:00.0&quot;,&quot;order_customer_id&quot;:6498,&quot;order_status&quot;:&quot;PENDING&quot;}\n",
       "{&quot;order_id&quot;:533,&quot;order_date&quot;:&quot;2013-07-28 00:00:00.0&quot;,&quot;order_customer_id&quot;:6770,&quot;order_status&quot;:&quot;COMPLETE&quot;}\n",
       "{&quot;order_id&quot;:534,&quot;order_date&quot;:&quot;2013-07-28 00:00:00.0&quot;,&quot;order_customer_id&quot;:6896,&quot;order_status&quot;:&quot;COMPLETE&quot;}\n",
       "{&quot;order_id&quot;:535,&quot;order_date&quot;:&quot;2013-07-28 00:00:00.0&quot;,&quot;order_customer_id&quot;:66,&quot;order_status&quot;:&quot;COMPLETE&quot;}\n",
       "{&quot;order_id&quot;:536,&quot;order_date&quot;:&quot;2013-07-28 00:00:00.0&quot;,&quot;order_customer_id&quot;:9981,&quot;order_status&quot;:&quot;ON_HOLD&quot;}\n",
       "{&quot;order_id&quot;:537,&quot;order_date&quot;:&quot;2013-07-28 00:00:00.0&quot;,&quot;order_customer_id&quot;:10437,&quot;order_status&quot;:&quot;COMPLETE&quot;}\n",
       "{&quot;order_id&quot;:538,&quot;order_date&quot;:&quot;2013-07-28 00:00:00.0&quot;,&quot;order_customer_id&quot;:4871,&quot;order_status&quot;:&quot;PROCESSING&quot;}\n",
       "{&quot;order_id&quot;:539,&quot;order_date&quot;:&quot;2013-07-28 00:00:00.0&quot;,&quot;order_customer_id&quot;:7673,&quot;order_status&quot;:&quot;PENDING_PAYMENT&quot;}\n",
       "{&quot;order_id&quot;:540,&quot;order_date&quot;:&quot;2013-07-28 00:00:00.0&quot;,&quot;order_customer_id&quot;:121,&quot;order_status&quot;:&quot;COMPLETE&quot;}\n",
       "{&quot;order_id&quot;:541,&quot;order_date&quot;:&quot;2013-07-28 00:00:00.0&quot;,&quot;order_customer_id&quot;:4985,&quot;order_status&quot;:&quot;COMPLETE&quot;}\n",
       "{&quot;order_id&quot;:542,&quot;order_date&quot;:&quot;2013-07-28 00:00:00.0&quot;,&quot;order_customer_id&quot;:597,&quot;order_status&quot;:&quot;CLOSED&quot;}\n",
       "{&quot;order_id&quot;:543,&quot;order_date&quot;:&quot;2013-07-28 00:00:00.0&quot;,&quot;order_customer_id&quot;:7351,&quot;order_status&quot;:&quot;PENDING&quot;}\n",
       "{&quot;order_id&quot;:544,&quot;order_date&quot;:&quot;2013-07-28 00:00:00.0&quot;,&quot;order_customer_id&quot;:281,&quot;order_status&quot;:&quot;PENDING_PAYMENT&quot;}\n",
       "{&quot;order_id&quot;:545,&quot;order_date&quot;:&quot;2013-07-28 00:00:00.0&quot;,&quot;order_customer_id&quot;:11642,&quot;order_status&quot;:&quot;COMPLETE&quot;}\n",
       "{&quot;order_id&quot;:546,&quot;order_date&quot;:&quot;2013-07-28 00:00:00.0&quot;,&quot;order_customer_id&quot;:7604,&quot;order_status&quot;:&quot;PROCESSING&quot;}\n",
       "{&quot;order_id&quot;:547,&quot;order_date&quot;:&quot;2013-07-28 00:00:00.0&quot;,&quot;order_customer_id&quot;:7220,&quot;order_status&quot;:&quot;COMPLETE&quot;}\n",
       "{&quot;order_id&quot;:548,&quot;order_date&quot;:&quot;2013-07-28 00:00:00.0&quot;,&quot;order_customer_id&quot;:6889,&quot;order_status&quot;:&quot;SUSPECTED_FRAUD&quot;}\n",
       "{&quot;order_id&quot;:549,&quot;order_date&quot;:&quot;2013-07-28 00:00:00.0&quot;,&quot;order_customer_id&quot;:3834,&quot;order_status&quot;:&quot;PENDING&quot;}\n",
       "{&quot;order_id&quot;:550,&quot;order_date&quot;:&quot;2013-07-28 00:00:00.0&quot;,&quot;order_customer_id&quot;:9666,&quot;order_status&quot;:&quot;PENDING_PAYMENT&quot;}\n",
       "{&quot;order_id&quot;:551,&quot;order_date&quot;:&quot;2013-07-28 00:00:00.0&quot;,&quot;order_customer_id&quot;:2867,&quot;order_status&quot;:&quot;COMPLETE&quot;}\n",
       "{&quot;order_id&quot;:552,&quot;order_date&quot;:&quot;2013-07-28 00:00:00.0&quot;,&quot;order_customer_id&quot;:1445,&quot;order_status&quot;:&quot;CANCELED&quot;}\n",
       "{&quot;order_id&quot;:553,&quot;order_date&quot;:&quot;2013-07-28 00:00:00.0&quot;,&quot;order_customer_id&quot;:7307,&quot;order_status&quot;:&quot;COMPLETE&quot;}\n",
       "{&quot;order_id&quot;:554,&quot;order_date&quot;:&quot;2013-07-28 00:00:00.0&quot;,&quot;order_customer_id&quot;:10980,&quot;order_status&quot;:&quot;PROCESSING&quot;}\n",
       "{&quot;order_id&quot;:555,&quot;order_date&quot;:&quot;2013-07-28 00:00:00.0&quot;,&quot;order_customer_id&quot;:976,&quot;order_status&quot;:&quot;PENDING_PAYMENT&quot;}\n",
       "{&quot;order_id&quot;:556,&quot;order_date&quot;:&quot;2013-07-28 00:00:00.0&quot;,&quot;order_customer_id&quot;:7838,&quot;order_status&quot;:&quot;COMPLETE&quot;}\n",
       "{&quot;order_id&quot;:557,&quot;order_date&quot;:&quot;2013-07-28 00:00:00.0&quot;,&quot;order_customer_id&quot;:4855,&quot;order_status&quot;:&quot;COMPLETE&quot;}\n",
       "{&quot;order_id&quot;:558,&quot;order_date&quot;:&quot;2013-07-28 00:00:00.0&quot;,&quot;order_customer_id&quot;:4562,&quot;order_status&quot;:&quot;COMPLETE&quot;}\n",
       "{&quot;order_id&quot;:559,&quot;order_date&quot;:&quot;2013-07-28 00:00:00.0&quot;,&quot;order_customer_id&quot;:1944,&quot;order_status&quot;:&quot;ON_HOLD&quot;}\n",
       "{&quot;order_id&quot;:560,&quot;order_date&quot;:&quot;2013-07-28 00:00:00.0&quot;,&quot;order_customer_id&quot;:744,&quot;order_status&quot;:&quot;ON_HOLD&quot;}\n",
       "{&quot;order_id&quot;:561,&quot;order_date&quot;:&quot;2013-07-28 00:00:00.0&quot;,&quot;order_customer_id&quot;:6059,&quot;order_status&quot;:&quot;PENDING&quot;}\n",
       "{&quot;order_id&quot;:562,&quot;order_date&quot;:&quot;2013-07-28 00:00:00.0&quot;,&quot;order_customer_id&quot;:5017,&quot;order_status&quot;:&quot;PENDING&quot;}\n",
       "{&quot;order_id&quot;:563,&quot;order_date&quot;:&quot;2013-07-28 00:00:00.0&quot;,&quot;order_customer_id&quot;:3514,&quot;order_status&quot;:&quot;CLOSED&quot;}\n",
       "{&quot;order_id&quot;:564,&quot;order_date&quot;:&quot;2013-07-28 00:00:00.0&quot;,&quot;order_customer_id&quot;:2216,&quot;order_status&quot;:&quot;CANCELED&quot;}\n",
       "{&quot;order_id&quot;:565,&quot;order_date&quot;:&quot;2013-07-28 00:00:00.0&quot;,&quot;order_customer_id&quot;:3850,&quot;order_status&quot;:&quot;PENDING_PAYMENT&quot;}\n",
       "{&quot;order_id&quot;:566,&quot;order_date&quot;:&quot;2013-07-28 00:00:00.0&quot;,&quot;order_customer_id&quot;:6335,&quot;order_status&quot;:&quot;CLOSED&quot;}\n",
       "{&quot;order_id&quot;:567,&quot;order_date&quot;:&quot;2013-07-28 00:00:00.0&quot;,&quot;order_customer_id&quot;:9527,&quot;order_status&quot;:&quot;CLOSED&quot;}\n",
       "{&quot;order_id&quot;:568,&quot;order_date&quot;:&quot;2013-07-28 00:00:00.0&quot;,&quot;order_customer_id&quot;:11790,&quot;order_status&quot;:&quot;PENDING&quot;}\n",
       "{&quot;order_id&quot;:569,&quot;order_date&quot;:&quot;2013-07-28 00:00:00.0&quot;,&quot;order_customer_id&quot;:8532,&quot;order_status&quot;:&quot;CLOSED&quot;}\n",
       "{&quot;order_id&quot;:570,&quot;order_date&quot;:&quot;2013-07-28 00:00:00.0&quot;,&quot;order_customer_id&quot;:4622,&quot;order_status&quot;:&quot;PENDING&quot;}\n",
       "{&quot;order_id&quot;:571,&quot;order_date&quot;:&quot;2013-07-28 00:00:00.0&quot;,&quot;order_customer_id&quot;:5006,&quot;order_status&quot;:&quot;PENDING&quot;}\n",
       "{&quot;order_id&quot;:572,&quot;order_date&quot;:&quot;2013-07-28 00:00:00.0&quot;,&quot;order_customer_id&quot;:6691,&quot;order_status&quot;:&quot;PENDING&quot;}\n",
       "{&quot;order_id&quot;:573,&quot;order_date&quot;:&quot;2013-07-28 00:00:00.0&quot;,&quot;order_customer_id&quot;:5964,&quot;order_status&quot;:&quot;COMPLETE&quot;}\n",
       "{&quot;order_id&quot;:574,&quot;order_date&quot;:&quot;2013-07-28 00:00:00.0&quot;,&quot;order_customer_id&quot;:7145,&quot;order_status&quot;:&quot;PROCESSING&quot;}\n",
       "{&quot;order_id&quot;:575,&quot;order_date&quot;:&quot;2013-07-28 00:00:00.0&quot;,&quot;order_customer_id&quot;:2873,&quot;order_status&quot;:&quot;PROCESSING&quot;}\n",
       "{&quot;order_id&quot;:576,&quot;order_date&quot;:&quot;2013-07-28 00:00:00.0&quot;,&quot;order_customer_id&quot;:7191,&quot;order_status&quot;:&quot;COMPLETE&quot;}\n",
       "{&quot;order_id&quot;:577,&quot;order_date&quot;:&quot;2013-07-28 00:00:00.0&quot;,&quot;order_customer_id&quot;:457,&quot;order_status&quot;:&quot;CLOSED&quot;}\n",
       "{&quot;order_id&quot;:578,&quot;order_date&quot;:&quot;2013-07-28 00:00:00.0&quot;,&quot;order_customer_id&quot;:2529,&quot;order_status&quot;:&quot;PENDING_PAYMENT&quot;}\n",
       "{&quot;order_id&quot;:579,&quot;order_date&quot;:&quot;2013-07-28 00:00:00.0&quot;,&quot;order_customer_id&quot;:4137,&quot;order_status&quot;:&quot;PROCESSING&quot;}\n",
       "{&quot;order_id&quot;:580,&quot;order_date&quot;:&quot;2013-07-28 00:00:00.0&quot;,&quot;order_customer_id&quot;:8677,&quot;order_status&quot;:&quot;SUSPECTED_FRAUD&quot;}\n",
       "{&quot;order_id&quot;:581,&quot;order_date&quot;:&quot;2013-07-28 00:00:00.0&quot;,&quot;order_customer_id&quot;:3222,&quot;order_status&quot;:&quot;PROCESSING&quot;}\n",
       "{&quot;order_id&quot;:582,&quot;order_date&quot;:&quot;2013-07-28 00:00:00.0&quot;,&quot;order_customer_id&quot;:6220,&quot;order_status&quot;:&quot;CLOSED&quot;}\n",
       "{&quot;order_id&quot;:583,&quot;order_date&quot;:&quot;2013-07-28 00:00:00.0&quot;,&quot;order_customer_id&quot;:4695,&quot;order_status&quot;:&quot;PENDING&quot;}\n",
       "{&quot;order_id&quot;:584,&quot;order_date&quot;:&quot;2013-07-28 00:00:00.0&quot;,&quot;order_customer_id&quot;:1263,&quot;order_status&quot;:&quot;PENDING_PAYMENT&quot;}\n",
       "{&quot;order_id&quot;:585,&quot;order_date&quot;:&quot;2013-07-28 00:00:00.0&quot;,&quot;order_customer_id&quot;:8399,&quot;order_status&quot;:&quot;PENDING_PAYMENT&quot;}\n",
       "{&quot;order_id&quot;:586,&quot;order_date&quot;:&quot;2013-07-28 00:00:00.0&quot;,&quot;order_customer_id&quot;:10225,&quot;order_status&quot;:&quot;PROCESSING&quot;}\n",
       "{&quot;order_id&quot;:587,&quot;order_date&quot;:&quot;2013-07-28 00:00:00.0&quot;,&quot;order_customer_id&quot;:6008,&quot;order_status&quot;:&quot;SUSPECTED_FRAUD&quot;}\n",
       "{&quot;order_id&quot;:588,&quot;order_date&quot;:&quot;2013-07-28 00:00:00.0&quot;,&quot;order_customer_id&quot;:6348,&quot;order_status&quot;:&quot;COMPLETE&quot;}\n",
       "{&quot;order_id&quot;:589,&quot;order_date&quot;:&quot;2013-07-28 00:00:00.0&quot;,&quot;order_customer_id&quot;:5609,&quot;order_status&quot;:&quot;COMPLETE&quot;}\n",
       "{&quot;order_id&quot;:590,&quot;order_date&quot;:&quot;2013-07-28 00:00:00.0&quot;,&quot;order_customer_id&quot;:132,&quot;order_status&quot;:&quot;PROCESSING&quot;}\n",
       "{&quot;order_id&quot;:591,&quot;order_date&quot;:&quot;2013-07-28 00:00:00.0&quot;,&quot;order_customer_id&quot;:6431,&quot;order_status&quot;:&quot;COMPLETE&quot;}\n",
       "{&quot;order_id&quot;:592,&quot;order_date&quot;:&quot;2013-07-28 00:00:00.0&quot;,&quot;order_customer_id&quot;:10862,&quot;order_status&quot;:&quot;CLOSED&quot;}\n",
       "{&quot;order_id&quot;:593,&quot;order_date&quot;:&quot;2013-07-28 00:00:00.0&quot;,&quot;order_customer_id&quot;:6667,&quot;order_status&quot;:&quot;PENDING&quot;}\n",
       "{&quot;order_id&quot;:594,&quot;order_date&quot;:&quot;2013-07-28 00:00:00.0&quot;,&quot;order_customer_id&quot;:1946,&quot;order_status&quot;:&quot;PENDING_PAYMENT&quot;}\n",
       "{&quot;order_id&quot;:595,&quot;order_date&quot;:&quot;2013-07-28 00:00:00.0&quot;,&quot;order_customer_id&quot;:3531,&quot;order_status&quot;:&quot;PAYMENT_REVIEW&quot;}\n",
       "{&quot;order_id&quot;:596,&quot;order_date&quot;:&quot;2013-07-28 00:00:00.0&quot;,&quot;order_customer_id&quot;:8352,&quot;order_status&quot;:&quot;PENDING_PAYMENT&quot;}\n",
       "{&quot;order_id&quot;:597,&quot;order_date&quot;:&quot;2013-07-28 00:00:00.0&quot;,&quot;order_customer_id&quot;:11558,&quot;order_status&quot;:&quot;PENDING_PAYMENT&quot;}\n",
       "{&quot;order_id&quot;:598,&quot;order_date&quot;:&quot;2013-07-28 00:00:00.0&quot;,&quot;order_customer_id&quot;:11344,&quot;order_status&quot;:&quot;PENDING_PAYMENT&quot;}\n",
       "{&quot;order_id&quot;:599,&quot;order_date&quot;:&quot;2013-07-28 00:00:00.0&quot;,&quot;order_customer_id&quot;:8005,&quot;order_status&quot;:&quot;COMPLETE&quot;}\n",
       "{&quot;order_id&quot;:600,&quot;order_date&quot;:&quot;2013-07-28 00:00:00.0&quot;,&quot;order_customer_id&quot;:3506,&quot;order_status&quot;:&quot;COMPLETE&quot;}\n",
       "{&quot;order_id&quot;:601,&quot;order_date&quot;:&quot;2013-07-28 00:00:00.0&quot;,&quot;order_customer_id&quot;:8977,&quot;order_status&quot;:&quot;COMPLETE&quot;}\n",
       "{&quot;order_id&quot;:602,&quot;order_date&quot;:&quot;2013-07-28 00:00:00.0&quot;,&quot;order_customer_id&quot;:6690,&quot;order_status&quot;:&quot;COMPLETE&quot;}\n",
       "{&quot;order_id&quot;:603,&quot;order_date&quot;:&quot;2013-07-28 00:00:00.0&quot;,&quot;order_customer_id&quot;:6184,&quot;order_status&quot;:&quot;CLOSED&quot;}\n",
       "{&quot;order_id&quot;:604,&quot;order_date&quot;:&quot;2013-07-28 00:00:00.0&quot;,&quot;order_customer_id&quot;:6930,&quot;order_status&quot;:&quot;PENDING_PAYMENT&quot;}\n",
       "{&quot;order_id&quot;:605,&quot;order_date&quot;:&quot;2013-07-28 00:00:00.0&quot;,&quot;order_customer_id&quot;:2879,&quot;order_status&quot;:&quot;COMPLETE&quot;}\n",
       "{&quot;order_id&quot;:606,&quot;order_date&quot;:&quot;2013-07-28 00:00:00.0&quot;,&quot;order_customer_id&quot;:1157,&quot;order_status&quot;:&quot;COMPLETE&quot;}\n",
       "{&quot;order_id&quot;:607,&quot;order_date&quot;:&quot;2013-07-28 00:00:00.0&quot;,&quot;order_customer_id&quot;:6376,&quot;order_status&quot;:&quot;CANCELED&quot;}\n",
       "{&quot;order_id&quot;:608,&quot;order_date&quot;:&quot;2013-07-28 00:00:00.0&quot;,&quot;order_customer_id&quot;:10388,&quot;order_status&quot;:&quot;COMPLETE&quot;}\n",
       "{&quot;order_id&quot;:609,&quot;order_date&quot;:&quot;2013-07-28 00:00:00.0&quot;,&quot;order_customer_id&quot;:1241,&quot;order_status&quot;:&quot;PROCESSING&quot;}\n",
       "{&quot;order_id&quot;:610,&quot;order_date&quot;:&quot;2013-07-28 00:00:00.0&quot;,&quot;order_customer_id&quot;:1866,&quot;order_status&quot;:&quot;PENDING_PAYMENT&quot;}\n",
       "{&quot;order_id&quot;:611,&quot;order_date&quot;:&quot;2013-07-28 00:00:00.0&quot;,&quot;order_customer_id&quot;:8422,&quot;order_status&quot;:&quot;COMPLETE&quot;}\n",
       "{&quot;order_id&quot;:612,&quot;order_date&quot;:&quot;2013-07-28 00:00:00.0&quot;,&quot;order_customer_id&quot;:11854,&quot;order_status&quot;:&quot;PENDING_PAYMENT&quot;}\n",
       "{&quot;order_id&quot;:613,&quot;order_date&quot;:&quot;2013-07-28 00:00:00.0&quot;,&quot;order_customer_id&quot;:460,&quot;order_status&quot;:&quot;COMPLETE&quot;}\n",
       "{&quot;order_id&quot;:614,&quot;order_date&quot;:&quot;2013-07-28 00:00:00.0&quot;,&quot;order_customer_id&quot;:5738,&quot;order_status&quot;:&quot;CLOSED&quot;}\n",
       "{&quot;order_id&quot;:615,&quot;order_date&quot;:&quot;2013-07-28 00:00:00.0&quot;,&quot;order_cust\n",
       "</div>"
      ]
     },
     "metadata": {
      "application/vnd.databricks.v1+output": {
       "addedWidgets": {},
       "arguments": {},
       "data": "<div class=\"ansiout\">[Truncated to first 65536 bytes]\n{&quot;order_id&quot;:1,&quot;order_date&quot;:&quot;2013-07-25 00:00:00.0&quot;,&quot;order_customer_id&quot;:11599,&quot;order_status&quot;:&quot;CLOSED&quot;}\n{&quot;order_id&quot;:2,&quot;order_date&quot;:&quot;2013-07-25 00:00:00.0&quot;,&quot;order_customer_id&quot;:256,&quot;order_status&quot;:&quot;PENDING_PAYMENT&quot;}\n{&quot;order_id&quot;:3,&quot;order_date&quot;:&quot;2013-07-25 00:00:00.0&quot;,&quot;order_customer_id&quot;:12111,&quot;order_status&quot;:&quot;COMPLETE&quot;}\n{&quot;order_id&quot;:4,&quot;order_date&quot;:&quot;2013-07-25 00:00:00.0&quot;,&quot;order_customer_id&quot;:8827,&quot;order_status&quot;:&quot;CLOSED&quot;}\n{&quot;order_id&quot;:5,&quot;order_date&quot;:&quot;2013-07-25 00:00:00.0&quot;,&quot;order_customer_id&quot;:11318,&quot;order_status&quot;:&quot;COMPLETE&quot;}\n{&quot;order_id&quot;:6,&quot;order_date&quot;:&quot;2013-07-25 00:00:00.0&quot;,&quot;order_customer_id&quot;:7130,&quot;order_status&quot;:&quot;COMPLETE&quot;}\n{&quot;order_id&quot;:7,&quot;order_date&quot;:&quot;2013-07-25 00:00:00.0&quot;,&quot;order_customer_id&quot;:4530,&quot;order_status&quot;:&quot;COMPLETE&quot;}\n{&quot;order_id&quot;:8,&quot;order_date&quot;:&quot;2013-07-25 00:00:00.0&quot;,&quot;order_customer_id&quot;:2911,&quot;order_status&quot;:&quot;PROCESSING&quot;}\n{&quot;order_id&quot;:9,&quot;order_date&quot;:&quot;2013-07-25 00:00:00.0&quot;,&quot;order_customer_id&quot;:5657,&quot;order_status&quot;:&quot;PENDING_PAYMENT&quot;}\n{&quot;order_id&quot;:10,&quot;order_date&quot;:&quot;2013-07-25 00:00:00.0&quot;,&quot;order_customer_id&quot;:5648,&quot;order_status&quot;:&quot;PENDING_PAYMENT&quot;}\n{&quot;order_id&quot;:11,&quot;order_date&quot;:&quot;2013-07-25 00:00:00.0&quot;,&quot;order_customer_id&quot;:918,&quot;order_status&quot;:&quot;PAYMENT_REVIEW&quot;}\n{&quot;order_id&quot;:12,&quot;order_date&quot;:&quot;2013-07-25 00:00:00.0&quot;,&quot;order_customer_id&quot;:1837,&quot;order_status&quot;:&quot;CLOSED&quot;}\n{&quot;order_id&quot;:13,&quot;order_date&quot;:&quot;2013-07-25 00:00:00.0&quot;,&quot;order_customer_id&quot;:9149,&quot;order_status&quot;:&quot;PENDING_PAYMENT&quot;}\n{&quot;order_id&quot;:14,&quot;order_date&quot;:&quot;2013-07-25 00:00:00.0&quot;,&quot;order_customer_id&quot;:9842,&quot;order_status&quot;:&quot;PROCESSING&quot;}\n{&quot;order_id&quot;:15,&quot;order_date&quot;:&quot;2013-07-25 00:00:00.0&quot;,&quot;order_customer_id&quot;:2568,&quot;order_status&quot;:&quot;COMPLETE&quot;}\n{&quot;order_id&quot;:16,&quot;order_date&quot;:&quot;2013-07-25 00:00:00.0&quot;,&quot;order_customer_id&quot;:7276,&quot;order_status&quot;:&quot;PENDING_PAYMENT&quot;}\n{&quot;order_id&quot;:17,&quot;order_date&quot;:&quot;2013-07-25 00:00:00.0&quot;,&quot;order_customer_id&quot;:2667,&quot;order_status&quot;:&quot;COMPLETE&quot;}\n{&quot;order_id&quot;:18,&quot;order_date&quot;:&quot;2013-07-25 00:00:00.0&quot;,&quot;order_customer_id&quot;:1205,&quot;order_status&quot;:&quot;CLOSED&quot;}\n{&quot;order_id&quot;:19,&quot;order_date&quot;:&quot;2013-07-25 00:00:00.0&quot;,&quot;order_customer_id&quot;:9488,&quot;order_status&quot;:&quot;PENDING_PAYMENT&quot;}\n{&quot;order_id&quot;:20,&quot;order_date&quot;:&quot;2013-07-25 00:00:00.0&quot;,&quot;order_customer_id&quot;:9198,&quot;order_status&quot;:&quot;PROCESSING&quot;}\n{&quot;order_id&quot;:21,&quot;order_date&quot;:&quot;2013-07-25 00:00:00.0&quot;,&quot;order_customer_id&quot;:2711,&quot;order_status&quot;:&quot;PENDING&quot;}\n{&quot;order_id&quot;:22,&quot;order_date&quot;:&quot;2013-07-25 00:00:00.0&quot;,&quot;order_customer_id&quot;:333,&quot;order_status&quot;:&quot;COMPLETE&quot;}\n{&quot;order_id&quot;:23,&quot;order_date&quot;:&quot;2013-07-25 00:00:00.0&quot;,&quot;order_customer_id&quot;:4367,&quot;order_status&quot;:&quot;PENDING_PAYMENT&quot;}\n{&quot;order_id&quot;:24,&quot;order_date&quot;:&quot;2013-07-25 00:00:00.0&quot;,&quot;order_customer_id&quot;:11441,&quot;order_status&quot;:&quot;CLOSED&quot;}\n{&quot;order_id&quot;:25,&quot;order_date&quot;:&quot;2013-07-25 00:00:00.0&quot;,&quot;order_customer_id&quot;:9503,&quot;order_status&quot;:&quot;CLOSED&quot;}\n{&quot;order_id&quot;:26,&quot;order_date&quot;:&quot;2013-07-25 00:00:00.0&quot;,&quot;order_customer_id&quot;:7562,&quot;order_status&quot;:&quot;COMPLETE&quot;}\n{&quot;order_id&quot;:27,&quot;order_date&quot;:&quot;2013-07-25 00:00:00.0&quot;,&quot;order_customer_id&quot;:3241,&quot;order_status&quot;:&quot;PENDING_PAYMENT&quot;}\n{&quot;order_id&quot;:28,&quot;order_date&quot;:&quot;2013-07-25 00:00:00.0&quot;,&quot;order_customer_id&quot;:656,&quot;order_status&quot;:&quot;COMPLETE&quot;}\n{&quot;order_id&quot;:29,&quot;order_date&quot;:&quot;2013-07-25 00:00:00.0&quot;,&quot;order_customer_id&quot;:196,&quot;order_status&quot;:&quot;PROCESSING&quot;}\n{&quot;order_id&quot;:30,&quot;order_date&quot;:&quot;2013-07-25 00:00:00.0&quot;,&quot;order_customer_id&quot;:10039,&quot;order_status&quot;:&quot;PENDING_PAYMENT&quot;}\n{&quot;order_id&quot;:31,&quot;order_date&quot;:&quot;2013-07-25 00:00:00.0&quot;,&quot;order_customer_id&quot;:6983,&quot;order_status&quot;:&quot;PAYMENT_REVIEW&quot;}\n{&quot;order_id&quot;:32,&quot;order_date&quot;:&quot;2013-07-25 00:00:00.0&quot;,&quot;order_customer_id&quot;:3960,&quot;order_status&quot;:&quot;COMPLETE&quot;}\n{&quot;order_id&quot;:33,&quot;order_date&quot;:&quot;2013-07-25 00:00:00.0&quot;,&quot;order_customer_id&quot;:5793,&quot;order_status&quot;:&quot;PENDING_PAYMENT&quot;}\n{&quot;order_id&quot;:34,&quot;order_date&quot;:&quot;2013-07-25 00:00:00.0&quot;,&quot;order_customer_id&quot;:4189,&quot;order_status&quot;:&quot;PROCESSING&quot;}\n{&quot;order_id&quot;:35,&quot;order_date&quot;:&quot;2013-07-25 00:00:00.0&quot;,&quot;order_customer_id&quot;:4840,&quot;order_status&quot;:&quot;COMPLETE&quot;}\n{&quot;order_id&quot;:36,&quot;order_date&quot;:&quot;2013-07-25 00:00:00.0&quot;,&quot;order_customer_id&quot;:5649,&quot;order_status&quot;:&quot;PENDING&quot;}\n{&quot;order_id&quot;:37,&quot;order_date&quot;:&quot;2013-07-25 00:00:00.0&quot;,&quot;order_customer_id&quot;:5863,&quot;order_status&quot;:&quot;CLOSED&quot;}\n{&quot;order_id&quot;:38,&quot;order_date&quot;:&quot;2013-07-25 00:00:00.0&quot;,&quot;order_customer_id&quot;:11586,&quot;order_status&quot;:&quot;PROCESSING&quot;}\n{&quot;order_id&quot;:39,&quot;order_date&quot;:&quot;2013-07-25 00:00:00.0&quot;,&quot;order_customer_id&quot;:8214,&quot;order_status&quot;:&quot;PENDING&quot;}\n{&quot;order_id&quot;:40,&quot;order_date&quot;:&quot;2013-07-25 00:00:00.0&quot;,&quot;order_customer_id&quot;:12092,&quot;order_status&quot;:&quot;PENDING_PAYMENT&quot;}\n{&quot;order_id&quot;:41,&quot;order_date&quot;:&quot;2013-07-25 00:00:00.0&quot;,&quot;order_customer_id&quot;:8136,&quot;order_status&quot;:&quot;PENDING_PAYMENT&quot;}\n{&quot;order_id&quot;:42,&quot;order_date&quot;:&quot;2013-07-25 00:00:00.0&quot;,&quot;order_customer_id&quot;:9776,&quot;order_status&quot;:&quot;PENDING&quot;}\n{&quot;order_id&quot;:43,&quot;order_date&quot;:&quot;2013-07-25 00:00:00.0&quot;,&quot;order_customer_id&quot;:7776,&quot;order_status&quot;:&quot;PENDING_PAYMENT&quot;}\n{&quot;order_id&quot;:44,&quot;order_date&quot;:&quot;2013-07-25 00:00:00.0&quot;,&quot;order_customer_id&quot;:10500,&quot;order_status&quot;:&quot;PENDING&quot;}\n{&quot;order_id&quot;:45,&quot;order_date&quot;:&quot;2013-07-25 00:00:00.0&quot;,&quot;order_customer_id&quot;:2636,&quot;order_status&quot;:&quot;COMPLETE&quot;}\n{&quot;order_id&quot;:46,&quot;order_date&quot;:&quot;2013-07-25 00:00:00.0&quot;,&quot;order_customer_id&quot;:1549,&quot;order_status&quot;:&quot;ON_HOLD&quot;}\n{&quot;order_id&quot;:47,&quot;order_date&quot;:&quot;2013-07-25 00:00:00.0&quot;,&quot;order_customer_id&quot;:8487,&quot;order_status&quot;:&quot;PENDING_PAYMENT&quot;}\n{&quot;order_id&quot;:48,&quot;order_date&quot;:&quot;2013-07-25 00:00:00.0&quot;,&quot;order_customer_id&quot;:12186,&quot;order_status&quot;:&quot;PROCESSING&quot;}\n{&quot;order_id&quot;:49,&quot;order_date&quot;:&quot;2013-07-25 00:00:00.0&quot;,&quot;order_customer_id&quot;:1871,&quot;order_status&quot;:&quot;PENDING&quot;}\n{&quot;order_id&quot;:50,&quot;order_date&quot;:&quot;2013-07-25 00:00:00.0&quot;,&quot;order_customer_id&quot;:5225,&quot;order_status&quot;:&quot;CANCELED&quot;}\n{&quot;order_id&quot;:51,&quot;order_date&quot;:&quot;2013-07-25 00:00:00.0&quot;,&quot;order_customer_id&quot;:12271,&quot;order_status&quot;:&quot;CLOSED&quot;}\n{&quot;order_id&quot;:52,&quot;order_date&quot;:&quot;2013-07-25 00:00:00.0&quot;,&quot;order_customer_id&quot;:5126,&quot;order_status&quot;:&quot;PENDING_PAYMENT&quot;}\n{&quot;order_id&quot;:53,&quot;order_date&quot;:&quot;2013-07-25 00:00:00.0&quot;,&quot;order_customer_id&quot;:4701,&quot;order_status&quot;:&quot;PROCESSING&quot;}\n{&quot;order_id&quot;:54,&quot;order_date&quot;:&quot;2013-07-25 00:00:00.0&quot;,&quot;order_customer_id&quot;:10628,&quot;order_status&quot;:&quot;PENDING_PAYMENT&quot;}\n{&quot;order_id&quot;:55,&quot;order_date&quot;:&quot;2013-07-25 00:00:00.0&quot;,&quot;order_customer_id&quot;:2052,&quot;order_status&quot;:&quot;PENDING&quot;}\n{&quot;order_id&quot;:56,&quot;order_date&quot;:&quot;2013-07-25 00:00:00.0&quot;,&quot;order_customer_id&quot;:10519,&quot;order_status&quot;:&quot;COMPLETE&quot;}\n{&quot;order_id&quot;:57,&quot;order_date&quot;:&quot;2013-07-25 00:00:00.0&quot;,&quot;order_customer_id&quot;:7073,&quot;order_status&quot;:&quot;CLOSED&quot;}\n{&quot;order_id&quot;:58,&quot;order_date&quot;:&quot;2013-07-25 00:00:00.0&quot;,&quot;order_customer_id&quot;:9213,&quot;order_status&quot;:&quot;PENDING_PAYMENT&quot;}\n{&quot;order_id&quot;:59,&quot;order_date&quot;:&quot;2013-07-25 00:00:00.0&quot;,&quot;order_customer_id&quot;:11644,&quot;order_status&quot;:&quot;PENDING_PAYMENT&quot;}\n{&quot;order_id&quot;:60,&quot;order_date&quot;:&quot;2013-07-25 00:00:00.0&quot;,&quot;order_customer_id&quot;:8365,&quot;order_status&quot;:&quot;PENDING_PAYMENT&quot;}\n{&quot;order_id&quot;:61,&quot;order_date&quot;:&quot;2013-07-25 00:00:00.0&quot;,&quot;order_customer_id&quot;:4791,&quot;order_status&quot;:&quot;CLOSED&quot;}\n{&quot;order_id&quot;:62,&quot;order_date&quot;:&quot;2013-07-25 00:00:00.0&quot;,&quot;order_customer_id&quot;:9111,&quot;order_status&quot;:&quot;CLOSED&quot;}\n{&quot;order_id&quot;:63,&quot;order_date&quot;:&quot;2013-07-25 00:00:00.0&quot;,&quot;order_customer_id&quot;:1148,&quot;order_status&quot;:&quot;COMPLETE&quot;}\n{&quot;order_id&quot;:64,&quot;order_date&quot;:&quot;2013-07-25 00:00:00.0&quot;,&quot;order_customer_id&quot;:5579,&quot;order_status&quot;:&quot;PENDING_PAYMENT&quot;}\n{&quot;order_id&quot;:65,&quot;order_date&quot;:&quot;2013-07-25 00:00:00.0&quot;,&quot;order_customer_id&quot;:5903,&quot;order_status&quot;:&quot;COMPLETE&quot;}\n{&quot;order_id&quot;:66,&quot;order_date&quot;:&quot;2013-07-25 00:00:00.0&quot;,&quot;order_customer_id&quot;:1792,&quot;order_status&quot;:&quot;ON_HOLD&quot;}\n{&quot;order_id&quot;:67,&quot;order_date&quot;:&quot;2013-07-25 00:00:00.0&quot;,&quot;order_customer_id&quot;:1406,&quot;order_status&quot;:&quot;COMPLETE&quot;}\n{&quot;order_id&quot;:68,&quot;order_date&quot;:&quot;2013-07-25 00:00:00.0&quot;,&quot;order_customer_id&quot;:4320,&quot;order_status&quot;:&quot;PENDING&quot;}\n{&quot;order_id&quot;:69,&quot;order_date&quot;:&quot;2013-07-25 00:00:00.0&quot;,&quot;order_customer_id&quot;:2821,&quot;order_status&quot;:&quot;SUSPECTED_FRAUD&quot;}\n{&quot;order_id&quot;:70,&quot;order_date&quot;:&quot;2013-07-25 00:00:00.0&quot;,&quot;order_customer_id&quot;:11809,&quot;order_status&quot;:&quot;PENDING_PAYMENT&quot;}\n{&quot;order_id&quot;:71,&quot;order_date&quot;:&quot;2013-07-25 00:00:00.0&quot;,&quot;order_customer_id&quot;:8646,&quot;order_status&quot;:&quot;COMPLETE&quot;}\n{&quot;order_id&quot;:72,&quot;order_date&quot;:&quot;2013-07-25 00:00:00.0&quot;,&quot;order_customer_id&quot;:4349,&quot;order_status&quot;:&quot;COMPLETE&quot;}\n{&quot;order_id&quot;:73,&quot;order_date&quot;:&quot;2013-07-25 00:00:00.0&quot;,&quot;order_customer_id&quot;:8504,&quot;order_status&quot;:&quot;PENDING_PAYMENT&quot;}\n{&quot;order_id&quot;:74,&quot;order_date&quot;:&quot;2013-07-25 00:00:00.0&quot;,&quot;order_customer_id&quot;:662,&quot;order_status&quot;:&quot;PENDING_PAYMENT&quot;}\n{&quot;order_id&quot;:75,&quot;order_date&quot;:&quot;2013-07-25 00:00:00.0&quot;,&quot;order_customer_id&quot;:2505,&quot;order_status&quot;:&quot;PENDING_PAYMENT&quot;}\n{&quot;order_id&quot;:76,&quot;order_date&quot;:&quot;2013-07-25 00:00:00.0&quot;,&quot;order_customer_id&quot;:6898,&quot;order_status&quot;:&quot;COMPLETE&quot;}\n{&quot;order_id&quot;:77,&quot;order_date&quot;:&quot;2013-07-25 00:00:00.0&quot;,&quot;order_customer_id&quot;:7915,&quot;order_status&quot;:&quot;PENDING_PAYMENT&quot;}\n{&quot;order_id&quot;:78,&quot;order_date&quot;:&quot;2013-07-25 00:00:00.0&quot;,&quot;order_customer_id&quot;:8619,&quot;order_status&quot;:&quot;PAYMENT_REVIEW&quot;}\n{&quot;order_id&quot;:79,&quot;order_date&quot;:&quot;2013-07-25 00:00:00.0&quot;,&quot;order_customer_id&quot;:7327,&quot;order_status&quot;:&quot;PENDING_PAYMENT&quot;}\n{&quot;order_id&quot;:80,&quot;order_date&quot;:&quot;2013-07-25 00:00:00.0&quot;,&quot;order_customer_id&quot;:3007,&quot;order_status&quot;:&quot;COMPLETE&quot;}\n{&quot;order_id&quot;:81,&quot;order_date&quot;:&quot;2013-07-25 00:00:00.0&quot;,&quot;order_customer_id&quot;:674,&quot;order_status&quot;:&quot;PROCESSING&quot;}\n{&quot;order_id&quot;:82,&quot;order_date&quot;:&quot;2013-07-25 00:00:00.0&quot;,&quot;order_customer_id&quot;:3566,&quot;order_status&quot;:&quot;PENDING_PAYMENT&quot;}\n{&quot;order_id&quot;:83,&quot;order_date&quot;:&quot;2013-07-25 00:00:00.0&quot;,&quot;order_customer_id&quot;:1265,&quot;order_status&quot;:&quot;COMPLETE&quot;}\n{&quot;order_id&quot;:84,&quot;order_date&quot;:&quot;2013-07-25 00:00:00.0&quot;,&quot;order_customer_id&quot;:6789,&quot;order_status&quot;:&quot;PROCESSING&quot;}\n{&quot;order_id&quot;:85,&quot;order_date&quot;:&quot;2013-07-25 00:00:00.0&quot;,&quot;order_customer_id&quot;:1485,&quot;order_status&quot;:&quot;PENDING&quot;}\n{&quot;order_id&quot;:86,&quot;order_date&quot;:&quot;2013-07-25 00:00:00.0&quot;,&quot;order_customer_id&quot;:6680,&quot;order_status&quot;:&quot;PENDING_PAYMENT&quot;}\n{&quot;order_id&quot;:87,&quot;order_date&quot;:&quot;2013-07-25 00:00:00.0&quot;,&quot;order_customer_id&quot;:3065,&quot;order_status&quot;:&quot;CLOSED&quot;}\n{&quot;order_id&quot;:88,&quot;order_date&quot;:&quot;2013-07-25 00:00:00.0&quot;,&quot;order_customer_id&quot;:3809,&quot;order_status&quot;:&quot;COMPLETE&quot;}\n{&quot;order_id&quot;:89,&quot;order_date&quot;:&quot;2013-07-25 00:00:00.0&quot;,&quot;order_customer_id&quot;:824,&quot;order_status&quot;:&quot;ON_HOLD&quot;}\n{&quot;order_id&quot;:90,&quot;order_date&quot;:&quot;2013-07-25 00:00:00.0&quot;,&quot;order_customer_id&quot;:9131,&quot;order_status&quot;:&quot;CLOSED&quot;}\n{&quot;order_id&quot;:91,&quot;order_date&quot;:&quot;2013-07-25 00:00:00.0&quot;,&quot;order_customer_id&quot;:8912,&quot;order_status&quot;:&quot;COMPLETE&quot;}\n{&quot;order_id&quot;:92,&quot;order_date&quot;:&quot;2013-07-25 00:00:00.0&quot;,&quot;order_customer_id&quot;:6932,&quot;order_status&quot;:&quot;COMPLETE&quot;}\n{&quot;order_id&quot;:93,&quot;order_date&quot;:&quot;2013-07-25 00:00:00.0&quot;,&quot;order_customer_id&quot;:2256,&quot;order_status&quot;:&quot;PENDING_PAYMENT&quot;}\n{&quot;order_id&quot;:94,&quot;order_date&quot;:&quot;2013-07-25 00:00:00.0&quot;,&quot;order_customer_id&quot;:11589,&quot;order_status&quot;:&quot;PROCESSING&quot;}\n{&quot;order_id&quot;:95,&quot;order_date&quot;:&quot;2013-07-25 00:00:00.0&quot;,&quot;order_customer_id&quot;:9032,&quot;order_status&quot;:&quot;COMPLETE&quot;}\n{&quot;order_id&quot;:96,&quot;order_date&quot;:&quot;2013-07-25 00:00:00.0&quot;,&quot;order_customer_id&quot;:8683,&quot;order_status&quot;:&quot;PENDING&quot;}\n{&quot;order_id&quot;:97,&quot;order_date&quot;:&quot;2013-07-25 00:00:00.0&quot;,&quot;order_customer_id&quot;:10784,&quot;order_status&quot;:&quot;PENDING&quot;}\n{&quot;order_id&quot;:98,&quot;order_date&quot;:&quot;2013-07-25 00:00:00.0&quot;,&quot;order_customer_id&quot;:5243,&quot;order_status&quot;:&quot;COMPLETE&quot;}\n{&quot;order_id&quot;:99,&quot;order_date&quot;:&quot;2013-07-25 00:00:00.0&quot;,&quot;order_customer_id&quot;:11542,&quot;order_status&quot;:&quot;PENDING_PAYMENT&quot;}\n{&quot;order_id&quot;:100,&quot;order_date&quot;:&quot;2013-07-25 00:00:00.0&quot;,&quot;order_customer_id&quot;:12131,&quot;order_status&quot;:&quot;PROCESSING&quot;}\n{&quot;order_id&quot;:101,&quot;order_date&quot;:&quot;2013-07-25 00:00:00.0&quot;,&quot;order_customer_id&quot;:5116,&quot;order_status&quot;:&quot;CLOSED&quot;}\n{&quot;order_id&quot;:102,&quot;order_date&quot;:&quot;2013-07-25 00:00:00.0&quot;,&quot;order_customer_id&quot;:8027,&quot;order_status&quot;:&quot;COMPLETE&quot;}\n{&quot;order_id&quot;:103,&quot;order_date&quot;:&quot;2013-07-25 00:00:00.0&quot;,&quot;order_customer_id&quot;:12256,&quot;order_status&quot;:&quot;PROCESSING&quot;}\n{&quot;order_id&quot;:104,&quot;order_date&quot;:&quot;2013-07-25 00:00:00.0&quot;,&quot;order_customer_id&quot;:7790,&quot;order_status&quot;:&quot;PENDING_PAYMENT&quot;}\n{&quot;order_id&quot;:105,&quot;order_date&quot;:&quot;2013-07-26 00:00:00.0&quot;,&quot;order_customer_id&quot;:8220,&quot;order_status&quot;:&quot;COMPLETE&quot;}\n{&quot;order_id&quot;:106,&quot;order_date&quot;:&quot;2013-07-26 00:00:00.0&quot;,&quot;order_customer_id&quot;:395,&quot;order_status&quot;:&quot;PROCESSING&quot;}\n{&quot;order_id&quot;:107,&quot;order_date&quot;:&quot;2013-07-26 00:00:00.0&quot;,&quot;order_customer_id&quot;:1845,&quot;order_status&quot;:&quot;COMPLETE&quot;}\n{&quot;order_id&quot;:108,&quot;order_date&quot;:&quot;2013-07-26 00:00:00.0&quot;,&quot;order_customer_id&quot;:12149,&quot;order_status&quot;:&quot;PROCESSING&quot;}\n{&quot;order_id&quot;:109,&quot;order_date&quot;:&quot;2013-07-26 00:00:00.0&quot;,&quot;order_customer_id&quot;:9345,&quot;order_status&quot;:&quot;PENDING_PAYMENT&quot;}\n{&quot;order_id&quot;:110,&quot;order_date&quot;:&quot;2013-07-26 00:00:00.0&quot;,&quot;order_customer_id&quot;:2746,&quot;order_status&quot;:&quot;COMPLETE&quot;}\n{&quot;order_id&quot;:111,&quot;order_date&quot;:&quot;2013-07-26 00:00:00.0&quot;,&quot;order_customer_id&quot;:4271,&quot;order_status&quot;:&quot;PROCESSING&quot;}\n{&quot;order_id&quot;:112,&quot;order_date&quot;:&quot;2013-07-26 00:00:00.0&quot;,&quot;order_customer_id&quot;:5375,&quot;order_status&quot;:&quot;CANCELED&quot;}\n{&quot;order_id&quot;:113,&quot;order_date&quot;:&quot;2013-07-26 00:00:00.0&quot;,&quot;order_customer_id&quot;:10216,&quot;order_status&quot;:&quot;PENDING_PAYMENT&quot;}\n{&quot;order_id&quot;:114,&quot;order_date&quot;:&quot;2013-07-26 00:00:00.0&quot;,&quot;order_customer_id&quot;:2091,&quot;order_status&quot;:&quot;COMPLETE&quot;}\n{&quot;order_id&quot;:115,&quot;order_date&quot;:&quot;2013-07-26 00:00:00.0&quot;,&quot;order_customer_id&quot;:104,&quot;order_status&quot;:&quot;PROCESSING&quot;}\n{&quot;order_id&quot;:116,&quot;order_date&quot;:&quot;2013-07-26 00:00:00.0&quot;,&quot;order_customer_id&quot;:8763,&quot;order_status&quot;:&quot;CLOSED&quot;}\n{&quot;order_id&quot;:117,&quot;order_date&quot;:&quot;2013-07-26 00:00:00.0&quot;,&quot;order_customer_id&quot;:58,&quot;order_status&quot;:&quot;SUSPECTED_FRAUD&quot;}\n{&quot;order_id&quot;:118,&quot;order_date&quot;:&quot;2013-07-26 00:00:00.0&quot;,&quot;order_customer_id&quot;:1737,&quot;order_status&quot;:&quot;COMPLETE&quot;}\n{&quot;order_id&quot;:119,&quot;order_date&quot;:&quot;2013-07-26 00:00:00.0&quot;,&quot;order_customer_id&quot;:8124,&quot;order_status&quot;:&quot;PENDING_PAYMENT&quot;}\n{&quot;order_id&quot;:120,&quot;order_date&quot;:&quot;2013-07-26 00:00:00.0&quot;,&quot;order_customer_id&quot;:356,&quot;order_status&quot;:&quot;PENDING_PAYMENT&quot;}\n{&quot;order_id&quot;:121,&quot;order_date&quot;:&quot;2013-07-26 00:00:00.0&quot;,&quot;order_customer_id&quot;:2074,&quot;order_status&quot;:&quot;PENDING&quot;}\n{&quot;order_id&quot;:122,&quot;order_date&quot;:&quot;2013-07-26 00:00:00.0&quot;,&quot;order_customer_id&quot;:2071,&quot;order_status&quot;:&quot;PROCESSING&quot;}\n{&quot;order_id&quot;:123,&quot;order_date&quot;:&quot;2013-07-26 00:00:00.0&quot;,&quot;order_customer_id&quot;:3695,&quot;order_status&quot;:&quot;PENDING_PAYMENT&quot;}\n{&quot;order_id&quot;:124,&quot;order_date&quot;:&quot;2013-07-26 00:00:00.0&quot;,&quot;order_customer_id&quot;:2374,&quot;order_status&quot;:&quot;COMPLETE&quot;}\n{&quot;order_id&quot;:125,&quot;order_date&quot;:&quot;2013-07-26 00:00:00.0&quot;,&quot;order_customer_id&quot;:4611,&quot;order_status&quot;:&quot;PENDING_PAYMENT&quot;}\n{&quot;order_id&quot;:126,&quot;order_date&quot;:&quot;2013-07-26 00:00:00.0&quot;,&quot;order_customer_id&quot;:610,&quot;order_status&quot;:&quot;COMPLETE&quot;}\n{&quot;order_id&quot;:127,&quot;order_date&quot;:&quot;2013-07-26 00:00:00.0&quot;,&quot;order_customer_id&quot;:5261,&quot;order_status&quot;:&quot;PENDING_PAYMENT&quot;}\n{&quot;order_id&quot;:128,&quot;order_date&quot;:&quot;2013-07-26 00:00:00.0&quot;,&quot;order_customer_id&quot;:2772,&quot;order_status&quot;:&quot;PENDING_PAYMENT&quot;}\n{&quot;order_id&quot;:129,&quot;order_date&quot;:&quot;2013-07-26 00:00:00.0&quot;,&quot;order_customer_id&quot;:9937,&quot;order_status&quot;:&quot;CLOSED&quot;}\n{&quot;order_id&quot;:130,&quot;order_date&quot;:&quot;2013-07-26 00:00:00.0&quot;,&quot;order_customer_id&quot;:7509,&quot;order_status&quot;:&quot;PENDING_PAYMENT&quot;}\n{&quot;order_id&quot;:131,&quot;order_date&quot;:&quot;2013-07-26 00:00:00.0&quot;,&quot;order_customer_id&quot;:10072,&quot;order_status&quot;:&quot;PROCESSING&quot;}\n{&quot;order_id&quot;:132,&quot;order_date&quot;:&quot;2013-07-26 00:00:00.0&quot;,&quot;order_customer_id&quot;:289,&quot;order_status&quot;:&quot;PENDING&quot;}\n{&quot;order_id&quot;:133,&quot;order_date&quot;:&quot;2013-07-26 00:00:00.0&quot;,&quot;order_customer_id&quot;:10604,&quot;order_status&quot;:&quot;CLOSED&quot;}\n{&quot;order_id&quot;:134,&quot;order_date&quot;:&quot;2013-07-26 00:00:00.0&quot;,&quot;order_customer_id&quot;:12081,&quot;order_status&quot;:&quot;PENDING_PAYMENT&quot;}\n{&quot;order_id&quot;:135,&quot;order_date&quot;:&quot;2013-07-26 00:00:00.0&quot;,&quot;order_customer_id&quot;:7738,&quot;order_status&quot;:&quot;COMPLETE&quot;}\n{&quot;order_id&quot;:136,&quot;order_date&quot;:&quot;2013-07-26 00:00:00.0&quot;,&quot;order_customer_id&quot;:9126,&quot;order_status&quot;:&quot;PENDING_PAYMENT&quot;}\n{&quot;order_id&quot;:137,&quot;order_date&quot;:&quot;2013-07-26 00:00:00.0&quot;,&quot;order_customer_id&quot;:4211,&quot;order_status&quot;:&quot;COMPLETE&quot;}\n{&quot;order_id&quot;:138,&quot;order_date&quot;:&quot;2013-07-26 00:00:00.0&quot;,&quot;order_customer_id&quot;:10904,&quot;order_status&quot;:&quot;PROCESSING&quot;}\n{&quot;order_id&quot;:139,&quot;order_date&quot;:&quot;2013-07-26 00:00:00.0&quot;,&quot;order_customer_id&quot;:7933,&quot;order_status&quot;:&quot;COMPLETE&quot;}\n{&quot;order_id&quot;:140,&quot;order_date&quot;:&quot;2013-07-26 00:00:00.0&quot;,&quot;order_customer_id&quot;:4257,&quot;order_status&quot;:&quot;PENDING_PAYMENT&quot;}\n{&quot;order_id&quot;:141,&quot;order_date&quot;:&quot;2013-07-26 00:00:00.0&quot;,&quot;order_customer_id&quot;:12128,&quot;order_status&quot;:&quot;COMPLETE&quot;}\n{&quot;order_id&quot;:142,&quot;order_date&quot;:&quot;2013-07-26 00:00:00.0&quot;,&quot;order_customer_id&quot;:5760,&quot;order_status&quot;:&quot;PENDING_PAYMENT&quot;}\n{&quot;order_id&quot;:143,&quot;order_date&quot;:&quot;2013-07-26 00:00:00.0&quot;,&quot;order_customer_id&quot;:10495,&quot;order_status&quot;:&quot;COMPLETE&quot;}\n{&quot;order_id&quot;:144,&quot;order_date&quot;:&quot;2013-07-26 00:00:00.0&quot;,&quot;order_customer_id&quot;:2158,&quot;order_status&quot;:&quot;PROCESSING&quot;}\n{&quot;order_id&quot;:145,&quot;order_date&quot;:&quot;2013-07-26 00:00:00.0&quot;,&quot;order_customer_id&quot;:494,&quot;order_status&quot;:&quot;ON_HOLD&quot;}\n{&quot;order_id&quot;:146,&quot;order_date&quot;:&quot;2013-07-26 00:00:00.0&quot;,&quot;order_customer_id&quot;:8177,&quot;order_status&quot;:&quot;COMPLETE&quot;}\n{&quot;order_id&quot;:147,&quot;order_date&quot;:&quot;2013-07-26 00:00:00.0&quot;,&quot;order_customer_id&quot;:275,&quot;order_status&quot;:&quot;PENDING_PAYMENT&quot;}\n{&quot;order_id&quot;:148,&quot;order_date&quot;:&quot;2013-07-26 00:00:00.0&quot;,&quot;order_customer_id&quot;:5383,&quot;order_status&quot;:&quot;PROCESSING&quot;}\n{&quot;order_id&quot;:149,&quot;order_date&quot;:&quot;2013-07-26 00:00:00.0&quot;,&quot;order_customer_id&quot;:11431,&quot;order_status&quot;:&quot;COMPLETE&quot;}\n{&quot;order_id&quot;:150,&quot;order_date&quot;:&quot;2013-07-26 00:00:00.0&quot;,&quot;order_customer_id&quot;:236,&quot;order_status&quot;:&quot;PROCESSING&quot;}\n{&quot;order_id&quot;:151,&quot;order_date&quot;:&quot;2013-07-26 00:00:00.0&quot;,&quot;order_customer_id&quot;:2493,&quot;order_status&quot;:&quot;ON_HOLD&quot;}\n{&quot;order_id&quot;:152,&quot;order_date&quot;:&quot;2013-07-26 00:00:00.0&quot;,&quot;order_customer_id&quot;:3611,&quot;order_status&quot;:&quot;COMPLETE&quot;}\n{&quot;order_id&quot;:153,&quot;order_date&quot;:&quot;2013-07-26 00:00:00.0&quot;,&quot;order_customer_id&quot;:8876,&quot;order_status&quot;:&quot;COMPLETE&quot;}\n{&quot;order_id&quot;:154,&quot;order_date&quot;:&quot;2013-07-26 00:00:00.0&quot;,&quot;order_customer_id&quot;:9993,&quot;order_status&quot;:&quot;ON_HOLD&quot;}\n{&quot;order_id&quot;:155,&quot;order_date&quot;:&quot;2013-07-26 00:00:00.0&quot;,&quot;order_customer_id&quot;:9044,&quot;order_status&quot;:&quot;PENDING_PAYMENT&quot;}\n{&quot;order_id&quot;:156,&quot;order_date&quot;:&quot;2013-07-26 00:00:00.0&quot;,&quot;order_customer_id&quot;:5200,&quot;order_status&quot;:&quot;ON_HOLD&quot;}\n{&quot;order_id&quot;:157,&quot;order_date&quot;:&quot;2013-07-26 00:00:00.0&quot;,&quot;order_customer_id&quot;:8986,&quot;order_status&quot;:&quot;ON_HOLD&quot;}\n{&quot;order_id&quot;:158,&quot;order_date&quot;:&quot;2013-07-26 00:00:00.0&quot;,&quot;order_customer_id&quot;:12345,&quot;order_status&quot;:&quot;PENDING&quot;}\n{&quot;order_id&quot;:159,&quot;order_date&quot;:&quot;2013-07-26 00:00:00.0&quot;,&quot;order_customer_id&quot;:10974,&quot;order_status&quot;:&quot;PENDING_PAYMENT&quot;}\n{&quot;order_id&quot;:160,&quot;order_date&quot;:&quot;2013-07-26 00:00:00.0&quot;,&quot;order_customer_id&quot;:6762,&quot;order_status&quot;:&quot;COMPLETE&quot;}\n{&quot;order_id&quot;:161,&quot;order_date&quot;:&quot;2013-07-26 00:00:00.0&quot;,&quot;order_customer_id&quot;:4513,&quot;order_status&quot;:&quot;PENDING_PAYMENT&quot;}\n{&quot;order_id&quot;:162,&quot;order_date&quot;:&quot;2013-07-26 00:00:00.0&quot;,&quot;order_customer_id&quot;:3304,&quot;order_status&quot;:&quot;PENDING_PAYMENT&quot;}\n{&quot;order_id&quot;:163,&quot;order_date&quot;:&quot;2013-07-26 00:00:00.0&quot;,&quot;order_customer_id&quot;:3348,&quot;order_status&quot;:&quot;COMPLETE&quot;}\n{&quot;order_id&quot;:164,&quot;order_date&quot;:&quot;2013-07-26 00:00:00.0&quot;,&quot;order_customer_id&quot;:2962,&quot;order_status&quot;:&quot;PROCESSING&quot;}\n{&quot;order_id&quot;:165,&quot;order_date&quot;:&quot;2013-07-26 00:00:00.0&quot;,&quot;order_customer_id&quot;:1222,&quot;order_status&quot;:&quot;PENDING_PAYMENT&quot;}\n{&quot;order_id&quot;:166,&quot;order_date&quot;:&quot;2013-07-26 00:00:00.0&quot;,&quot;order_customer_id&quot;:7834,&quot;order_status&quot;:&quot;PROCESSING&quot;}\n{&quot;order_id&quot;:167,&quot;order_date&quot;:&quot;2013-07-26 00:00:00.0&quot;,&quot;order_customer_id&quot;:1347,&quot;order_status&quot;:&quot;PENDING&quot;}\n{&quot;order_id&quot;:168,&quot;order_date&quot;:&quot;2013-07-26 00:00:00.0&quot;,&quot;order_customer_id&quot;:11794,&quot;order_status&quot;:&quot;PENDING_PAYMENT&quot;}\n{&quot;order_id&quot;:169,&quot;order_date&quot;:&quot;2013-07-26 00:00:00.0&quot;,&quot;order_customer_id&quot;:2611,&quot;order_status&quot;:&quot;ON_HOLD&quot;}\n{&quot;order_id&quot;:170,&quot;order_date&quot;:&quot;2013-07-26 00:00:00.0&quot;,&quot;order_customer_id&quot;:6295,&quot;order_status&quot;:&quot;PAYMENT_REVIEW&quot;}\n{&quot;order_id&quot;:171,&quot;order_date&quot;:&quot;2013-07-26 00:00:00.0&quot;,&quot;order_customer_id&quot;:1980,&quot;order_status&quot;:&quot;COMPLETE&quot;}\n{&quot;order_id&quot;:172,&quot;order_date&quot;:&quot;2013-07-26 00:00:00.0&quot;,&quot;order_customer_id&quot;:11382,&quot;order_status&quot;:&quot;COMPLETE&quot;}\n{&quot;order_id&quot;:173,&quot;order_date&quot;:&quot;2013-07-26 00:00:00.0&quot;,&quot;order_customer_id&quot;:9027,&quot;order_status&quot;:&quot;ON_HOLD&quot;}\n{&quot;order_id&quot;:174,&quot;order_date&quot;:&quot;2013-07-26 00:00:00.0&quot;,&quot;order_customer_id&quot;:3358,&quot;order_status&quot;:&quot;COMPLETE&quot;}\n{&quot;order_id&quot;:175,&quot;order_date&quot;:&quot;2013-07-26 00:00:00.0&quot;,&quot;order_customer_id&quot;:384,&quot;order_status&quot;:&quot;COMPLETE&quot;}\n{&quot;order_id&quot;:176,&quot;order_date&quot;:&quot;2013-07-26 00:00:00.0&quot;,&quot;order_customer_id&quot;:2897,&quot;order_status&quot;:&quot;PENDING_PAYMENT&quot;}\n{&quot;order_id&quot;:177,&quot;order_date&quot;:&quot;2013-07-26 00:00:00.0&quot;,&quot;order_customer_id&quot;:9151,&quot;order_status&quot;:&quot;PENDING_PAYMENT&quot;}\n{&quot;order_id&quot;:178,&quot;order_date&quot;:&quot;2013-07-26 00:00:00.0&quot;,&quot;order_customer_id&quot;:8503,&quot;order_status&quot;:&quot;COMPLETE&quot;}\n{&quot;order_id&quot;:179,&quot;order_date&quot;:&quot;2013-07-26 00:00:00.0&quot;,&quot;order_customer_id&quot;:6506,&quot;order_status&quot;:&quot;COMPLETE&quot;}\n{&quot;order_id&quot;:180,&quot;order_date&quot;:&quot;2013-07-26 00:00:00.0&quot;,&quot;order_customer_id&quot;:10215,&quot;order_status&quot;:&quot;ON_HOLD&quot;}\n{&quot;order_id&quot;:181,&quot;order_date&quot;:&quot;2013-07-26 00:00:00.0&quot;,&quot;order_customer_id&quot;:7473,&quot;order_status&quot;:&quot;PENDING&quot;}\n{&quot;order_id&quot;:182,&quot;order_date&quot;:&quot;2013-07-26 00:00:00.0&quot;,&quot;order_customer_id&quot;:10984,&quot;order_status&quot;:&quot;COMPLETE&quot;}\n{&quot;order_id&quot;:183,&quot;order_date&quot;:&quot;2013-07-26 00:00:00.0&quot;,&quot;order_customer_id&quot;:12105,&quot;order_status&quot;:&quot;COMPLETE&quot;}\n{&quot;order_id&quot;:184,&quot;order_date&quot;:&quot;2013-07-26 00:00:00.0&quot;,&quot;order_customer_id&quot;:210,&quot;order_status&quot;:&quot;COMPLETE&quot;}\n{&quot;order_id&quot;:185,&quot;order_date&quot;:&quot;2013-07-26 00:00:00.0&quot;,&quot;order_customer_id&quot;:10966,&quot;order_status&quot;:&quot;PENDING_PAYMENT&quot;}\n{&quot;order_id&quot;:186,&quot;order_date&quot;:&quot;2013-07-26 00:00:00.0&quot;,&quot;order_customer_id&quot;:1104,&quot;order_status&quot;:&quot;COMPLETE&quot;}\n{&quot;order_id&quot;:187,&quot;order_date&quot;:&quot;2013-07-26 00:00:00.0&quot;,&quot;order_customer_id&quot;:1378,&quot;order_status&quot;:&quot;PAYMENT_REVIEW&quot;}\n{&quot;order_id&quot;:188,&quot;order_date&quot;:&quot;2013-07-26 00:00:00.0&quot;,&quot;order_customer_id&quot;:2889,&quot;order_status&quot;:&quot;PENDING&quot;}\n{&quot;order_id&quot;:189,&quot;order_date&quot;:&quot;2013-07-26 00:00:00.0&quot;,&quot;order_customer_id&quot;:10177,&quot;order_status&quot;:&quot;PENDING&quot;}\n{&quot;order_id&quot;:190,&quot;order_date&quot;:&quot;2013-07-26 00:00:00.0&quot;,&quot;order_customer_id&quot;:11115,&quot;order_status&quot;:&quot;PENDING&quot;}\n{&quot;order_id&quot;:191,&quot;order_date&quot;:&quot;2013-07-26 00:00:00.0&quot;,&quot;order_customer_id&quot;:16,&quot;order_status&quot;:&quot;CLOSED&quot;}\n{&quot;order_id&quot;:192,&quot;order_date&quot;:&quot;2013-07-26 00:00:00.0&quot;,&quot;order_customer_id&quot;:5293,&quot;order_status&quot;:&quot;PROCESSING&quot;}\n{&quot;order_id&quot;:193,&quot;order_date&quot;:&quot;2013-07-26 00:00:00.0&quot;,&quot;order_customer_id&quot;:6174,&quot;order_status&quot;:&quot;PROCESSING&quot;}\n{&quot;order_id&quot;:194,&quot;order_date&quot;:&quot;2013-07-26 00:00:00.0&quot;,&quot;order_customer_id&quot;:2550,&quot;order_status&quot;:&quot;PENDING_PAYMENT&quot;}\n{&quot;order_id&quot;:195,&quot;order_date&quot;:&quot;2013-07-26 00:00:00.0&quot;,&quot;order_customer_id&quot;:12096,&quot;order_status&quot;:&quot;PROCESSING&quot;}\n{&quot;order_id&quot;:196,&quot;order_date&quot;:&quot;2013-07-26 00:00:00.0&quot;,&quot;order_customer_id&quot;:2765,&quot;order_status&quot;:&quot;PROCESSING&quot;}\n{&quot;order_id&quot;:197,&quot;order_date&quot;:&quot;2013-07-26 00:00:00.0&quot;,&quot;order_customer_id&quot;:6370,&quot;order_status&quot;:&quot;PROCESSING&quot;}\n{&quot;order_id&quot;:198,&quot;order_date&quot;:&quot;2013-07-26 00:00:00.0&quot;,&quot;order_customer_id&quot;:7436,&quot;order_status&quot;:&quot;PENDING_PAYMENT&quot;}\n{&quot;order_id&quot;:199,&quot;order_date&quot;:&quot;2013-07-26 00:00:00.0&quot;,&quot;order_customer_id&quot;:4608,&quot;order_status&quot;:&quot;ON_HOLD&quot;}\n{&quot;order_id&quot;:200,&quot;order_date&quot;:&quot;2013-07-26 00:00:00.0&quot;,&quot;order_customer_id&quot;:11116,&quot;order_status&quot;:&quot;PAYMENT_REVIEW&quot;}\n{&quot;order_id&quot;:201,&quot;order_date&quot;:&quot;2013-07-26 00:00:00.0&quot;,&quot;order_customer_id&quot;:9055,&quot;order_status&quot;:&quot;CLOSED&quot;}\n{&quot;order_id&quot;:202,&quot;order_date&quot;:&quot;2013-07-26 00:00:00.0&quot;,&quot;order_customer_id&quot;:8524,&quot;order_status&quot;:&quot;PENDING_PAYMENT&quot;}\n{&quot;order_id&quot;:203,&quot;order_date&quot;:&quot;2013-07-26 00:00:00.0&quot;,&quot;order_customer_id&quot;:11791,&quot;order_status&quot;:&quot;PENDING_PAYMENT&quot;}\n{&quot;order_id&quot;:204,&quot;order_date&quot;:&quot;2013-07-26 00:00:00.0&quot;,&quot;order_customer_id&quot;:7604,&quot;order_status&quot;:&quot;PENDING_PAYMENT&quot;}\n{&quot;order_id&quot;:205,&quot;order_date&quot;:&quot;2013-07-26 00:00:00.0&quot;,&quot;order_customer_id&quot;:3109,&quot;order_status&quot;:&quot;PROCESSING&quot;}\n{&quot;order_id&quot;:206,&quot;order_date&quot;:&quot;2013-07-26 00:00:00.0&quot;,&quot;order_customer_id&quot;:8994,&quot;order_status&quot;:&quot;PENDING&quot;}\n{&quot;order_id&quot;:207,&quot;order_date&quot;:&quot;2013-07-26 00:00:00.0&quot;,&quot;order_customer_id&quot;:11643,&quot;order_status&quot;:&quot;COMPLETE&quot;}\n{&quot;order_id&quot;:208,&quot;order_date&quot;:&quot;2013-07-26 00:00:00.0&quot;,&quot;order_customer_id&quot;:7923,&quot;order_status&quot;:&quot;PROCESSING&quot;}\n{&quot;order_id&quot;:209,&quot;order_date&quot;:&quot;2013-07-26 00:00:00.0&quot;,&quot;order_customer_id&quot;:3627,&quot;order_status&quot;:&quot;PENDING&quot;}\n{&quot;order_id&quot;:210,&quot;order_date&quot;:&quot;2013-07-26 00:00:00.0&quot;,&quot;order_customer_id&quot;:10102,&quot;order_status&quot;:&quot;COMPLETE&quot;}\n{&quot;order_id&quot;:211,&quot;order_date&quot;:&quot;2013-07-26 00:00:00.0&quot;,&quot;order_customer_id&quot;:10372,&quot;order_status&quot;:&quot;CLOSED&quot;}\n{&quot;order_id&quot;:212,&quot;order_date&quot;:&quot;2013-07-26 00:00:00.0&quot;,&quot;order_customer_id&quot;:3190,&quot;order_status&quot;:&quot;PENDING&quot;}\n{&quot;order_id&quot;:213,&quot;order_date&quot;:&quot;2013-07-26 00:00:00.0&quot;,&quot;order_customer_id&quot;:11715,&quot;order_status&quot;:&quot;CLOSED&quot;}\n{&quot;order_id&quot;:214,&quot;order_date&quot;:&quot;2013-07-26 00:00:00.0&quot;,&quot;order_customer_id&quot;:3925,&quot;order_status&quot;:&quot;COMPLETE&quot;}\n{&quot;order_id&quot;:215,&quot;order_date&quot;:&quot;2013-07-26 00:00:00.0&quot;,&quot;order_customer_id&quot;:5925,&quot;order_status&quot;:&quot;CLOSED&quot;}\n{&quot;order_id&quot;:216,&quot;order_date&quot;:&quot;2013-07-26 00:00:00.0&quot;,&quot;order_customer_id&quot;:7282,&quot;order_status&quot;:&quot;PENDING&quot;}\n{&quot;order_id&quot;:217,&quot;order_date&quot;:&quot;2013-07-26 00:00:00.0&quot;,&quot;order_customer_id&quot;:5420,&quot;order_status&quot;:&quot;PROCESSING&quot;}\n{&quot;order_id&quot;:218,&quot;order_date&quot;:&quot;2013-07-26 00:00:00.0&quot;,&quot;order_customer_id&quot;:3935,&quot;order_status&quot;:&quot;COMPLETE&quot;}\n{&quot;order_id&quot;:219,&quot;order_date&quot;:&quot;2013-07-26 00:00:00.0&quot;,&quot;order_customer_id&quot;:10655,&quot;order_status&quot;:&quot;PROCESSING&quot;}\n{&quot;order_id&quot;:220,&quot;order_date&quot;:&quot;2013-07-26 00:00:00.0&quot;,&quot;order_customer_id&quot;:1383,&quot;order_status&quot;:&quot;COMPLETE&quot;}\n{&quot;order_id&quot;:221,&quot;order_date&quot;:&quot;2013-07-26 00:00:00.0&quot;,&quot;order_customer_id&quot;:11871,&quot;order_status&quot;:&quot;CLOSED&quot;}\n{&quot;order_id&quot;:222,&quot;order_date&quot;:&quot;2013-07-26 00:00:00.0&quot;,&quot;order_customer_id&quot;:8309,&quot;order_status&quot;:&quot;CLOSED&quot;}\n{&quot;order_id&quot;:223,&quot;order_date&quot;:&quot;2013-07-26 00:00:00.0&quot;,&quot;order_customer_id&quot;:9068,&quot;order_status&quot;:&quot;PENDING&quot;}\n{&quot;order_id&quot;:224,&quot;order_date&quot;:&quot;2013-07-26 00:00:00.0&quot;,&quot;order_customer_id&quot;:11938,&quot;order_status&quot;:&quot;CLOSED&quot;}\n{&quot;order_id&quot;:225,&quot;order_date&quot;:&quot;2013-07-26 00:00:00.0&quot;,&quot;order_customer_id&quot;:11275,&quot;order_status&quot;:&quot;COMPLETE&quot;}\n{&quot;order_id&quot;:226,&quot;order_date&quot;:&quot;2013-07-26 00:00:00.0&quot;,&quot;order_customer_id&quot;:9356,&quot;order_status&quot;:&quot;PENDING_PAYMENT&quot;}\n{&quot;order_id&quot;:227,&quot;order_date&quot;:&quot;2013-07-26 00:00:00.0&quot;,&quot;order_customer_id&quot;:7410,&quot;order_status&quot;:&quot;CLOSED&quot;}\n{&quot;order_id&quot;:228,&quot;order_date&quot;:&quot;2013-07-26 00:00:00.0&quot;,&quot;order_customer_id&quot;:6070,&quot;order_status&quot;:&quot;ON_HOLD&quot;}\n{&quot;order_id&quot;:229,&quot;order_date&quot;:&quot;2013-07-26 00:00:00.0&quot;,&quot;order_customer_id&quot;:618,&quot;order_status&quot;:&quot;PENDING&quot;}\n{&quot;order_id&quot;:230,&quot;order_date&quot;:&quot;2013-07-26 00:00:00.0&quot;,&quot;order_customer_id&quot;:4921,&quot;order_status&quot;:&quot;PENDING_PAYMENT&quot;}\n{&quot;order_id&quot;:231,&quot;order_date&quot;:&quot;2013-07-26 00:00:00.0&quot;,&quot;order_customer_id&quot;:3960,&quot;order_status&quot;:&quot;COMPLETE&quot;}\n{&quot;order_id&quot;:232,&quot;order_date&quot;:&quot;2013-07-26 00:00:00.0&quot;,&quot;order_customer_id&quot;:1780,&quot;order_status&quot;:&quot;PENDING_PAYMENT&quot;}\n{&quot;order_id&quot;:233,&quot;order_date&quot;:&quot;2013-07-26 00:00:00.0&quot;,&quot;order_customer_id&quot;:12316,&quot;order_status&quot;:&quot;COMPLETE&quot;}\n{&quot;order_id&quot;:234,&quot;order_date&quot;:&quot;2013-07-26 00:00:00.0&quot;,&quot;order_customer_id&quot;:1010,&quot;order_status&quot;:&quot;ON_HOLD&quot;}\n\n*** WARNING: skipped 15687 bytes of output ***\n\n{&quot;order_id&quot;:382,&quot;order_date&quot;:&quot;2013-07-27 00:00:00.0&quot;,&quot;order_customer_id&quot;:8143,&quot;order_status&quot;:&quot;PROCESSING&quot;}\n{&quot;order_id&quot;:383,&quot;order_date&quot;:&quot;2013-07-27 00:00:00.0&quot;,&quot;order_customer_id&quot;:10509,&quot;order_status&quot;:&quot;PENDING_PAYMENT&quot;}\n{&quot;order_id&quot;:384,&quot;order_date&quot;:&quot;2013-07-27 00:00:00.0&quot;,&quot;order_customer_id&quot;:2610,&quot;order_status&quot;:&quot;CLOSED&quot;}\n{&quot;order_id&quot;:385,&quot;order_date&quot;:&quot;2013-07-27 00:00:00.0&quot;,&quot;order_customer_id&quot;:10667,&quot;order_status&quot;:&quot;COMPLETE&quot;}\n{&quot;order_id&quot;:386,&quot;order_date&quot;:&quot;2013-07-27 00:00:00.0&quot;,&quot;order_customer_id&quot;:3568,&quot;order_status&quot;:&quot;PENDING&quot;}\n{&quot;order_id&quot;:387,&quot;order_date&quot;:&quot;2013-07-27 00:00:00.0&quot;,&quot;order_customer_id&quot;:7193,&quot;order_status&quot;:&quot;CLOSED&quot;}\n{&quot;order_id&quot;:388,&quot;order_date&quot;:&quot;2013-07-27 00:00:00.0&quot;,&quot;order_customer_id&quot;:2790,&quot;order_status&quot;:&quot;COMPLETE&quot;}\n{&quot;order_id&quot;:389,&quot;order_date&quot;:&quot;2013-07-27 00:00:00.0&quot;,&quot;order_customer_id&quot;:4435,&quot;order_status&quot;:&quot;COMPLETE&quot;}\n{&quot;order_id&quot;:390,&quot;order_date&quot;:&quot;2013-07-27 00:00:00.0&quot;,&quot;order_customer_id&quot;:5590,&quot;order_status&quot;:&quot;PENDING&quot;}\n{&quot;order_id&quot;:391,&quot;order_date&quot;:&quot;2013-07-27 00:00:00.0&quot;,&quot;order_customer_id&quot;:5816,&quot;order_status&quot;:&quot;PENDING_PAYMENT&quot;}\n{&quot;order_id&quot;:392,&quot;order_date&quot;:&quot;2013-07-27 00:00:00.0&quot;,&quot;order_customer_id&quot;:3238,&quot;order_status&quot;:&quot;PENDING&quot;}\n{&quot;order_id&quot;:393,&quot;order_date&quot;:&quot;2013-07-27 00:00:00.0&quot;,&quot;order_customer_id&quot;:1047,&quot;order_status&quot;:&quot;CLOSED&quot;}\n{&quot;order_id&quot;:394,&quot;order_date&quot;:&quot;2013-07-27 00:00:00.0&quot;,&quot;order_customer_id&quot;:76,&quot;order_status&quot;:&quot;PENDING_PAYMENT&quot;}\n{&quot;order_id&quot;:395,&quot;order_date&quot;:&quot;2013-07-27 00:00:00.0&quot;,&quot;order_customer_id&quot;:3934,&quot;order_status&quot;:&quot;COMPLETE&quot;}\n{&quot;order_id&quot;:396,&quot;order_date&quot;:&quot;2013-07-27 00:00:00.0&quot;,&quot;order_customer_id&quot;:9078,&quot;order_status&quot;:&quot;PAYMENT_REVIEW&quot;}\n{&quot;order_id&quot;:397,&quot;order_date&quot;:&quot;2013-07-27 00:00:00.0&quot;,&quot;order_customer_id&quot;:4476,&quot;order_status&quot;:&quot;CLOSED&quot;}\n{&quot;order_id&quot;:398,&quot;order_date&quot;:&quot;2013-07-27 00:00:00.0&quot;,&quot;order_customer_id&quot;:1365,&quot;order_status&quot;:&quot;ON_HOLD&quot;}\n{&quot;order_id&quot;:399,&quot;order_date&quot;:&quot;2013-07-27 00:00:00.0&quot;,&quot;order_customer_id&quot;:1473,&quot;order_status&quot;:&quot;PROCESSING&quot;}\n{&quot;order_id&quot;:400,&quot;order_date&quot;:&quot;2013-07-27 00:00:00.0&quot;,&quot;order_customer_id&quot;:5626,&quot;order_status&quot;:&quot;PENDING&quot;}\n{&quot;order_id&quot;:401,&quot;order_date&quot;:&quot;2013-07-27 00:00:00.0&quot;,&quot;order_customer_id&quot;:9692,&quot;order_status&quot;:&quot;PROCESSING&quot;}\n{&quot;order_id&quot;:402,&quot;order_date&quot;:&quot;2013-07-27 00:00:00.0&quot;,&quot;order_customer_id&quot;:9547,&quot;order_status&quot;:&quot;PENDING_PAYMENT&quot;}\n{&quot;order_id&quot;:403,&quot;order_date&quot;:&quot;2013-07-27 00:00:00.0&quot;,&quot;order_customer_id&quot;:4178,&quot;order_status&quot;:&quot;COMPLETE&quot;}\n{&quot;order_id&quot;:404,&quot;order_date&quot;:&quot;2013-07-27 00:00:00.0&quot;,&quot;order_customer_id&quot;:1478,&quot;order_status&quot;:&quot;CLOSED&quot;}\n{&quot;order_id&quot;:405,&quot;order_date&quot;:&quot;2013-07-27 00:00:00.0&quot;,&quot;order_customer_id&quot;:9498,&quot;order_status&quot;:&quot;COMPLETE&quot;}\n{&quot;order_id&quot;:406,&quot;order_date&quot;:&quot;2013-07-27 00:00:00.0&quot;,&quot;order_customer_id&quot;:9023,&quot;order_status&quot;:&quot;COMPLETE&quot;}\n{&quot;order_id&quot;:407,&quot;order_date&quot;:&quot;2013-07-27 00:00:00.0&quot;,&quot;order_customer_id&quot;:3333,&quot;order_status&quot;:&quot;PROCESSING&quot;}\n{&quot;order_id&quot;:408,&quot;order_date&quot;:&quot;2013-07-27 00:00:00.0&quot;,&quot;order_customer_id&quot;:2252,&quot;order_status&quot;:&quot;PAYMENT_REVIEW&quot;}\n{&quot;order_id&quot;:409,&quot;order_date&quot;:&quot;2013-07-27 00:00:00.0&quot;,&quot;order_customer_id&quot;:11102,&quot;order_status&quot;:&quot;PROCESSING&quot;}\n{&quot;order_id&quot;:410,&quot;order_date&quot;:&quot;2013-07-27 00:00:00.0&quot;,&quot;order_customer_id&quot;:1288,&quot;order_status&quot;:&quot;PENDING&quot;}\n{&quot;order_id&quot;:411,&quot;order_date&quot;:&quot;2013-07-27 00:00:00.0&quot;,&quot;order_customer_id&quot;:11164,&quot;order_status&quot;:&quot;SUSPECTED_FRAUD&quot;}\n{&quot;order_id&quot;:412,&quot;order_date&quot;:&quot;2013-07-27 00:00:00.0&quot;,&quot;order_customer_id&quot;:9397,&quot;order_status&quot;:&quot;COMPLETE&quot;}\n{&quot;order_id&quot;:413,&quot;order_date&quot;:&quot;2013-07-27 00:00:00.0&quot;,&quot;order_customer_id&quot;:7278,&quot;order_status&quot;:&quot;CLOSED&quot;}\n{&quot;order_id&quot;:414,&quot;order_date&quot;:&quot;2013-07-27 00:00:00.0&quot;,&quot;order_customer_id&quot;:11776,&quot;order_status&quot;:&quot;PENDING&quot;}\n{&quot;order_id&quot;:415,&quot;order_date&quot;:&quot;2013-07-27 00:00:00.0&quot;,&quot;order_customer_id&quot;:6110,&quot;order_status&quot;:&quot;CLOSED&quot;}\n{&quot;order_id&quot;:416,&quot;order_date&quot;:&quot;2013-07-27 00:00:00.0&quot;,&quot;order_customer_id&quot;:1561,&quot;order_status&quot;:&quot;COMPLETE&quot;}\n{&quot;order_id&quot;:417,&quot;order_date&quot;:&quot;2013-07-27 00:00:00.0&quot;,&quot;order_customer_id&quot;:11491,&quot;order_status&quot;:&quot;PENDING_PAYMENT&quot;}\n{&quot;order_id&quot;:418,&quot;order_date&quot;:&quot;2013-07-27 00:00:00.0&quot;,&quot;order_customer_id&quot;:4269,&quot;order_status&quot;:&quot;COMPLETE&quot;}\n{&quot;order_id&quot;:419,&quot;order_date&quot;:&quot;2013-07-27 00:00:00.0&quot;,&quot;order_customer_id&quot;:8987,&quot;order_status&quot;:&quot;PENDING_PAYMENT&quot;}\n{&quot;order_id&quot;:420,&quot;order_date&quot;:&quot;2013-07-27 00:00:00.0&quot;,&quot;order_customer_id&quot;:4632,&quot;order_status&quot;:&quot;COMPLETE&quot;}\n{&quot;order_id&quot;:421,&quot;order_date&quot;:&quot;2013-07-27 00:00:00.0&quot;,&quot;order_customer_id&quot;:7839,&quot;order_status&quot;:&quot;PENDING&quot;}\n{&quot;order_id&quot;:422,&quot;order_date&quot;:&quot;2013-07-27 00:00:00.0&quot;,&quot;order_customer_id&quot;:9664,&quot;order_status&quot;:&quot;COMPLETE&quot;}\n{&quot;order_id&quot;:423,&quot;order_date&quot;:&quot;2013-07-27 00:00:00.0&quot;,&quot;order_customer_id&quot;:9632,&quot;order_status&quot;:&quot;SUSPECTED_FRAUD&quot;}\n{&quot;order_id&quot;:424,&quot;order_date&quot;:&quot;2013-07-27 00:00:00.0&quot;,&quot;order_customer_id&quot;:2457,&quot;order_status&quot;:&quot;PROCESSING&quot;}\n{&quot;order_id&quot;:425,&quot;order_date&quot;:&quot;2013-07-27 00:00:00.0&quot;,&quot;order_customer_id&quot;:10481,&quot;order_status&quot;:&quot;PENDING_PAYMENT&quot;}\n{&quot;order_id&quot;:426,&quot;order_date&quot;:&quot;2013-07-27 00:00:00.0&quot;,&quot;order_customer_id&quot;:10419,&quot;order_status&quot;:&quot;COMPLETE&quot;}\n{&quot;order_id&quot;:427,&quot;order_date&quot;:&quot;2013-07-27 00:00:00.0&quot;,&quot;order_customer_id&quot;:6681,&quot;order_status&quot;:&quot;COMPLETE&quot;}\n{&quot;order_id&quot;:428,&quot;order_date&quot;:&quot;2013-07-27 00:00:00.0&quot;,&quot;order_customer_id&quot;:3487,&quot;order_status&quot;:&quot;COMPLETE&quot;}\n{&quot;order_id&quot;:429,&quot;order_date&quot;:&quot;2013-07-27 00:00:00.0&quot;,&quot;order_customer_id&quot;:8466,&quot;order_status&quot;:&quot;CLOSED&quot;}\n{&quot;order_id&quot;:430,&quot;order_date&quot;:&quot;2013-07-27 00:00:00.0&quot;,&quot;order_customer_id&quot;:10779,&quot;order_status&quot;:&quot;PENDING_PAYMENT&quot;}\n{&quot;order_id&quot;:431,&quot;order_date&quot;:&quot;2013-07-27 00:00:00.0&quot;,&quot;order_customer_id&quot;:4676,&quot;order_status&quot;:&quot;CLOSED&quot;}\n{&quot;order_id&quot;:432,&quot;order_date&quot;:&quot;2013-07-27 00:00:00.0&quot;,&quot;order_customer_id&quot;:1197,&quot;order_status&quot;:&quot;COMPLETE&quot;}\n{&quot;order_id&quot;:433,&quot;order_date&quot;:&quot;2013-07-27 00:00:00.0&quot;,&quot;order_customer_id&quot;:792,&quot;order_status&quot;:&quot;PROCESSING&quot;}\n{&quot;order_id&quot;:434,&quot;order_date&quot;:&quot;2013-07-27 00:00:00.0&quot;,&quot;order_customer_id&quot;:11390,&quot;order_status&quot;:&quot;PENDING_PAYMENT&quot;}\n{&quot;order_id&quot;:435,&quot;order_date&quot;:&quot;2013-07-27 00:00:00.0&quot;,&quot;order_customer_id&quot;:5719,&quot;order_status&quot;:&quot;CLOSED&quot;}\n{&quot;order_id&quot;:436,&quot;order_date&quot;:&quot;2013-07-27 00:00:00.0&quot;,&quot;order_customer_id&quot;:7610,&quot;order_status&quot;:&quot;PROCESSING&quot;}\n{&quot;order_id&quot;:437,&quot;order_date&quot;:&quot;2013-07-27 00:00:00.0&quot;,&quot;order_customer_id&quot;:5351,&quot;order_status&quot;:&quot;COMPLETE&quot;}\n{&quot;order_id&quot;:438,&quot;order_date&quot;:&quot;2013-07-27 00:00:00.0&quot;,&quot;order_customer_id&quot;:8256,&quot;order_status&quot;:&quot;COMPLETE&quot;}\n{&quot;order_id&quot;:439,&quot;order_date&quot;:&quot;2013-07-27 00:00:00.0&quot;,&quot;order_customer_id&quot;:9353,&quot;order_status&quot;:&quot;COMPLETE&quot;}\n{&quot;order_id&quot;:440,&quot;order_date&quot;:&quot;2013-07-27 00:00:00.0&quot;,&quot;order_customer_id&quot;:7290,&quot;order_status&quot;:&quot;COMPLETE&quot;}\n{&quot;order_id&quot;:441,&quot;order_date&quot;:&quot;2013-07-27 00:00:00.0&quot;,&quot;order_customer_id&quot;:5239,&quot;order_status&quot;:&quot;PENDING_PAYMENT&quot;}\n{&quot;order_id&quot;:442,&quot;order_date&quot;:&quot;2013-07-27 00:00:00.0&quot;,&quot;order_customer_id&quot;:8098,&quot;order_status&quot;:&quot;COMPLETE&quot;}\n{&quot;order_id&quot;:443,&quot;order_date&quot;:&quot;2013-07-27 00:00:00.0&quot;,&quot;order_customer_id&quot;:8499,&quot;order_status&quot;:&quot;CLOSED&quot;}\n{&quot;order_id&quot;:444,&quot;order_date&quot;:&quot;2013-07-27 00:00:00.0&quot;,&quot;order_customer_id&quot;:10004,&quot;order_status&quot;:&quot;COMPLETE&quot;}\n{&quot;order_id&quot;:445,&quot;order_date&quot;:&quot;2013-07-27 00:00:00.0&quot;,&quot;order_customer_id&quot;:3859,&quot;order_status&quot;:&quot;PENDING&quot;}\n{&quot;order_id&quot;:446,&quot;order_date&quot;:&quot;2013-07-27 00:00:00.0&quot;,&quot;order_customer_id&quot;:7620,&quot;order_status&quot;:&quot;PENDING_PAYMENT&quot;}\n{&quot;order_id&quot;:447,&quot;order_date&quot;:&quot;2013-07-27 00:00:00.0&quot;,&quot;order_customer_id&quot;:8737,&quot;order_status&quot;:&quot;CLOSED&quot;}\n{&quot;order_id&quot;:448,&quot;order_date&quot;:&quot;2013-07-27 00:00:00.0&quot;,&quot;order_customer_id&quot;:7167,&quot;order_status&quot;:&quot;COMPLETE&quot;}\n{&quot;order_id&quot;:449,&quot;order_date&quot;:&quot;2013-07-27 00:00:00.0&quot;,&quot;order_customer_id&quot;:409,&quot;order_status&quot;:&quot;CLOSED&quot;}\n{&quot;order_id&quot;:450,&quot;order_date&quot;:&quot;2013-07-27 00:00:00.0&quot;,&quot;order_customer_id&quot;:5085,&quot;order_status&quot;:&quot;ON_HOLD&quot;}\n{&quot;order_id&quot;:451,&quot;order_date&quot;:&quot;2013-07-27 00:00:00.0&quot;,&quot;order_customer_id&quot;:10104,&quot;order_status&quot;:&quot;PENDING&quot;}\n{&quot;order_id&quot;:452,&quot;order_date&quot;:&quot;2013-07-27 00:00:00.0&quot;,&quot;order_customer_id&quot;:5128,&quot;order_status&quot;:&quot;COMPLETE&quot;}\n{&quot;order_id&quot;:453,&quot;order_date&quot;:&quot;2013-07-27 00:00:00.0&quot;,&quot;order_customer_id&quot;:381,&quot;order_status&quot;:&quot;SUSPECTED_FRAUD&quot;}\n{&quot;order_id&quot;:454,&quot;order_date&quot;:&quot;2013-07-27 00:00:00.0&quot;,&quot;order_customer_id&quot;:5933,&quot;order_status&quot;:&quot;PENDING_PAYMENT&quot;}\n{&quot;order_id&quot;:455,&quot;order_date&quot;:&quot;2013-07-27 00:00:00.0&quot;,&quot;order_customer_id&quot;:6575,&quot;order_status&quot;:&quot;PENDING&quot;}\n{&quot;order_id&quot;:456,&quot;order_date&quot;:&quot;2013-07-27 00:00:00.0&quot;,&quot;order_customer_id&quot;:11295,&quot;order_status&quot;:&quot;CLOSED&quot;}\n{&quot;order_id&quot;:457,&quot;order_date&quot;:&quot;2013-07-27 00:00:00.0&quot;,&quot;order_customer_id&quot;:4036,&quot;order_status&quot;:&quot;PENDING_PAYMENT&quot;}\n{&quot;order_id&quot;:458,&quot;order_date&quot;:&quot;2013-07-27 00:00:00.0&quot;,&quot;order_customer_id&quot;:5358,&quot;order_status&quot;:&quot;COMPLETE&quot;}\n{&quot;order_id&quot;:459,&quot;order_date&quot;:&quot;2013-07-27 00:00:00.0&quot;,&quot;order_customer_id&quot;:3687,&quot;order_status&quot;:&quot;COMPLETE&quot;}\n{&quot;order_id&quot;:460,&quot;order_date&quot;:&quot;2013-07-27 00:00:00.0&quot;,&quot;order_customer_id&quot;:2521,&quot;order_status&quot;:&quot;PENDING_PAYMENT&quot;}\n{&quot;order_id&quot;:461,&quot;order_date&quot;:&quot;2013-07-27 00:00:00.0&quot;,&quot;order_customer_id&quot;:8398,&quot;order_status&quot;:&quot;CLOSED&quot;}\n{&quot;order_id&quot;:462,&quot;order_date&quot;:&quot;2013-07-27 00:00:00.0&quot;,&quot;order_customer_id&quot;:5454,&quot;order_status&quot;:&quot;PROCESSING&quot;}\n{&quot;order_id&quot;:463,&quot;order_date&quot;:&quot;2013-07-27 00:00:00.0&quot;,&quot;order_customer_id&quot;:8709,&quot;order_status&quot;:&quot;COMPLETE&quot;}\n{&quot;order_id&quot;:464,&quot;order_date&quot;:&quot;2013-07-27 00:00:00.0&quot;,&quot;order_customer_id&quot;:7114,&quot;order_status&quot;:&quot;COMPLETE&quot;}\n{&quot;order_id&quot;:465,&quot;order_date&quot;:&quot;2013-07-27 00:00:00.0&quot;,&quot;order_customer_id&quot;:1255,&quot;order_status&quot;:&quot;PENDING_PAYMENT&quot;}\n{&quot;order_id&quot;:466,&quot;order_date&quot;:&quot;2013-07-27 00:00:00.0&quot;,&quot;order_customer_id&quot;:10943,&quot;order_status&quot;:&quot;CLOSED&quot;}\n{&quot;order_id&quot;:467,&quot;order_date&quot;:&quot;2013-07-27 00:00:00.0&quot;,&quot;order_customer_id&quot;:1719,&quot;order_status&quot;:&quot;PENDING_PAYMENT&quot;}\n{&quot;order_id&quot;:468,&quot;order_date&quot;:&quot;2013-07-27 00:00:00.0&quot;,&quot;order_customer_id&quot;:7305,&quot;order_status&quot;:&quot;COMPLETE&quot;}\n{&quot;order_id&quot;:469,&quot;order_date&quot;:&quot;2013-07-27 00:00:00.0&quot;,&quot;order_customer_id&quot;:1731,&quot;order_status&quot;:&quot;PENDING&quot;}\n{&quot;order_id&quot;:470,&quot;order_date&quot;:&quot;2013-07-27 00:00:00.0&quot;,&quot;order_customer_id&quot;:6410,&quot;order_status&quot;:&quot;PENDING_PAYMENT&quot;}\n{&quot;order_id&quot;:471,&quot;order_date&quot;:&quot;2013-07-27 00:00:00.0&quot;,&quot;order_customer_id&quot;:10861,&quot;order_status&quot;:&quot;PENDING&quot;}\n{&quot;order_id&quot;:472,&quot;order_date&quot;:&quot;2013-07-27 00:00:00.0&quot;,&quot;order_customer_id&quot;:8969,&quot;order_status&quot;:&quot;CLOSED&quot;}\n{&quot;order_id&quot;:473,&quot;order_date&quot;:&quot;2013-07-27 00:00:00.0&quot;,&quot;order_customer_id&quot;:5359,&quot;order_status&quot;:&quot;COMPLETE&quot;}\n{&quot;order_id&quot;:474,&quot;order_date&quot;:&quot;2013-07-27 00:00:00.0&quot;,&quot;order_customer_id&quot;:8349,&quot;order_status&quot;:&quot;PENDING_PAYMENT&quot;}\n{&quot;order_id&quot;:475,&quot;order_date&quot;:&quot;2013-07-27 00:00:00.0&quot;,&quot;order_customer_id&quot;:4567,&quot;order_status&quot;:&quot;CLOSED&quot;}\n{&quot;order_id&quot;:476,&quot;order_date&quot;:&quot;2013-07-27 00:00:00.0&quot;,&quot;order_customer_id&quot;:6020,&quot;order_status&quot;:&quot;PENDING_PAYMENT&quot;}\n{&quot;order_id&quot;:477,&quot;order_date&quot;:&quot;2013-07-27 00:00:00.0&quot;,&quot;order_customer_id&quot;:8511,&quot;order_status&quot;:&quot;ON_HOLD&quot;}\n{&quot;order_id&quot;:478,&quot;order_date&quot;:&quot;2013-07-27 00:00:00.0&quot;,&quot;order_customer_id&quot;:7657,&quot;order_status&quot;:&quot;COMPLETE&quot;}\n{&quot;order_id&quot;:479,&quot;order_date&quot;:&quot;2013-07-27 00:00:00.0&quot;,&quot;order_customer_id&quot;:11138,&quot;order_status&quot;:&quot;COMPLETE&quot;}\n{&quot;order_id&quot;:480,&quot;order_date&quot;:&quot;2013-07-27 00:00:00.0&quot;,&quot;order_customer_id&quot;:2902,&quot;order_status&quot;:&quot;PROCESSING&quot;}\n{&quot;order_id&quot;:481,&quot;order_date&quot;:&quot;2013-07-27 00:00:00.0&quot;,&quot;order_customer_id&quot;:10633,&quot;order_status&quot;:&quot;PROCESSING&quot;}\n{&quot;order_id&quot;:482,&quot;order_date&quot;:&quot;2013-07-27 00:00:00.0&quot;,&quot;order_customer_id&quot;:9156,&quot;order_status&quot;:&quot;ON_HOLD&quot;}\n{&quot;order_id&quot;:483,&quot;order_date&quot;:&quot;2013-07-27 00:00:00.0&quot;,&quot;order_customer_id&quot;:12341,&quot;order_status&quot;:&quot;PROCESSING&quot;}\n{&quot;order_id&quot;:484,&quot;order_date&quot;:&quot;2013-07-27 00:00:00.0&quot;,&quot;order_customer_id&quot;:2409,&quot;order_status&quot;:&quot;PENDING_PAYMENT&quot;}\n{&quot;order_id&quot;:485,&quot;order_date&quot;:&quot;2013-07-27 00:00:00.0&quot;,&quot;order_customer_id&quot;:3976,&quot;order_status&quot;:&quot;PENDING_PAYMENT&quot;}\n{&quot;order_id&quot;:486,&quot;order_date&quot;:&quot;2013-07-27 00:00:00.0&quot;,&quot;order_customer_id&quot;:1865,&quot;order_status&quot;:&quot;PROCESSING&quot;}\n{&quot;order_id&quot;:487,&quot;order_date&quot;:&quot;2013-07-27 00:00:00.0&quot;,&quot;order_customer_id&quot;:5698,&quot;order_status&quot;:&quot;PROCESSING&quot;}\n{&quot;order_id&quot;:488,&quot;order_date&quot;:&quot;2013-07-27 00:00:00.0&quot;,&quot;order_customer_id&quot;:10143,&quot;order_status&quot;:&quot;PENDING_PAYMENT&quot;}\n{&quot;order_id&quot;:489,&quot;order_date&quot;:&quot;2013-07-27 00:00:00.0&quot;,&quot;order_customer_id&quot;:2030,&quot;order_status&quot;:&quot;PENDING_PAYMENT&quot;}\n{&quot;order_id&quot;:490,&quot;order_date&quot;:&quot;2013-07-27 00:00:00.0&quot;,&quot;order_customer_id&quot;:9709,&quot;order_status&quot;:&quot;COMPLETE&quot;}\n{&quot;order_id&quot;:491,&quot;order_date&quot;:&quot;2013-07-27 00:00:00.0&quot;,&quot;order_customer_id&quot;:3945,&quot;order_status&quot;:&quot;ON_HOLD&quot;}\n{&quot;order_id&quot;:492,&quot;order_date&quot;:&quot;2013-07-27 00:00:00.0&quot;,&quot;order_customer_id&quot;:2499,&quot;order_status&quot;:&quot;PENDING_PAYMENT&quot;}\n{&quot;order_id&quot;:493,&quot;order_date&quot;:&quot;2013-07-27 00:00:00.0&quot;,&quot;order_customer_id&quot;:1180,&quot;order_status&quot;:&quot;COMPLETE&quot;}\n{&quot;order_id&quot;:494,&quot;order_date&quot;:&quot;2013-07-27 00:00:00.0&quot;,&quot;order_customer_id&quot;:8121,&quot;order_status&quot;:&quot;PENDING_PAYMENT&quot;}\n{&quot;order_id&quot;:495,&quot;order_date&quot;:&quot;2013-07-27 00:00:00.0&quot;,&quot;order_customer_id&quot;:7242,&quot;order_status&quot;:&quot;COMPLETE&quot;}\n{&quot;order_id&quot;:496,&quot;order_date&quot;:&quot;2013-07-27 00:00:00.0&quot;,&quot;order_customer_id&quot;:615,&quot;order_status&quot;:&quot;COMPLETE&quot;}\n{&quot;order_id&quot;:497,&quot;order_date&quot;:&quot;2013-07-27 00:00:00.0&quot;,&quot;order_customer_id&quot;:846,&quot;order_status&quot;:&quot;COMPLETE&quot;}\n{&quot;order_id&quot;:498,&quot;order_date&quot;:&quot;2013-07-27 00:00:00.0&quot;,&quot;order_customer_id&quot;:6828,&quot;order_status&quot;:&quot;PENDING_PAYMENT&quot;}\n{&quot;order_id&quot;:499,&quot;order_date&quot;:&quot;2013-07-27 00:00:00.0&quot;,&quot;order_customer_id&quot;:8920,&quot;order_status&quot;:&quot;COMPLETE&quot;}\n{&quot;order_id&quot;:500,&quot;order_date&quot;:&quot;2013-07-27 00:00:00.0&quot;,&quot;order_customer_id&quot;:2129,&quot;order_status&quot;:&quot;CLOSED&quot;}\n{&quot;order_id&quot;:501,&quot;order_date&quot;:&quot;2013-07-27 00:00:00.0&quot;,&quot;order_customer_id&quot;:1987,&quot;order_status&quot;:&quot;CLOSED&quot;}\n{&quot;order_id&quot;:502,&quot;order_date&quot;:&quot;2013-07-27 00:00:00.0&quot;,&quot;order_customer_id&quot;:7196,&quot;order_status&quot;:&quot;COMPLETE&quot;}\n{&quot;order_id&quot;:503,&quot;order_date&quot;:&quot;2013-07-27 00:00:00.0&quot;,&quot;order_customer_id&quot;:6377,&quot;order_status&quot;:&quot;PENDING_PAYMENT&quot;}\n{&quot;order_id&quot;:504,&quot;order_date&quot;:&quot;2013-07-27 00:00:00.0&quot;,&quot;order_customer_id&quot;:6288,&quot;order_status&quot;:&quot;COMPLETE&quot;}\n{&quot;order_id&quot;:505,&quot;order_date&quot;:&quot;2013-07-27 00:00:00.0&quot;,&quot;order_customer_id&quot;:11952,&quot;order_status&quot;:&quot;PROCESSING&quot;}\n{&quot;order_id&quot;:506,&quot;order_date&quot;:&quot;2013-07-27 00:00:00.0&quot;,&quot;order_customer_id&quot;:3509,&quot;order_status&quot;:&quot;PENDING&quot;}\n{&quot;order_id&quot;:507,&quot;order_date&quot;:&quot;2013-07-27 00:00:00.0&quot;,&quot;order_customer_id&quot;:4730,&quot;order_status&quot;:&quot;PENDING_PAYMENT&quot;}\n{&quot;order_id&quot;:508,&quot;order_date&quot;:&quot;2013-07-27 00:00:00.0&quot;,&quot;order_customer_id&quot;:6970,&quot;order_status&quot;:&quot;COMPLETE&quot;}\n{&quot;order_id&quot;:509,&quot;order_date&quot;:&quot;2013-07-27 00:00:00.0&quot;,&quot;order_customer_id&quot;:10739,&quot;order_status&quot;:&quot;COMPLETE&quot;}\n{&quot;order_id&quot;:510,&quot;order_date&quot;:&quot;2013-07-28 00:00:00.0&quot;,&quot;order_customer_id&quot;:7533,&quot;order_status&quot;:&quot;PENDING_PAYMENT&quot;}\n{&quot;order_id&quot;:511,&quot;order_date&quot;:&quot;2013-07-28 00:00:00.0&quot;,&quot;order_customer_id&quot;:486,&quot;order_status&quot;:&quot;PROCESSING&quot;}\n{&quot;order_id&quot;:512,&quot;order_date&quot;:&quot;2013-07-28 00:00:00.0&quot;,&quot;order_customer_id&quot;:12000,&quot;order_status&quot;:&quot;COMPLETE&quot;}\n{&quot;order_id&quot;:513,&quot;order_date&quot;:&quot;2013-07-28 00:00:00.0&quot;,&quot;order_customer_id&quot;:10479,&quot;order_status&quot;:&quot;COMPLETE&quot;}\n{&quot;order_id&quot;:514,&quot;order_date&quot;:&quot;2013-07-28 00:00:00.0&quot;,&quot;order_customer_id&quot;:10962,&quot;order_status&quot;:&quot;PENDING_PAYMENT&quot;}\n{&quot;order_id&quot;:515,&quot;order_date&quot;:&quot;2013-07-28 00:00:00.0&quot;,&quot;order_customer_id&quot;:5921,&quot;order_status&quot;:&quot;PENDING_PAYMENT&quot;}\n{&quot;order_id&quot;:516,&quot;order_date&quot;:&quot;2013-07-28 00:00:00.0&quot;,&quot;order_customer_id&quot;:9204,&quot;order_status&quot;:&quot;COMPLETE&quot;}\n{&quot;order_id&quot;:517,&quot;order_date&quot;:&quot;2013-07-28 00:00:00.0&quot;,&quot;order_customer_id&quot;:1578,&quot;order_status&quot;:&quot;PROCESSING&quot;}\n{&quot;order_id&quot;:518,&quot;order_date&quot;:&quot;2013-07-28 00:00:00.0&quot;,&quot;order_customer_id&quot;:5257,&quot;order_status&quot;:&quot;COMPLETE&quot;}\n{&quot;order_id&quot;:519,&quot;order_date&quot;:&quot;2013-07-28 00:00:00.0&quot;,&quot;order_customer_id&quot;:4780,&quot;order_status&quot;:&quot;COMPLETE&quot;}\n{&quot;order_id&quot;:520,&quot;order_date&quot;:&quot;2013-07-28 00:00:00.0&quot;,&quot;order_customer_id&quot;:8074,&quot;order_status&quot;:&quot;COMPLETE&quot;}\n{&quot;order_id&quot;:521,&quot;order_date&quot;:&quot;2013-07-28 00:00:00.0&quot;,&quot;order_customer_id&quot;:6497,&quot;order_status&quot;:&quot;COMPLETE&quot;}\n{&quot;order_id&quot;:522,&quot;order_date&quot;:&quot;2013-07-28 00:00:00.0&quot;,&quot;order_customer_id&quot;:12300,&quot;order_status&quot;:&quot;COMPLETE&quot;}\n{&quot;order_id&quot;:523,&quot;order_date&quot;:&quot;2013-07-28 00:00:00.0&quot;,&quot;order_customer_id&quot;:4477,&quot;order_status&quot;:&quot;COMPLETE&quot;}\n{&quot;order_id&quot;:524,&quot;order_date&quot;:&quot;2013-07-28 00:00:00.0&quot;,&quot;order_customer_id&quot;:7622,&quot;order_status&quot;:&quot;COMPLETE&quot;}\n{&quot;order_id&quot;:525,&quot;order_date&quot;:&quot;2013-07-28 00:00:00.0&quot;,&quot;order_customer_id&quot;:10830,&quot;order_status&quot;:&quot;PENDING&quot;}\n{&quot;order_id&quot;:526,&quot;order_date&quot;:&quot;2013-07-28 00:00:00.0&quot;,&quot;order_customer_id&quot;:7259,&quot;order_status&quot;:&quot;COMPLETE&quot;}\n{&quot;order_id&quot;:527,&quot;order_date&quot;:&quot;2013-07-28 00:00:00.0&quot;,&quot;order_customer_id&quot;:5426,&quot;order_status&quot;:&quot;CANCELED&quot;}\n{&quot;order_id&quot;:528,&quot;order_date&quot;:&quot;2013-07-28 00:00:00.0&quot;,&quot;order_customer_id&quot;:6147,&quot;order_status&quot;:&quot;PROCESSING&quot;}\n{&quot;order_id&quot;:529,&quot;order_date&quot;:&quot;2013-07-28 00:00:00.0&quot;,&quot;order_customer_id&quot;:844,&quot;order_status&quot;:&quot;ON_HOLD&quot;}\n{&quot;order_id&quot;:530,&quot;order_date&quot;:&quot;2013-07-28 00:00:00.0&quot;,&quot;order_customer_id&quot;:6224,&quot;order_status&quot;:&quot;PROCESSING&quot;}\n{&quot;order_id&quot;:531,&quot;order_date&quot;:&quot;2013-07-28 00:00:00.0&quot;,&quot;order_customer_id&quot;:1950,&quot;order_status&quot;:&quot;PENDING_PAYMENT&quot;}\n{&quot;order_id&quot;:532,&quot;order_date&quot;:&quot;2013-07-28 00:00:00.0&quot;,&quot;order_customer_id&quot;:6498,&quot;order_status&quot;:&quot;PENDING&quot;}\n{&quot;order_id&quot;:533,&quot;order_date&quot;:&quot;2013-07-28 00:00:00.0&quot;,&quot;order_customer_id&quot;:6770,&quot;order_status&quot;:&quot;COMPLETE&quot;}\n{&quot;order_id&quot;:534,&quot;order_date&quot;:&quot;2013-07-28 00:00:00.0&quot;,&quot;order_customer_id&quot;:6896,&quot;order_status&quot;:&quot;COMPLETE&quot;}\n{&quot;order_id&quot;:535,&quot;order_date&quot;:&quot;2013-07-28 00:00:00.0&quot;,&quot;order_customer_id&quot;:66,&quot;order_status&quot;:&quot;COMPLETE&quot;}\n{&quot;order_id&quot;:536,&quot;order_date&quot;:&quot;2013-07-28 00:00:00.0&quot;,&quot;order_customer_id&quot;:9981,&quot;order_status&quot;:&quot;ON_HOLD&quot;}\n{&quot;order_id&quot;:537,&quot;order_date&quot;:&quot;2013-07-28 00:00:00.0&quot;,&quot;order_customer_id&quot;:10437,&quot;order_status&quot;:&quot;COMPLETE&quot;}\n{&quot;order_id&quot;:538,&quot;order_date&quot;:&quot;2013-07-28 00:00:00.0&quot;,&quot;order_customer_id&quot;:4871,&quot;order_status&quot;:&quot;PROCESSING&quot;}\n{&quot;order_id&quot;:539,&quot;order_date&quot;:&quot;2013-07-28 00:00:00.0&quot;,&quot;order_customer_id&quot;:7673,&quot;order_status&quot;:&quot;PENDING_PAYMENT&quot;}\n{&quot;order_id&quot;:540,&quot;order_date&quot;:&quot;2013-07-28 00:00:00.0&quot;,&quot;order_customer_id&quot;:121,&quot;order_status&quot;:&quot;COMPLETE&quot;}\n{&quot;order_id&quot;:541,&quot;order_date&quot;:&quot;2013-07-28 00:00:00.0&quot;,&quot;order_customer_id&quot;:4985,&quot;order_status&quot;:&quot;COMPLETE&quot;}\n{&quot;order_id&quot;:542,&quot;order_date&quot;:&quot;2013-07-28 00:00:00.0&quot;,&quot;order_customer_id&quot;:597,&quot;order_status&quot;:&quot;CLOSED&quot;}\n{&quot;order_id&quot;:543,&quot;order_date&quot;:&quot;2013-07-28 00:00:00.0&quot;,&quot;order_customer_id&quot;:7351,&quot;order_status&quot;:&quot;PENDING&quot;}\n{&quot;order_id&quot;:544,&quot;order_date&quot;:&quot;2013-07-28 00:00:00.0&quot;,&quot;order_customer_id&quot;:281,&quot;order_status&quot;:&quot;PENDING_PAYMENT&quot;}\n{&quot;order_id&quot;:545,&quot;order_date&quot;:&quot;2013-07-28 00:00:00.0&quot;,&quot;order_customer_id&quot;:11642,&quot;order_status&quot;:&quot;COMPLETE&quot;}\n{&quot;order_id&quot;:546,&quot;order_date&quot;:&quot;2013-07-28 00:00:00.0&quot;,&quot;order_customer_id&quot;:7604,&quot;order_status&quot;:&quot;PROCESSING&quot;}\n{&quot;order_id&quot;:547,&quot;order_date&quot;:&quot;2013-07-28 00:00:00.0&quot;,&quot;order_customer_id&quot;:7220,&quot;order_status&quot;:&quot;COMPLETE&quot;}\n{&quot;order_id&quot;:548,&quot;order_date&quot;:&quot;2013-07-28 00:00:00.0&quot;,&quot;order_customer_id&quot;:6889,&quot;order_status&quot;:&quot;SUSPECTED_FRAUD&quot;}\n{&quot;order_id&quot;:549,&quot;order_date&quot;:&quot;2013-07-28 00:00:00.0&quot;,&quot;order_customer_id&quot;:3834,&quot;order_status&quot;:&quot;PENDING&quot;}\n{&quot;order_id&quot;:550,&quot;order_date&quot;:&quot;2013-07-28 00:00:00.0&quot;,&quot;order_customer_id&quot;:9666,&quot;order_status&quot;:&quot;PENDING_PAYMENT&quot;}\n{&quot;order_id&quot;:551,&quot;order_date&quot;:&quot;2013-07-28 00:00:00.0&quot;,&quot;order_customer_id&quot;:2867,&quot;order_status&quot;:&quot;COMPLETE&quot;}\n{&quot;order_id&quot;:552,&quot;order_date&quot;:&quot;2013-07-28 00:00:00.0&quot;,&quot;order_customer_id&quot;:1445,&quot;order_status&quot;:&quot;CANCELED&quot;}\n{&quot;order_id&quot;:553,&quot;order_date&quot;:&quot;2013-07-28 00:00:00.0&quot;,&quot;order_customer_id&quot;:7307,&quot;order_status&quot;:&quot;COMPLETE&quot;}\n{&quot;order_id&quot;:554,&quot;order_date&quot;:&quot;2013-07-28 00:00:00.0&quot;,&quot;order_customer_id&quot;:10980,&quot;order_status&quot;:&quot;PROCESSING&quot;}\n{&quot;order_id&quot;:555,&quot;order_date&quot;:&quot;2013-07-28 00:00:00.0&quot;,&quot;order_customer_id&quot;:976,&quot;order_status&quot;:&quot;PENDING_PAYMENT&quot;}\n{&quot;order_id&quot;:556,&quot;order_date&quot;:&quot;2013-07-28 00:00:00.0&quot;,&quot;order_customer_id&quot;:7838,&quot;order_status&quot;:&quot;COMPLETE&quot;}\n{&quot;order_id&quot;:557,&quot;order_date&quot;:&quot;2013-07-28 00:00:00.0&quot;,&quot;order_customer_id&quot;:4855,&quot;order_status&quot;:&quot;COMPLETE&quot;}\n{&quot;order_id&quot;:558,&quot;order_date&quot;:&quot;2013-07-28 00:00:00.0&quot;,&quot;order_customer_id&quot;:4562,&quot;order_status&quot;:&quot;COMPLETE&quot;}\n{&quot;order_id&quot;:559,&quot;order_date&quot;:&quot;2013-07-28 00:00:00.0&quot;,&quot;order_customer_id&quot;:1944,&quot;order_status&quot;:&quot;ON_HOLD&quot;}\n{&quot;order_id&quot;:560,&quot;order_date&quot;:&quot;2013-07-28 00:00:00.0&quot;,&quot;order_customer_id&quot;:744,&quot;order_status&quot;:&quot;ON_HOLD&quot;}\n{&quot;order_id&quot;:561,&quot;order_date&quot;:&quot;2013-07-28 00:00:00.0&quot;,&quot;order_customer_id&quot;:6059,&quot;order_status&quot;:&quot;PENDING&quot;}\n{&quot;order_id&quot;:562,&quot;order_date&quot;:&quot;2013-07-28 00:00:00.0&quot;,&quot;order_customer_id&quot;:5017,&quot;order_status&quot;:&quot;PENDING&quot;}\n{&quot;order_id&quot;:563,&quot;order_date&quot;:&quot;2013-07-28 00:00:00.0&quot;,&quot;order_customer_id&quot;:3514,&quot;order_status&quot;:&quot;CLOSED&quot;}\n{&quot;order_id&quot;:564,&quot;order_date&quot;:&quot;2013-07-28 00:00:00.0&quot;,&quot;order_customer_id&quot;:2216,&quot;order_status&quot;:&quot;CANCELED&quot;}\n{&quot;order_id&quot;:565,&quot;order_date&quot;:&quot;2013-07-28 00:00:00.0&quot;,&quot;order_customer_id&quot;:3850,&quot;order_status&quot;:&quot;PENDING_PAYMENT&quot;}\n{&quot;order_id&quot;:566,&quot;order_date&quot;:&quot;2013-07-28 00:00:00.0&quot;,&quot;order_customer_id&quot;:6335,&quot;order_status&quot;:&quot;CLOSED&quot;}\n{&quot;order_id&quot;:567,&quot;order_date&quot;:&quot;2013-07-28 00:00:00.0&quot;,&quot;order_customer_id&quot;:9527,&quot;order_status&quot;:&quot;CLOSED&quot;}\n{&quot;order_id&quot;:568,&quot;order_date&quot;:&quot;2013-07-28 00:00:00.0&quot;,&quot;order_customer_id&quot;:11790,&quot;order_status&quot;:&quot;PENDING&quot;}\n{&quot;order_id&quot;:569,&quot;order_date&quot;:&quot;2013-07-28 00:00:00.0&quot;,&quot;order_customer_id&quot;:8532,&quot;order_status&quot;:&quot;CLOSED&quot;}\n{&quot;order_id&quot;:570,&quot;order_date&quot;:&quot;2013-07-28 00:00:00.0&quot;,&quot;order_customer_id&quot;:4622,&quot;order_status&quot;:&quot;PENDING&quot;}\n{&quot;order_id&quot;:571,&quot;order_date&quot;:&quot;2013-07-28 00:00:00.0&quot;,&quot;order_customer_id&quot;:5006,&quot;order_status&quot;:&quot;PENDING&quot;}\n{&quot;order_id&quot;:572,&quot;order_date&quot;:&quot;2013-07-28 00:00:00.0&quot;,&quot;order_customer_id&quot;:6691,&quot;order_status&quot;:&quot;PENDING&quot;}\n{&quot;order_id&quot;:573,&quot;order_date&quot;:&quot;2013-07-28 00:00:00.0&quot;,&quot;order_customer_id&quot;:5964,&quot;order_status&quot;:&quot;COMPLETE&quot;}\n{&quot;order_id&quot;:574,&quot;order_date&quot;:&quot;2013-07-28 00:00:00.0&quot;,&quot;order_customer_id&quot;:7145,&quot;order_status&quot;:&quot;PROCESSING&quot;}\n{&quot;order_id&quot;:575,&quot;order_date&quot;:&quot;2013-07-28 00:00:00.0&quot;,&quot;order_customer_id&quot;:2873,&quot;order_status&quot;:&quot;PROCESSING&quot;}\n{&quot;order_id&quot;:576,&quot;order_date&quot;:&quot;2013-07-28 00:00:00.0&quot;,&quot;order_customer_id&quot;:7191,&quot;order_status&quot;:&quot;COMPLETE&quot;}\n{&quot;order_id&quot;:577,&quot;order_date&quot;:&quot;2013-07-28 00:00:00.0&quot;,&quot;order_customer_id&quot;:457,&quot;order_status&quot;:&quot;CLOSED&quot;}\n{&quot;order_id&quot;:578,&quot;order_date&quot;:&quot;2013-07-28 00:00:00.0&quot;,&quot;order_customer_id&quot;:2529,&quot;order_status&quot;:&quot;PENDING_PAYMENT&quot;}\n{&quot;order_id&quot;:579,&quot;order_date&quot;:&quot;2013-07-28 00:00:00.0&quot;,&quot;order_customer_id&quot;:4137,&quot;order_status&quot;:&quot;PROCESSING&quot;}\n{&quot;order_id&quot;:580,&quot;order_date&quot;:&quot;2013-07-28 00:00:00.0&quot;,&quot;order_customer_id&quot;:8677,&quot;order_status&quot;:&quot;SUSPECTED_FRAUD&quot;}\n{&quot;order_id&quot;:581,&quot;order_date&quot;:&quot;2013-07-28 00:00:00.0&quot;,&quot;order_customer_id&quot;:3222,&quot;order_status&quot;:&quot;PROCESSING&quot;}\n{&quot;order_id&quot;:582,&quot;order_date&quot;:&quot;2013-07-28 00:00:00.0&quot;,&quot;order_customer_id&quot;:6220,&quot;order_status&quot;:&quot;CLOSED&quot;}\n{&quot;order_id&quot;:583,&quot;order_date&quot;:&quot;2013-07-28 00:00:00.0&quot;,&quot;order_customer_id&quot;:4695,&quot;order_status&quot;:&quot;PENDING&quot;}\n{&quot;order_id&quot;:584,&quot;order_date&quot;:&quot;2013-07-28 00:00:00.0&quot;,&quot;order_customer_id&quot;:1263,&quot;order_status&quot;:&quot;PENDING_PAYMENT&quot;}\n{&quot;order_id&quot;:585,&quot;order_date&quot;:&quot;2013-07-28 00:00:00.0&quot;,&quot;order_customer_id&quot;:8399,&quot;order_status&quot;:&quot;PENDING_PAYMENT&quot;}\n{&quot;order_id&quot;:586,&quot;order_date&quot;:&quot;2013-07-28 00:00:00.0&quot;,&quot;order_customer_id&quot;:10225,&quot;order_status&quot;:&quot;PROCESSING&quot;}\n{&quot;order_id&quot;:587,&quot;order_date&quot;:&quot;2013-07-28 00:00:00.0&quot;,&quot;order_customer_id&quot;:6008,&quot;order_status&quot;:&quot;SUSPECTED_FRAUD&quot;}\n{&quot;order_id&quot;:588,&quot;order_date&quot;:&quot;2013-07-28 00:00:00.0&quot;,&quot;order_customer_id&quot;:6348,&quot;order_status&quot;:&quot;COMPLETE&quot;}\n{&quot;order_id&quot;:589,&quot;order_date&quot;:&quot;2013-07-28 00:00:00.0&quot;,&quot;order_customer_id&quot;:5609,&quot;order_status&quot;:&quot;COMPLETE&quot;}\n{&quot;order_id&quot;:590,&quot;order_date&quot;:&quot;2013-07-28 00:00:00.0&quot;,&quot;order_customer_id&quot;:132,&quot;order_status&quot;:&quot;PROCESSING&quot;}\n{&quot;order_id&quot;:591,&quot;order_date&quot;:&quot;2013-07-28 00:00:00.0&quot;,&quot;order_customer_id&quot;:6431,&quot;order_status&quot;:&quot;COMPLETE&quot;}\n{&quot;order_id&quot;:592,&quot;order_date&quot;:&quot;2013-07-28 00:00:00.0&quot;,&quot;order_customer_id&quot;:10862,&quot;order_status&quot;:&quot;CLOSED&quot;}\n{&quot;order_id&quot;:593,&quot;order_date&quot;:&quot;2013-07-28 00:00:00.0&quot;,&quot;order_customer_id&quot;:6667,&quot;order_status&quot;:&quot;PENDING&quot;}\n{&quot;order_id&quot;:594,&quot;order_date&quot;:&quot;2013-07-28 00:00:00.0&quot;,&quot;order_customer_id&quot;:1946,&quot;order_status&quot;:&quot;PENDING_PAYMENT&quot;}\n{&quot;order_id&quot;:595,&quot;order_date&quot;:&quot;2013-07-28 00:00:00.0&quot;,&quot;order_customer_id&quot;:3531,&quot;order_status&quot;:&quot;PAYMENT_REVIEW&quot;}\n{&quot;order_id&quot;:596,&quot;order_date&quot;:&quot;2013-07-28 00:00:00.0&quot;,&quot;order_customer_id&quot;:8352,&quot;order_status&quot;:&quot;PENDING_PAYMENT&quot;}\n{&quot;order_id&quot;:597,&quot;order_date&quot;:&quot;2013-07-28 00:00:00.0&quot;,&quot;order_customer_id&quot;:11558,&quot;order_status&quot;:&quot;PENDING_PAYMENT&quot;}\n{&quot;order_id&quot;:598,&quot;order_date&quot;:&quot;2013-07-28 00:00:00.0&quot;,&quot;order_customer_id&quot;:11344,&quot;order_status&quot;:&quot;PENDING_PAYMENT&quot;}\n{&quot;order_id&quot;:599,&quot;order_date&quot;:&quot;2013-07-28 00:00:00.0&quot;,&quot;order_customer_id&quot;:8005,&quot;order_status&quot;:&quot;COMPLETE&quot;}\n{&quot;order_id&quot;:600,&quot;order_date&quot;:&quot;2013-07-28 00:00:00.0&quot;,&quot;order_customer_id&quot;:3506,&quot;order_status&quot;:&quot;COMPLETE&quot;}\n{&quot;order_id&quot;:601,&quot;order_date&quot;:&quot;2013-07-28 00:00:00.0&quot;,&quot;order_customer_id&quot;:8977,&quot;order_status&quot;:&quot;COMPLETE&quot;}\n{&quot;order_id&quot;:602,&quot;order_date&quot;:&quot;2013-07-28 00:00:00.0&quot;,&quot;order_customer_id&quot;:6690,&quot;order_status&quot;:&quot;COMPLETE&quot;}\n{&quot;order_id&quot;:603,&quot;order_date&quot;:&quot;2013-07-28 00:00:00.0&quot;,&quot;order_customer_id&quot;:6184,&quot;order_status&quot;:&quot;CLOSED&quot;}\n{&quot;order_id&quot;:604,&quot;order_date&quot;:&quot;2013-07-28 00:00:00.0&quot;,&quot;order_customer_id&quot;:6930,&quot;order_status&quot;:&quot;PENDING_PAYMENT&quot;}\n{&quot;order_id&quot;:605,&quot;order_date&quot;:&quot;2013-07-28 00:00:00.0&quot;,&quot;order_customer_id&quot;:2879,&quot;order_status&quot;:&quot;COMPLETE&quot;}\n{&quot;order_id&quot;:606,&quot;order_date&quot;:&quot;2013-07-28 00:00:00.0&quot;,&quot;order_customer_id&quot;:1157,&quot;order_status&quot;:&quot;COMPLETE&quot;}\n{&quot;order_id&quot;:607,&quot;order_date&quot;:&quot;2013-07-28 00:00:00.0&quot;,&quot;order_customer_id&quot;:6376,&quot;order_status&quot;:&quot;CANCELED&quot;}\n{&quot;order_id&quot;:608,&quot;order_date&quot;:&quot;2013-07-28 00:00:00.0&quot;,&quot;order_customer_id&quot;:10388,&quot;order_status&quot;:&quot;COMPLETE&quot;}\n{&quot;order_id&quot;:609,&quot;order_date&quot;:&quot;2013-07-28 00:00:00.0&quot;,&quot;order_customer_id&quot;:1241,&quot;order_status&quot;:&quot;PROCESSING&quot;}\n{&quot;order_id&quot;:610,&quot;order_date&quot;:&quot;2013-07-28 00:00:00.0&quot;,&quot;order_customer_id&quot;:1866,&quot;order_status&quot;:&quot;PENDING_PAYMENT&quot;}\n{&quot;order_id&quot;:611,&quot;order_date&quot;:&quot;2013-07-28 00:00:00.0&quot;,&quot;order_customer_id&quot;:8422,&quot;order_status&quot;:&quot;COMPLETE&quot;}\n{&quot;order_id&quot;:612,&quot;order_date&quot;:&quot;2013-07-28 00:00:00.0&quot;,&quot;order_customer_id&quot;:11854,&quot;order_status&quot;:&quot;PENDING_PAYMENT&quot;}\n{&quot;order_id&quot;:613,&quot;order_date&quot;:&quot;2013-07-28 00:00:00.0&quot;,&quot;order_customer_id&quot;:460,&quot;order_status&quot;:&quot;COMPLETE&quot;}\n{&quot;order_id&quot;:614,&quot;order_date&quot;:&quot;2013-07-28 00:00:00.0&quot;,&quot;order_customer_id&quot;:5738,&quot;order_status&quot;:&quot;CLOSED&quot;}\n{&quot;order_id&quot;:615,&quot;order_date&quot;:&quot;2013-07-28 00:00:00.0&quot;,&quot;order_cust\n</div>",
       "datasetInfos": [],
       "metadata": {},
       "removedWidgets": [],
       "type": "html"
      }
     },
     "output_type": "display_data"
    }
   ],
   "source": [
    "%fs head dbfs:/public/retail_db_json/orders/part-r-00000-990f5773-9005-49ba-b670-631286032674"
   ]
  },
  {
   "cell_type": "code",
   "execution_count": 0,
   "metadata": {
    "application/vnd.databricks.v1+cell": {
     "cellMetadata": {
      "byteLimit": 2048000,
      "implicitDf": true,
      "rowLimit": 10000
     },
     "inputWidgets": {},
     "nuid": "da8b8647-4400-4410-b3a0-b9916dd8f612",
     "showTitle": false,
     "title": ""
    }
   },
   "outputs": [
    {
     "output_type": "display_data",
     "data": {
      "text/html": [
       "<style scoped>\n",
       "  .table-result-container {\n",
       "    max-height: 300px;\n",
       "    overflow: auto;\n",
       "  }\n",
       "  table, th, td {\n",
       "    border: 1px solid black;\n",
       "    border-collapse: collapse;\n",
       "  }\n",
       "  th, td {\n",
       "    padding: 5px;\n",
       "  }\n",
       "  th {\n",
       "    text-align: left;\n",
       "  }\n",
       "</style><div class='table-result-container'><table class='table-result'><thead style='background-color: white'><tr><th>num_affected_rows</th><th>num_inserted_rows</th></tr></thead><tbody><tr><td>68883</td><td>68883</td></tr></tbody></table></div>"
      ]
     },
     "metadata": {
      "application/vnd.databricks.v1+output": {
       "addedWidgets": {},
       "aggData": [],
       "aggError": "",
       "aggOverflow": false,
       "aggSchema": [],
       "aggSeriesLimitReached": false,
       "aggType": "",
       "arguments": {},
       "columnCustomDisplayInfos": {},
       "data": [
        [
         68883,
         68883
        ]
       ],
       "datasetInfos": [],
       "dbfsResultPath": null,
       "isJsonSchema": true,
       "metadata": {},
       "overflow": false,
       "plotOptions": {
        "customPlotOptions": {},
        "displayType": "table",
        "pivotAggregation": null,
        "pivotColumns": null,
        "xColumns": null,
        "yColumns": null
       },
       "removedWidgets": [],
       "schema": [
        {
         "metadata": "{}",
         "name": "num_affected_rows",
         "type": "\"long\""
        },
        {
         "metadata": "{}",
         "name": "num_inserted_rows",
         "type": "\"long\""
        }
       ],
       "type": "table"
      }
     },
     "output_type": "display_data"
    }
   ],
   "source": [
    "%sql\n",
    "INSERT INTO itversity_retail.orders\n",
    "SELECT  order_id\n",
    "        ,order_date\n",
    "        ,order_customer_id\n",
    "        ,order_status\n",
    "FROM JSON.`dbfs:/public/retail_db_json/orders`"
   ]
  },
  {
   "cell_type": "code",
   "execution_count": 0,
   "metadata": {
    "application/vnd.databricks.v1+cell": {
     "cellMetadata": {
      "byteLimit": 2048000,
      "implicitDf": true,
      "rowLimit": 10000
     },
     "inputWidgets": {},
     "nuid": "95310b8f-9c58-404c-b6f2-922a8dccc065",
     "showTitle": false,
     "title": ""
    }
   },
   "outputs": [
    {
     "output_type": "display_data",
     "data": {
      "text/html": [
       "<style scoped>\n",
       "  .table-result-container {\n",
       "    max-height: 300px;\n",
       "    overflow: auto;\n",
       "  }\n",
       "  table, th, td {\n",
       "    border: 1px solid black;\n",
       "    border-collapse: collapse;\n",
       "  }\n",
       "  th, td {\n",
       "    padding: 5px;\n",
       "  }\n",
       "  th {\n",
       "    text-align: left;\n",
       "  }\n",
       "</style><div class='table-result-container'><table class='table-result'><thead style='background-color: white'><tr></tr></thead><tbody></tbody></table></div>"
      ]
     },
     "metadata": {
      "application/vnd.databricks.v1+output": {
       "addedWidgets": {},
       "aggData": [],
       "aggError": "",
       "aggOverflow": false,
       "aggSchema": [],
       "aggSeriesLimitReached": false,
       "aggType": "",
       "arguments": {},
       "columnCustomDisplayInfos": {},
       "data": [],
       "datasetInfos": [],
       "dbfsResultPath": null,
       "isJsonSchema": true,
       "metadata": {},
       "overflow": false,
       "plotOptions": {
        "customPlotOptions": {},
        "displayType": "table",
        "pivotAggregation": null,
        "pivotColumns": null,
        "xColumns": null,
        "yColumns": null
       },
       "removedWidgets": [],
       "schema": [],
       "type": "table"
      }
     },
     "output_type": "display_data"
    }
   ],
   "source": [
    "%sql\n",
    "CREATE TABLE itversity_retail.order_items (\n",
    "\torder_item_id BIGINT,\n",
    "\torder_item_order_id BIGINT,\n",
    "\torder_item_product_id BIGINT, \n",
    "\torder_item_quantity BIGINT,\n",
    "\torder_item_subtotal DOUBLE,\n",
    "\torder_item_product_price DOUBLE\n",
    ") USING DELTA"
   ]
  },
  {
   "cell_type": "code",
   "execution_count": 0,
   "metadata": {
    "application/vnd.databricks.v1+cell": {
     "cellMetadata": {
      "byteLimit": 2048000,
      "rowLimit": 10000
     },
     "inputWidgets": {},
     "nuid": "904c7aeb-aa1b-4ae3-b75c-721f6b7f1516",
     "showTitle": false,
     "title": ""
    }
   },
   "outputs": [
    {
     "output_type": "display_data",
     "data": {
      "text/html": [
       "<style scoped>\n",
       "  .table-result-container {\n",
       "    max-height: 300px;\n",
       "    overflow: auto;\n",
       "  }\n",
       "  table, th, td {\n",
       "    border: 1px solid black;\n",
       "    border-collapse: collapse;\n",
       "  }\n",
       "  th, td {\n",
       "    padding: 5px;\n",
       "  }\n",
       "  th {\n",
       "    text-align: left;\n",
       "  }\n",
       "</style><div class='table-result-container'><table class='table-result'><thead style='background-color: white'><tr><th>path</th><th>name</th><th>size</th><th>modificationTime</th></tr></thead><tbody><tr><td>dbfs:/public/retail_db_json/order_items/part-r-00000-6b83977e-3f20-404b-9b5f-29376ab1419e</td><td>part-r-00000-6b83977e-3f20-404b-9b5f-29376ab1419e</td><td>28655610</td><td>1688569089658</td></tr></tbody></table></div>"
      ]
     },
     "metadata": {
      "application/vnd.databricks.v1+output": {
       "addedWidgets": {},
       "aggData": [],
       "aggError": "",
       "aggOverflow": false,
       "aggSchema": [],
       "aggSeriesLimitReached": false,
       "aggType": "",
       "arguments": {},
       "columnCustomDisplayInfos": {},
       "data": [
        [
         "dbfs:/public/retail_db_json/order_items/part-r-00000-6b83977e-3f20-404b-9b5f-29376ab1419e",
         "part-r-00000-6b83977e-3f20-404b-9b5f-29376ab1419e",
         28655610,
         1688569089658
        ]
       ],
       "datasetInfos": [],
       "dbfsResultPath": null,
       "isJsonSchema": true,
       "metadata": {
        "isDbfsCommandResult": false
       },
       "overflow": false,
       "plotOptions": {
        "customPlotOptions": {},
        "displayType": "table",
        "pivotAggregation": null,
        "pivotColumns": null,
        "xColumns": null,
        "yColumns": null
       },
       "removedWidgets": [],
       "schema": [
        {
         "metadata": "{}",
         "name": "path",
         "type": "\"string\""
        },
        {
         "metadata": "{}",
         "name": "name",
         "type": "\"string\""
        },
        {
         "metadata": "{}",
         "name": "size",
         "type": "\"long\""
        },
        {
         "metadata": "{}",
         "name": "modificationTime",
         "type": "\"long\""
        }
       ],
       "type": "table"
      }
     },
     "output_type": "display_data"
    }
   ],
   "source": [
    "%fs ls dbfs:/public/retail_db_json/order_items"
   ]
  },
  {
   "cell_type": "code",
   "execution_count": 0,
   "metadata": {
    "application/vnd.databricks.v1+cell": {
     "cellMetadata": {
      "byteLimit": 2048000,
      "implicitDf": true,
      "rowLimit": 10000
     },
     "inputWidgets": {},
     "nuid": "dba45387-f577-46a6-832b-73c4f7256085",
     "showTitle": false,
     "title": ""
    }
   },
   "outputs": [
    {
     "output_type": "display_data",
     "data": {
      "text/html": [
       "<style scoped>\n",
       "  .table-result-container {\n",
       "    max-height: 300px;\n",
       "    overflow: auto;\n",
       "  }\n",
       "  table, th, td {\n",
       "    border: 1px solid black;\n",
       "    border-collapse: collapse;\n",
       "  }\n",
       "  th, td {\n",
       "    padding: 5px;\n",
       "  }\n",
       "  th {\n",
       "    text-align: left;\n",
       "  }\n",
       "</style><div class='table-result-container'><table class='table-result'><thead style='background-color: white'><tr><th>num_affected_rows</th><th>num_inserted_rows</th></tr></thead><tbody><tr><td>172198</td><td>172198</td></tr></tbody></table></div>"
      ]
     },
     "metadata": {
      "application/vnd.databricks.v1+output": {
       "addedWidgets": {},
       "aggData": [],
       "aggError": "",
       "aggOverflow": false,
       "aggSchema": [],
       "aggSeriesLimitReached": false,
       "aggType": "",
       "arguments": {},
       "columnCustomDisplayInfos": {},
       "data": [
        [
         172198,
         172198
        ]
       ],
       "datasetInfos": [],
       "dbfsResultPath": null,
       "isJsonSchema": true,
       "metadata": {},
       "overflow": false,
       "plotOptions": {
        "customPlotOptions": {},
        "displayType": "table",
        "pivotAggregation": null,
        "pivotColumns": null,
        "xColumns": null,
        "yColumns": null
       },
       "removedWidgets": [],
       "schema": [
        {
         "metadata": "{}",
         "name": "num_affected_rows",
         "type": "\"long\""
        },
        {
         "metadata": "{}",
         "name": "num_inserted_rows",
         "type": "\"long\""
        }
       ],
       "type": "table"
      }
     },
     "output_type": "display_data"
    }
   ],
   "source": [
    "%sql\n",
    "INSERT INTO itversity_retail.order_items\n",
    "SELECT  order_item_id ,\n",
    "\t      order_item_order_id ,\n",
    "\t      order_item_product_id , \n",
    "\t\t\t\torder_item_quantity ,\n",
    "\t      order_item_subtotal ,\n",
    "\t      order_item_product_price \n",
    "FROM JSON.`dbfs:/public/retail_db_json/order_items`"
   ]
  },
  {
   "cell_type": "code",
   "execution_count": 0,
   "metadata": {
    "application/vnd.databricks.v1+cell": {
     "cellMetadata": {},
     "inputWidgets": {},
     "nuid": "fdc50924-b786-4f3e-a6c4-339bad13fbb1",
     "showTitle": false,
     "title": ""
    }
   },
   "outputs": [],
   "source": []
  }
 ],
 "metadata": {
  "application/vnd.databricks.v1+notebook": {
   "dashboards": [],
   "language": "python",
   "notebookMetadata": {
    "mostRecentlyExecutedCommandWithImplicitDF": {
     "commandId": 1663939865654071,
     "dataframes": [
      "_sqldf"
     ]
    },
    "pythonIndentUnit": 4
   },
   "notebookName": "00 Spark SQL",
   "widgets": {}
  }
 },
 "nbformat": 4,
 "nbformat_minor": 0
}
