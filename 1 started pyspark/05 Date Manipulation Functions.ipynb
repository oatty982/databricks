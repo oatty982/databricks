{
 "cells": [
  {
   "cell_type": "markdown",
   "metadata": {
    "application/vnd.databricks.v1+cell": {
     "cellMetadata": {},
     "inputWidgets": {},
     "nuid": "4b928de3-6bb8-41e9-bdf4-0dd6f8542d0d",
     "showTitle": false,
     "title": ""
    }
   },
   "source": [
    "# Date Manipulation Functions"
   ]
  },
  {
   "cell_type": "markdown",
   "metadata": {
    "application/vnd.databricks.v1+cell": {
     "cellMetadata": {},
     "inputWidgets": {},
     "nuid": "6ca3fd64-a9b8-4b4a-ae12-400187f2d1eb",
     "showTitle": false,
     "title": ""
    }
   },
   "source": [
    "- Getting Current Date and Timestamp\n",
    "- Date Arithmetic such as `date_add`\n",
    "- Getting beginning date or time using `trunc` or `date_trunc`\n",
    "- Extracting information using `date_format` as well as calender funcrions.\n",
    "- Dealing with unix timestamp using `from_unixtime`, `to_unix_timestamp`"
   ]
  },
  {
   "cell_type": "markdown",
   "metadata": {
    "application/vnd.databricks.v1+cell": {
     "cellMetadata": {},
     "inputWidgets": {},
     "nuid": "537b10bf-131f-48ce-8a02-d6f8350d8b37",
     "showTitle": false,
     "title": ""
    }
   },
   "source": [
    "#Getting Current Date and Timestamp"
   ]
  },
  {
   "cell_type": "code",
   "execution_count": 0,
   "metadata": {
    "application/vnd.databricks.v1+cell": {
     "cellMetadata": {
      "byteLimit": 2048000,
      "implicitDf": true,
      "rowLimit": 10000
     },
     "inputWidgets": {},
     "nuid": "dfae5a6f-25c9-4618-9b32-a72d08ae49e6",
     "showTitle": false,
     "title": ""
    }
   },
   "outputs": [
    {
     "output_type": "display_data",
     "data": {
      "text/html": [
       "<style scoped>\n",
       "  .table-result-container {\n",
       "    max-height: 300px;\n",
       "    overflow: auto;\n",
       "  }\n",
       "  table, th, td {\n",
       "    border: 1px solid black;\n",
       "    border-collapse: collapse;\n",
       "  }\n",
       "  th, td {\n",
       "    padding: 5px;\n",
       "  }\n",
       "  th {\n",
       "    text-align: left;\n",
       "  }\n",
       "</style><div class='table-result-container'><table class='table-result'><thead style='background-color: white'><tr><th>function</th></tr></thead><tbody><tr><td>!</td></tr><tr><td>!=</td></tr><tr><td>%</td></tr><tr><td>&</td></tr><tr><td>*</td></tr><tr><td>+</td></tr><tr><td>-</td></tr><tr><td>/</td></tr><tr><td><</td></tr><tr><td><=</td></tr><tr><td><=></td></tr><tr><td><></td></tr><tr><td>=</td></tr><tr><td>==</td></tr><tr><td>></td></tr><tr><td>>=</td></tr><tr><td>^</td></tr><tr><td>abs</td></tr><tr><td>acos</td></tr><tr><td>acosh</td></tr><tr><td>add_months</td></tr><tr><td>aes_decrypt</td></tr><tr><td>aes_encrypt</td></tr><tr><td>aggregate</td></tr><tr><td>and</td></tr><tr><td>any</td></tr><tr><td>any_value</td></tr><tr><td>approx_count_distinct</td></tr><tr><td>approx_percentile</td></tr><tr><td>approx_top_k</td></tr><tr><td>array</td></tr><tr><td>array_agg</td></tr><tr><td>array_append</td></tr><tr><td>array_compact</td></tr><tr><td>array_contains</td></tr><tr><td>array_distinct</td></tr><tr><td>array_except</td></tr><tr><td>array_intersect</td></tr><tr><td>array_join</td></tr><tr><td>array_max</td></tr><tr><td>array_min</td></tr><tr><td>array_position</td></tr><tr><td>array_remove</td></tr><tr><td>array_repeat</td></tr><tr><td>array_size</td></tr><tr><td>array_sort</td></tr><tr><td>array_union</td></tr><tr><td>arrays_overlap</td></tr><tr><td>arrays_zip</td></tr><tr><td>ascii</td></tr><tr><td>asin</td></tr><tr><td>asinh</td></tr><tr><td>assert_true</td></tr><tr><td>atan</td></tr><tr><td>atan2</td></tr><tr><td>atanh</td></tr><tr><td>avg</td></tr><tr><td>base64</td></tr><tr><td>between</td></tr><tr><td>bigint</td></tr><tr><td>bin</td></tr><tr><td>binary</td></tr><tr><td>bit_and</td></tr><tr><td>bit_count</td></tr><tr><td>bit_get</td></tr><tr><td>bit_length</td></tr><tr><td>bit_or</td></tr><tr><td>bit_reverse</td></tr><tr><td>bit_xor</td></tr><tr><td>bool_and</td></tr><tr><td>bool_or</td></tr><tr><td>boolean</td></tr><tr><td>bround</td></tr><tr><td>btrim</td></tr><tr><td>cardinality</td></tr><tr><td>case</td></tr><tr><td>cast</td></tr><tr><td>cbrt</td></tr><tr><td>ceil</td></tr><tr><td>ceiling</td></tr><tr><td>char</td></tr><tr><td>char_length</td></tr><tr><td>character_length</td></tr><tr><td>charindex</td></tr><tr><td>chr</td></tr><tr><td>coalesce</td></tr><tr><td>collect_list</td></tr><tr><td>collect_set</td></tr><tr><td>concat</td></tr><tr><td>concat_ws</td></tr><tr><td>contains</td></tr><tr><td>conv</td></tr><tr><td>corr</td></tr><tr><td>cos</td></tr><tr><td>cosh</td></tr><tr><td>cot</td></tr><tr><td>count</td></tr><tr><td>count_if</td></tr><tr><td>count_min_sketch</td></tr><tr><td>covar_pop</td></tr><tr><td>covar_samp</td></tr><tr><td>crc32</td></tr><tr><td>csc</td></tr><tr><td>cume_dist</td></tr><tr><td>curdate</td></tr><tr><td>current_catalog</td></tr><tr><td>current_database</td></tr><tr><td>current_date</td></tr><tr><td>current_metastore</td></tr><tr><td>current_oauth_custom_identity_claim</td></tr><tr><td>current_schema</td></tr><tr><td>current_timestamp</td></tr><tr><td>current_timezone</td></tr><tr><td>current_user</td></tr><tr><td>current_version</td></tr><tr><td>date</td></tr><tr><td>date_add</td></tr><tr><td>date_diff</td></tr><tr><td>date_format</td></tr><tr><td>date_from_unix_date</td></tr><tr><td>date_part</td></tr><tr><td>date_sub</td></tr><tr><td>date_trunc</td></tr><tr><td>dateadd</td></tr><tr><td>datediff</td></tr><tr><td>datepart</td></tr><tr><td>day</td></tr><tr><td>dayofmonth</td></tr><tr><td>dayofweek</td></tr><tr><td>dayofyear</td></tr><tr><td>decimal</td></tr><tr><td>decode</td></tr><tr><td>degrees</td></tr><tr><td>dense_rank</td></tr><tr><td>div</td></tr><tr><td>double</td></tr><tr><td>e</td></tr><tr><td>element_at</td></tr><tr><td>elt</td></tr><tr><td>encode</td></tr><tr><td>endswith</td></tr><tr><td>equal_null</td></tr><tr><td>event_log</td></tr><tr><td>every</td></tr><tr><td>exists</td></tr><tr><td>exp</td></tr><tr><td>explode</td></tr><tr><td>explode_outer</td></tr><tr><td>expm1</td></tr><tr><td>extract</td></tr><tr><td>factorial</td></tr><tr><td>filter</td></tr><tr><td>find_in_set</td></tr><tr><td>first</td></tr><tr><td>first_value</td></tr><tr><td>flatten</td></tr><tr><td>float</td></tr><tr><td>floor</td></tr><tr><td>forall</td></tr><tr><td>format_number</td></tr><tr><td>format_string</td></tr><tr><td>from_csv</td></tr><tr><td>from_json</td></tr><tr><td>from_unixtime</td></tr><tr><td>from_utc_timestamp</td></tr><tr><td>get</td></tr><tr><td>get_json_object</td></tr><tr><td>getbit</td></tr><tr><td>getdate</td></tr><tr><td>greatest</td></tr><tr><td>grouping</td></tr><tr><td>grouping_id</td></tr><tr><td>h3_boundaryasgeojson</td></tr><tr><td>h3_boundaryaswkb</td></tr><tr><td>h3_boundaryaswkt</td></tr><tr><td>h3_centerasgeojson</td></tr><tr><td>h3_centeraswkb</td></tr><tr><td>h3_centeraswkt</td></tr><tr><td>h3_compact</td></tr><tr><td>h3_distance</td></tr><tr><td>h3_getpentagoncellids</td></tr><tr><td>h3_h3tostring</td></tr><tr><td>h3_hexring</td></tr><tr><td>h3_ischildof</td></tr><tr><td>h3_ispentagon</td></tr><tr><td>h3_isvalid</td></tr><tr><td>h3_kring</td></tr><tr><td>h3_kringdistances</td></tr><tr><td>h3_longlatash3</td></tr><tr><td>h3_longlatash3string</td></tr><tr><td>h3_maxchild</td></tr><tr><td>h3_minchild</td></tr><tr><td>h3_pointash3</td></tr><tr><td>h3_pointash3string</td></tr><tr><td>h3_polyfillash3</td></tr><tr><td>h3_polyfillash3string</td></tr><tr><td>h3_resolution</td></tr><tr><td>h3_stringtoh3</td></tr><tr><td>h3_tochildren</td></tr><tr><td>h3_toparent</td></tr><tr><td>h3_try_polyfillash3</td></tr><tr><td>h3_try_polyfillash3string</td></tr><tr><td>h3_try_validate</td></tr><tr><td>h3_uncompact</td></tr><tr><td>h3_validate</td></tr><tr><td>hash</td></tr><tr><td>hex</td></tr><tr><td>histogram_numeric</td></tr><tr><td>hour</td></tr><tr><td>hypot</td></tr><tr><td>if</td></tr><tr><td>iff</td></tr><tr><td>ifnull</td></tr><tr><td>ilike</td></tr><tr><td>in</td></tr><tr><td>initcap</td></tr><tr><td>inline</td></tr><tr><td>inline_outer</td></tr><tr><td>input_file_block_length</td></tr><tr><td>input_file_block_start</td></tr><tr><td>input_file_name</td></tr><tr><td>instr</td></tr><tr><td>int</td></tr><tr><td>is_account_group_member</td></tr><tr><td>is_member</td></tr><tr><td>isnan</td></tr><tr><td>isnotnull</td></tr><tr><td>isnull</td></tr><tr><td>java_method</td></tr><tr><td>json_array_length</td></tr><tr><td>json_object_keys</td></tr><tr><td>json_tuple</td></tr><tr><td>kurtosis</td></tr><tr><td>lag</td></tr><tr><td>last</td></tr><tr><td>last_day</td></tr><tr><td>last_value</td></tr><tr><td>lcase</td></tr><tr><td>lead</td></tr><tr><td>least</td></tr><tr><td>left</td></tr><tr><td>len</td></tr><tr><td>length</td></tr><tr><td>levenshtein</td></tr><tr><td>like</td></tr><tr><td>list_secrets</td></tr><tr><td>ln</td></tr><tr><td>locate</td></tr><tr><td>log</td></tr><tr><td>log10</td></tr><tr><td>log1p</td></tr><tr><td>log2</td></tr><tr><td>lower</td></tr><tr><td>lpad</td></tr><tr><td>ltrim</td></tr><tr><td>luhn_check</td></tr><tr><td>make_date</td></tr><tr><td>make_dt_interval</td></tr><tr><td>make_interval</td></tr><tr><td>make_timestamp</td></tr><tr><td>make_ym_interval</td></tr><tr><td>map</td></tr><tr><td>map_concat</td></tr><tr><td>map_contains_key</td></tr><tr><td>map_entries</td></tr><tr><td>map_filter</td></tr><tr><td>map_from_arrays</td></tr><tr><td>map_from_entries</td></tr><tr><td>map_keys</td></tr><tr><td>map_values</td></tr><tr><td>map_zip_with</td></tr><tr><td>mask</td></tr><tr><td>max</td></tr><tr><td>max_by</td></tr><tr><td>md5</td></tr><tr><td>mean</td></tr><tr><td>median</td></tr><tr><td>min</td></tr><tr><td>min_by</td></tr><tr><td>minute</td></tr><tr><td>mod</td></tr><tr><td>mode</td></tr><tr><td>monotonically_increasing_id</td></tr><tr><td>month</td></tr><tr><td>months_between</td></tr><tr><td>named_struct</td></tr><tr><td>nanvl</td></tr><tr><td>negative</td></tr><tr><td>next_day</td></tr><tr><td>not</td></tr><tr><td>now</td></tr><tr><td>nth_value</td></tr><tr><td>ntile</td></tr><tr><td>nullif</td></tr><tr><td>nvl</td></tr><tr><td>nvl2</td></tr><tr><td>octet_length</td></tr><tr><td>or</td></tr><tr><td>overlay</td></tr><tr><td>parse_url</td></tr><tr><td>percent_rank</td></tr><tr><td>percentile</td></tr><tr><td>percentile_approx</td></tr><tr><td>pi</td></tr><tr><td>pmod</td></tr><tr><td>posexplode</td></tr><tr><td>posexplode_outer</td></tr><tr><td>position</td></tr><tr><td>positive</td></tr><tr><td>pow</td></tr><tr><td>power</td></tr><tr><td>printf</td></tr><tr><td>quarter</td></tr><tr><td>radians</td></tr><tr><td>raise_error</td></tr><tr><td>rand</td></tr><tr><td>randn</td></tr><tr><td>random</td></tr><tr><td>range</td></tr><tr><td>rank</td></tr><tr><td>read_files</td></tr><tr><td>reduce</td></tr><tr><td>reflect</td></tr><tr><td>regexp</td></tr><tr><td>regexp_count</td></tr><tr><td>regexp_extract</td></tr><tr><td>regexp_extract_all</td></tr><tr><td>regexp_instr</td></tr><tr><td>regexp_like</td></tr><tr><td>regexp_replace</td></tr><tr><td>regexp_substr</td></tr><tr><td>regr_avgx</td></tr><tr><td>regr_avgy</td></tr><tr><td>regr_count</td></tr><tr><td>regr_intercept</td></tr><tr><td>regr_r2</td></tr><tr><td>regr_slope</td></tr><tr><td>regr_sxx</td></tr><tr><td>regr_sxy</td></tr><tr><td>regr_syy</td></tr><tr><td>repeat</td></tr><tr><td>replace</td></tr><tr><td>reverse</td></tr><tr><td>right</td></tr><tr><td>rint</td></tr><tr><td>rlike</td></tr><tr><td>round</td></tr><tr><td>row_number</td></tr><tr><td>rpad</td></tr><tr><td>rtrim</td></tr><tr><td>schema_of_csv</td></tr><tr><td>schema_of_json</td></tr><tr><td>sec</td></tr><tr><td>second</td></tr><tr><td>secret</td></tr><tr><td>sentences</td></tr><tr><td>sequence</td></tr><tr><td>session_window</td></tr><tr><td>sha</td></tr><tr><td>sha1</td></tr><tr><td>sha2</td></tr><tr><td>shiftleft</td></tr><tr><td>shiftright</td></tr><tr><td>shiftrightunsigned</td></tr><tr><td>shuffle</td></tr><tr><td>sign</td></tr><tr><td>signum</td></tr><tr><td>sin</td></tr><tr><td>sinh</td></tr><tr><td>size</td></tr><tr><td>skewness</td></tr><tr><td>slice</td></tr><tr><td>smallint</td></tr><tr><td>some</td></tr><tr><td>sort_array</td></tr><tr><td>soundex</td></tr><tr><td>space</td></tr><tr><td>spark_partition_id</td></tr><tr><td>split</td></tr><tr><td>split_part</td></tr><tr><td>sqrt</td></tr><tr><td>st_area</td></tr><tr><td>st_astext</td></tr><tr><td>st_geogfromtext</td></tr><tr><td>st_geogfromwkt</td></tr><tr><td>st_geometrytype</td></tr><tr><td>st_geomfromtext</td></tr><tr><td>st_geomfromwkt</td></tr><tr><td>st_isempty</td></tr><tr><td>st_length</td></tr><tr><td>st_ndims</td></tr><tr><td>st_npoints</td></tr><tr><td>st_point</td></tr><tr><td>st_setsrid</td></tr><tr><td>st_srid</td></tr><tr><td>st_xmax</td></tr><tr><td>st_xmin</td></tr><tr><td>st_ymax</td></tr><tr><td>st_ymin</td></tr><tr><td>stack</td></tr><tr><td>startswith</td></tr><tr><td>std</td></tr><tr><td>stddev</td></tr><tr><td>stddev_pop</td></tr><tr><td>stddev_samp</td></tr><tr><td>str_to_map</td></tr><tr><td>string</td></tr><tr><td>stringdecode</td></tr><tr><td>struct</td></tr><tr><td>substr</td></tr><tr><td>substring</td></tr><tr><td>substring_index</td></tr><tr><td>sum</td></tr><tr><td>tan</td></tr><tr><td>tanh</td></tr><tr><td>timestamp</td></tr><tr><td>timestamp_micros</td></tr><tr><td>timestamp_millis</td></tr><tr><td>timestamp_seconds</td></tr><tr><td>tinyint</td></tr><tr><td>to_binary</td></tr><tr><td>to_char</td></tr><tr><td>to_csv</td></tr><tr><td>to_date</td></tr><tr><td>to_json</td></tr><tr><td>to_number</td></tr><tr><td>to_timestamp</td></tr><tr><td>to_unix_timestamp</td></tr><tr><td>to_utc_timestamp</td></tr><tr><td>transform</td></tr><tr><td>transform_keys</td></tr><tr><td>transform_values</td></tr><tr><td>translate</td></tr><tr><td>trim</td></tr><tr><td>trunc</td></tr><tr><td>try_add</td></tr><tr><td>try_avg</td></tr><tr><td>try_divide</td></tr><tr><td>try_element_at</td></tr><tr><td>try_multiply</td></tr><tr><td>try_subtract</td></tr><tr><td>try_sum</td></tr><tr><td>try_to_binary</td></tr><tr><td>try_to_number</td></tr><tr><td>try_to_timestamp</td></tr><tr><td>typeof</td></tr><tr><td>ucase</td></tr><tr><td>unbase64</td></tr><tr><td>unhex</td></tr><tr><td>unix_date</td></tr><tr><td>unix_micros</td></tr><tr><td>unix_millis</td></tr><tr><td>unix_seconds</td></tr><tr><td>unix_timestamp</td></tr><tr><td>upper</td></tr><tr><td>url_decode</td></tr><tr><td>url_encode</td></tr><tr><td>uuid</td></tr><tr><td>var_pop</td></tr><tr><td>var_samp</td></tr><tr><td>variance</td></tr><tr><td>version</td></tr><tr><td>weekday</td></tr><tr><td>weekofyear</td></tr><tr><td>when</td></tr><tr><td>width_bucket</td></tr><tr><td>window</td></tr><tr><td>window_time</td></tr><tr><td>xpath</td></tr><tr><td>xpath_boolean</td></tr><tr><td>xpath_double</td></tr><tr><td>xpath_float</td></tr><tr><td>xpath_int</td></tr><tr><td>xpath_long</td></tr><tr><td>xpath_number</td></tr><tr><td>xpath_short</td></tr><tr><td>xpath_string</td></tr><tr><td>xxhash64</td></tr><tr><td>year</td></tr><tr><td>zip_with</td></tr><tr><td>|</td></tr><tr><td>||</td></tr><tr><td>~</td></tr></tbody></table></div>"
      ]
     },
     "metadata": {
      "application/vnd.databricks.v1+output": {
       "addedWidgets": {},
       "aggData": [],
       "aggError": "",
       "aggOverflow": false,
       "aggSchema": [],
       "aggSeriesLimitReached": false,
       "aggType": "",
       "arguments": {},
       "columnCustomDisplayInfos": {},
       "data": [
        [
         "!"
        ],
        [
         "!="
        ],
        [
         "%"
        ],
        [
         "&"
        ],
        [
         "*"
        ],
        [
         "+"
        ],
        [
         "-"
        ],
        [
         "/"
        ],
        [
         "<"
        ],
        [
         "<="
        ],
        [
         "<=>"
        ],
        [
         "<>"
        ],
        [
         "="
        ],
        [
         "=="
        ],
        [
         ">"
        ],
        [
         ">="
        ],
        [
         "^"
        ],
        [
         "abs"
        ],
        [
         "acos"
        ],
        [
         "acosh"
        ],
        [
         "add_months"
        ],
        [
         "aes_decrypt"
        ],
        [
         "aes_encrypt"
        ],
        [
         "aggregate"
        ],
        [
         "and"
        ],
        [
         "any"
        ],
        [
         "any_value"
        ],
        [
         "approx_count_distinct"
        ],
        [
         "approx_percentile"
        ],
        [
         "approx_top_k"
        ],
        [
         "array"
        ],
        [
         "array_agg"
        ],
        [
         "array_append"
        ],
        [
         "array_compact"
        ],
        [
         "array_contains"
        ],
        [
         "array_distinct"
        ],
        [
         "array_except"
        ],
        [
         "array_intersect"
        ],
        [
         "array_join"
        ],
        [
         "array_max"
        ],
        [
         "array_min"
        ],
        [
         "array_position"
        ],
        [
         "array_remove"
        ],
        [
         "array_repeat"
        ],
        [
         "array_size"
        ],
        [
         "array_sort"
        ],
        [
         "array_union"
        ],
        [
         "arrays_overlap"
        ],
        [
         "arrays_zip"
        ],
        [
         "ascii"
        ],
        [
         "asin"
        ],
        [
         "asinh"
        ],
        [
         "assert_true"
        ],
        [
         "atan"
        ],
        [
         "atan2"
        ],
        [
         "atanh"
        ],
        [
         "avg"
        ],
        [
         "base64"
        ],
        [
         "between"
        ],
        [
         "bigint"
        ],
        [
         "bin"
        ],
        [
         "binary"
        ],
        [
         "bit_and"
        ],
        [
         "bit_count"
        ],
        [
         "bit_get"
        ],
        [
         "bit_length"
        ],
        [
         "bit_or"
        ],
        [
         "bit_reverse"
        ],
        [
         "bit_xor"
        ],
        [
         "bool_and"
        ],
        [
         "bool_or"
        ],
        [
         "boolean"
        ],
        [
         "bround"
        ],
        [
         "btrim"
        ],
        [
         "cardinality"
        ],
        [
         "case"
        ],
        [
         "cast"
        ],
        [
         "cbrt"
        ],
        [
         "ceil"
        ],
        [
         "ceiling"
        ],
        [
         "char"
        ],
        [
         "char_length"
        ],
        [
         "character_length"
        ],
        [
         "charindex"
        ],
        [
         "chr"
        ],
        [
         "coalesce"
        ],
        [
         "collect_list"
        ],
        [
         "collect_set"
        ],
        [
         "concat"
        ],
        [
         "concat_ws"
        ],
        [
         "contains"
        ],
        [
         "conv"
        ],
        [
         "corr"
        ],
        [
         "cos"
        ],
        [
         "cosh"
        ],
        [
         "cot"
        ],
        [
         "count"
        ],
        [
         "count_if"
        ],
        [
         "count_min_sketch"
        ],
        [
         "covar_pop"
        ],
        [
         "covar_samp"
        ],
        [
         "crc32"
        ],
        [
         "csc"
        ],
        [
         "cume_dist"
        ],
        [
         "curdate"
        ],
        [
         "current_catalog"
        ],
        [
         "current_database"
        ],
        [
         "current_date"
        ],
        [
         "current_metastore"
        ],
        [
         "current_oauth_custom_identity_claim"
        ],
        [
         "current_schema"
        ],
        [
         "current_timestamp"
        ],
        [
         "current_timezone"
        ],
        [
         "current_user"
        ],
        [
         "current_version"
        ],
        [
         "date"
        ],
        [
         "date_add"
        ],
        [
         "date_diff"
        ],
        [
         "date_format"
        ],
        [
         "date_from_unix_date"
        ],
        [
         "date_part"
        ],
        [
         "date_sub"
        ],
        [
         "date_trunc"
        ],
        [
         "dateadd"
        ],
        [
         "datediff"
        ],
        [
         "datepart"
        ],
        [
         "day"
        ],
        [
         "dayofmonth"
        ],
        [
         "dayofweek"
        ],
        [
         "dayofyear"
        ],
        [
         "decimal"
        ],
        [
         "decode"
        ],
        [
         "degrees"
        ],
        [
         "dense_rank"
        ],
        [
         "div"
        ],
        [
         "double"
        ],
        [
         "e"
        ],
        [
         "element_at"
        ],
        [
         "elt"
        ],
        [
         "encode"
        ],
        [
         "endswith"
        ],
        [
         "equal_null"
        ],
        [
         "event_log"
        ],
        [
         "every"
        ],
        [
         "exists"
        ],
        [
         "exp"
        ],
        [
         "explode"
        ],
        [
         "explode_outer"
        ],
        [
         "expm1"
        ],
        [
         "extract"
        ],
        [
         "factorial"
        ],
        [
         "filter"
        ],
        [
         "find_in_set"
        ],
        [
         "first"
        ],
        [
         "first_value"
        ],
        [
         "flatten"
        ],
        [
         "float"
        ],
        [
         "floor"
        ],
        [
         "forall"
        ],
        [
         "format_number"
        ],
        [
         "format_string"
        ],
        [
         "from_csv"
        ],
        [
         "from_json"
        ],
        [
         "from_unixtime"
        ],
        [
         "from_utc_timestamp"
        ],
        [
         "get"
        ],
        [
         "get_json_object"
        ],
        [
         "getbit"
        ],
        [
         "getdate"
        ],
        [
         "greatest"
        ],
        [
         "grouping"
        ],
        [
         "grouping_id"
        ],
        [
         "h3_boundaryasgeojson"
        ],
        [
         "h3_boundaryaswkb"
        ],
        [
         "h3_boundaryaswkt"
        ],
        [
         "h3_centerasgeojson"
        ],
        [
         "h3_centeraswkb"
        ],
        [
         "h3_centeraswkt"
        ],
        [
         "h3_compact"
        ],
        [
         "h3_distance"
        ],
        [
         "h3_getpentagoncellids"
        ],
        [
         "h3_h3tostring"
        ],
        [
         "h3_hexring"
        ],
        [
         "h3_ischildof"
        ],
        [
         "h3_ispentagon"
        ],
        [
         "h3_isvalid"
        ],
        [
         "h3_kring"
        ],
        [
         "h3_kringdistances"
        ],
        [
         "h3_longlatash3"
        ],
        [
         "h3_longlatash3string"
        ],
        [
         "h3_maxchild"
        ],
        [
         "h3_minchild"
        ],
        [
         "h3_pointash3"
        ],
        [
         "h3_pointash3string"
        ],
        [
         "h3_polyfillash3"
        ],
        [
         "h3_polyfillash3string"
        ],
        [
         "h3_resolution"
        ],
        [
         "h3_stringtoh3"
        ],
        [
         "h3_tochildren"
        ],
        [
         "h3_toparent"
        ],
        [
         "h3_try_polyfillash3"
        ],
        [
         "h3_try_polyfillash3string"
        ],
        [
         "h3_try_validate"
        ],
        [
         "h3_uncompact"
        ],
        [
         "h3_validate"
        ],
        [
         "hash"
        ],
        [
         "hex"
        ],
        [
         "histogram_numeric"
        ],
        [
         "hour"
        ],
        [
         "hypot"
        ],
        [
         "if"
        ],
        [
         "iff"
        ],
        [
         "ifnull"
        ],
        [
         "ilike"
        ],
        [
         "in"
        ],
        [
         "initcap"
        ],
        [
         "inline"
        ],
        [
         "inline_outer"
        ],
        [
         "input_file_block_length"
        ],
        [
         "input_file_block_start"
        ],
        [
         "input_file_name"
        ],
        [
         "instr"
        ],
        [
         "int"
        ],
        [
         "is_account_group_member"
        ],
        [
         "is_member"
        ],
        [
         "isnan"
        ],
        [
         "isnotnull"
        ],
        [
         "isnull"
        ],
        [
         "java_method"
        ],
        [
         "json_array_length"
        ],
        [
         "json_object_keys"
        ],
        [
         "json_tuple"
        ],
        [
         "kurtosis"
        ],
        [
         "lag"
        ],
        [
         "last"
        ],
        [
         "last_day"
        ],
        [
         "last_value"
        ],
        [
         "lcase"
        ],
        [
         "lead"
        ],
        [
         "least"
        ],
        [
         "left"
        ],
        [
         "len"
        ],
        [
         "length"
        ],
        [
         "levenshtein"
        ],
        [
         "like"
        ],
        [
         "list_secrets"
        ],
        [
         "ln"
        ],
        [
         "locate"
        ],
        [
         "log"
        ],
        [
         "log10"
        ],
        [
         "log1p"
        ],
        [
         "log2"
        ],
        [
         "lower"
        ],
        [
         "lpad"
        ],
        [
         "ltrim"
        ],
        [
         "luhn_check"
        ],
        [
         "make_date"
        ],
        [
         "make_dt_interval"
        ],
        [
         "make_interval"
        ],
        [
         "make_timestamp"
        ],
        [
         "make_ym_interval"
        ],
        [
         "map"
        ],
        [
         "map_concat"
        ],
        [
         "map_contains_key"
        ],
        [
         "map_entries"
        ],
        [
         "map_filter"
        ],
        [
         "map_from_arrays"
        ],
        [
         "map_from_entries"
        ],
        [
         "map_keys"
        ],
        [
         "map_values"
        ],
        [
         "map_zip_with"
        ],
        [
         "mask"
        ],
        [
         "max"
        ],
        [
         "max_by"
        ],
        [
         "md5"
        ],
        [
         "mean"
        ],
        [
         "median"
        ],
        [
         "min"
        ],
        [
         "min_by"
        ],
        [
         "minute"
        ],
        [
         "mod"
        ],
        [
         "mode"
        ],
        [
         "monotonically_increasing_id"
        ],
        [
         "month"
        ],
        [
         "months_between"
        ],
        [
         "named_struct"
        ],
        [
         "nanvl"
        ],
        [
         "negative"
        ],
        [
         "next_day"
        ],
        [
         "not"
        ],
        [
         "now"
        ],
        [
         "nth_value"
        ],
        [
         "ntile"
        ],
        [
         "nullif"
        ],
        [
         "nvl"
        ],
        [
         "nvl2"
        ],
        [
         "octet_length"
        ],
        [
         "or"
        ],
        [
         "overlay"
        ],
        [
         "parse_url"
        ],
        [
         "percent_rank"
        ],
        [
         "percentile"
        ],
        [
         "percentile_approx"
        ],
        [
         "pi"
        ],
        [
         "pmod"
        ],
        [
         "posexplode"
        ],
        [
         "posexplode_outer"
        ],
        [
         "position"
        ],
        [
         "positive"
        ],
        [
         "pow"
        ],
        [
         "power"
        ],
        [
         "printf"
        ],
        [
         "quarter"
        ],
        [
         "radians"
        ],
        [
         "raise_error"
        ],
        [
         "rand"
        ],
        [
         "randn"
        ],
        [
         "random"
        ],
        [
         "range"
        ],
        [
         "rank"
        ],
        [
         "read_files"
        ],
        [
         "reduce"
        ],
        [
         "reflect"
        ],
        [
         "regexp"
        ],
        [
         "regexp_count"
        ],
        [
         "regexp_extract"
        ],
        [
         "regexp_extract_all"
        ],
        [
         "regexp_instr"
        ],
        [
         "regexp_like"
        ],
        [
         "regexp_replace"
        ],
        [
         "regexp_substr"
        ],
        [
         "regr_avgx"
        ],
        [
         "regr_avgy"
        ],
        [
         "regr_count"
        ],
        [
         "regr_intercept"
        ],
        [
         "regr_r2"
        ],
        [
         "regr_slope"
        ],
        [
         "regr_sxx"
        ],
        [
         "regr_sxy"
        ],
        [
         "regr_syy"
        ],
        [
         "repeat"
        ],
        [
         "replace"
        ],
        [
         "reverse"
        ],
        [
         "right"
        ],
        [
         "rint"
        ],
        [
         "rlike"
        ],
        [
         "round"
        ],
        [
         "row_number"
        ],
        [
         "rpad"
        ],
        [
         "rtrim"
        ],
        [
         "schema_of_csv"
        ],
        [
         "schema_of_json"
        ],
        [
         "sec"
        ],
        [
         "second"
        ],
        [
         "secret"
        ],
        [
         "sentences"
        ],
        [
         "sequence"
        ],
        [
         "session_window"
        ],
        [
         "sha"
        ],
        [
         "sha1"
        ],
        [
         "sha2"
        ],
        [
         "shiftleft"
        ],
        [
         "shiftright"
        ],
        [
         "shiftrightunsigned"
        ],
        [
         "shuffle"
        ],
        [
         "sign"
        ],
        [
         "signum"
        ],
        [
         "sin"
        ],
        [
         "sinh"
        ],
        [
         "size"
        ],
        [
         "skewness"
        ],
        [
         "slice"
        ],
        [
         "smallint"
        ],
        [
         "some"
        ],
        [
         "sort_array"
        ],
        [
         "soundex"
        ],
        [
         "space"
        ],
        [
         "spark_partition_id"
        ],
        [
         "split"
        ],
        [
         "split_part"
        ],
        [
         "sqrt"
        ],
        [
         "st_area"
        ],
        [
         "st_astext"
        ],
        [
         "st_geogfromtext"
        ],
        [
         "st_geogfromwkt"
        ],
        [
         "st_geometrytype"
        ],
        [
         "st_geomfromtext"
        ],
        [
         "st_geomfromwkt"
        ],
        [
         "st_isempty"
        ],
        [
         "st_length"
        ],
        [
         "st_ndims"
        ],
        [
         "st_npoints"
        ],
        [
         "st_point"
        ],
        [
         "st_setsrid"
        ],
        [
         "st_srid"
        ],
        [
         "st_xmax"
        ],
        [
         "st_xmin"
        ],
        [
         "st_ymax"
        ],
        [
         "st_ymin"
        ],
        [
         "stack"
        ],
        [
         "startswith"
        ],
        [
         "std"
        ],
        [
         "stddev"
        ],
        [
         "stddev_pop"
        ],
        [
         "stddev_samp"
        ],
        [
         "str_to_map"
        ],
        [
         "string"
        ],
        [
         "stringdecode"
        ],
        [
         "struct"
        ],
        [
         "substr"
        ],
        [
         "substring"
        ],
        [
         "substring_index"
        ],
        [
         "sum"
        ],
        [
         "tan"
        ],
        [
         "tanh"
        ],
        [
         "timestamp"
        ],
        [
         "timestamp_micros"
        ],
        [
         "timestamp_millis"
        ],
        [
         "timestamp_seconds"
        ],
        [
         "tinyint"
        ],
        [
         "to_binary"
        ],
        [
         "to_char"
        ],
        [
         "to_csv"
        ],
        [
         "to_date"
        ],
        [
         "to_json"
        ],
        [
         "to_number"
        ],
        [
         "to_timestamp"
        ],
        [
         "to_unix_timestamp"
        ],
        [
         "to_utc_timestamp"
        ],
        [
         "transform"
        ],
        [
         "transform_keys"
        ],
        [
         "transform_values"
        ],
        [
         "translate"
        ],
        [
         "trim"
        ],
        [
         "trunc"
        ],
        [
         "try_add"
        ],
        [
         "try_avg"
        ],
        [
         "try_divide"
        ],
        [
         "try_element_at"
        ],
        [
         "try_multiply"
        ],
        [
         "try_subtract"
        ],
        [
         "try_sum"
        ],
        [
         "try_to_binary"
        ],
        [
         "try_to_number"
        ],
        [
         "try_to_timestamp"
        ],
        [
         "typeof"
        ],
        [
         "ucase"
        ],
        [
         "unbase64"
        ],
        [
         "unhex"
        ],
        [
         "unix_date"
        ],
        [
         "unix_micros"
        ],
        [
         "unix_millis"
        ],
        [
         "unix_seconds"
        ],
        [
         "unix_timestamp"
        ],
        [
         "upper"
        ],
        [
         "url_decode"
        ],
        [
         "url_encode"
        ],
        [
         "uuid"
        ],
        [
         "var_pop"
        ],
        [
         "var_samp"
        ],
        [
         "variance"
        ],
        [
         "version"
        ],
        [
         "weekday"
        ],
        [
         "weekofyear"
        ],
        [
         "when"
        ],
        [
         "width_bucket"
        ],
        [
         "window"
        ],
        [
         "window_time"
        ],
        [
         "xpath"
        ],
        [
         "xpath_boolean"
        ],
        [
         "xpath_double"
        ],
        [
         "xpath_float"
        ],
        [
         "xpath_int"
        ],
        [
         "xpath_long"
        ],
        [
         "xpath_number"
        ],
        [
         "xpath_short"
        ],
        [
         "xpath_string"
        ],
        [
         "xxhash64"
        ],
        [
         "year"
        ],
        [
         "zip_with"
        ],
        [
         "|"
        ],
        [
         "||"
        ],
        [
         "~"
        ]
       ],
       "datasetInfos": [],
       "dbfsResultPath": null,
       "isJsonSchema": true,
       "metadata": {},
       "overflow": false,
       "plotOptions": {
        "customPlotOptions": {},
        "displayType": "table",
        "pivotAggregation": null,
        "pivotColumns": null,
        "xColumns": null,
        "yColumns": null
       },
       "removedWidgets": [],
       "schema": [
        {
         "metadata": "{}",
         "name": "function",
         "type": "\"string\""
        }
       ],
       "type": "table"
      }
     },
     "output_type": "display_data"
    }
   ],
   "source": [
    "%sql\n",
    "\n",
    "show functions"
   ]
  },
  {
   "cell_type": "code",
   "execution_count": 0,
   "metadata": {
    "application/vnd.databricks.v1+cell": {
     "cellMetadata": {
      "byteLimit": 2048000,
      "implicitDf": true,
      "rowLimit": 10000
     },
     "inputWidgets": {},
     "nuid": "27cfa9a1-63d2-4166-9513-a4162da70a65",
     "showTitle": false,
     "title": ""
    }
   },
   "outputs": [
    {
     "output_type": "display_data",
     "data": {
      "text/html": [
       "<style scoped>\n",
       "  .table-result-container {\n",
       "    max-height: 300px;\n",
       "    overflow: auto;\n",
       "  }\n",
       "  table, th, td {\n",
       "    border: 1px solid black;\n",
       "    border-collapse: collapse;\n",
       "  }\n",
       "  th, td {\n",
       "    padding: 5px;\n",
       "  }\n",
       "  th {\n",
       "    text-align: left;\n",
       "  }\n",
       "</style><div class='table-result-container'><table class='table-result'><thead style='background-color: white'><tr><th>current_date</th></tr></thead><tbody><tr><td>2023-07-07</td></tr></tbody></table></div>"
      ]
     },
     "metadata": {
      "application/vnd.databricks.v1+output": {
       "addedWidgets": {},
       "aggData": [],
       "aggError": "",
       "aggOverflow": false,
       "aggSchema": [],
       "aggSeriesLimitReached": false,
       "aggType": "",
       "arguments": {},
       "columnCustomDisplayInfos": {},
       "data": [
        [
         "2023-07-07"
        ]
       ],
       "datasetInfos": [],
       "dbfsResultPath": null,
       "isJsonSchema": true,
       "metadata": {},
       "overflow": false,
       "plotOptions": {
        "customPlotOptions": {},
        "displayType": "table",
        "pivotAggregation": null,
        "pivotColumns": null,
        "xColumns": null,
        "yColumns": null
       },
       "removedWidgets": [],
       "schema": [
        {
         "metadata": "{}",
         "name": "current_date",
         "type": "\"date\""
        }
       ],
       "type": "table"
      }
     },
     "output_type": "display_data"
    }
   ],
   "source": [
    "%sql\n",
    "\n",
    "select current_date() as current_date"
   ]
  },
  {
   "cell_type": "code",
   "execution_count": 0,
   "metadata": {
    "application/vnd.databricks.v1+cell": {
     "cellMetadata": {
      "byteLimit": 2048000,
      "implicitDf": true,
      "rowLimit": 10000
     },
     "inputWidgets": {},
     "nuid": "cc31ca1c-cc09-4073-a2ac-beb402ea66f4",
     "showTitle": false,
     "title": ""
    }
   },
   "outputs": [
    {
     "output_type": "display_data",
     "data": {
      "text/html": [
       "<style scoped>\n",
       "  .table-result-container {\n",
       "    max-height: 300px;\n",
       "    overflow: auto;\n",
       "  }\n",
       "  table, th, td {\n",
       "    border: 1px solid black;\n",
       "    border-collapse: collapse;\n",
       "  }\n",
       "  th, td {\n",
       "    padding: 5px;\n",
       "  }\n",
       "  th {\n",
       "    text-align: left;\n",
       "  }\n",
       "</style><div class='table-result-container'><table class='table-result'><thead style='background-color: white'><tr><th>current_timestamp</th></tr></thead><tbody><tr><td>2023-07-07T06:45:06.210+0000</td></tr></tbody></table></div>"
      ]
     },
     "metadata": {
      "application/vnd.databricks.v1+output": {
       "addedWidgets": {},
       "aggData": [],
       "aggError": "",
       "aggOverflow": false,
       "aggSchema": [],
       "aggSeriesLimitReached": false,
       "aggType": "",
       "arguments": {},
       "columnCustomDisplayInfos": {},
       "data": [
        [
         "2023-07-07T06:45:06.210+0000"
        ]
       ],
       "datasetInfos": [],
       "dbfsResultPath": null,
       "isJsonSchema": true,
       "metadata": {},
       "overflow": false,
       "plotOptions": {
        "customPlotOptions": {},
        "displayType": "table",
        "pivotAggregation": null,
        "pivotColumns": null,
        "xColumns": null,
        "yColumns": null
       },
       "removedWidgets": [],
       "schema": [
        {
         "metadata": "{}",
         "name": "current_timestamp",
         "type": "\"timestamp\""
        }
       ],
       "type": "table"
      }
     },
     "output_type": "display_data"
    }
   ],
   "source": [
    "%sql\n",
    "\n",
    "select current_timestamp() as current_timestamp"
   ]
  },
  {
   "cell_type": "markdown",
   "metadata": {
    "application/vnd.databricks.v1+cell": {
     "cellMetadata": {},
     "inputWidgets": {},
     "nuid": "f8e0d617-617f-47b2-9939-a64a951e2f30",
     "showTitle": false,
     "title": ""
    }
   },
   "source": [
    "# Date Arithmetic\n",
    "\n",
    "- `date_add` can be used to add or subtract days.\n",
    "- `date_sub` can be used to subtract or add days.\n",
    "- `datediff` can be used to get differnce between 2 dates.\n",
    "- `add_months` can be used add months to a date."
   ]
  },
  {
   "cell_type": "code",
   "execution_count": 0,
   "metadata": {
    "application/vnd.databricks.v1+cell": {
     "cellMetadata": {
      "byteLimit": 2048000,
      "implicitDf": true,
      "rowLimit": 10000
     },
     "inputWidgets": {},
     "nuid": "0380e4ff-73b8-4b63-8caa-b6bdb3c750e0",
     "showTitle": false,
     "title": ""
    }
   },
   "outputs": [
    {
     "output_type": "display_data",
     "data": {
      "text/html": [
       "<style scoped>\n",
       "  .table-result-container {\n",
       "    max-height: 300px;\n",
       "    overflow: auto;\n",
       "  }\n",
       "  table, th, td {\n",
       "    border: 1px solid black;\n",
       "    border-collapse: collapse;\n",
       "  }\n",
       "  th, td {\n",
       "    padding: 5px;\n",
       "  }\n",
       "  th {\n",
       "    text-align: left;\n",
       "  }\n",
       "</style><div class='table-result-container'><table class='table-result'><thead style='background-color: white'><tr><th>result</th></tr></thead><tbody><tr><td>2023-08-08</td></tr></tbody></table></div>"
      ]
     },
     "metadata": {
      "application/vnd.databricks.v1+output": {
       "addedWidgets": {},
       "aggData": [],
       "aggError": "",
       "aggOverflow": false,
       "aggSchema": [],
       "aggSeriesLimitReached": false,
       "aggType": "",
       "arguments": {},
       "columnCustomDisplayInfos": {},
       "data": [
        [
         "2023-08-08"
        ]
       ],
       "datasetInfos": [],
       "dbfsResultPath": null,
       "isJsonSchema": true,
       "metadata": {},
       "overflow": false,
       "plotOptions": {
        "customPlotOptions": {},
        "displayType": "table",
        "pivotAggregation": null,
        "pivotColumns": null,
        "xColumns": null,
        "yColumns": null
       },
       "removedWidgets": [],
       "schema": [
        {
         "metadata": "{}",
         "name": "result",
         "type": "\"date\""
        }
       ],
       "type": "table"
      }
     },
     "output_type": "display_data"
    }
   ],
   "source": [
    "%sql\n",
    "\n",
    "select date_add(current_date, 32) as result"
   ]
  },
  {
   "cell_type": "code",
   "execution_count": 0,
   "metadata": {
    "application/vnd.databricks.v1+cell": {
     "cellMetadata": {
      "byteLimit": 2048000,
      "implicitDf": true,
      "rowLimit": 10000
     },
     "inputWidgets": {},
     "nuid": "ec694ecd-e8eb-4e5c-a801-f5605efc569e",
     "showTitle": false,
     "title": ""
    }
   },
   "outputs": [
    {
     "output_type": "display_data",
     "data": {
      "text/html": [
       "<style scoped>\n",
       "  .table-result-container {\n",
       "    max-height: 300px;\n",
       "    overflow: auto;\n",
       "  }\n",
       "  table, th, td {\n",
       "    border: 1px solid black;\n",
       "    border-collapse: collapse;\n",
       "  }\n",
       "  th, td {\n",
       "    padding: 5px;\n",
       "  }\n",
       "  th {\n",
       "    text-align: left;\n",
       "  }\n",
       "</style><div class='table-result-container'><table class='table-result'><thead style='background-color: white'><tr><th>result</th></tr></thead><tbody><tr><td>2020-04-14</td></tr></tbody></table></div>"
      ]
     },
     "metadata": {
      "application/vnd.databricks.v1+output": {
       "addedWidgets": {},
       "aggData": [],
       "aggError": "",
       "aggOverflow": false,
       "aggSchema": [],
       "aggSeriesLimitReached": false,
       "aggType": "",
       "arguments": {},
       "columnCustomDisplayInfos": {},
       "data": [
        [
         "2020-04-14"
        ]
       ],
       "datasetInfos": [],
       "dbfsResultPath": null,
       "isJsonSchema": true,
       "metadata": {},
       "overflow": false,
       "plotOptions": {
        "customPlotOptions": {},
        "displayType": "table",
        "pivotAggregation": null,
        "pivotColumns": null,
        "xColumns": null,
        "yColumns": null
       },
       "removedWidgets": [],
       "schema": [
        {
         "metadata": "{}",
         "name": "result",
         "type": "\"date\""
        }
       ],
       "type": "table"
      }
     },
     "output_type": "display_data"
    }
   ],
   "source": [
    "%sql\n",
    "\n",
    "select date_add('2018-04-15', 730) as result"
   ]
  },
  {
   "cell_type": "code",
   "execution_count": 0,
   "metadata": {
    "application/vnd.databricks.v1+cell": {
     "cellMetadata": {
      "byteLimit": 2048000,
      "implicitDf": true,
      "rowLimit": 10000
     },
     "inputWidgets": {},
     "nuid": "03ecaa88-ce9d-432b-9278-7e5e5e02d674",
     "showTitle": false,
     "title": ""
    }
   },
   "outputs": [
    {
     "output_type": "display_data",
     "data": {
      "text/html": [
       "<style scoped>\n",
       "  .table-result-container {\n",
       "    max-height: 300px;\n",
       "    overflow: auto;\n",
       "  }\n",
       "  table, th, td {\n",
       "    border: 1px solid black;\n",
       "    border-collapse: collapse;\n",
       "  }\n",
       "  th, td {\n",
       "    padding: 5px;\n",
       "  }\n",
       "  th {\n",
       "    text-align: left;\n",
       "  }\n",
       "</style><div class='table-result-container'><table class='table-result'><thead style='background-color: white'><tr><th>result</th></tr></thead><tbody><tr><td>2016-04-15</td></tr></tbody></table></div>"
      ]
     },
     "metadata": {
      "application/vnd.databricks.v1+output": {
       "addedWidgets": {},
       "aggData": [],
       "aggError": "",
       "aggOverflow": false,
       "aggSchema": [],
       "aggSeriesLimitReached": false,
       "aggType": "",
       "arguments": {},
       "columnCustomDisplayInfos": {},
       "data": [
        [
         "2016-04-15"
        ]
       ],
       "datasetInfos": [],
       "dbfsResultPath": null,
       "isJsonSchema": true,
       "metadata": {},
       "overflow": false,
       "plotOptions": {
        "customPlotOptions": {},
        "displayType": "table",
        "pivotAggregation": null,
        "pivotColumns": null,
        "xColumns": null,
        "yColumns": null
       },
       "removedWidgets": [],
       "schema": [
        {
         "metadata": "{}",
         "name": "result",
         "type": "\"date\""
        }
       ],
       "type": "table"
      }
     },
     "output_type": "display_data"
    }
   ],
   "source": [
    "%sql\n",
    "\n",
    "select date_add('2018-04-15', -730) as result"
   ]
  },
  {
   "cell_type": "code",
   "execution_count": 0,
   "metadata": {
    "application/vnd.databricks.v1+cell": {
     "cellMetadata": {
      "byteLimit": 2048000,
      "implicitDf": true,
      "rowLimit": 10000
     },
     "inputWidgets": {},
     "nuid": "02a6080e-3cc1-4f21-a824-5ea75d2f41dc",
     "showTitle": false,
     "title": ""
    }
   },
   "outputs": [
    {
     "output_type": "display_data",
     "data": {
      "text/html": [
       "<style scoped>\n",
       "  .table-result-container {\n",
       "    max-height: 300px;\n",
       "    overflow: auto;\n",
       "  }\n",
       "  table, th, td {\n",
       "    border: 1px solid black;\n",
       "    border-collapse: collapse;\n",
       "  }\n",
       "  th, td {\n",
       "    padding: 5px;\n",
       "  }\n",
       "  th {\n",
       "    text-align: left;\n",
       "  }\n",
       "</style><div class='table-result-container'><table class='table-result'><thead style='background-color: white'><tr><th>current_date</th><th>result</th></tr></thead><tbody><tr><td>2023-07-07</td><td>2023-08-07</td></tr></tbody></table></div>"
      ]
     },
     "metadata": {
      "application/vnd.databricks.v1+output": {
       "addedWidgets": {},
       "aggData": [],
       "aggError": "",
       "aggOverflow": false,
       "aggSchema": [],
       "aggSeriesLimitReached": false,
       "aggType": "",
       "arguments": {},
       "columnCustomDisplayInfos": {},
       "data": [
        [
         "2023-07-07",
         "2023-08-07"
        ]
       ],
       "datasetInfos": [],
       "dbfsResultPath": null,
       "isJsonSchema": true,
       "metadata": {},
       "overflow": false,
       "plotOptions": {
        "customPlotOptions": {},
        "displayType": "table",
        "pivotAggregation": null,
        "pivotColumns": null,
        "xColumns": null,
        "yColumns": null
       },
       "removedWidgets": [],
       "schema": [
        {
         "metadata": "{}",
         "name": "current_date",
         "type": "\"date\""
        },
        {
         "metadata": "{}",
         "name": "result",
         "type": "\"date\""
        }
       ],
       "type": "table"
      }
     },
     "output_type": "display_data"
    }
   ],
   "source": [
    "%sql\n",
    "\n",
    "select current_date() as current_date,\n",
    "date_add(current_date, 31) as result"
   ]
  },
  {
   "cell_type": "code",
   "execution_count": 0,
   "metadata": {
    "application/vnd.databricks.v1+cell": {
     "cellMetadata": {
      "byteLimit": 2048000,
      "implicitDf": true,
      "rowLimit": 10000
     },
     "inputWidgets": {},
     "nuid": "a5901bee-b4bc-4066-a862-421b8f28577a",
     "showTitle": false,
     "title": ""
    }
   },
   "outputs": [
    {
     "output_type": "display_data",
     "data": {
      "text/html": [
       "<style scoped>\n",
       "  .table-result-container {\n",
       "    max-height: 300px;\n",
       "    overflow: auto;\n",
       "  }\n",
       "  table, th, td {\n",
       "    border: 1px solid black;\n",
       "    border-collapse: collapse;\n",
       "  }\n",
       "  th, td {\n",
       "    padding: 5px;\n",
       "  }\n",
       "  th {\n",
       "    text-align: left;\n",
       "  }\n",
       "</style><div class='table-result-container'><table class='table-result'><thead style='background-color: white'><tr><th>current_date</th><th>result</th></tr></thead><tbody><tr><td>2023-07-07</td><td>2023-06-06</td></tr></tbody></table></div>"
      ]
     },
     "metadata": {
      "application/vnd.databricks.v1+output": {
       "addedWidgets": {},
       "aggData": [],
       "aggError": "",
       "aggOverflow": false,
       "aggSchema": [],
       "aggSeriesLimitReached": false,
       "aggType": "",
       "arguments": {},
       "columnCustomDisplayInfos": {},
       "data": [
        [
         "2023-07-07",
         "2023-06-06"
        ]
       ],
       "datasetInfos": [],
       "dbfsResultPath": null,
       "isJsonSchema": true,
       "metadata": {},
       "overflow": false,
       "plotOptions": {
        "customPlotOptions": {},
        "displayType": "table",
        "pivotAggregation": null,
        "pivotColumns": null,
        "xColumns": null,
        "yColumns": null
       },
       "removedWidgets": [],
       "schema": [
        {
         "metadata": "{}",
         "name": "current_date",
         "type": "\"date\""
        },
        {
         "metadata": "{}",
         "name": "result",
         "type": "\"date\""
        }
       ],
       "type": "table"
      }
     },
     "output_type": "display_data"
    }
   ],
   "source": [
    "%sql\n",
    "\n",
    "select current_date() as current_date,\n",
    "date_sub(current_date, 31) as result"
   ]
  },
  {
   "cell_type": "code",
   "execution_count": 0,
   "metadata": {
    "application/vnd.databricks.v1+cell": {
     "cellMetadata": {
      "byteLimit": 2048000,
      "implicitDf": true,
      "rowLimit": 10000
     },
     "inputWidgets": {},
     "nuid": "0f1e051f-8bdf-48fa-ac2d-2523b05bd690",
     "showTitle": false,
     "title": ""
    }
   },
   "outputs": [
    {
     "output_type": "display_data",
     "data": {
      "text/html": [
       "<style scoped>\n",
       "  .table-result-container {\n",
       "    max-height: 300px;\n",
       "    overflow: auto;\n",
       "  }\n",
       "  table, th, td {\n",
       "    border: 1px solid black;\n",
       "    border-collapse: collapse;\n",
       "  }\n",
       "  th, td {\n",
       "    padding: 5px;\n",
       "  }\n",
       "  th {\n",
       "    text-align: left;\n",
       "  }\n",
       "</style><div class='table-result-container'><table class='table-result'><thead style='background-color: white'><tr><th>result</th></tr></thead><tbody><tr><td>454</td></tr></tbody></table></div>"
      ]
     },
     "metadata": {
      "application/vnd.databricks.v1+output": {
       "addedWidgets": {},
       "aggData": [],
       "aggError": "",
       "aggOverflow": false,
       "aggSchema": [],
       "aggSeriesLimitReached": false,
       "aggType": "",
       "arguments": {},
       "columnCustomDisplayInfos": {},
       "data": [
        [
         454
        ]
       ],
       "datasetInfos": [],
       "dbfsResultPath": null,
       "isJsonSchema": true,
       "metadata": {},
       "overflow": false,
       "plotOptions": {
        "customPlotOptions": {},
        "displayType": "table",
        "pivotAggregation": null,
        "pivotColumns": null,
        "xColumns": null,
        "yColumns": null
       },
       "removedWidgets": [],
       "schema": [
        {
         "metadata": "{}",
         "name": "result",
         "type": "\"integer\""
        }
       ],
       "type": "table"
      }
     },
     "output_type": "display_data"
    }
   ],
   "source": [
    "%sql\n",
    "\n",
    "select datediff('2019-03-30', '2017-12-31') as result"
   ]
  },
  {
   "cell_type": "code",
   "execution_count": 0,
   "metadata": {
    "application/vnd.databricks.v1+cell": {
     "cellMetadata": {
      "byteLimit": 2048000,
      "implicitDf": true,
      "rowLimit": 10000
     },
     "inputWidgets": {},
     "nuid": "619ecde2-8c63-40d6-8981-c922423a7011",
     "showTitle": false,
     "title": ""
    }
   },
   "outputs": [
    {
     "output_type": "display_data",
     "data": {
      "text/html": [
       "<style scoped>\n",
       "  .table-result-container {\n",
       "    max-height: 300px;\n",
       "    overflow: auto;\n",
       "  }\n",
       "  table, th, td {\n",
       "    border: 1px solid black;\n",
       "    border-collapse: collapse;\n",
       "  }\n",
       "  th, td {\n",
       "    padding: 5px;\n",
       "  }\n",
       "  th {\n",
       "    text-align: left;\n",
       "  }\n",
       "</style><div class='table-result-container'><table class='table-result'><thead style='background-color: white'><tr><th>current_date()</th><th>result</th></tr></thead><tbody><tr><td>2023-07-07</td><td>2023-08-07</td></tr></tbody></table></div>"
      ]
     },
     "metadata": {
      "application/vnd.databricks.v1+output": {
       "addedWidgets": {},
       "aggData": [],
       "aggError": "",
       "aggOverflow": false,
       "aggSchema": [],
       "aggSeriesLimitReached": false,
       "aggType": "",
       "arguments": {},
       "columnCustomDisplayInfos": {},
       "data": [
        [
         "2023-07-07",
         "2023-08-07"
        ]
       ],
       "datasetInfos": [],
       "dbfsResultPath": null,
       "isJsonSchema": true,
       "metadata": {},
       "overflow": false,
       "plotOptions": {
        "customPlotOptions": {},
        "displayType": "table",
        "pivotAggregation": null,
        "pivotColumns": null,
        "xColumns": null,
        "yColumns": null
       },
       "removedWidgets": [],
       "schema": [
        {
         "metadata": "{}",
         "name": "current_date()",
         "type": "\"date\""
        },
        {
         "metadata": "{}",
         "name": "result",
         "type": "\"date\""
        }
       ],
       "type": "table"
      }
     },
     "output_type": "display_data"
    }
   ],
   "source": [
    "%sql\n",
    "\n",
    "select current_date,\n",
    "add_months(current_date, 1) as result"
   ]
  },
  {
   "cell_type": "code",
   "execution_count": 0,
   "metadata": {
    "application/vnd.databricks.v1+cell": {
     "cellMetadata": {
      "byteLimit": 2048000,
      "implicitDf": true,
      "rowLimit": 10000
     },
     "inputWidgets": {},
     "nuid": "e9160c80-9982-41ac-9aed-0dca9012f6b0",
     "showTitle": false,
     "title": ""
    }
   },
   "outputs": [
    {
     "output_type": "display_data",
     "data": {
      "text/html": [
       "<style scoped>\n",
       "  .table-result-container {\n",
       "    max-height: 300px;\n",
       "    overflow: auto;\n",
       "  }\n",
       "  table, th, td {\n",
       "    border: 1px solid black;\n",
       "    border-collapse: collapse;\n",
       "  }\n",
       "  th, td {\n",
       "    padding: 5px;\n",
       "  }\n",
       "  th {\n",
       "    text-align: left;\n",
       "  }\n",
       "</style><div class='table-result-container'><table class='table-result'><thead style='background-color: white'><tr><th>current_timestamp()</th><th>result</th></tr></thead><tbody><tr><td>2023-07-07T07:31:21.518+0000</td><td>2023-08-07</td></tr></tbody></table></div>"
      ]
     },
     "metadata": {
      "application/vnd.databricks.v1+output": {
       "addedWidgets": {},
       "aggData": [],
       "aggError": "",
       "aggOverflow": false,
       "aggSchema": [],
       "aggSeriesLimitReached": false,
       "aggType": "",
       "arguments": {},
       "columnCustomDisplayInfos": {},
       "data": [
        [
         "2023-07-07T07:31:21.518+0000",
         "2023-08-07"
        ]
       ],
       "datasetInfos": [],
       "dbfsResultPath": null,
       "isJsonSchema": true,
       "metadata": {},
       "overflow": false,
       "plotOptions": {
        "customPlotOptions": {},
        "displayType": "table",
        "pivotAggregation": null,
        "pivotColumns": null,
        "xColumns": null,
        "yColumns": null
       },
       "removedWidgets": [],
       "schema": [
        {
         "metadata": "{\"__autoGeneratedAlias\":\"true\"}",
         "name": "current_timestamp()",
         "type": "\"timestamp\""
        },
        {
         "metadata": "{}",
         "name": "result",
         "type": "\"date\""
        }
       ],
       "type": "table"
      }
     },
     "output_type": "display_data"
    }
   ],
   "source": [
    "%sql\n",
    "\n",
    "select current_timestamp(),\n",
    "add_months(current_timestamp, 1) as result"
   ]
  },
  {
   "cell_type": "code",
   "execution_count": 0,
   "metadata": {
    "application/vnd.databricks.v1+cell": {
     "cellMetadata": {
      "byteLimit": 2048000,
      "implicitDf": true,
      "rowLimit": 10000
     },
     "inputWidgets": {},
     "nuid": "afc3017b-b86d-41e5-a1f6-2ce6561e8839",
     "showTitle": false,
     "title": ""
    }
   },
   "outputs": [
    {
     "output_type": "display_data",
     "data": {
      "text/html": [
       "<style scoped>\n",
       "  .table-result-container {\n",
       "    max-height: 300px;\n",
       "    overflow: auto;\n",
       "  }\n",
       "  table, th, td {\n",
       "    border: 1px solid black;\n",
       "    border-collapse: collapse;\n",
       "  }\n",
       "  th, td {\n",
       "    padding: 5px;\n",
       "  }\n",
       "  th {\n",
       "    text-align: left;\n",
       "  }\n",
       "</style><div class='table-result-container'><table class='table-result'><thead style='background-color: white'><tr><th>current_timestamp()</th><th>result</th></tr></thead><tbody><tr><td>2023-07-07T07:34:46.394+0000</td><td>2023-08-07</td></tr></tbody></table></div>"
      ]
     },
     "metadata": {
      "application/vnd.databricks.v1+output": {
       "addedWidgets": {},
       "aggData": [],
       "aggError": "",
       "aggOverflow": false,
       "aggSchema": [],
       "aggSeriesLimitReached": false,
       "aggType": "",
       "arguments": {},
       "columnCustomDisplayInfos": {},
       "data": [
        [
         "2023-07-07T07:34:46.394+0000",
         "2023-08-07"
        ]
       ],
       "datasetInfos": [],
       "dbfsResultPath": null,
       "isJsonSchema": true,
       "metadata": {},
       "overflow": false,
       "plotOptions": {
        "customPlotOptions": {},
        "displayType": "table",
        "pivotAggregation": null,
        "pivotColumns": null,
        "xColumns": null,
        "yColumns": null
       },
       "removedWidgets": [],
       "schema": [
        {
         "metadata": "{\"__autoGeneratedAlias\":\"true\"}",
         "name": "current_timestamp()",
         "type": "\"timestamp\""
        },
        {
         "metadata": "{}",
         "name": "result",
         "type": "\"date\""
        }
       ],
       "type": "table"
      }
     },
     "output_type": "display_data"
    }
   ],
   "source": [
    "%sql\n",
    "\n",
    "select current_timestamp(),\n",
    "date_add(current_timestamp, 31) as result"
   ]
  },
  {
   "cell_type": "code",
   "execution_count": 0,
   "metadata": {
    "application/vnd.databricks.v1+cell": {
     "cellMetadata": {
      "byteLimit": 2048000,
      "implicitDf": true,
      "rowLimit": 10000
     },
     "inputWidgets": {},
     "nuid": "c025362e-6d84-4b4f-9efa-9e29c8dae43b",
     "showTitle": false,
     "title": ""
    }
   },
   "outputs": [
    {
     "output_type": "display_data",
     "data": {
      "text/html": [
       "<style scoped>\n",
       "  .table-result-container {\n",
       "    max-height: 300px;\n",
       "    overflow: auto;\n",
       "  }\n",
       "  table, th, td {\n",
       "    border: 1px solid black;\n",
       "    border-collapse: collapse;\n",
       "  }\n",
       "  th, td {\n",
       "    padding: 5px;\n",
       "  }\n",
       "  th {\n",
       "    text-align: left;\n",
       "  }\n",
       "</style><div class='table-result-container'><table class='table-result'><thead style='background-color: white'><tr><th>day_beginning</th><th>current_timestamp()</th></tr></thead><tbody><tr><td>2023-07-07T00:00:00.000+0000</td><td>2023-07-07T07:44:45.803+0000</td></tr></tbody></table></div>"
      ]
     },
     "metadata": {
      "application/vnd.databricks.v1+output": {
       "addedWidgets": {},
       "aggData": [],
       "aggError": "",
       "aggOverflow": false,
       "aggSchema": [],
       "aggSeriesLimitReached": false,
       "aggType": "",
       "arguments": {},
       "columnCustomDisplayInfos": {},
       "data": [
        [
         "2023-07-07T00:00:00.000+0000",
         "2023-07-07T07:44:45.803+0000"
        ]
       ],
       "datasetInfos": [],
       "dbfsResultPath": null,
       "isJsonSchema": true,
       "metadata": {},
       "overflow": false,
       "plotOptions": {
        "customPlotOptions": {},
        "displayType": "table",
        "pivotAggregation": null,
        "pivotColumns": null,
        "xColumns": null,
        "yColumns": null
       },
       "removedWidgets": [],
       "schema": [
        {
         "metadata": "{}",
         "name": "day_beginning",
         "type": "\"timestamp\""
        },
        {
         "metadata": "{}",
         "name": "current_timestamp()",
         "type": "\"timestamp\""
        }
       ],
       "type": "table"
      }
     },
     "output_type": "display_data"
    }
   ],
   "source": [
    "%sql\n",
    "\n",
    "select date_trunc('DAY', current_timestamp) as day_beginning,current_timestamp"
   ]
  },
  {
   "cell_type": "code",
   "execution_count": 0,
   "metadata": {
    "application/vnd.databricks.v1+cell": {
     "cellMetadata": {
      "byteLimit": 2048000,
      "implicitDf": true,
      "rowLimit": 10000
     },
     "inputWidgets": {},
     "nuid": "7d093b82-0779-4613-b98c-f62e18b200f9",
     "showTitle": false,
     "title": ""
    }
   },
   "outputs": [
    {
     "output_type": "display_data",
     "data": {
      "text/html": [
       "<style scoped>\n",
       "  .table-result-container {\n",
       "    max-height: 300px;\n",
       "    overflow: auto;\n",
       "  }\n",
       "  table, th, td {\n",
       "    border: 1px solid black;\n",
       "    border-collapse: collapse;\n",
       "  }\n",
       "  th, td {\n",
       "    padding: 5px;\n",
       "  }\n",
       "  th {\n",
       "    text-align: left;\n",
       "  }\n",
       "</style><div class='table-result-container'><table class='table-result'><thead style='background-color: white'><tr><th>day_beginning</th><th>current_timestamp()</th></tr></thead><tbody><tr><td>2023-07-07T07:45:21.000+0000</td><td>2023-07-07T07:45:21.063+0000</td></tr></tbody></table></div>"
      ]
     },
     "metadata": {
      "application/vnd.databricks.v1+output": {
       "addedWidgets": {},
       "aggData": [],
       "aggError": "",
       "aggOverflow": false,
       "aggSchema": [],
       "aggSeriesLimitReached": false,
       "aggType": "",
       "arguments": {},
       "columnCustomDisplayInfos": {},
       "data": [
        [
         "2023-07-07T07:45:21.000+0000",
         "2023-07-07T07:45:21.063+0000"
        ]
       ],
       "datasetInfos": [],
       "dbfsResultPath": null,
       "isJsonSchema": true,
       "metadata": {},
       "overflow": false,
       "plotOptions": {
        "customPlotOptions": {},
        "displayType": "table",
        "pivotAggregation": null,
        "pivotColumns": null,
        "xColumns": null,
        "yColumns": null
       },
       "removedWidgets": [],
       "schema": [
        {
         "metadata": "{}",
         "name": "day_beginning",
         "type": "\"timestamp\""
        },
        {
         "metadata": "{}",
         "name": "current_timestamp()",
         "type": "\"timestamp\""
        }
       ],
       "type": "table"
      }
     },
     "output_type": "display_data"
    }
   ],
   "source": [
    "%sql\n",
    "\n",
    "select date_trunc('SECOND', current_timestamp) as day_beginning,current_timestamp"
   ]
  },
  {
   "cell_type": "markdown",
   "metadata": {
    "application/vnd.databricks.v1+cell": {
     "cellMetadata": {},
     "inputWidgets": {},
     "nuid": "f4201665-7a23-4662-947a-1839d8fb570c",
     "showTitle": false,
     "title": ""
    }
   },
   "source": [
    "# Extracing ingformation using date_format"
   ]
  },
  {
   "cell_type": "code",
   "execution_count": 0,
   "metadata": {
    "application/vnd.databricks.v1+cell": {
     "cellMetadata": {
      "byteLimit": 2048000,
      "implicitDf": true,
      "rowLimit": 10000
     },
     "inputWidgets": {},
     "nuid": "8774b455-149f-4025-a917-5e3f51c400e7",
     "showTitle": false,
     "title": ""
    }
   },
   "outputs": [
    {
     "output_type": "display_data",
     "data": {
      "text/html": [
       "<style scoped>\n",
       "  .table-result-container {\n",
       "    max-height: 300px;\n",
       "    overflow: auto;\n",
       "  }\n",
       "  table, th, td {\n",
       "    border: 1px solid black;\n",
       "    border-collapse: collapse;\n",
       "  }\n",
       "  th, td {\n",
       "    padding: 5px;\n",
       "  }\n",
       "  th {\n",
       "    text-align: left;\n",
       "  }\n",
       "</style><div class='table-result-container'><table class='table-result'><thead style='background-color: white'><tr><th>function_desc</th></tr></thead><tbody><tr><td>Function: date_format</td></tr><tr><td>Class: org.apache.spark.sql.catalyst.expressions.DateFormatClass</td></tr><tr><td>Usage: date_format(timestamp, fmt) - Converts `timestamp` to a value of string in the format specified by the date format `fmt`.</td></tr></tbody></table></div>"
      ]
     },
     "metadata": {
      "application/vnd.databricks.v1+output": {
       "addedWidgets": {},
       "aggData": [],
       "aggError": "",
       "aggOverflow": false,
       "aggSchema": [],
       "aggSeriesLimitReached": false,
       "aggType": "",
       "arguments": {},
       "columnCustomDisplayInfos": {},
       "data": [
        [
         "Function: date_format"
        ],
        [
         "Class: org.apache.spark.sql.catalyst.expressions.DateFormatClass"
        ],
        [
         "Usage: date_format(timestamp, fmt) - Converts `timestamp` to a value of string in the format specified by the date format `fmt`."
        ]
       ],
       "datasetInfos": [],
       "dbfsResultPath": null,
       "isJsonSchema": true,
       "metadata": {},
       "overflow": false,
       "plotOptions": {
        "customPlotOptions": {},
        "displayType": "table",
        "pivotAggregation": null,
        "pivotColumns": null,
        "xColumns": null,
        "yColumns": null
       },
       "removedWidgets": [],
       "schema": [
        {
         "metadata": "{}",
         "name": "function_desc",
         "type": "\"string\""
        }
       ],
       "type": "table"
      }
     },
     "output_type": "display_data"
    }
   ],
   "source": [
    "%sql\n",
    "\n",
    "desc function date_format"
   ]
  },
  {
   "cell_type": "code",
   "execution_count": 0,
   "metadata": {
    "application/vnd.databricks.v1+cell": {
     "cellMetadata": {
      "byteLimit": 2048000,
      "implicitDf": true,
      "rowLimit": 10000
     },
     "inputWidgets": {},
     "nuid": "148f8877-02ba-4ba5-838f-06c5135b6450",
     "showTitle": false,
     "title": ""
    }
   },
   "outputs": [
    {
     "output_type": "display_data",
     "data": {
      "text/html": [
       "<style scoped>\n",
       "  .table-result-container {\n",
       "    max-height: 300px;\n",
       "    overflow: auto;\n",
       "  }\n",
       "  table, th, td {\n",
       "    border: 1px solid black;\n",
       "    border-collapse: collapse;\n",
       "  }\n",
       "  th, td {\n",
       "    padding: 5px;\n",
       "  }\n",
       "  th {\n",
       "    text-align: left;\n",
       "  }\n",
       "</style><div class='table-result-container'><table class='table-result'><thead style='background-color: white'><tr><th>current_timestamp</th></tr></thead><tbody><tr><td>2023-07-07T07:47:19.823+0000</td></tr></tbody></table></div>"
      ]
     },
     "metadata": {
      "application/vnd.databricks.v1+output": {
       "addedWidgets": {},
       "aggData": [],
       "aggError": "",
       "aggOverflow": false,
       "aggSchema": [],
       "aggSeriesLimitReached": false,
       "aggType": "",
       "arguments": {},
       "columnCustomDisplayInfos": {},
       "data": [
        [
         "2023-07-07T07:47:19.823+0000"
        ]
       ],
       "datasetInfos": [],
       "dbfsResultPath": null,
       "isJsonSchema": true,
       "metadata": {},
       "overflow": false,
       "plotOptions": {
        "customPlotOptions": {},
        "displayType": "table",
        "pivotAggregation": null,
        "pivotColumns": null,
        "xColumns": null,
        "yColumns": null
       },
       "removedWidgets": [],
       "schema": [
        {
         "metadata": "{}",
         "name": "current_timestamp",
         "type": "\"timestamp\""
        }
       ],
       "type": "table"
      }
     },
     "output_type": "display_data"
    }
   ],
   "source": [
    "%sql\n",
    "\n",
    "select current_timestamp as current_timestamp"
   ]
  },
  {
   "cell_type": "code",
   "execution_count": 0,
   "metadata": {
    "application/vnd.databricks.v1+cell": {
     "cellMetadata": {
      "byteLimit": 2048000,
      "implicitDf": true,
      "rowLimit": 10000
     },
     "inputWidgets": {},
     "nuid": "361e660c-6a4a-4e23-9a0a-70870c939d7a",
     "showTitle": false,
     "title": ""
    }
   },
   "outputs": [
    {
     "output_type": "display_data",
     "data": {
      "text/html": [
       "<style scoped>\n",
       "  .table-result-container {\n",
       "    max-height: 300px;\n",
       "    overflow: auto;\n",
       "  }\n",
       "  table, th, td {\n",
       "    border: 1px solid black;\n",
       "    border-collapse: collapse;\n",
       "  }\n",
       "  th, td {\n",
       "    padding: 5px;\n",
       "  }\n",
       "  th {\n",
       "    text-align: left;\n",
       "  }\n",
       "</style><div class='table-result-container'><table class='table-result'><thead style='background-color: white'><tr><th>current_timestamp</th><th>year</th></tr></thead><tbody><tr><td>2023-07-07T07:48:18.150+0000</td><td>2023</td></tr></tbody></table></div>"
      ]
     },
     "metadata": {
      "application/vnd.databricks.v1+output": {
       "addedWidgets": {},
       "aggData": [],
       "aggError": "",
       "aggOverflow": false,
       "aggSchema": [],
       "aggSeriesLimitReached": false,
       "aggType": "",
       "arguments": {},
       "columnCustomDisplayInfos": {},
       "data": [
        [
         "2023-07-07T07:48:18.150+0000",
         "2023"
        ]
       ],
       "datasetInfos": [],
       "dbfsResultPath": null,
       "isJsonSchema": true,
       "metadata": {},
       "overflow": false,
       "plotOptions": {
        "customPlotOptions": {},
        "displayType": "table",
        "pivotAggregation": null,
        "pivotColumns": null,
        "xColumns": null,
        "yColumns": null
       },
       "removedWidgets": [],
       "schema": [
        {
         "metadata": "{}",
         "name": "current_timestamp",
         "type": "\"timestamp\""
        },
        {
         "metadata": "{}",
         "name": "year",
         "type": "\"string\""
        }
       ],
       "type": "table"
      }
     },
     "output_type": "display_data"
    }
   ],
   "source": [
    "%sql\n",
    "\n",
    "select current_timestamp as current_timestamp,\n",
    "date_format(current_timestamp, 'yyyy') as year"
   ]
  },
  {
   "cell_type": "code",
   "execution_count": 0,
   "metadata": {
    "application/vnd.databricks.v1+cell": {
     "cellMetadata": {
      "byteLimit": 2048000,
      "implicitDf": true,
      "rowLimit": 10000
     },
     "inputWidgets": {},
     "nuid": "a6bad02e-8456-4b58-bba8-b1b8df127837",
     "showTitle": false,
     "title": ""
    }
   },
   "outputs": [
    {
     "output_type": "display_data",
     "data": {
      "text/html": [
       "<style scoped>\n",
       "  .table-result-container {\n",
       "    max-height: 300px;\n",
       "    overflow: auto;\n",
       "  }\n",
       "  table, th, td {\n",
       "    border: 1px solid black;\n",
       "    border-collapse: collapse;\n",
       "  }\n",
       "  th, td {\n",
       "    padding: 5px;\n",
       "  }\n",
       "  th {\n",
       "    text-align: left;\n",
       "  }\n",
       "</style><div class='table-result-container'><table class='table-result'><thead style='background-color: white'><tr><th>current_timestamp</th><th>year</th></tr></thead><tbody><tr><td>2023-07-07T07:49:16.678+0000</td><td>23</td></tr></tbody></table></div>"
      ]
     },
     "metadata": {
      "application/vnd.databricks.v1+output": {
       "addedWidgets": {},
       "aggData": [],
       "aggError": "",
       "aggOverflow": false,
       "aggSchema": [],
       "aggSeriesLimitReached": false,
       "aggType": "",
       "arguments": {},
       "columnCustomDisplayInfos": {},
       "data": [
        [
         "2023-07-07T07:49:16.678+0000",
         "23"
        ]
       ],
       "datasetInfos": [],
       "dbfsResultPath": null,
       "isJsonSchema": true,
       "metadata": {},
       "overflow": false,
       "plotOptions": {
        "customPlotOptions": {},
        "displayType": "table",
        "pivotAggregation": null,
        "pivotColumns": null,
        "xColumns": null,
        "yColumns": null
       },
       "removedWidgets": [],
       "schema": [
        {
         "metadata": "{}",
         "name": "current_timestamp",
         "type": "\"timestamp\""
        },
        {
         "metadata": "{}",
         "name": "year",
         "type": "\"string\""
        }
       ],
       "type": "table"
      }
     },
     "output_type": "display_data"
    }
   ],
   "source": [
    "%sql\n",
    "\n",
    "select current_timestamp as current_timestamp,\n",
    "date_format(current_timestamp, 'yy') as year"
   ]
  },
  {
   "cell_type": "code",
   "execution_count": 0,
   "metadata": {
    "application/vnd.databricks.v1+cell": {
     "cellMetadata": {
      "byteLimit": 2048000,
      "implicitDf": true,
      "rowLimit": 10000
     },
     "inputWidgets": {},
     "nuid": "231ffd18-117c-4538-8f21-12edf7c3978b",
     "showTitle": false,
     "title": ""
    }
   },
   "outputs": [
    {
     "output_type": "display_data",
     "data": {
      "text/html": [
       "<style scoped>\n",
       "  .table-result-container {\n",
       "    max-height: 300px;\n",
       "    overflow: auto;\n",
       "  }\n",
       "  table, th, td {\n",
       "    border: 1px solid black;\n",
       "    border-collapse: collapse;\n",
       "  }\n",
       "  th, td {\n",
       "    padding: 5px;\n",
       "  }\n",
       "  th {\n",
       "    text-align: left;\n",
       "  }\n",
       "</style><div class='table-result-container'><table class='table-result'><thead style='background-color: white'><tr><th>current_timestamp</th><th>year</th></tr></thead><tbody><tr><td>2023-07-07T07:53:52.449+0000</td><td>07</td></tr></tbody></table></div>"
      ]
     },
     "metadata": {
      "application/vnd.databricks.v1+output": {
       "addedWidgets": {},
       "aggData": [],
       "aggError": "",
       "aggOverflow": false,
       "aggSchema": [],
       "aggSeriesLimitReached": false,
       "aggType": "",
       "arguments": {},
       "columnCustomDisplayInfos": {},
       "data": [
        [
         "2023-07-07T07:53:52.449+0000",
         "07"
        ]
       ],
       "datasetInfos": [],
       "dbfsResultPath": null,
       "isJsonSchema": true,
       "metadata": {},
       "overflow": false,
       "plotOptions": {
        "customPlotOptions": {},
        "displayType": "table",
        "pivotAggregation": null,
        "pivotColumns": null,
        "xColumns": null,
        "yColumns": null
       },
       "removedWidgets": [],
       "schema": [
        {
         "metadata": "{}",
         "name": "current_timestamp",
         "type": "\"timestamp\""
        },
        {
         "metadata": "{}",
         "name": "year",
         "type": "\"string\""
        }
       ],
       "type": "table"
      }
     },
     "output_type": "display_data"
    }
   ],
   "source": [
    "%sql\n",
    "\n",
    "select current_timestamp as current_timestamp,\n",
    "date_format(current_timestamp, 'MM') as year"
   ]
  },
  {
   "cell_type": "code",
   "execution_count": 0,
   "metadata": {
    "application/vnd.databricks.v1+cell": {
     "cellMetadata": {
      "byteLimit": 2048000,
      "implicitDf": true,
      "rowLimit": 10000
     },
     "inputWidgets": {},
     "nuid": "e90b7acb-c99c-43c5-a809-4dff83665ec8",
     "showTitle": false,
     "title": ""
    }
   },
   "outputs": [
    {
     "output_type": "display_data",
     "data": {
      "text/html": [
       "<style scoped>\n",
       "  .table-result-container {\n",
       "    max-height: 300px;\n",
       "    overflow: auto;\n",
       "  }\n",
       "  table, th, td {\n",
       "    border: 1px solid black;\n",
       "    border-collapse: collapse;\n",
       "  }\n",
       "  th, td {\n",
       "    padding: 5px;\n",
       "  }\n",
       "  th {\n",
       "    text-align: left;\n",
       "  }\n",
       "</style><div class='table-result-container'><table class='table-result'><thead style='background-color: white'><tr><th>current_timestamp</th><th>year</th></tr></thead><tbody><tr><td>2023-07-07T07:54:05.344+0000</td><td>2023-07-07 07:54:05</td></tr></tbody></table></div>"
      ]
     },
     "metadata": {
      "application/vnd.databricks.v1+output": {
       "addedWidgets": {},
       "aggData": [],
       "aggError": "",
       "aggOverflow": false,
       "aggSchema": [],
       "aggSeriesLimitReached": false,
       "aggType": "",
       "arguments": {},
       "columnCustomDisplayInfos": {},
       "data": [
        [
         "2023-07-07T07:54:05.344+0000",
         "2023-07-07 07:54:05"
        ]
       ],
       "datasetInfos": [],
       "dbfsResultPath": null,
       "isJsonSchema": true,
       "metadata": {},
       "overflow": false,
       "plotOptions": {
        "customPlotOptions": {},
        "displayType": "table",
        "pivotAggregation": null,
        "pivotColumns": null,
        "xColumns": null,
        "yColumns": null
       },
       "removedWidgets": [],
       "schema": [
        {
         "metadata": "{}",
         "name": "current_timestamp",
         "type": "\"timestamp\""
        },
        {
         "metadata": "{}",
         "name": "year",
         "type": "\"string\""
        }
       ],
       "type": "table"
      }
     },
     "output_type": "display_data"
    }
   ],
   "source": [
    "%sql\n",
    "\n",
    "select current_timestamp as current_timestamp,\n",
    "date_format(current_timestamp, 'yyyy-MM-dd HH:mm:ss') as year"
   ]
  },
  {
   "cell_type": "code",
   "execution_count": 0,
   "metadata": {
    "application/vnd.databricks.v1+cell": {
     "cellMetadata": {
      "byteLimit": 2048000,
      "implicitDf": true,
      "rowLimit": 10000
     },
     "inputWidgets": {},
     "nuid": "3b1eb095-07a1-4ab8-b8c8-0a0045bd10e1",
     "showTitle": false,
     "title": ""
    }
   },
   "outputs": [
    {
     "output_type": "display_data",
     "data": {
      "text/html": [
       "<style scoped>\n",
       "  .table-result-container {\n",
       "    max-height: 300px;\n",
       "    overflow: auto;\n",
       "  }\n",
       "  table, th, td {\n",
       "    border: 1px solid black;\n",
       "    border-collapse: collapse;\n",
       "  }\n",
       "  th, td {\n",
       "    padding: 5px;\n",
       "  }\n",
       "  th {\n",
       "    text-align: left;\n",
       "  }\n",
       "</style><div class='table-result-container'><table class='table-result'><thead style='background-color: white'><tr><th>current_timestamp</th><th>year</th></tr></thead><tbody><tr><td>2023-07-07T07:54:05.344+0000</td><td>2023-07-07 07:54:05</td></tr></tbody></table></div>"
      ]
     },
     "metadata": {
      "application/vnd.databricks.v1+output": {
       "addedWidgets": {},
       "aggData": [],
       "aggError": "",
       "aggOverflow": false,
       "aggSchema": [],
       "aggSeriesLimitReached": false,
       "aggType": "",
       "arguments": {},
       "columnCustomDisplayInfos": {},
       "data": [
        [
         "2023-07-07T07:54:05.344+0000",
         "2023-07-07 07:54:05"
        ]
       ],
       "datasetInfos": [],
       "dbfsResultPath": null,
       "isJsonSchema": true,
       "metadata": {},
       "overflow": false,
       "plotOptions": {
        "customPlotOptions": {},
        "displayType": "table",
        "pivotAggregation": null,
        "pivotColumns": null,
        "xColumns": null,
        "yColumns": null
       },
       "removedWidgets": [],
       "schema": [
        {
         "metadata": "{}",
         "name": "current_timestamp",
         "type": "\"string\""
        },
        {
         "metadata": "{}",
         "name": "year",
         "type": "\"string\""
        }
       ],
       "type": "table"
      }
     },
     "output_type": "display_data"
    }
   ],
   "source": [
    "%sql\n",
    "\n",
    "select '2023-07-07T07:54:05.344+0000' as current_timestamp,\n",
    "date_format('2023-07-07T07:54:05.344+0000', 'yyyy-MM-dd HH:mm:ss') as year"
   ]
  },
  {
   "cell_type": "markdown",
   "metadata": {
    "application/vnd.databricks.v1+cell": {
     "cellMetadata": {},
     "inputWidgets": {},
     "nuid": "8fa3ba7a-3210-4cdb-a109-3e69d110bf10",
     "showTitle": false,
     "title": ""
    }
   },
   "source": [
    "# Managing Non-Standard Dates and Timestamps"
   ]
  },
  {
   "cell_type": "code",
   "execution_count": 0,
   "metadata": {
    "application/vnd.databricks.v1+cell": {
     "cellMetadata": {
      "byteLimit": 2048000,
      "implicitDf": true,
      "rowLimit": 10000
     },
     "inputWidgets": {},
     "nuid": "57dff834-49a4-42a7-b8aa-e412da50d873",
     "showTitle": false,
     "title": ""
    }
   },
   "outputs": [
    {
     "output_type": "display_data",
     "data": {
      "text/html": [
       "<style scoped>\n",
       "  .table-result-container {\n",
       "    max-height: 300px;\n",
       "    overflow: auto;\n",
       "  }\n",
       "  table, th, td {\n",
       "    border: 1px solid black;\n",
       "    border-collapse: collapse;\n",
       "  }\n",
       "  th, td {\n",
       "    padding: 5px;\n",
       "  }\n",
       "  th {\n",
       "    text-align: left;\n",
       "  }\n",
       "</style><div class='table-result-container'><table class='table-result'><thead style='background-color: white'><tr><th>to_date(2022/1/16, yyyy/M/d)</th></tr></thead><tbody><tr><td>2022-01-16</td></tr></tbody></table></div>"
      ]
     },
     "metadata": {
      "application/vnd.databricks.v1+output": {
       "addedWidgets": {},
       "aggData": [],
       "aggError": "",
       "aggOverflow": false,
       "aggSchema": [],
       "aggSeriesLimitReached": false,
       "aggType": "",
       "arguments": {},
       "columnCustomDisplayInfos": {},
       "data": [
        [
         "2022-01-16"
        ]
       ],
       "datasetInfos": [],
       "dbfsResultPath": null,
       "isJsonSchema": true,
       "metadata": {},
       "overflow": false,
       "plotOptions": {
        "customPlotOptions": {},
        "displayType": "table",
        "pivotAggregation": null,
        "pivotColumns": null,
        "xColumns": null,
        "yColumns": null
       },
       "removedWidgets": [],
       "schema": [
        {
         "metadata": "{\"__autoGeneratedAlias\":\"true\"}",
         "name": "to_date(2022/1/16, yyyy/M/d)",
         "type": "\"date\""
        }
       ],
       "type": "table"
      }
     },
     "output_type": "display_data"
    }
   ],
   "source": [
    "%sql\n",
    "\n",
    "select to_date('2022/1/16', 'yyyy/M/d')"
   ]
  },
  {
   "cell_type": "code",
   "execution_count": 0,
   "metadata": {
    "application/vnd.databricks.v1+cell": {
     "cellMetadata": {
      "byteLimit": 2048000,
      "implicitDf": true,
      "rowLimit": 10000
     },
     "inputWidgets": {},
     "nuid": "dafa6e35-4aa5-4c41-8018-4068a5f55023",
     "showTitle": false,
     "title": ""
    }
   },
   "outputs": [
    {
     "output_type": "display_data",
     "data": {
      "text/html": [
       "<style scoped>\n",
       "  .table-result-container {\n",
       "    max-height: 300px;\n",
       "    overflow: auto;\n",
       "  }\n",
       "  table, th, td {\n",
       "    border: 1px solid black;\n",
       "    border-collapse: collapse;\n",
       "  }\n",
       "  th, td {\n",
       "    padding: 5px;\n",
       "  }\n",
       "  th {\n",
       "    text-align: left;\n",
       "  }\n",
       "</style><div class='table-result-container'><table class='table-result'><thead style='background-color: white'><tr><th>current_timestamp()</th></tr></thead><tbody><tr><td>2023-07-07T08:17:17.492+0000</td></tr></tbody></table></div>"
      ]
     },
     "metadata": {
      "application/vnd.databricks.v1+output": {
       "addedWidgets": {},
       "aggData": [],
       "aggError": "",
       "aggOverflow": false,
       "aggSchema": [],
       "aggSeriesLimitReached": false,
       "aggType": "",
       "arguments": {},
       "columnCustomDisplayInfos": {},
       "data": [
        [
         "2023-07-07T08:17:17.492+0000"
        ]
       ],
       "datasetInfos": [],
       "dbfsResultPath": null,
       "isJsonSchema": true,
       "metadata": {},
       "overflow": false,
       "plotOptions": {
        "customPlotOptions": {},
        "displayType": "table",
        "pivotAggregation": null,
        "pivotColumns": null,
        "xColumns": null,
        "yColumns": null
       },
       "removedWidgets": [],
       "schema": [
        {
         "metadata": "{}",
         "name": "current_timestamp()",
         "type": "\"timestamp\""
        }
       ],
       "type": "table"
      }
     },
     "output_type": "display_data"
    }
   ],
   "source": [
    "%sql\n",
    "\n",
    "select current_timestamp"
   ]
  },
  {
   "cell_type": "code",
   "execution_count": 0,
   "metadata": {
    "application/vnd.databricks.v1+cell": {
     "cellMetadata": {
      "byteLimit": 2048000,
      "implicitDf": true,
      "rowLimit": 10000
     },
     "inputWidgets": {},
     "nuid": "30a59a5a-8c50-4b66-92f4-0cb85a4c66ee",
     "showTitle": false,
     "title": ""
    }
   },
   "outputs": [
    {
     "output_type": "display_data",
     "data": {
      "text/html": [
       "<style scoped>\n",
       "  .table-result-container {\n",
       "    max-height: 300px;\n",
       "    overflow: auto;\n",
       "  }\n",
       "  table, th, td {\n",
       "    border: 1px solid black;\n",
       "    border-collapse: collapse;\n",
       "  }\n",
       "  th, td {\n",
       "    padding: 5px;\n",
       "  }\n",
       "  th {\n",
       "    text-align: left;\n",
       "  }\n",
       "</style><div class='table-result-container'><table class='table-result'><thead style='background-color: white'><tr><th>result</th></tr></thead><tbody><tr><td>2022-01-16T18:24:00.000+0000</td></tr></tbody></table></div>"
      ]
     },
     "metadata": {
      "application/vnd.databricks.v1+output": {
       "addedWidgets": {},
       "aggData": [],
       "aggError": "",
       "aggOverflow": false,
       "aggSchema": [],
       "aggSeriesLimitReached": false,
       "aggType": "",
       "arguments": {},
       "columnCustomDisplayInfos": {},
       "data": [
        [
         "2022-01-16T18:24:00.000+0000"
        ]
       ],
       "datasetInfos": [],
       "dbfsResultPath": null,
       "isJsonSchema": true,
       "metadata": {},
       "overflow": false,
       "plotOptions": {
        "customPlotOptions": {},
        "displayType": "table",
        "pivotAggregation": null,
        "pivotColumns": null,
        "xColumns": null,
        "yColumns": null
       },
       "removedWidgets": [],
       "schema": [
        {
         "metadata": "{}",
         "name": "result",
         "type": "\"timestamp\""
        }
       ],
       "type": "table"
      }
     },
     "output_type": "display_data"
    }
   ],
   "source": [
    "%sql\n",
    "\n",
    "select to_timestamp('2022/1/16 18:24', 'yyyy/M/d HH:mm') AS result"
   ]
  },
  {
   "cell_type": "code",
   "execution_count": 0,
   "metadata": {
    "application/vnd.databricks.v1+cell": {
     "cellMetadata": {
      "byteLimit": 2048000,
      "implicitDf": true,
      "rowLimit": 10000
     },
     "inputWidgets": {},
     "nuid": "bc26a363-f65e-4eb0-b340-36b250ebf4f7",
     "showTitle": false,
     "title": ""
    }
   },
   "outputs": [
    {
     "output_type": "display_data",
     "data": {
      "text/html": [
       "<style scoped>\n",
       "  .table-result-container {\n",
       "    max-height: 300px;\n",
       "    overflow: auto;\n",
       "  }\n",
       "  table, th, td {\n",
       "    border: 1px solid black;\n",
       "    border-collapse: collapse;\n",
       "  }\n",
       "  th, td {\n",
       "    padding: 5px;\n",
       "  }\n",
       "  th {\n",
       "    text-align: left;\n",
       "  }\n",
       "</style><div class='table-result-container'><table class='table-result'><thead style='background-color: white'><tr><th>result</th></tr></thead><tbody><tr><td>2022-10-15</td></tr></tbody></table></div>"
      ]
     },
     "metadata": {
      "application/vnd.databricks.v1+output": {
       "addedWidgets": {},
       "aggData": [],
       "aggError": "",
       "aggOverflow": false,
       "aggSchema": [],
       "aggSeriesLimitReached": false,
       "aggType": "",
       "arguments": {},
       "columnCustomDisplayInfos": {},
       "data": [
        [
         "2022-10-15"
        ]
       ],
       "datasetInfos": [],
       "dbfsResultPath": null,
       "isJsonSchema": true,
       "metadata": {},
       "overflow": false,
       "plotOptions": {
        "customPlotOptions": {},
        "displayType": "table",
        "pivotAggregation": null,
        "pivotColumns": null,
        "xColumns": null,
        "yColumns": null
       },
       "removedWidgets": [],
       "schema": [
        {
         "metadata": "{}",
         "name": "result",
         "type": "\"date\""
        }
       ],
       "type": "table"
      }
     },
     "output_type": "display_data"
    }
   ],
   "source": [
    "%sql\n",
    "\n",
    "select to_date(20221015, 'yyyyMMdd') as result"
   ]
  },
  {
   "cell_type": "code",
   "execution_count": 0,
   "metadata": {
    "application/vnd.databricks.v1+cell": {
     "cellMetadata": {
      "byteLimit": 2048000,
      "implicitDf": true,
      "rowLimit": 10000
     },
     "inputWidgets": {},
     "nuid": "9277d08f-1709-4c4d-873a-4a9b22154761",
     "showTitle": false,
     "title": ""
    }
   },
   "outputs": [
    {
     "output_type": "display_data",
     "data": {
      "text/html": [
       "<style scoped>\n",
       "  .table-result-container {\n",
       "    max-height: 300px;\n",
       "    overflow: auto;\n",
       "  }\n",
       "  table, th, td {\n",
       "    border: 1px solid black;\n",
       "    border-collapse: collapse;\n",
       "  }\n",
       "  th, td {\n",
       "    padding: 5px;\n",
       "  }\n",
       "  th {\n",
       "    text-align: left;\n",
       "  }\n",
       "</style><div class='table-result-container'><table class='table-result'><thead style='background-color: white'><tr><th>result</th><th>result_2</th></tr></thead><tbody><tr><td>2022-03-31</td><td>2022-03-01</td></tr></tbody></table></div>"
      ]
     },
     "metadata": {
      "application/vnd.databricks.v1+output": {
       "addedWidgets": {},
       "aggData": [],
       "aggError": "",
       "aggOverflow": false,
       "aggSchema": [],
       "aggSeriesLimitReached": false,
       "aggType": "",
       "arguments": {},
       "columnCustomDisplayInfos": {},
       "data": [
        [
         "2022-03-31",
         "2022-03-01"
        ]
       ],
       "datasetInfos": [],
       "dbfsResultPath": null,
       "isJsonSchema": true,
       "metadata": {},
       "overflow": false,
       "plotOptions": {
        "customPlotOptions": {},
        "displayType": "table",
        "pivotAggregation": null,
        "pivotColumns": null,
        "xColumns": null,
        "yColumns": null
       },
       "removedWidgets": [],
       "schema": [
        {
         "metadata": "{}",
         "name": "result",
         "type": "\"date\""
        },
        {
         "metadata": "{}",
         "name": "result_2",
         "type": "\"date\""
        }
       ],
       "type": "table"
      }
     },
     "output_type": "display_data"
    }
   ],
   "source": [
    "%sql\n",
    "\n",
    "select to_date(2022090, 'yyyyDDD') as result, -- Julian Representation of Date to Standard Date\n",
    "trunc(to_date(2022090, 'yyyyDDD'), 'MM') as result_2"
   ]
  },
  {
   "cell_type": "code",
   "execution_count": 0,
   "metadata": {
    "application/vnd.databricks.v1+cell": {
     "cellMetadata": {
      "byteLimit": 2048000,
      "implicitDf": true,
      "rowLimit": 10000
     },
     "inputWidgets": {},
     "nuid": "e5772afb-7b60-45ab-ab2b-7d4414c4f764",
     "showTitle": false,
     "title": ""
    }
   },
   "outputs": [
    {
     "output_type": "display_data",
     "data": {
      "text/html": [
       "<style scoped>\n",
       "  .table-result-container {\n",
       "    max-height: 300px;\n",
       "    overflow: auto;\n",
       "  }\n",
       "  table, th, td {\n",
       "    border: 1px solid black;\n",
       "    border-collapse: collapse;\n",
       "  }\n",
       "  th, td {\n",
       "    padding: 5px;\n",
       "  }\n",
       "  th {\n",
       "    text-align: left;\n",
       "  }\n",
       "</style><div class='table-result-container'><table class='table-result'><thead style='background-color: white'><tr><th>date_format(to_date(2022090, yyyyDDD), EE)</th></tr></thead><tbody><tr><td>Thu</td></tr></tbody></table></div>"
      ]
     },
     "metadata": {
      "application/vnd.databricks.v1+output": {
       "addedWidgets": {},
       "aggData": [],
       "aggError": "",
       "aggOverflow": false,
       "aggSchema": [],
       "aggSeriesLimitReached": false,
       "aggType": "",
       "arguments": {},
       "columnCustomDisplayInfos": {},
       "data": [
        [
         "Thu"
        ]
       ],
       "datasetInfos": [],
       "dbfsResultPath": null,
       "isJsonSchema": true,
       "metadata": {},
       "overflow": false,
       "plotOptions": {
        "customPlotOptions": {},
        "displayType": "table",
        "pivotAggregation": null,
        "pivotColumns": null,
        "xColumns": null,
        "yColumns": null
       },
       "removedWidgets": [],
       "schema": [
        {
         "metadata": "{\"__autoGeneratedAlias\":\"true\"}",
         "name": "date_format(to_date(2022090, yyyyDDD), EE)",
         "type": "\"string\""
        }
       ],
       "type": "table"
      }
     },
     "output_type": "display_data"
    }
   ],
   "source": [
    "%sql\n",
    "\n",
    "select date_format(to_date(2022090, 'yyyyDDD'), 'EE')"
   ]
  },
  {
   "cell_type": "markdown",
   "metadata": {
    "application/vnd.databricks.v1+cell": {
     "cellMetadata": {},
     "inputWidgets": {},
     "nuid": "8f1331d4-3f74-4e28-a042-af0f2f5fef29",
     "showTitle": false,
     "title": ""
    }
   },
   "source": [
    "# Extracting information - Calendat functions"
   ]
  },
  {
   "cell_type": "code",
   "execution_count": 0,
   "metadata": {
    "application/vnd.databricks.v1+cell": {
     "cellMetadata": {
      "byteLimit": 2048000,
      "implicitDf": true,
      "rowLimit": 10000
     },
     "inputWidgets": {},
     "nuid": "0d1cbd89-d8c6-4a33-ab83-25ec643b24b9",
     "showTitle": false,
     "title": ""
    }
   },
   "outputs": [
    {
     "output_type": "display_data",
     "data": {
      "text/html": [
       "<style scoped>\n",
       "  .table-result-container {\n",
       "    max-height: 300px;\n",
       "    overflow: auto;\n",
       "  }\n",
       "  table, th, td {\n",
       "    border: 1px solid black;\n",
       "    border-collapse: collapse;\n",
       "  }\n",
       "  th, td {\n",
       "    padding: 5px;\n",
       "  }\n",
       "  th {\n",
       "    text-align: left;\n",
       "  }\n",
       "</style><div class='table-result-container'><table class='table-result'><thead style='background-color: white'><tr><th>function_desc</th></tr></thead><tbody><tr><td>Function: day</td></tr><tr><td>Class: org.apache.spark.sql.catalyst.expressions.DayOfMonth</td></tr><tr><td>Usage: day(date) - Returns the day of month of the date/timestamp.</td></tr></tbody></table></div>"
      ]
     },
     "metadata": {
      "application/vnd.databricks.v1+output": {
       "addedWidgets": {},
       "aggData": [],
       "aggError": "",
       "aggOverflow": false,
       "aggSchema": [],
       "aggSeriesLimitReached": false,
       "aggType": "",
       "arguments": {},
       "columnCustomDisplayInfos": {},
       "data": [
        [
         "Function: day"
        ],
        [
         "Class: org.apache.spark.sql.catalyst.expressions.DayOfMonth"
        ],
        [
         "Usage: day(date) - Returns the day of month of the date/timestamp."
        ]
       ],
       "datasetInfos": [],
       "dbfsResultPath": null,
       "isJsonSchema": true,
       "metadata": {},
       "overflow": false,
       "plotOptions": {
        "customPlotOptions": {},
        "displayType": "table",
        "pivotAggregation": null,
        "pivotColumns": null,
        "xColumns": null,
        "yColumns": null
       },
       "removedWidgets": [],
       "schema": [
        {
         "metadata": "{}",
         "name": "function_desc",
         "type": "\"string\""
        }
       ],
       "type": "table"
      }
     },
     "output_type": "display_data"
    }
   ],
   "source": [
    "%sql\n",
    "\n",
    "describe function day"
   ]
  },
  {
   "cell_type": "code",
   "execution_count": 0,
   "metadata": {
    "application/vnd.databricks.v1+cell": {
     "cellMetadata": {
      "byteLimit": 2048000,
      "implicitDf": true,
      "rowLimit": 10000
     },
     "inputWidgets": {},
     "nuid": "79019c8b-6488-403f-9883-22306a96f3be",
     "showTitle": false,
     "title": ""
    }
   },
   "outputs": [
    {
     "output_type": "display_data",
     "data": {
      "text/html": [
       "<style scoped>\n",
       "  .table-result-container {\n",
       "    max-height: 300px;\n",
       "    overflow: auto;\n",
       "  }\n",
       "  table, th, td {\n",
       "    border: 1px solid black;\n",
       "    border-collapse: collapse;\n",
       "  }\n",
       "  th, td {\n",
       "    padding: 5px;\n",
       "  }\n",
       "  th {\n",
       "    text-align: left;\n",
       "  }\n",
       "</style><div class='table-result-container'><table class='table-result'><thead style='background-color: white'><tr><th>function_desc</th></tr></thead><tbody><tr><td>Function: dayofmonth</td></tr><tr><td>Class: org.apache.spark.sql.catalyst.expressions.DayOfMonth</td></tr><tr><td>Usage: dayofmonth(date) - Returns the day of month of the date/timestamp.</td></tr></tbody></table></div>"
      ]
     },
     "metadata": {
      "application/vnd.databricks.v1+output": {
       "addedWidgets": {},
       "aggData": [],
       "aggError": "",
       "aggOverflow": false,
       "aggSchema": [],
       "aggSeriesLimitReached": false,
       "aggType": "",
       "arguments": {},
       "columnCustomDisplayInfos": {},
       "data": [
        [
         "Function: dayofmonth"
        ],
        [
         "Class: org.apache.spark.sql.catalyst.expressions.DayOfMonth"
        ],
        [
         "Usage: dayofmonth(date) - Returns the day of month of the date/timestamp."
        ]
       ],
       "datasetInfos": [],
       "dbfsResultPath": null,
       "isJsonSchema": true,
       "metadata": {},
       "overflow": false,
       "plotOptions": {
        "customPlotOptions": {},
        "displayType": "table",
        "pivotAggregation": null,
        "pivotColumns": null,
        "xColumns": null,
        "yColumns": null
       },
       "removedWidgets": [],
       "schema": [
        {
         "metadata": "{}",
         "name": "function_desc",
         "type": "\"string\""
        }
       ],
       "type": "table"
      }
     },
     "output_type": "display_data"
    }
   ],
   "source": [
    "%sql\n",
    "\n",
    "describe function dayofmonth"
   ]
  },
  {
   "cell_type": "code",
   "execution_count": 0,
   "metadata": {
    "application/vnd.databricks.v1+cell": {
     "cellMetadata": {
      "byteLimit": 2048000,
      "implicitDf": true,
      "rowLimit": 10000
     },
     "inputWidgets": {},
     "nuid": "30918c97-388c-4566-b21d-c7bae86a3e7b",
     "showTitle": false,
     "title": ""
    }
   },
   "outputs": [
    {
     "output_type": "display_data",
     "data": {
      "text/html": [
       "<style scoped>\n",
       "  .table-result-container {\n",
       "    max-height: 300px;\n",
       "    overflow: auto;\n",
       "  }\n",
       "  table, th, td {\n",
       "    border: 1px solid black;\n",
       "    border-collapse: collapse;\n",
       "  }\n",
       "  th, td {\n",
       "    padding: 5px;\n",
       "  }\n",
       "  th {\n",
       "    text-align: left;\n",
       "  }\n",
       "</style><div class='table-result-container'><table class='table-result'><thead style='background-color: white'><tr><th>function_desc</th></tr></thead><tbody><tr><td>Function: month</td></tr><tr><td>Class: org.apache.spark.sql.catalyst.expressions.Month</td></tr><tr><td>Usage: month(date) - Returns the month component of the date/timestamp.</td></tr></tbody></table></div>"
      ]
     },
     "metadata": {
      "application/vnd.databricks.v1+output": {
       "addedWidgets": {},
       "aggData": [],
       "aggError": "",
       "aggOverflow": false,
       "aggSchema": [],
       "aggSeriesLimitReached": false,
       "aggType": "",
       "arguments": {},
       "columnCustomDisplayInfos": {},
       "data": [
        [
         "Function: month"
        ],
        [
         "Class: org.apache.spark.sql.catalyst.expressions.Month"
        ],
        [
         "Usage: month(date) - Returns the month component of the date/timestamp."
        ]
       ],
       "datasetInfos": [],
       "dbfsResultPath": null,
       "isJsonSchema": true,
       "metadata": {},
       "overflow": false,
       "plotOptions": {
        "customPlotOptions": {},
        "displayType": "table",
        "pivotAggregation": null,
        "pivotColumns": null,
        "xColumns": null,
        "yColumns": null
       },
       "removedWidgets": [],
       "schema": [
        {
         "metadata": "{}",
         "name": "function_desc",
         "type": "\"string\""
        }
       ],
       "type": "table"
      }
     },
     "output_type": "display_data"
    }
   ],
   "source": [
    "%sql\n",
    "\n",
    "describe function month"
   ]
  },
  {
   "cell_type": "code",
   "execution_count": 0,
   "metadata": {
    "application/vnd.databricks.v1+cell": {
     "cellMetadata": {
      "byteLimit": 2048000,
      "implicitDf": true,
      "rowLimit": 10000
     },
     "inputWidgets": {},
     "nuid": "756c7977-a02d-4b77-9c6a-6ea5fc0e13e7",
     "showTitle": false,
     "title": ""
    }
   },
   "outputs": [
    {
     "output_type": "display_data",
     "data": {
      "text/html": [
       "<style scoped>\n",
       "  .table-result-container {\n",
       "    max-height: 300px;\n",
       "    overflow: auto;\n",
       "  }\n",
       "  table, th, td {\n",
       "    border: 1px solid black;\n",
       "    border-collapse: collapse;\n",
       "  }\n",
       "  th, td {\n",
       "    padding: 5px;\n",
       "  }\n",
       "  th {\n",
       "    text-align: left;\n",
       "  }\n",
       "</style><div class='table-result-container'><table class='table-result'><thead style='background-color: white'><tr><th>function_desc</th></tr></thead><tbody><tr><td>Function: weekofyear</td></tr><tr><td>Class: org.apache.spark.sql.catalyst.expressions.WeekOfYear</td></tr><tr><td>Usage: weekofyear(date) - Returns the week of the year of the given date. A week is considered to start on a Monday and week 1 is the first week with >3 days.</td></tr></tbody></table></div>"
      ]
     },
     "metadata": {
      "application/vnd.databricks.v1+output": {
       "addedWidgets": {},
       "aggData": [],
       "aggError": "",
       "aggOverflow": false,
       "aggSchema": [],
       "aggSeriesLimitReached": false,
       "aggType": "",
       "arguments": {},
       "columnCustomDisplayInfos": {},
       "data": [
        [
         "Function: weekofyear"
        ],
        [
         "Class: org.apache.spark.sql.catalyst.expressions.WeekOfYear"
        ],
        [
         "Usage: weekofyear(date) - Returns the week of the year of the given date. A week is considered to start on a Monday and week 1 is the first week with >3 days."
        ]
       ],
       "datasetInfos": [],
       "dbfsResultPath": null,
       "isJsonSchema": true,
       "metadata": {},
       "overflow": false,
       "plotOptions": {
        "customPlotOptions": {},
        "displayType": "table",
        "pivotAggregation": null,
        "pivotColumns": null,
        "xColumns": null,
        "yColumns": null
       },
       "removedWidgets": [],
       "schema": [
        {
         "metadata": "{}",
         "name": "function_desc",
         "type": "\"string\""
        }
       ],
       "type": "table"
      }
     },
     "output_type": "display_data"
    }
   ],
   "source": [
    "%sql\n",
    "\n",
    "describe function weekofyear"
   ]
  },
  {
   "cell_type": "code",
   "execution_count": 0,
   "metadata": {
    "application/vnd.databricks.v1+cell": {
     "cellMetadata": {
      "byteLimit": 2048000,
      "implicitDf": true,
      "rowLimit": 10000
     },
     "inputWidgets": {},
     "nuid": "f677f1bd-c417-4c07-82aa-934f34efcaec",
     "showTitle": false,
     "title": ""
    }
   },
   "outputs": [
    {
     "output_type": "display_data",
     "data": {
      "text/html": [
       "<style scoped>\n",
       "  .table-result-container {\n",
       "    max-height: 300px;\n",
       "    overflow: auto;\n",
       "  }\n",
       "  table, th, td {\n",
       "    border: 1px solid black;\n",
       "    border-collapse: collapse;\n",
       "  }\n",
       "  th, td {\n",
       "    padding: 5px;\n",
       "  }\n",
       "  th {\n",
       "    text-align: left;\n",
       "  }\n",
       "</style><div class='table-result-container'><table class='table-result'><thead style='background-color: white'><tr><th>function_desc</th></tr></thead><tbody><tr><td>Function: year</td></tr><tr><td>Class: org.apache.spark.sql.catalyst.expressions.Year</td></tr><tr><td>Usage: year(date) - Returns the year component of the date/timestamp.</td></tr></tbody></table></div>"
      ]
     },
     "metadata": {
      "application/vnd.databricks.v1+output": {
       "addedWidgets": {},
       "aggData": [],
       "aggError": "",
       "aggOverflow": false,
       "aggSchema": [],
       "aggSeriesLimitReached": false,
       "aggType": "",
       "arguments": {},
       "columnCustomDisplayInfos": {},
       "data": [
        [
         "Function: year"
        ],
        [
         "Class: org.apache.spark.sql.catalyst.expressions.Year"
        ],
        [
         "Usage: year(date) - Returns the year component of the date/timestamp."
        ]
       ],
       "datasetInfos": [],
       "dbfsResultPath": null,
       "isJsonSchema": true,
       "metadata": {},
       "overflow": false,
       "plotOptions": {
        "customPlotOptions": {},
        "displayType": "table",
        "pivotAggregation": null,
        "pivotColumns": null,
        "xColumns": null,
        "yColumns": null
       },
       "removedWidgets": [],
       "schema": [
        {
         "metadata": "{}",
         "name": "function_desc",
         "type": "\"string\""
        }
       ],
       "type": "table"
      }
     },
     "output_type": "display_data"
    }
   ],
   "source": [
    "%sql\n",
    "\n",
    "describe function year"
   ]
  },
  {
   "cell_type": "code",
   "execution_count": 0,
   "metadata": {
    "application/vnd.databricks.v1+cell": {
     "cellMetadata": {
      "byteLimit": 2048000,
      "implicitDf": true,
      "rowLimit": 10000
     },
     "inputWidgets": {},
     "nuid": "eceb072b-0b7c-4b45-adc8-9dec644c6c87",
     "showTitle": false,
     "title": ""
    }
   },
   "outputs": [
    {
     "output_type": "display_data",
     "data": {
      "text/html": [
       "<style scoped>\n",
       "  .table-result-container {\n",
       "    max-height: 300px;\n",
       "    overflow: auto;\n",
       "  }\n",
       "  table, th, td {\n",
       "    border: 1px solid black;\n",
       "    border-collapse: collapse;\n",
       "  }\n",
       "  th, td {\n",
       "    padding: 5px;\n",
       "  }\n",
       "  th {\n",
       "    text-align: left;\n",
       "  }\n",
       "</style><div class='table-result-container'><table class='table-result'><thead style='background-color: white'><tr><th>year</th></tr></thead><tbody><tr><td>2023</td></tr></tbody></table></div>"
      ]
     },
     "metadata": {
      "application/vnd.databricks.v1+output": {
       "addedWidgets": {},
       "aggData": [],
       "aggError": "",
       "aggOverflow": false,
       "aggSchema": [],
       "aggSeriesLimitReached": false,
       "aggType": "",
       "arguments": {},
       "columnCustomDisplayInfos": {},
       "data": [
        [
         2023
        ]
       ],
       "datasetInfos": [],
       "dbfsResultPath": null,
       "isJsonSchema": true,
       "metadata": {},
       "overflow": false,
       "plotOptions": {
        "customPlotOptions": {},
        "displayType": "table",
        "pivotAggregation": null,
        "pivotColumns": null,
        "xColumns": null,
        "yColumns": null
       },
       "removedWidgets": [],
       "schema": [
        {
         "metadata": "{}",
         "name": "year",
         "type": "\"integer\""
        }
       ],
       "type": "table"
      }
     },
     "output_type": "display_data"
    }
   ],
   "source": [
    "%sql\n",
    "\n",
    "select year(current_date) as year"
   ]
  },
  {
   "cell_type": "code",
   "execution_count": 0,
   "metadata": {
    "application/vnd.databricks.v1+cell": {
     "cellMetadata": {
      "byteLimit": 2048000,
      "implicitDf": true,
      "rowLimit": 10000
     },
     "inputWidgets": {},
     "nuid": "7e746e0c-9637-4589-8bea-83787d261ad0",
     "showTitle": false,
     "title": ""
    }
   },
   "outputs": [
    {
     "output_type": "display_data",
     "data": {
      "text/html": [
       "<style scoped>\n",
       "  .table-result-container {\n",
       "    max-height: 300px;\n",
       "    overflow: auto;\n",
       "  }\n",
       "  table, th, td {\n",
       "    border: 1px solid black;\n",
       "    border-collapse: collapse;\n",
       "  }\n",
       "  th, td {\n",
       "    padding: 5px;\n",
       "  }\n",
       "  th {\n",
       "    text-align: left;\n",
       "  }\n",
       "</style><div class='table-result-container'><table class='table-result'><thead style='background-color: white'><tr><th>month</th></tr></thead><tbody><tr><td>7</td></tr></tbody></table></div>"
      ]
     },
     "metadata": {
      "application/vnd.databricks.v1+output": {
       "addedWidgets": {},
       "aggData": [],
       "aggError": "",
       "aggOverflow": false,
       "aggSchema": [],
       "aggSeriesLimitReached": false,
       "aggType": "",
       "arguments": {},
       "columnCustomDisplayInfos": {},
       "data": [
        [
         7
        ]
       ],
       "datasetInfos": [],
       "dbfsResultPath": null,
       "isJsonSchema": true,
       "metadata": {},
       "overflow": false,
       "plotOptions": {
        "customPlotOptions": {},
        "displayType": "table",
        "pivotAggregation": null,
        "pivotColumns": null,
        "xColumns": null,
        "yColumns": null
       },
       "removedWidgets": [],
       "schema": [
        {
         "metadata": "{}",
         "name": "month",
         "type": "\"integer\""
        }
       ],
       "type": "table"
      }
     },
     "output_type": "display_data"
    }
   ],
   "source": [
    "%sql\n",
    "\n",
    "select month(current_date) as month"
   ]
  },
  {
   "cell_type": "code",
   "execution_count": 0,
   "metadata": {
    "application/vnd.databricks.v1+cell": {
     "cellMetadata": {
      "byteLimit": 2048000,
      "implicitDf": true,
      "rowLimit": 10000
     },
     "inputWidgets": {},
     "nuid": "5fd8ac69-e379-46a9-bb3f-295b54781439",
     "showTitle": false,
     "title": ""
    }
   },
   "outputs": [
    {
     "output_type": "display_data",
     "data": {
      "text/html": [
       "<style scoped>\n",
       "  .table-result-container {\n",
       "    max-height: 300px;\n",
       "    overflow: auto;\n",
       "  }\n",
       "  table, th, td {\n",
       "    border: 1px solid black;\n",
       "    border-collapse: collapse;\n",
       "  }\n",
       "  th, td {\n",
       "    padding: 5px;\n",
       "  }\n",
       "  th {\n",
       "    text-align: left;\n",
       "  }\n",
       "</style><div class='table-result-container'><table class='table-result'><thead style='background-color: white'><tr><th>weekofyear</th></tr></thead><tbody><tr><td>27</td></tr></tbody></table></div>"
      ]
     },
     "metadata": {
      "application/vnd.databricks.v1+output": {
       "addedWidgets": {},
       "aggData": [],
       "aggError": "",
       "aggOverflow": false,
       "aggSchema": [],
       "aggSeriesLimitReached": false,
       "aggType": "",
       "arguments": {},
       "columnCustomDisplayInfos": {},
       "data": [
        [
         27
        ]
       ],
       "datasetInfos": [],
       "dbfsResultPath": null,
       "isJsonSchema": true,
       "metadata": {},
       "overflow": false,
       "plotOptions": {
        "customPlotOptions": {},
        "displayType": "table",
        "pivotAggregation": null,
        "pivotColumns": null,
        "xColumns": null,
        "yColumns": null
       },
       "removedWidgets": [],
       "schema": [
        {
         "metadata": "{}",
         "name": "weekofyear",
         "type": "\"integer\""
        }
       ],
       "type": "table"
      }
     },
     "output_type": "display_data"
    }
   ],
   "source": [
    "%sql\n",
    "\n",
    "select weekofyear(current_date) as weekofyear"
   ]
  },
  {
   "cell_type": "code",
   "execution_count": 0,
   "metadata": {
    "application/vnd.databricks.v1+cell": {
     "cellMetadata": {
      "byteLimit": 2048000,
      "implicitDf": true,
      "rowLimit": 10000
     },
     "inputWidgets": {},
     "nuid": "fd379662-e15c-4fcd-9174-70bfae57b109",
     "showTitle": false,
     "title": ""
    }
   },
   "outputs": [
    {
     "output_type": "display_data",
     "data": {
      "text/html": [
       "<style scoped>\n",
       "  .table-result-container {\n",
       "    max-height: 300px;\n",
       "    overflow: auto;\n",
       "  }\n",
       "  table, th, td {\n",
       "    border: 1px solid black;\n",
       "    border-collapse: collapse;\n",
       "  }\n",
       "  th, td {\n",
       "    padding: 5px;\n",
       "  }\n",
       "  th {\n",
       "    text-align: left;\n",
       "  }\n",
       "</style><div class='table-result-container'><table class='table-result'><thead style='background-color: white'><tr><th>day</th></tr></thead><tbody><tr><td>7</td></tr></tbody></table></div>"
      ]
     },
     "metadata": {
      "application/vnd.databricks.v1+output": {
       "addedWidgets": {},
       "aggData": [],
       "aggError": "",
       "aggOverflow": false,
       "aggSchema": [],
       "aggSeriesLimitReached": false,
       "aggType": "",
       "arguments": {},
       "columnCustomDisplayInfos": {},
       "data": [
        [
         7
        ]
       ],
       "datasetInfos": [],
       "dbfsResultPath": null,
       "isJsonSchema": true,
       "metadata": {},
       "overflow": false,
       "plotOptions": {
        "customPlotOptions": {},
        "displayType": "table",
        "pivotAggregation": null,
        "pivotColumns": null,
        "xColumns": null,
        "yColumns": null
       },
       "removedWidgets": [],
       "schema": [
        {
         "metadata": "{}",
         "name": "day",
         "type": "\"integer\""
        }
       ],
       "type": "table"
      }
     },
     "output_type": "display_data"
    }
   ],
   "source": [
    "%sql\n",
    "\n",
    "select day(current_date) as day"
   ]
  },
  {
   "cell_type": "markdown",
   "metadata": {
    "application/vnd.databricks.v1+cell": {
     "cellMetadata": {},
     "inputWidgets": {},
     "nuid": "b6bf7d3f-ab10-4ce3-8cf3-793bb216fd45",
     "showTitle": false,
     "title": ""
    }
   },
   "source": [
    "# Dealing with unix timestamp \n",
    "using `from_unixtime`, `to_unix_timestamp`"
   ]
  },
  {
   "cell_type": "code",
   "execution_count": 0,
   "metadata": {
    "application/vnd.databricks.v1+cell": {
     "cellMetadata": {
      "byteLimit": 2048000,
      "implicitDf": true,
      "rowLimit": 10000
     },
     "inputWidgets": {},
     "nuid": "0e20bf71-eca2-4215-8270-50d9140878aa",
     "showTitle": false,
     "title": ""
    }
   },
   "outputs": [
    {
     "output_type": "display_data",
     "data": {
      "text/html": [
       "<style scoped>\n",
       "  .table-result-container {\n",
       "    max-height: 300px;\n",
       "    overflow: auto;\n",
       "  }\n",
       "  table, th, td {\n",
       "    border: 1px solid black;\n",
       "    border-collapse: collapse;\n",
       "  }\n",
       "  th, td {\n",
       "    padding: 5px;\n",
       "  }\n",
       "  th {\n",
       "    text-align: left;\n",
       "  }\n",
       "</style><div class='table-result-container'><table class='table-result'><thead style='background-color: white'><tr><th>function_desc</th></tr></thead><tbody><tr><td>Function: from_unixtime</td></tr><tr><td>Class: org.apache.spark.sql.catalyst.expressions.FromUnixTime</td></tr><tr><td>Usage: from_unixtime(unix_time[, fmt]) - Returns `unix_time` in the specified `fmt`.</td></tr></tbody></table></div>"
      ]
     },
     "metadata": {
      "application/vnd.databricks.v1+output": {
       "addedWidgets": {},
       "aggData": [],
       "aggError": "",
       "aggOverflow": false,
       "aggSchema": [],
       "aggSeriesLimitReached": false,
       "aggType": "",
       "arguments": {},
       "columnCustomDisplayInfos": {},
       "data": [
        [
         "Function: from_unixtime"
        ],
        [
         "Class: org.apache.spark.sql.catalyst.expressions.FromUnixTime"
        ],
        [
         "Usage: from_unixtime(unix_time[, fmt]) - Returns `unix_time` in the specified `fmt`."
        ]
       ],
       "datasetInfos": [],
       "dbfsResultPath": null,
       "isJsonSchema": true,
       "metadata": {},
       "overflow": false,
       "plotOptions": {
        "customPlotOptions": {},
        "displayType": "table",
        "pivotAggregation": null,
        "pivotColumns": null,
        "xColumns": null,
        "yColumns": null
       },
       "removedWidgets": [],
       "schema": [
        {
         "metadata": "{}",
         "name": "function_desc",
         "type": "\"string\""
        }
       ],
       "type": "table"
      }
     },
     "output_type": "display_data"
    }
   ],
   "source": [
    "%sql\n",
    "\n",
    "describe function from_unixtime"
   ]
  },
  {
   "cell_type": "code",
   "execution_count": 0,
   "metadata": {
    "application/vnd.databricks.v1+cell": {
     "cellMetadata": {
      "byteLimit": 2048000,
      "implicitDf": true,
      "rowLimit": 10000
     },
     "inputWidgets": {},
     "nuid": "95f0452f-4917-4a6f-9e78-3255c59eab00",
     "showTitle": false,
     "title": ""
    }
   },
   "outputs": [
    {
     "output_type": "display_data",
     "data": {
      "text/html": [
       "<style scoped>\n",
       "  .table-result-container {\n",
       "    max-height: 300px;\n",
       "    overflow: auto;\n",
       "  }\n",
       "  table, th, td {\n",
       "    border: 1px solid black;\n",
       "    border-collapse: collapse;\n",
       "  }\n",
       "  th, td {\n",
       "    padding: 5px;\n",
       "  }\n",
       "  th {\n",
       "    text-align: left;\n",
       "  }\n",
       "</style><div class='table-result-container'><table class='table-result'><thead style='background-color: white'><tr><th>function_desc</th></tr></thead><tbody><tr><td>Function: to_unix_timestamp</td></tr><tr><td>Class: org.apache.spark.sql.catalyst.expressions.ToUnixTimestamp</td></tr><tr><td>Usage: to_unix_timestamp(timeExp[, fmt]) - Returns the UNIX timestamp of the given time.</td></tr></tbody></table></div>"
      ]
     },
     "metadata": {
      "application/vnd.databricks.v1+output": {
       "addedWidgets": {},
       "aggData": [],
       "aggError": "",
       "aggOverflow": false,
       "aggSchema": [],
       "aggSeriesLimitReached": false,
       "aggType": "",
       "arguments": {},
       "columnCustomDisplayInfos": {},
       "data": [
        [
         "Function: to_unix_timestamp"
        ],
        [
         "Class: org.apache.spark.sql.catalyst.expressions.ToUnixTimestamp"
        ],
        [
         "Usage: to_unix_timestamp(timeExp[, fmt]) - Returns the UNIX timestamp of the given time."
        ]
       ],
       "datasetInfos": [],
       "dbfsResultPath": null,
       "isJsonSchema": true,
       "metadata": {},
       "overflow": false,
       "plotOptions": {
        "customPlotOptions": {},
        "displayType": "table",
        "pivotAggregation": null,
        "pivotColumns": null,
        "xColumns": null,
        "yColumns": null
       },
       "removedWidgets": [],
       "schema": [
        {
         "metadata": "{}",
         "name": "function_desc",
         "type": "\"string\""
        }
       ],
       "type": "table"
      }
     },
     "output_type": "display_data"
    }
   ],
   "source": [
    "%sql\n",
    "\n",
    "describe function to_unix_timestamp"
   ]
  },
  {
   "cell_type": "code",
   "execution_count": 0,
   "metadata": {
    "application/vnd.databricks.v1+cell": {
     "cellMetadata": {
      "byteLimit": 2048000,
      "rowLimit": 10000
     },
     "inputWidgets": {},
     "nuid": "08df1ffd-5c46-4f4a-8c8b-c35b691ca662",
     "showTitle": false,
     "title": ""
    }
   },
   "outputs": [
    {
     "output_type": "stream",
     "name": "stdout",
     "output_type": "stream",
     "text": [
      "1688721780\r\n"
     ]
    }
   ],
   "source": [
    "!date '+%s'"
   ]
  },
  {
   "cell_type": "code",
   "execution_count": 0,
   "metadata": {
    "application/vnd.databricks.v1+cell": {
     "cellMetadata": {
      "byteLimit": 2048000,
      "implicitDf": true,
      "rowLimit": 10000
     },
     "inputWidgets": {},
     "nuid": "036c7523-0c87-48fa-815c-b17a0f5f2453",
     "showTitle": false,
     "title": ""
    }
   },
   "outputs": [
    {
     "output_type": "display_data",
     "data": {
      "text/html": [
       "<style scoped>\n",
       "  .table-result-container {\n",
       "    max-height: 300px;\n",
       "    overflow: auto;\n",
       "  }\n",
       "  table, th, td {\n",
       "    border: 1px solid black;\n",
       "    border-collapse: collapse;\n",
       "  }\n",
       "  th, td {\n",
       "    padding: 5px;\n",
       "  }\n",
       "  th {\n",
       "    text-align: left;\n",
       "  }\n",
       "</style><div class='table-result-container'><table class='table-result'><thead style='background-color: white'><tr><th>timestamp</th></tr></thead><tbody><tr><td>2023-07-07 09:23:00</td></tr></tbody></table></div>"
      ]
     },
     "metadata": {
      "application/vnd.databricks.v1+output": {
       "addedWidgets": {},
       "aggData": [],
       "aggError": "",
       "aggOverflow": false,
       "aggSchema": [],
       "aggSeriesLimitReached": false,
       "aggType": "",
       "arguments": {},
       "columnCustomDisplayInfos": {},
       "data": [
        [
         "2023-07-07 09:23:00"
        ]
       ],
       "datasetInfos": [],
       "dbfsResultPath": null,
       "isJsonSchema": true,
       "metadata": {},
       "overflow": false,
       "plotOptions": {
        "customPlotOptions": {},
        "displayType": "table",
        "pivotAggregation": null,
        "pivotColumns": null,
        "xColumns": null,
        "yColumns": null
       },
       "removedWidgets": [],
       "schema": [
        {
         "metadata": "{}",
         "name": "timestamp",
         "type": "\"string\""
        }
       ],
       "type": "table"
      }
     },
     "output_type": "display_data"
    }
   ],
   "source": [
    "%sql\n",
    "\n",
    "select from_unixtime(1688721780) as timestamp"
   ]
  },
  {
   "cell_type": "code",
   "execution_count": 0,
   "metadata": {
    "application/vnd.databricks.v1+cell": {
     "cellMetadata": {
      "byteLimit": 2048000,
      "implicitDf": true,
      "rowLimit": 10000
     },
     "inputWidgets": {},
     "nuid": "b732c9ab-5f16-40c3-9a77-618c00fd8c13",
     "showTitle": false,
     "title": ""
    }
   },
   "outputs": [
    {
     "output_type": "display_data",
     "data": {
      "text/html": [
       "<style scoped>\n",
       "  .table-result-container {\n",
       "    max-height: 300px;\n",
       "    overflow: auto;\n",
       "  }\n",
       "  table, th, td {\n",
       "    border: 1px solid black;\n",
       "    border-collapse: collapse;\n",
       "  }\n",
       "  th, td {\n",
       "    padding: 5px;\n",
       "  }\n",
       "  th {\n",
       "    text-align: left;\n",
       "  }\n",
       "</style><div class='table-result-container'><table class='table-result'><thead style='background-color: white'><tr><th>timestamp</th></tr></thead><tbody><tr><td>202307</td></tr></tbody></table></div>"
      ]
     },
     "metadata": {
      "application/vnd.databricks.v1+output": {
       "addedWidgets": {},
       "aggData": [],
       "aggError": "",
       "aggOverflow": false,
       "aggSchema": [],
       "aggSeriesLimitReached": false,
       "aggType": "",
       "arguments": {},
       "columnCustomDisplayInfos": {},
       "data": [
        [
         "202307"
        ]
       ],
       "datasetInfos": [],
       "dbfsResultPath": null,
       "isJsonSchema": true,
       "metadata": {},
       "overflow": false,
       "plotOptions": {
        "customPlotOptions": {},
        "displayType": "table",
        "pivotAggregation": null,
        "pivotColumns": null,
        "xColumns": null,
        "yColumns": null
       },
       "removedWidgets": [],
       "schema": [
        {
         "metadata": "{}",
         "name": "timestamp",
         "type": "\"string\""
        }
       ],
       "type": "table"
      }
     },
     "output_type": "display_data"
    }
   ],
   "source": [
    "%sql\n",
    "\n",
    "select from_unixtime(1688721780, 'yyyyMM') as timestamp"
   ]
  },
  {
   "cell_type": "code",
   "execution_count": 0,
   "metadata": {
    "application/vnd.databricks.v1+cell": {
     "cellMetadata": {
      "byteLimit": 2048000,
      "implicitDf": true,
      "rowLimit": 10000
     },
     "inputWidgets": {},
     "nuid": "f2784f31-81de-4c2d-94e0-775bd5c35ca6",
     "showTitle": false,
     "title": ""
    }
   },
   "outputs": [
    {
     "output_type": "display_data",
     "data": {
      "text/html": [
       "<style scoped>\n",
       "  .table-result-container {\n",
       "    max-height: 300px;\n",
       "    overflow: auto;\n",
       "  }\n",
       "  table, th, td {\n",
       "    border: 1px solid black;\n",
       "    border-collapse: collapse;\n",
       "  }\n",
       "  th, td {\n",
       "    padding: 5px;\n",
       "  }\n",
       "  th {\n",
       "    text-align: left;\n",
       "  }\n",
       "</style><div class='table-result-container'><table class='table-result'><thead style='background-color: white'><tr><th>unixtime</th></tr></thead><tbody><tr><td>1688721780</td></tr></tbody></table></div>"
      ]
     },
     "metadata": {
      "application/vnd.databricks.v1+output": {
       "addedWidgets": {},
       "aggData": [],
       "aggError": "",
       "aggOverflow": false,
       "aggSchema": [],
       "aggSeriesLimitReached": false,
       "aggType": "",
       "arguments": {},
       "columnCustomDisplayInfos": {},
       "data": [
        [
         1688721780
        ]
       ],
       "datasetInfos": [],
       "dbfsResultPath": null,
       "isJsonSchema": true,
       "metadata": {},
       "overflow": false,
       "plotOptions": {
        "customPlotOptions": {},
        "displayType": "table",
        "pivotAggregation": null,
        "pivotColumns": null,
        "xColumns": null,
        "yColumns": null
       },
       "removedWidgets": [],
       "schema": [
        {
         "metadata": "{}",
         "name": "unixtime",
         "type": "\"long\""
        }
       ],
       "type": "table"
      }
     },
     "output_type": "display_data"
    }
   ],
   "source": [
    "%sql\n",
    "\n",
    "select to_unix_timestamp('2023-07-07 09:23:00') as unixtime"
   ]
  },
  {
   "cell_type": "code",
   "execution_count": 0,
   "metadata": {
    "application/vnd.databricks.v1+cell": {
     "cellMetadata": {
      "byteLimit": 2048000,
      "implicitDf": true,
      "rowLimit": 10000
     },
     "inputWidgets": {},
     "nuid": "7b81fd70-fcfb-4318-8622-729ee0e4380b",
     "showTitle": false,
     "title": ""
    }
   },
   "outputs": [
    {
     "output_type": "display_data",
     "data": {
      "text/html": [
       "<style scoped>\n",
       "  .table-result-container {\n",
       "    max-height: 300px;\n",
       "    overflow: auto;\n",
       "  }\n",
       "  table, th, td {\n",
       "    border: 1px solid black;\n",
       "    border-collapse: collapse;\n",
       "  }\n",
       "  th, td {\n",
       "    padding: 5px;\n",
       "  }\n",
       "  th {\n",
       "    text-align: left;\n",
       "  }\n",
       "</style><div class='table-result-container'><table class='table-result'><thead style='background-color: white'><tr><th>date</th></tr></thead><tbody><tr><td>2023-07-07</td></tr></tbody></table></div>"
      ]
     },
     "metadata": {
      "application/vnd.databricks.v1+output": {
       "addedWidgets": {},
       "aggData": [],
       "aggError": "",
       "aggOverflow": false,
       "aggSchema": [],
       "aggSeriesLimitReached": false,
       "aggType": "",
       "arguments": {},
       "columnCustomDisplayInfos": {},
       "data": [
        [
         "2023-07-07"
        ]
       ],
       "datasetInfos": [],
       "dbfsResultPath": null,
       "isJsonSchema": true,
       "metadata": {},
       "overflow": false,
       "plotOptions": {
        "customPlotOptions": {},
        "displayType": "table",
        "pivotAggregation": null,
        "pivotColumns": null,
        "xColumns": null,
        "yColumns": null
       },
       "removedWidgets": [],
       "schema": [
        {
         "metadata": "{}",
         "name": "date",
         "type": "\"string\""
        }
       ],
       "type": "table"
      }
     },
     "output_type": "display_data"
    }
   ],
   "source": [
    "%sql\n",
    "\n",
    "select from_unixtime(1688721780, 'yyyy-MM-dd') as date"
   ]
  },
  {
   "cell_type": "code",
   "execution_count": 0,
   "metadata": {
    "application/vnd.databricks.v1+cell": {
     "cellMetadata": {
      "byteLimit": 2048000,
      "implicitDf": true,
      "rowLimit": 10000
     },
     "inputWidgets": {},
     "nuid": "9563c454-c0ba-4a15-b140-473c01bd3526",
     "showTitle": false,
     "title": ""
    }
   },
   "outputs": [
    {
     "output_type": "display_data",
     "data": {
      "text/html": [
       "<style scoped>\n",
       "  .table-result-container {\n",
       "    max-height: 300px;\n",
       "    overflow: auto;\n",
       "  }\n",
       "  table, th, td {\n",
       "    border: 1px solid black;\n",
       "    border-collapse: collapse;\n",
       "  }\n",
       "  th, td {\n",
       "    padding: 5px;\n",
       "  }\n",
       "  th {\n",
       "    text-align: left;\n",
       "  }\n",
       "</style><div class='table-result-container'><table class='table-result'><thead style='background-color: white'><tr><th>date</th></tr></thead><tbody><tr><td>2023-07-07 09:23</td></tr></tbody></table></div>"
      ]
     },
     "metadata": {
      "application/vnd.databricks.v1+output": {
       "addedWidgets": {},
       "aggData": [],
       "aggError": "",
       "aggOverflow": false,
       "aggSchema": [],
       "aggSeriesLimitReached": false,
       "aggType": "",
       "arguments": {},
       "columnCustomDisplayInfos": {},
       "data": [
        [
         "2023-07-07 09:23"
        ]
       ],
       "datasetInfos": [],
       "dbfsResultPath": null,
       "isJsonSchema": true,
       "metadata": {},
       "overflow": false,
       "plotOptions": {
        "customPlotOptions": {},
        "displayType": "table",
        "pivotAggregation": null,
        "pivotColumns": null,
        "xColumns": null,
        "yColumns": null
       },
       "removedWidgets": [],
       "schema": [
        {
         "metadata": "{}",
         "name": "date",
         "type": "\"string\""
        }
       ],
       "type": "table"
      }
     },
     "output_type": "display_data"
    }
   ],
   "source": [
    "%sql\n",
    "\n",
    "select from_unixtime(1688721780, 'yyyy-MM-dd HH:mm') as timestamp"
   ]
  },
  {
   "cell_type": "code",
   "execution_count": 0,
   "metadata": {
    "application/vnd.databricks.v1+cell": {
     "cellMetadata": {
      "byteLimit": 2048000,
      "implicitDf": true,
      "rowLimit": 10000
     },
     "inputWidgets": {},
     "nuid": "87258c8f-62b1-4ead-8613-d282fc98b39d",
     "showTitle": false,
     "title": ""
    }
   },
   "outputs": [
    {
     "output_type": "display_data",
     "data": {
      "text/html": [
       "<style scoped>\n",
       "  .table-result-container {\n",
       "    max-height: 300px;\n",
       "    overflow: auto;\n",
       "  }\n",
       "  table, th, td {\n",
       "    border: 1px solid black;\n",
       "    border-collapse: collapse;\n",
       "  }\n",
       "  th, td {\n",
       "    padding: 5px;\n",
       "  }\n",
       "  th {\n",
       "    text-align: left;\n",
       "  }\n",
       "</style><div class='table-result-container'><table class='table-result'><thead style='background-color: white'><tr><th>timestamp</th></tr></thead><tbody><tr><td>2023-07-07 09:23:00</td></tr></tbody></table></div>"
      ]
     },
     "metadata": {
      "application/vnd.databricks.v1+output": {
       "addedWidgets": {},
       "aggData": [],
       "aggError": "",
       "aggOverflow": false,
       "aggSchema": [],
       "aggSeriesLimitReached": false,
       "aggType": "",
       "arguments": {},
       "columnCustomDisplayInfos": {},
       "data": [
        [
         "2023-07-07 09:23:00"
        ]
       ],
       "datasetInfos": [],
       "dbfsResultPath": null,
       "isJsonSchema": true,
       "metadata": {},
       "overflow": false,
       "plotOptions": {
        "customPlotOptions": {},
        "displayType": "table",
        "pivotAggregation": null,
        "pivotColumns": null,
        "xColumns": null,
        "yColumns": null
       },
       "removedWidgets": [],
       "schema": [
        {
         "metadata": "{}",
         "name": "timestamp",
         "type": "\"string\""
        }
       ],
       "type": "table"
      }
     },
     "output_type": "display_data"
    }
   ],
   "source": [
    "%sql\n",
    "\n",
    "select from_unixtime(1688721780, 'yyyy-MM-dd hh:mm:ss') as timestamp"
   ]
  },
  {
   "cell_type": "code",
   "execution_count": 0,
   "metadata": {
    "application/vnd.databricks.v1+cell": {
     "cellMetadata": {
      "byteLimit": 2048000,
      "implicitDf": true,
      "rowLimit": 10000
     },
     "inputWidgets": {},
     "nuid": "57bd1340-5903-4092-9389-b5a8423f2472",
     "showTitle": false,
     "title": ""
    }
   },
   "outputs": [
    {
     "output_type": "display_data",
     "data": {
      "text/html": [
       "<style scoped>\n",
       "  .table-result-container {\n",
       "    max-height: 300px;\n",
       "    overflow: auto;\n",
       "  }\n",
       "  table, th, td {\n",
       "    border: 1px solid black;\n",
       "    border-collapse: collapse;\n",
       "  }\n",
       "  th, td {\n",
       "    padding: 5px;\n",
       "  }\n",
       "  th {\n",
       "    text-align: left;\n",
       "  }\n",
       "</style><div class='table-result-container'><table class='table-result'><thead style='background-color: white'><tr><th>timestamp1</th><th>timestamp2</th></tr></thead><tbody><tr><td>1688722299</td><td>1688722299</td></tr></tbody></table></div>"
      ]
     },
     "metadata": {
      "application/vnd.databricks.v1+output": {
       "addedWidgets": {},
       "aggData": [],
       "aggError": "",
       "aggOverflow": false,
       "aggSchema": [],
       "aggSeriesLimitReached": false,
       "aggType": "",
       "arguments": {},
       "columnCustomDisplayInfos": {},
       "data": [
        [
         1688722299,
         1688722299
        ]
       ],
       "datasetInfos": [],
       "dbfsResultPath": null,
       "isJsonSchema": true,
       "metadata": {},
       "overflow": false,
       "plotOptions": {
        "customPlotOptions": {},
        "displayType": "table",
        "pivotAggregation": null,
        "pivotColumns": null,
        "xColumns": null,
        "yColumns": null
       },
       "removedWidgets": [],
       "schema": [
        {
         "metadata": "{}",
         "name": "timestamp1",
         "type": "\"long\""
        },
        {
         "metadata": "{}",
         "name": "timestamp2",
         "type": "\"long\""
        }
       ],
       "type": "table"
      }
     },
     "output_type": "display_data"
    }
   ],
   "source": [
    "%sql\n",
    "\n",
    "select unix_timestamp() as timestamp1,\n",
    "unix_timestamp(current_timestamp) as timestamp2"
   ]
  },
  {
   "cell_type": "code",
   "execution_count": 0,
   "metadata": {
    "application/vnd.databricks.v1+cell": {
     "cellMetadata": {
      "byteLimit": 2048000,
      "implicitDf": true,
      "rowLimit": 10000
     },
     "inputWidgets": {},
     "nuid": "5f872a3d-c369-460a-bec0-8efdd2ad5d59",
     "showTitle": false,
     "title": ""
    }
   },
   "outputs": [
    {
     "output_type": "display_data",
     "data": {
      "text/html": [
       "<style scoped>\n",
       "  .table-result-container {\n",
       "    max-height: 300px;\n",
       "    overflow: auto;\n",
       "  }\n",
       "  table, th, td {\n",
       "    border: 1px solid black;\n",
       "    border-collapse: collapse;\n",
       "  }\n",
       "  th, td {\n",
       "    padding: 5px;\n",
       "  }\n",
       "  th {\n",
       "    text-align: left;\n",
       "  }\n",
       "</style><div class='table-result-container'><table class='table-result'><thead style='background-color: white'><tr><th>to_unix_timestamp(20230707 09:23:00, yyyyMMdd HH:mm:ss)</th></tr></thead><tbody><tr><td>1688721780</td></tr></tbody></table></div>"
      ]
     },
     "metadata": {
      "application/vnd.databricks.v1+output": {
       "addedWidgets": {},
       "aggData": [],
       "aggError": "",
       "aggOverflow": false,
       "aggSchema": [],
       "aggSeriesLimitReached": false,
       "aggType": "",
       "arguments": {},
       "columnCustomDisplayInfos": {},
       "data": [
        [
         1688721780
        ]
       ],
       "datasetInfos": [],
       "dbfsResultPath": null,
       "isJsonSchema": true,
       "metadata": {},
       "overflow": false,
       "plotOptions": {
        "customPlotOptions": {},
        "displayType": "table",
        "pivotAggregation": null,
        "pivotColumns": null,
        "xColumns": null,
        "yColumns": null
       },
       "removedWidgets": [],
       "schema": [
        {
         "metadata": "{\"__autoGeneratedAlias\":\"true\"}",
         "name": "to_unix_timestamp(20230707 09:23:00, yyyyMMdd HH:mm:ss)",
         "type": "\"long\""
        }
       ],
       "type": "table"
      }
     },
     "output_type": "display_data"
    }
   ],
   "source": [
    "%sql\n",
    "\n",
    "select to_unix_timestamp('20230707 09:23:00', 'yyyyMMdd HH:mm:ss')"
   ]
  },
  {
   "cell_type": "code",
   "execution_count": 0,
   "metadata": {
    "application/vnd.databricks.v1+cell": {
     "cellMetadata": {},
     "inputWidgets": {},
     "nuid": "8a3fdfa6-a24e-4db8-92ce-2598400252a8",
     "showTitle": false,
     "title": ""
    }
   },
   "outputs": [],
   "source": []
  }
 ],
 "metadata": {
  "application/vnd.databricks.v1+notebook": {
   "dashboards": [],
   "language": "python",
   "notebookMetadata": {
    "mostRecentlyExecutedCommandWithImplicitDF": {
     "commandId": 4225893037213121,
     "dataframes": [
      "_sqldf"
     ]
    },
    "pythonIndentUnit": 4
   },
   "notebookName": "05 Date Manipulation Functions",
   "widgets": {}
  }
 },
 "nbformat": 4,
 "nbformat_minor": 0
}
