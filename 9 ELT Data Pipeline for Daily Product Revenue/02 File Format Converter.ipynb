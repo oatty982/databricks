{
 "cells": [
  {
   "cell_type": "code",
   "execution_count": 0,
   "metadata": {
    "application/vnd.databricks.v1+cell": {
     "cellMetadata": {
      "byteLimit": 2048000,
      "rowLimit": 10000
     },
     "inputWidgets": {},
     "nuid": "d955b385-b9d7-42af-9cbf-72530530bf7f",
     "showTitle": false,
     "title": ""
    }
   },
   "outputs": [],
   "source": [
    "dbutils.widgets.removeAll()"
   ]
  },
  {
   "cell_type": "code",
   "execution_count": 0,
   "metadata": {
    "application/vnd.databricks.v1+cell": {
     "cellMetadata": {
      "byteLimit": 2048000,
      "rowLimit": 10000
     },
     "inputWidgets": {},
     "nuid": "b26c48e5-2a44-44a1-bce6-5717dabc1d3b",
     "showTitle": false,
     "title": ""
    }
   },
   "outputs": [],
   "source": [
    "dbutils.widgets.text('src_base_dir', '', label='Enter Source Base Dir')\n",
    "dbutils.widgets.text('bronze_base_dir', '', label='Enter Target Base Dir')\n",
    "dbutils.widgets.text('ds', '', label='Enter Dataset Name')"
   ]
  },
  {
   "cell_type": "code",
   "execution_count": 0,
   "metadata": {
    "application/vnd.databricks.v1+cell": {
     "cellMetadata": {
      "byteLimit": 2048000,
      "rowLimit": 10000
     },
     "inputWidgets": {},
     "nuid": "556c4f2c-ccce-4367-9de7-eac9d766f98c",
     "showTitle": false,
     "title": ""
    }
   },
   "outputs": [],
   "source": [
    "src_base_dir = dbutils.widgets.get('src_base_dir')"
   ]
  },
  {
   "cell_type": "code",
   "execution_count": 0,
   "metadata": {
    "application/vnd.databricks.v1+cell": {
     "cellMetadata": {
      "byteLimit": 2048000,
      "rowLimit": 10000
     },
     "inputWidgets": {},
     "nuid": "ffd9d7ca-340e-41ca-98a9-86e9ad1910f5",
     "showTitle": false,
     "title": ""
    }
   },
   "outputs": [],
   "source": [
    "bronze_base_dir = dbutils.widgets.get('bronze_base_dir')"
   ]
  },
  {
   "cell_type": "code",
   "execution_count": 0,
   "metadata": {
    "application/vnd.databricks.v1+cell": {
     "cellMetadata": {
      "byteLimit": 2048000,
      "rowLimit": 10000
     },
     "inputWidgets": {},
     "nuid": "bd14eb87-ce3d-4408-a898-a577e1add2ef",
     "showTitle": false,
     "title": ""
    }
   },
   "outputs": [],
   "source": [
    "ds = dbutils.widgets.get('ds')"
   ]
  },
  {
   "cell_type": "code",
   "execution_count": 0,
   "metadata": {
    "application/vnd.databricks.v1+cell": {
     "cellMetadata": {
      "byteLimit": 2048000,
      "rowLimit": 10000
     },
     "inputWidgets": {},
     "nuid": "13390eeb-dfab-4349-935e-0fb532fd2ceb",
     "showTitle": false,
     "title": ""
    }
   },
   "outputs": [],
   "source": [
    "import json\n",
    "\n",
    "def get_columns(schemas_file, ds_name):\n",
    "    schema_text = spark.read.text(schemas_file, wholetext=True).first().value\n",
    "    schemas = json.loads(schema_text)\n",
    "    column_details = schemas[ds_name]\n",
    "    columns = [col['column_name'] for col in sorted(column_details, key=lambda col: col['column_position'])]\n",
    "    return columns"
   ]
  },
  {
   "cell_type": "code",
   "execution_count": 0,
   "metadata": {
    "application/vnd.databricks.v1+cell": {
     "cellMetadata": {
      "byteLimit": 2048000,
      "rowLimit": 10000
     },
     "inputWidgets": {},
     "nuid": "8e9c6a5e-506d-4023-875e-4445f94af084",
     "showTitle": false,
     "title": ""
    }
   },
   "outputs": [
    {
     "output_type": "stream",
     "name": "stdout",
     "output_type": "stream",
     "text": [
      "Out[17]: 'orders'"
     ]
    }
   ],
   "source": [
    "ds"
   ]
  },
  {
   "cell_type": "code",
   "execution_count": 0,
   "metadata": {
    "application/vnd.databricks.v1+cell": {
     "cellMetadata": {
      "byteLimit": 2048000,
      "rowLimit": 10000
     },
     "inputWidgets": {},
     "nuid": "bb1fdc9f-aedc-4f41-9388-a3c46e09ee56",
     "showTitle": false,
     "title": ""
    }
   },
   "outputs": [
    {
     "output_type": "stream",
     "name": "stdout",
     "output_type": "stream",
     "text": [
      "Processing orders data\n"
     ]
    }
   ],
   "source": [
    "print(f'Processing {ds} data')\n",
    "columns = get_columns(f'dbfs:{src_base_dir}/schemas.json', ds)\n",
    "df = spark. \\\n",
    "    read. \\\n",
    "    csv(f'{src_base_dir}/{ds}', inferSchema=True). \\\n",
    "    toDF(*columns)"
   ]
  },
  {
   "cell_type": "code",
   "execution_count": 0,
   "metadata": {
    "application/vnd.databricks.v1+cell": {
     "cellMetadata": {
      "byteLimit": 2048000,
      "rowLimit": 10000
     },
     "inputWidgets": {},
     "nuid": "c52cf897-adb5-47aa-b347-c2c70ebda824",
     "showTitle": false,
     "title": ""
    }
   },
   "outputs": [
    {
     "output_type": "stream",
     "name": "stdout",
     "output_type": "stream",
     "text": [
      "+--------+-------------------+-----------------+---------------+\n|order_id|         order_date|order_customer_id|   order_status|\n+--------+-------------------+-----------------+---------------+\n|       1|2013-07-25 00:00:00|            11599|         CLOSED|\n|       2|2013-07-25 00:00:00|              256|PENDING_PAYMENT|\n|       3|2013-07-25 00:00:00|            12111|       COMPLETE|\n|       4|2013-07-25 00:00:00|             8827|         CLOSED|\n|       5|2013-07-25 00:00:00|            11318|       COMPLETE|\n|       6|2013-07-25 00:00:00|             7130|       COMPLETE|\n|       7|2013-07-25 00:00:00|             4530|       COMPLETE|\n|       8|2013-07-25 00:00:00|             2911|     PROCESSING|\n|       9|2013-07-25 00:00:00|             5657|PENDING_PAYMENT|\n|      10|2013-07-25 00:00:00|             5648|PENDING_PAYMENT|\n|      11|2013-07-25 00:00:00|              918| PAYMENT_REVIEW|\n|      12|2013-07-25 00:00:00|             1837|         CLOSED|\n|      13|2013-07-25 00:00:00|             9149|PENDING_PAYMENT|\n|      14|2013-07-25 00:00:00|             9842|     PROCESSING|\n|      15|2013-07-25 00:00:00|             2568|       COMPLETE|\n|      16|2013-07-25 00:00:00|             7276|PENDING_PAYMENT|\n|      17|2013-07-25 00:00:00|             2667|       COMPLETE|\n|      18|2013-07-25 00:00:00|             1205|         CLOSED|\n|      19|2013-07-25 00:00:00|             9488|PENDING_PAYMENT|\n|      20|2013-07-25 00:00:00|             9198|     PROCESSING|\n+--------+-------------------+-----------------+---------------+\nonly showing top 20 rows\n\n"
     ]
    }
   ],
   "source": [
    "df.show()"
   ]
  },
  {
   "cell_type": "code",
   "execution_count": 0,
   "metadata": {
    "application/vnd.databricks.v1+cell": {
     "cellMetadata": {
      "byteLimit": 2048000,
      "rowLimit": 10000
     },
     "inputWidgets": {},
     "nuid": "efd925c4-44cf-4796-8ce5-549e97792870",
     "showTitle": false,
     "title": ""
    }
   },
   "outputs": [],
   "source": [
    "df.write. \\\n",
    "    mode('overwrite'). \\\n",
    "    parquet(f'{bronze_base_dir}/{ds}')"
   ]
  },
  {
   "cell_type": "code",
   "execution_count": 0,
   "metadata": {
    "application/vnd.databricks.v1+cell": {
     "cellMetadata": {},
     "inputWidgets": {},
     "nuid": "c49d0598-e8dd-4981-9b8e-aca483afcb14",
     "showTitle": false,
     "title": ""
    }
   },
   "outputs": [],
   "source": []
  }
 ],
 "metadata": {
  "application/vnd.databricks.v1+notebook": {
   "dashboards": [],
   "language": "python",
   "notebookMetadata": {
    "pythonIndentUnit": 4
   },
   "notebookName": "02 File Format Converter",
   "widgets": {
    "bronze_base_dir": {
     "currentValue": "/public/retail_db_parquet",
     "nuid": "d82d0f1f-9f61-4f79-9ba1-b5bd6d9ca886",
     "widgetInfo": {
      "widgetType": "text",
      "defaultValue": "",
      "label": "Enter Target Base Dir",
      "name": "bronze_base_dir",
      "options": {
       "widgetType": "text",
       "validationRegex": null
      }
     }
    },
    "ds": {
     "currentValue": "orders",
     "nuid": "17c0e2be-bdcf-4d21-92a0-7b0deec9977a",
     "widgetInfo": {
      "widgetType": "text",
      "defaultValue": "",
      "label": "Enter Dataset Name",
      "name": "ds",
      "options": {
       "widgetType": "text",
       "validationRegex": null
      }
     }
    },
    "src_base_dir": {
     "currentValue": "/public/retail_db",
     "nuid": "e8fd360a-274f-4620-bf65-a7953483adbb",
     "widgetInfo": {
      "widgetType": "text",
      "defaultValue": "",
      "label": "Enter Source Base Dir",
      "name": "src_base_dir",
      "options": {
       "widgetType": "text",
       "validationRegex": null
      }
     }
    }
   }
  }
 },
 "nbformat": 4,
 "nbformat_minor": 0
}
